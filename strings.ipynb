{
 "cells": [
  {
   "cell_type": "code",
   "execution_count": 1,
   "metadata": {
    "collapsed": true
   },
   "outputs": [],
   "source": [
    "s=\"python program\""
   ]
  },
  {
   "cell_type": "code",
   "execution_count": 2,
   "metadata": {},
   "outputs": [
    {
     "data": {
      "text/plain": [
       "14"
      ]
     },
     "execution_count": 2,
     "metadata": {},
     "output_type": "execute_result"
    }
   ],
   "source": [
    "len(s)"
   ]
  },
  {
   "cell_type": "code",
   "execution_count": 3,
   "metadata": {},
   "outputs": [
    {
     "name": "stdout",
     "output_type": "stream",
     "text": [
      "p\n"
     ]
    }
   ],
   "source": [
    "print s[0]"
   ]
  },
  {
   "cell_type": "code",
   "execution_count": 4,
   "metadata": {},
   "outputs": [
    {
     "name": "stdout",
     "output_type": "stream",
     "text": [
      "m\n"
     ]
    }
   ],
   "source": [
    "print s[-1]"
   ]
  },
  {
   "cell_type": "code",
   "execution_count": 5,
   "metadata": {},
   "outputs": [
    {
     "ename": "IndexError",
     "evalue": "string index out of range",
     "output_type": "error",
     "traceback": [
      "\u001b[0;31m---------------------------------------------------------------------------\u001b[0m",
      "\u001b[0;31mIndexError\u001b[0m                                Traceback (most recent call last)",
      "\u001b[0;32m<ipython-input-5-d51d1e18e692>\u001b[0m in \u001b[0;36m<module>\u001b[0;34m()\u001b[0m\n\u001b[0;32m----> 1\u001b[0;31m \u001b[0;32mprint\u001b[0m \u001b[0ms\u001b[0m\u001b[0;34m[\u001b[0m\u001b[0;36m14\u001b[0m\u001b[0;34m]\u001b[0m\u001b[0;34m\u001b[0m\u001b[0m\n\u001b[0m",
      "\u001b[0;31mIndexError\u001b[0m: string index out of range"
     ]
    }
   ],
   "source": [
    "print s[14]"
   ]
  },
  {
   "cell_type": "code",
   "execution_count": 6,
   "metadata": {},
   "outputs": [
    {
     "data": {
      "text/plain": [
       "'m'"
      ]
     },
     "execution_count": 6,
     "metadata": {},
     "output_type": "execute_result"
    }
   ],
   "source": [
    "s[-1]"
   ]
  },
  {
   "cell_type": "code",
   "execution_count": 7,
   "metadata": {},
   "outputs": [
    {
     "data": {
      "text/plain": [
       "'p'"
      ]
     },
     "execution_count": 7,
     "metadata": {},
     "output_type": "execute_result"
    }
   ],
   "source": [
    "s[-0]"
   ]
  },
  {
   "cell_type": "code",
   "execution_count": 8,
   "metadata": {},
   "outputs": [
    {
     "data": {
      "text/plain": [
       "'m'"
      ]
     },
     "execution_count": 8,
     "metadata": {},
     "output_type": "execute_result"
    }
   ],
   "source": [
    "s[13]"
   ]
  },
  {
   "cell_type": "code",
   "execution_count": 9,
   "metadata": {},
   "outputs": [
    {
     "data": {
      "text/plain": [
       "'m'"
      ]
     },
     "execution_count": 9,
     "metadata": {},
     "output_type": "execute_result"
    }
   ],
   "source": [
    "s[-1]"
   ]
  },
  {
   "cell_type": "code",
   "execution_count": 10,
   "metadata": {},
   "outputs": [
    {
     "data": {
      "text/plain": [
       "'p'"
      ]
     },
     "execution_count": 10,
     "metadata": {},
     "output_type": "execute_result"
    }
   ],
   "source": [
    "s[-14]"
   ]
  },
  {
   "cell_type": "code",
   "execution_count": 11,
   "metadata": {},
   "outputs": [
    {
     "ename": "IndexError",
     "evalue": "string index out of range",
     "output_type": "error",
     "traceback": [
      "\u001b[0;31m---------------------------------------------------------------------------\u001b[0m",
      "\u001b[0;31mIndexError\u001b[0m                                Traceback (most recent call last)",
      "\u001b[0;32m<ipython-input-11-e74a0a94e582>\u001b[0m in \u001b[0;36m<module>\u001b[0;34m()\u001b[0m\n\u001b[0;32m----> 1\u001b[0;31m \u001b[0ms\u001b[0m\u001b[0;34m[\u001b[0m\u001b[0;34m-\u001b[0m\u001b[0;36m15\u001b[0m\u001b[0;34m]\u001b[0m\u001b[0;34m\u001b[0m\u001b[0m\n\u001b[0m",
      "\u001b[0;31mIndexError\u001b[0m: string index out of range"
     ]
    }
   ],
   "source": [
    "s[-15]"
   ]
  },
  {
   "cell_type": "code",
   "execution_count": 12,
   "metadata": {},
   "outputs": [
    {
     "name": "stdout",
     "output_type": "stream",
     "text": [
      "[1, 2, 3, 4, 5, 6, 7, 8, 9]\n"
     ]
    }
   ],
   "source": [
    "s=\"python program\"\n",
    "print range(1,10)"
   ]
  },
  {
   "cell_type": "code",
   "execution_count": 13,
   "metadata": {},
   "outputs": [
    {
     "name": "stdout",
     "output_type": "stream",
     "text": [
      "p\n",
      "y\n",
      "t\n",
      "h\n",
      "o\n",
      "n\n",
      " \n",
      "p\n",
      "r\n",
      "o\n",
      "g\n",
      "r\n",
      "a\n",
      "m\n"
     ]
    }
   ],
   "source": [
    "s=\"python program\"\n",
    "for letter in s:\n",
    "    print letter"
   ]
  },
  {
   "cell_type": "code",
   "execution_count": 14,
   "metadata": {},
   "outputs": [
    {
     "name": "stdout",
     "output_type": "stream",
     "text": [
      "pyth\n"
     ]
    }
   ],
   "source": [
    "s=\"python program\"\n",
    "print s[0:4]"
   ]
  },
  {
   "cell_type": "code",
   "execution_count": 15,
   "metadata": {},
   "outputs": [
    {
     "name": "stdout",
     "output_type": "stream",
     "text": [
      "n pr\n"
     ]
    }
   ],
   "source": [
    "s=\"python program\"\n",
    "print s[5:9]"
   ]
  },
  {
   "cell_type": "code",
   "execution_count": 16,
   "metadata": {},
   "outputs": [
    {
     "name": "stdout",
     "output_type": "stream",
     "text": [
      "python pr\n"
     ]
    }
   ],
   "source": [
    "s=\"python program\"\n",
    "print s[:9]"
   ]
  },
  {
   "cell_type": "code",
   "execution_count": 17,
   "metadata": {},
   "outputs": [
    {
     "name": "stdout",
     "output_type": "stream",
     "text": [
      "program\n"
     ]
    }
   ],
   "source": [
    "s=\"python program\"\n",
    "print s[7:]"
   ]
  },
  {
   "cell_type": "code",
   "execution_count": 18,
   "metadata": {},
   "outputs": [
    {
     "name": "stdout",
     "output_type": "stream",
     "text": [
      "tho\n"
     ]
    }
   ],
   "source": [
    "s=\"python program\"\n",
    "print s[2:5]"
   ]
  },
  {
   "cell_type": "code",
   "execution_count": 19,
   "metadata": {},
   "outputs": [
    {
     "name": "stdout",
     "output_type": "stream",
     "text": [
      "python pro\n"
     ]
    }
   ],
   "source": [
    "s=\"python program\"\n",
    "print s[0:10]"
   ]
  },
  {
   "cell_type": "code",
   "execution_count": 20,
   "metadata": {},
   "outputs": [
    {
     "name": "stdout",
     "output_type": "stream",
     "text": [
      "pto r\n"
     ]
    }
   ],
   "source": [
    "s=\"python program\"\n",
    "print s[0:10:2]"
   ]
  },
  {
   "cell_type": "code",
   "execution_count": 22,
   "metadata": {},
   "outputs": [
    {
     "name": "stdout",
     "output_type": "stream",
     "text": [
      "on pro\n"
     ]
    }
   ],
   "source": [
    "s=\"python program\"\n",
    "print s[-10:10]"
   ]
  },
  {
   "cell_type": "code",
   "execution_count": 23,
   "metadata": {},
   "outputs": [
    {
     "name": "stdout",
     "output_type": "stream",
     "text": [
      "\n"
     ]
    }
   ],
   "source": [
    "s=\"python program\"\n",
    "print s[-10:1]"
   ]
  },
  {
   "cell_type": "code",
   "execution_count": 25,
   "metadata": {},
   "outputs": [
    {
     "name": "stdout",
     "output_type": "stream",
     "text": [
      "oht\n"
     ]
    }
   ],
   "source": [
    "s=\"python program\"\n",
    "print s[-10:1:-1]"
   ]
  },
  {
   "cell_type": "code",
   "execution_count": 26,
   "metadata": {},
   "outputs": [
    {
     "data": {
      "text/plain": [
       "'python program'"
      ]
     },
     "execution_count": 26,
     "metadata": {},
     "output_type": "execute_result"
    }
   ],
   "source": [
    "s[:]"
   ]
  },
  {
   "cell_type": "code",
   "execution_count": 27,
   "metadata": {},
   "outputs": [
    {
     "data": {
      "text/plain": [
       "'margorp nohtyp'"
      ]
     },
     "execution_count": 27,
     "metadata": {},
     "output_type": "execute_result"
    }
   ],
   "source": [
    "s[::-1]"
   ]
  },
  {
   "cell_type": "code",
   "execution_count": 28,
   "metadata": {},
   "outputs": [
    {
     "data": {
      "text/plain": [
       "'margorp nohty'"
      ]
     },
     "execution_count": 28,
     "metadata": {},
     "output_type": "execute_result"
    }
   ],
   "source": [
    "s[-1:0:-1]"
   ]
  },
  {
   "cell_type": "code",
   "execution_count": 29,
   "metadata": {},
   "outputs": [
    {
     "data": {
      "text/plain": [
       "'margorp nohtyp'"
      ]
     },
     "execution_count": 29,
     "metadata": {},
     "output_type": "execute_result"
    }
   ],
   "source": [
    "s[-1::-1]"
   ]
  },
  {
   "cell_type": "code",
   "execution_count": 30,
   "metadata": {},
   "outputs": [
    {
     "name": "stdout",
     "output_type": "stream",
     "text": [
      "Enter s value:python\n",
      "it's not a palilndrom\n"
     ]
    }
   ],
   "source": [
    "s=raw_input(\"Enter s value:\")\n",
    "if s==s[::-1]:\n",
    "    print \"palindrom\"\n",
    "else:\n",
    "    print \"it's not a palilndrom\""
   ]
  },
  {
   "cell_type": "code",
   "execution_count": 31,
   "metadata": {},
   "outputs": [
    {
     "name": "stdout",
     "output_type": "stream",
     "text": [
      "Enter s value:php\n",
      "palindrom\n"
     ]
    }
   ],
   "source": [
    "s=raw_input(\"Enter s value:\")\n",
    "if s==s[::-1]:\n",
    "    print \"palindrom\"\n",
    "else:\n",
    "    print \"it's not a palilndrom\""
   ]
  },
  {
   "cell_type": "code",
   "execution_count": 32,
   "metadata": {},
   "outputs": [
    {
     "name": "stdout",
     "output_type": "stream",
     "text": [
      "Enter s value:101\n",
      "palindrom\n"
     ]
    }
   ],
   "source": [
    "s=raw_input(\"Enter s value:\")\n",
    "if s==s[::-1]:\n",
    "    print \"palindrom\"\n",
    "else:\n",
    "    print \"it's not a palilndrom\""
   ]
  },
  {
   "cell_type": "code",
   "execution_count": 33,
   "metadata": {},
   "outputs": [
    {
     "ename": "TypeError",
     "evalue": "'int' object has no attribute '__getitem__'",
     "output_type": "error",
     "traceback": [
      "\u001b[0;31m---------------------------------------------------------------------------\u001b[0m",
      "\u001b[0;31mTypeError\u001b[0m                                 Traceback (most recent call last)",
      "\u001b[0;32m<ipython-input-33-4f47ce077d81>\u001b[0m in \u001b[0;36m<module>\u001b[0;34m()\u001b[0m\n\u001b[1;32m      1\u001b[0m \u001b[0ms\u001b[0m\u001b[0;34m=\u001b[0m\u001b[0;36m10000\u001b[0m\u001b[0;34m\u001b[0m\u001b[0m\n\u001b[0;32m----> 2\u001b[0;31m \u001b[0ms\u001b[0m\u001b[0;34m[\u001b[0m\u001b[0;36m0\u001b[0m\u001b[0;34m]\u001b[0m\u001b[0;34m\u001b[0m\u001b[0m\n\u001b[0m",
      "\u001b[0;31mTypeError\u001b[0m: 'int' object has no attribute '__getitem__'"
     ]
    }
   ],
   "source": [
    "s=10000\n",
    "s[0]"
   ]
  },
  {
   "cell_type": "code",
   "execution_count": 34,
   "metadata": {},
   "outputs": [
    {
     "data": {
      "text/plain": [
       "'1'"
      ]
     },
     "execution_count": 34,
     "metadata": {},
     "output_type": "execute_result"
    }
   ],
   "source": [
    "s=\"10000\"\n",
    "s[0]"
   ]
  },
  {
   "cell_type": "code",
   "execution_count": 35,
   "metadata": {},
   "outputs": [
    {
     "name": "stdout",
     "output_type": "stream",
     "text": [
      "\n"
     ]
    }
   ],
   "source": [
    "s=\"python program\"\n",
    "print s[30:40]"
   ]
  },
  {
   "cell_type": "code",
   "execution_count": 36,
   "metadata": {},
   "outputs": [
    {
     "name": "stdout",
     "output_type": "stream",
     "text": [
      "gram\n"
     ]
    }
   ],
   "source": [
    "s=\"python program\"\n",
    "print s[10:40]"
   ]
  },
  {
   "cell_type": "code",
   "execution_count": 37,
   "metadata": {},
   "outputs": [
    {
     "ename": "IndexError",
     "evalue": "string index out of range",
     "output_type": "error",
     "traceback": [
      "\u001b[0;31m---------------------------------------------------------------------------\u001b[0m",
      "\u001b[0;31mIndexError\u001b[0m                                Traceback (most recent call last)",
      "\u001b[0;32m<ipython-input-37-955e22ae21e2>\u001b[0m in \u001b[0;36m<module>\u001b[0;34m()\u001b[0m\n\u001b[1;32m      1\u001b[0m \u001b[0ms\u001b[0m\u001b[0;34m=\u001b[0m\u001b[0;34m\"python program\"\u001b[0m\u001b[0;34m\u001b[0m\u001b[0m\n\u001b[0;32m----> 2\u001b[0;31m \u001b[0;32mprint\u001b[0m \u001b[0ms\u001b[0m\u001b[0;34m[\u001b[0m\u001b[0;36m40\u001b[0m\u001b[0;34m]\u001b[0m\u001b[0;34m\u001b[0m\u001b[0m\n\u001b[0m",
      "\u001b[0;31mIndexError\u001b[0m: string index out of range"
     ]
    }
   ],
   "source": [
    "s=\"python program\"\n",
    "print s[40]"
   ]
  },
  {
   "cell_type": "code",
   "execution_count": 38,
   "metadata": {},
   "outputs": [
    {
     "name": "stdout",
     "output_type": "stream",
     "text": [
      "\n"
     ]
    }
   ],
   "source": [
    "s=\"python program\"\n",
    "print s[40:]"
   ]
  },
  {
   "cell_type": "code",
   "execution_count": 39,
   "metadata": {},
   "outputs": [
    {
     "name": "stdout",
     "output_type": "stream",
     "text": [
      "python program\n"
     ]
    }
   ],
   "source": [
    "s=\"python program\"\n",
    "print s[:40]"
   ]
  },
  {
   "cell_type": "code",
   "execution_count": 40,
   "metadata": {},
   "outputs": [
    {
     "name": "stdout",
     "output_type": "stream",
     "text": [
      "Python program\n"
     ]
    }
   ],
   "source": [
    "s=\"python program\"\n",
    "print s.capitalize()"
   ]
  },
  {
   "cell_type": "code",
   "execution_count": 41,
   "metadata": {},
   "outputs": [
    {
     "name": "stdout",
     "output_type": "stream",
     "text": [
      "Python program\n"
     ]
    }
   ],
   "source": [
    "s=\"python proGRAM\"\n",
    "print s.capitalize()"
   ]
  },
  {
   "cell_type": "code",
   "execution_count": 42,
   "metadata": {},
   "outputs": [
    {
     "name": "stdout",
     "output_type": "stream",
     "text": [
      "$python program\n"
     ]
    }
   ],
   "source": [
    "s=\"$python proGRAM\"\n",
    "print s.capitalize()"
   ]
  },
  {
   "cell_type": "code",
   "execution_count": 43,
   "metadata": {},
   "outputs": [
    {
     "name": "stdout",
     "output_type": "stream",
     "text": [
      "Enter an element:10\n",
      "number of occurances: 0\n"
     ]
    }
   ],
   "source": [
    "l=[10,20,30,40,50,60,10,20,30,40,700,\"10\",\"20\",\"30\",\"abc\",\"ABC\"]\n",
    "a=raw_input(\"Enter an element:\")\n",
    "c=0\n",
    "for i in l:\n",
    "    if a==i:\n",
    "        c=c+1\n",
    "print \"number of occurances:\",c"
   ]
  },
  {
   "cell_type": "code",
   "execution_count": null,
   "metadata": {
    "collapsed": true
   },
   "outputs": [],
   "source": [
    "l=[10,20,30,40,50,60,10,20,30,40,700,\"10\",\"20\",\"30\",\"abc\",\"ABC\"]\n",
    "a=raw_input(\"Enter an element:\")\n",
    "c=0\n",
    "for i in l:\n",
    "    if a==i:\n",
    "        c=c+1\n",
    "print \"number of occurances:\",c"
   ]
  },
  {
   "cell_type": "code",
   "execution_count": 1,
   "metadata": {
    "collapsed": true
   },
   "outputs": [],
   "source": [
    "s=\"python program\""
   ]
  },
  {
   "cell_type": "code",
   "execution_count": 2,
   "metadata": {},
   "outputs": [
    {
     "name": "stdout",
     "output_type": "stream",
     "text": [
      "python program\n"
     ]
    }
   ],
   "source": [
    "print s"
   ]
  },
  {
   "cell_type": "code",
   "execution_count": 4,
   "metadata": {},
   "outputs": [
    {
     "name": "stdout",
     "output_type": "stream",
     "text": [
      "                                           python program                                           \n"
     ]
    }
   ],
   "source": [
    "print s.center(100)"
   ]
  },
  {
   "cell_type": "code",
   "execution_count": 9,
   "metadata": {},
   "outputs": [
    {
     "name": "stdout",
     "output_type": "stream",
     "text": [
      "***************************************python program***************************************\n",
      "python program%%%%%%%%%%%%%%%%%%%%%%%%%%%%%%%%%%%%%%%%%%%%%%%%%%%%%%%%%%%%%%%%%%%%%%%%%%%%%%\n",
      "^^^^^^^^^^^^^^^^^^^^^^^^^^^^^^^^^^^^^^^^^^^^^^^^^^^^^^^^^^^^^^^^^^^^^^^^^^^^^^python program\n"
     ]
    }
   ],
   "source": [
    "print s.center(92, \"*\")\n",
    "print s.ljust(92,\"%\")\n",
    "print s.rjust(92,\"^\")"
   ]
  },
  {
   "cell_type": "code",
   "execution_count": 10,
   "metadata": {},
   "outputs": [
    {
     "name": "stdout",
     "output_type": "stream",
     "text": [
      "python program\n",
      "python program\n",
      "python program\n"
     ]
    }
   ],
   "source": [
    "print s.center(10, \"*\")\n",
    "print s.ljust(10,\"%\")\n",
    "print s.rjust(10,\"^\")"
   ]
  },
  {
   "cell_type": "code",
   "execution_count": 11,
   "metadata": {},
   "outputs": [
    {
     "name": "stdout",
     "output_type": "stream",
     "text": [
      "python program\n",
      "python program\n",
      "python program\n"
     ]
    }
   ],
   "source": [
    "print s.center(-10, \"*\")\n",
    "print s.ljust(-10,\"%\")\n",
    "print s.rjust(-10,\"^\")"
   ]
  },
  {
   "cell_type": "code",
   "execution_count": 12,
   "metadata": {},
   "outputs": [
    {
     "name": "stdout",
     "output_type": "stream",
     "text": [
      "5\n"
     ]
    }
   ],
   "source": [
    "s=\"abcdabcdabcdabcdabcd\"\n",
    "print s.count(\"d\")"
   ]
  },
  {
   "cell_type": "code",
   "execution_count": 13,
   "metadata": {},
   "outputs": [
    {
     "name": "stdout",
     "output_type": "stream",
     "text": [
      "0\n"
     ]
    }
   ],
   "source": [
    "s=\"abcdabcdabcdabcdabcd\"\n",
    "print s.count(\"e\")"
   ]
  },
  {
   "cell_type": "code",
   "execution_count": 14,
   "metadata": {},
   "outputs": [
    {
     "name": "stdout",
     "output_type": "stream",
     "text": [
      "0\n"
     ]
    }
   ],
   "source": [
    "s=\"abcdabcdabcdabcdabcd\"\n",
    "print s.count(\"A\")"
   ]
  },
  {
   "cell_type": "code",
   "execution_count": 15,
   "metadata": {},
   "outputs": [
    {
     "name": "stdout",
     "output_type": "stream",
     "text": [
      "5\n"
     ]
    }
   ],
   "source": [
    "s=\"abcdabcdabcdabcdabcd\"\n",
    "print s.count(\"abcd\")"
   ]
  },
  {
   "cell_type": "code",
   "execution_count": 16,
   "metadata": {},
   "outputs": [
    {
     "name": "stdout",
     "output_type": "stream",
     "text": [
      "0\n"
     ]
    }
   ],
   "source": [
    "s=\"abcdabcdabcdabcdabcd\"\n",
    "print s.count(\"ABCD\")"
   ]
  },
  {
   "cell_type": "code",
   "execution_count": 17,
   "metadata": {},
   "outputs": [
    {
     "name": "stdout",
     "output_type": "stream",
     "text": [
      "abcdabcdabcdabcdabcd\n",
      "abcd\n"
     ]
    }
   ],
   "source": [
    "act=\"abcdabcdabcdabcdabcd\"\n",
    "sub=\"ABCD\"\n",
    "print act.lower()\n",
    "print sub.lower()"
   ]
  },
  {
   "cell_type": "code",
   "execution_count": 18,
   "metadata": {},
   "outputs": [
    {
     "name": "stdout",
     "output_type": "stream",
     "text": [
      "ABCDABCDABCDABCDABCD\n",
      "ABCD\n"
     ]
    }
   ],
   "source": [
    "act=\"abcdabcdabcdabcdabcd\"\n",
    "sub=\"ABCD\"\n",
    "print act.upper()\n",
    "print sub.upper()"
   ]
  },
  {
   "cell_type": "code",
   "execution_count": 20,
   "metadata": {},
   "outputs": [
    {
     "name": "stdout",
     "output_type": "stream",
     "text": [
      "5\n"
     ]
    }
   ],
   "source": [
    "act=\"abcdabcdabcdabcdabcd\"\n",
    "sub=\"ABCD\"\n",
    "act_u=act.upper()\n",
    "sub_u=sub.upper()\n",
    "print act_u.count(sub_u)"
   ]
  },
  {
   "cell_type": "code",
   "execution_count": 21,
   "metadata": {},
   "outputs": [
    {
     "name": "stdout",
     "output_type": "stream",
     "text": [
      "1\n"
     ]
    }
   ],
   "source": [
    "s=\"python program\"\n",
    "print s.count(\" \")"
   ]
  },
  {
   "cell_type": "code",
   "execution_count": 22,
   "metadata": {},
   "outputs": [
    {
     "name": "stdout",
     "output_type": "stream",
     "text": [
      "15\n"
     ]
    }
   ],
   "source": [
    "s=\"python program\"\n",
    "print s.count(\"\")"
   ]
  },
  {
   "cell_type": "code",
   "execution_count": 23,
   "metadata": {},
   "outputs": [
    {
     "name": "stdout",
     "output_type": "stream",
     "text": [
      "zython zrogram\n"
     ]
    }
   ],
   "source": [
    "s=\"python program\"\n",
    "print s.replace(\"p\",\"z\")"
   ]
  },
  {
   "cell_type": "code",
   "execution_count": 24,
   "metadata": {},
   "outputs": [
    {
     "name": "stdout",
     "output_type": "stream",
     "text": [
      "pythonzprogram\n"
     ]
    }
   ],
   "source": [
    "s=\"python program\"\n",
    "print s.replace(\" \",\"z\")"
   ]
  },
  {
   "cell_type": "code",
   "execution_count": 25,
   "metadata": {},
   "outputs": [
    {
     "name": "stdout",
     "output_type": "stream",
     "text": [
      "zpzyztzhzoznz zpzrzozgzrzazmz\n"
     ]
    }
   ],
   "source": [
    "s=\"python program\"\n",
    "print s.replace(\"\",\"z\")"
   ]
  },
  {
   "cell_type": "code",
   "execution_count": 26,
   "metadata": {},
   "outputs": [
    {
     "name": "stdout",
     "output_type": "stream",
     "text": [
      "XYcdXYcdXYcdXYcdXYcdXYcd\n"
     ]
    }
   ],
   "source": [
    "s=\"abcdabcdabcdabcdabcdabcd\"\n",
    "print s.replace(\"ab\",\"XY\")"
   ]
  },
  {
   "cell_type": "code",
   "execution_count": 27,
   "metadata": {},
   "outputs": [
    {
     "name": "stdout",
     "output_type": "stream",
     "text": [
      "XYcdXYcdabcdabcdabcdabcd\n"
     ]
    }
   ],
   "source": [
    "s=\"abcdabcdabcdabcdabcdabcd\"\n",
    "print s.replace(\"ab\",\"XY\",2)"
   ]
  },
  {
   "cell_type": "code",
   "execution_count": 28,
   "metadata": {},
   "outputs": [
    {
     "name": "stdout",
     "output_type": "stream",
     "text": [
      "XYcdXYcdXYcdXYcdXYcdXYcd\n"
     ]
    }
   ],
   "source": [
    "s=\"abcdabcdabcdabcdabcdabcd\"\n",
    "print s.replace(\"ab\",\"XY\",-2)"
   ]
  },
  {
   "cell_type": "code",
   "execution_count": 29,
   "metadata": {},
   "outputs": [
    {
     "name": "stdout",
     "output_type": "stream",
     "text": [
      "abcdabcdabcdabcdabcdabcd\n"
     ]
    }
   ],
   "source": [
    "s=\"abcdabcdabcdabcdabcdabcd\"\n",
    "print s.replace(\"ab\",\"XY\",0)"
   ]
  },
  {
   "cell_type": "code",
   "execution_count": 30,
   "metadata": {},
   "outputs": [
    {
     "name": "stdout",
     "output_type": "stream",
     "text": [
      "cHdkMQ==\n",
      "\n"
     ]
    }
   ],
   "source": [
    "# registration\n",
    "username=\"user1\"\n",
    "password=\"pwd1\"\n",
    "pwd_e = password.encode(\"base64\")\n",
    "print pwd_e"
   ]
  },
  {
   "cell_type": "code",
   "execution_count": 31,
   "metadata": {},
   "outputs": [
    {
     "name": "stdout",
     "output_type": "stream",
     "text": [
      "False\n"
     ]
    }
   ],
   "source": [
    "# login\n",
    "u_user=\"user1\"\n",
    "u_passw=\"pwd1\"\n",
    "print pwd_e == u_passw"
   ]
  },
  {
   "cell_type": "code",
   "execution_count": 32,
   "metadata": {},
   "outputs": [
    {
     "name": "stdout",
     "output_type": "stream",
     "text": [
      "True\n"
     ]
    }
   ],
   "source": [
    "# login\n",
    "u_user=\"user1\"\n",
    "u_passw=\"pwd1\"\n",
    "print pwd_e == u_passw.encode(\"base64\")"
   ]
  },
  {
   "cell_type": "code",
   "execution_count": 33,
   "metadata": {},
   "outputs": [
    {
     "name": "stdout",
     "output_type": "stream",
     "text": [
      "True\n"
     ]
    }
   ],
   "source": [
    "# login\n",
    "u_user=\"user1\"\n",
    "u_passw=\"pwd1\"\n",
    "print pwd_e.decode(\"base64\") == u_passw"
   ]
  },
  {
   "cell_type": "code",
   "execution_count": 36,
   "metadata": {},
   "outputs": [
    {
     "name": "stdout",
     "output_type": "stream",
     "text": [
      "a !\n",
      "!cbds!cbdfgh!dbc\n",
      "b @\n",
      "!c@ds!c@dfgh!d@c\n",
      "c #\n",
      "!#@ds!#@dfgh!d@#\n",
      "d $\n",
      "!#@$s!#@$fgh!$@#\n",
      "s &\n",
      "!#@$&!#@$fgh!$@#\n",
      "!#@$&!#@$fgh!$@#\n"
     ]
    }
   ],
   "source": [
    "s=\"acbdsacbdfghadbc\"\n",
    "\"\"\"\n",
    "a->!\n",
    "b->@\n",
    "c->#\n",
    "d=$\n",
    "s->&\n",
    "\"\"\"\n",
    "for i in [\"a!\",\"b@\",\"c#\",\"d$\",\"s&\"]:\n",
    "    print i[0],i[1]\n",
    "    s=s.replace(i[0],i[1])\n",
    "    print s\n",
    "print s\n",
    "    \n"
   ]
  },
  {
   "cell_type": "code",
   "execution_count": 37,
   "metadata": {},
   "outputs": [
    {
     "name": "stdout",
     "output_type": "stream",
     "text": [
      "!#@$&!#@$fgh!$@#\n"
     ]
    }
   ],
   "source": [
    "from string import maketrans\n",
    "s=\"acbdsacbdfghadbc\"\n",
    "table=maketrans(\"abcds\",\"!@#$&\")\n",
    "print s.translate(table)"
   ]
  },
  {
   "cell_type": "code",
   "execution_count": 38,
   "metadata": {},
   "outputs": [
    {
     "data": {
      "text/plain": [
       "'dcbadcbadcbadcba'"
      ]
     },
     "execution_count": 38,
     "metadata": {},
     "output_type": "execute_result"
    }
   ],
   "source": [
    "s=\"abcdabcdabcdabcd\"\n",
    "s[::-1]"
   ]
  },
  {
   "cell_type": "code",
   "execution_count": 39,
   "metadata": {},
   "outputs": [
    {
     "data": {
      "text/plain": [
       "'dcbadcbadcbadcba'"
      ]
     },
     "execution_count": 39,
     "metadata": {},
     "output_type": "execute_result"
    }
   ],
   "source": [
    "s=\"abcdabcdabcdabcd\"\n",
    "s[::-1].replace(\"ab\",\"$#\")"
   ]
  },
  {
   "cell_type": "code",
   "execution_count": 42,
   "metadata": {},
   "outputs": [
    {
     "name": "stdout",
     "output_type": "stream",
     "text": [
      "dc#$dc#$dc#$dc#$\n"
     ]
    }
   ],
   "source": [
    "s1=s[::-1]\n",
    "for i in s1:\n",
    "    s=s.replace(\"ab\",\"$#\",2)\n",
    "print s1"
   ]
  },
  {
   "cell_type": "code",
   "execution_count": 44,
   "metadata": {},
   "outputs": [
    {
     "name": "stdout",
     "output_type": "stream",
     "text": [
      "$#cd$#cd$#cd$#cd\n"
     ]
    }
   ],
   "source": [
    "s1=s[::-1]\n",
    "c=0\n",
    "for i in s1:\n",
    "    if c==2:\n",
    "        break\n",
    "    s=s.replace(\"ab\",\"$#\",2)\n",
    "    c=c+1\n",
    "print s"
   ]
  },
  {
   "cell_type": "code",
   "execution_count": 45,
   "metadata": {},
   "outputs": [
    {
     "name": "stdout",
     "output_type": "stream",
     "text": [
      "$#cd$#cd$#cd$#cd\n"
     ]
    }
   ],
   "source": [
    "s1=s[::-1]\n",
    "c=0\n",
    "for i in s1:\n",
    "    if c==2:\n",
    "        break\n",
    "    s=s.replace(\"ab\",\"$#\")\n",
    "    c=c+1\n",
    "print s"
   ]
  },
  {
   "cell_type": "code",
   "execution_count": 47,
   "metadata": {},
   "outputs": [
    {
     "name": "stdout",
     "output_type": "stream",
     "text": [
      "True\n",
      "True\n"
     ]
    }
   ],
   "source": [
    "s=\"python program\"\n",
    "print s.startswith(\"pyt\")\n",
    "print s.endswith(\"gram\")"
   ]
  },
  {
   "cell_type": "code",
   "execution_count": 48,
   "metadata": {},
   "outputs": [
    {
     "name": "stdout",
     "output_type": "stream",
     "text": [
      "False\n",
      "False\n"
     ]
    }
   ],
   "source": [
    "s=\"python program\"\n",
    "print s.startswith(\"PYT\")\n",
    "print s.endswith(\"GRAM\")"
   ]
  },
  {
   "cell_type": "code",
   "execution_count": 49,
   "metadata": {},
   "outputs": [
    {
     "name": "stdout",
     "output_type": "stream",
     "text": [
      "True\n",
      "True\n"
     ]
    }
   ],
   "source": [
    "s=\"python program\"\n",
    "print s.startswith(\"\")\n",
    "print s.endswith(\"\")"
   ]
  },
  {
   "cell_type": "code",
   "execution_count": 50,
   "metadata": {},
   "outputs": [
    {
     "name": "stdout",
     "output_type": "stream",
     "text": [
      "3\n"
     ]
    }
   ],
   "source": [
    "s=\"abcd abcd abcda abcd\"\n",
    "print s.find(\"d\")"
   ]
  },
  {
   "cell_type": "code",
   "execution_count": 51,
   "metadata": {},
   "outputs": [
    {
     "name": "stdout",
     "output_type": "stream",
     "text": [
      "-1\n"
     ]
    }
   ],
   "source": [
    "s=\"abcd abcd abcda abcd\"\n",
    "print s.find(\"z\")"
   ]
  },
  {
   "cell_type": "code",
   "execution_count": 52,
   "metadata": {},
   "outputs": [
    {
     "name": "stdout",
     "output_type": "stream",
     "text": [
      "0\n",
      "16\n",
      "0\n",
      "16\n"
     ]
    }
   ],
   "source": [
    "s=\"abcd abcd abcda abcd\"\n",
    "print s.find(\"ab\")\n",
    "print s.rfind(\"ab\")\n",
    "print s.index(\"ab\")\n",
    "print s.rindex(\"ab\")"
   ]
  },
  {
   "cell_type": "code",
   "execution_count": 53,
   "metadata": {},
   "outputs": [
    {
     "name": "stdout",
     "output_type": "stream",
     "text": [
      "-1\n"
     ]
    }
   ],
   "source": [
    "s=\"abcd abcd abcda abcd\"\n",
    "print s.find(\"AB\")"
   ]
  },
  {
   "cell_type": "code",
   "execution_count": 54,
   "metadata": {},
   "outputs": [
    {
     "ename": "ValueError",
     "evalue": "substring not found",
     "output_type": "error",
     "traceback": [
      "\u001b[0;31m---------------------------------------------------------------------------\u001b[0m",
      "\u001b[0;31mValueError\u001b[0m                                Traceback (most recent call last)",
      "\u001b[0;32m<ipython-input-54-351b950c416f>\u001b[0m in \u001b[0;36m<module>\u001b[0;34m()\u001b[0m\n\u001b[0;32m----> 1\u001b[0;31m \u001b[0;32mprint\u001b[0m \u001b[0ms\u001b[0m\u001b[0;34m.\u001b[0m\u001b[0mindex\u001b[0m\u001b[0;34m(\u001b[0m\u001b[0;34m\"AB\"\u001b[0m\u001b[0;34m)\u001b[0m\u001b[0;34m\u001b[0m\u001b[0m\n\u001b[0m",
      "\u001b[0;31mValueError\u001b[0m: substring not found"
     ]
    }
   ],
   "source": [
    "print s.index(\"AB\")"
   ]
  },
  {
   "cell_type": "code",
   "execution_count": 55,
   "metadata": {},
   "outputs": [
    {
     "name": "stdout",
     "output_type": "stream",
     "text": [
      "Enter an actual string:Python is a general-purpose interpreted, interactive, object-oriented, \\ and high-level programming language. It was created by Guido van Rossum during \\ 1985- 1990\n",
      "Do you want to search?(y/n):n\n",
      "thank you.\n"
     ]
    }
   ],
   "source": [
    "act = raw_input(\"Enter an actual string:\")\n",
    "while True:\n",
    "    opt = raw_input(\"Do you want to search?(y/n):\")\n",
    "    if opt.lower()==\"y\" or opt.lower()==\"yes\":\n",
    "        sub=raw_input(\"enter substrinf to search:\")\n",
    "        if act.lower().find(sub.lower())!=-1:\n",
    "            print \"given string found \"\n",
    "        else:\n",
    "            print \"given string not found.\"\n",
    "    else:\n",
    "        break\n",
    "print \"thank you.\"\n",
    "        "
   ]
  },
  {
   "cell_type": "code",
   "execution_count": 56,
   "metadata": {},
   "outputs": [
    {
     "name": "stdout",
     "output_type": "stream",
     "text": [
      "Enter an actual string:y\n",
      "Do you want to search?(y/n):q\n",
      "thank you.\n"
     ]
    }
   ],
   "source": [
    "act = raw_input(\"Enter an actual string:\")\n",
    "while True:\n",
    "    opt = raw_input(\"Do you want to search?(y/n):\")\n",
    "    if opt.lower()==\"y\" or opt.lower()==\"yes\":\n",
    "        sub=raw_input(\"enter substrinf to search:\")\n",
    "        if act.lower().find(sub.lower())!=-1:\n",
    "            print \"given string found \"\n",
    "        else:\n",
    "            print \"given string not found.\"\n",
    "    else:\n",
    "        break\n",
    "print \"thank you.\"\n",
    "        "
   ]
  },
  {
   "cell_type": "code",
   "execution_count": 57,
   "metadata": {},
   "outputs": [
    {
     "name": "stdout",
     "output_type": "stream",
     "text": [
      "Enter an actual string:Python is a general-purpose interpreted, interactive, object-oriented, and high-level programming language. It was created by Guido van Rossum during 1985- 1990\n",
      "Do you want to search?(y/n):yEs\n",
      "enter substrinf to search:was\n",
      "given string found \n",
      "Do you want to search?(y/n):yes\n",
      "enter substrinf to search:by\n",
      "given string found \n",
      "Do you want to search?(y/n):YEs\n",
      "enter substrinf to search:samba\n",
      "given string not found.\n",
      "Do you want to search?(y/n):no\n",
      "thank you.\n"
     ]
    }
   ],
   "source": [
    "act = raw_input(\"Enter an actual string:\")\n",
    "while True:\n",
    "    opt = raw_input(\"Do you want to search?(y/n):\")\n",
    "    if opt.lower()==\"y\" or opt.lower()==\"yes\":\n",
    "        sub=raw_input(\"enter substrinf to search:\")\n",
    "        if act.lower().find(sub.lower())!=-1:\n",
    "            print \"given string found \"\n",
    "        else:\n",
    "            print \"given string not found.\"\n",
    "    else:\n",
    "        break\n",
    "print \"thank you.\"\n",
    "        "
   ]
  },
  {
   "cell_type": "code",
   "execution_count": 1,
   "metadata": {},
   "outputs": [
    {
     "name": "stdout",
     "output_type": "stream",
     "text": [
      "Name:anil kumar, Age:23, Height:5.6789\n"
     ]
    }
   ],
   "source": [
    "name=\"anil kumar\"\n",
    "age=23\n",
    "height = 5.6789\n",
    "print \"Name:%s, Age:%s, Height:%s\"%(name, age, height)"
   ]
  },
  {
   "cell_type": "code",
   "execution_count": 2,
   "metadata": {},
   "outputs": [
    {
     "name": "stdout",
     "output_type": "stream",
     "text": [
      "Name:anil kumar, Age:23, Height:5.6789\n",
      "Name:anil kumar, Age:23, Height:5.6789\n"
     ]
    }
   ],
   "source": [
    "name=\"anil kumar\"\n",
    "age=23\n",
    "height = 5.6789\n",
    "print \"Name:%s, Age:%s, Height:%s\"%(name, age, height)\n",
    "print \"Name:{0}, Age:{1}, Height:{2}\".format(name, age, height)"
   ]
  },
  {
   "cell_type": "code",
   "execution_count": 3,
   "metadata": {},
   "outputs": [
    {
     "name": "stdout",
     "output_type": "stream",
     "text": [
      "Name:anil kumar, Age:23, Height:5.68\n",
      "Name:anil kumar, Age:23, Height:5.6789\n"
     ]
    }
   ],
   "source": [
    "name=\"anil kumar\"\n",
    "age=23\n",
    "height = 5.6789\n",
    "print \"Name:%s, Age:%s, Height:%.2f\"%(name, age, height)\n",
    "print \"Name:{0}, Age:{1}, Height:{2}\".format(name, age, height)"
   ]
  },
  {
   "cell_type": "code",
   "execution_count": 4,
   "metadata": {},
   "outputs": [
    {
     "name": "stdout",
     "output_type": "stream",
     "text": [
      "Name:anil kumar, Age:23, Height:5.68\n",
      "Name:anil kumar, Age:23, Height:5.68\n"
     ]
    }
   ],
   "source": [
    "name=\"anil kumar\"\n",
    "age=23\n",
    "height = 5.6789\n",
    "print \"Name:%s, Age:%s, Height:%.2f\"%(name, age, height)\n",
    "print \"Name:{0}, Age:{1}, Height:{2:.2f}\".format(name, age, height)"
   ]
  },
  {
   "cell_type": "code",
   "execution_count": 5,
   "metadata": {},
   "outputs": [
    {
     "ename": "ValueError",
     "evalue": "unsupported format character 'b' (0x62) at index 1",
     "output_type": "error",
     "traceback": [
      "\u001b[0;31m---------------------------------------------------------------------------\u001b[0m",
      "\u001b[0;31mValueError\u001b[0m                                Traceback (most recent call last)",
      "\u001b[0;32m<ipython-input-5-e2129cd23c88>\u001b[0m in \u001b[0;36m<module>\u001b[0;34m()\u001b[0m\n\u001b[0;32m----> 1\u001b[0;31m \u001b[0;32mprint\u001b[0m \u001b[0;34m\"%b\"\u001b[0m\u001b[0;34m%\u001b[0m\u001b[0;34m(\u001b[0m\u001b[0;36m123\u001b[0m\u001b[0;34m)\u001b[0m\u001b[0;34m\u001b[0m\u001b[0m\n\u001b[0m",
      "\u001b[0;31mValueError\u001b[0m: unsupported format character 'b' (0x62) at index 1"
     ]
    }
   ],
   "source": [
    "print \"%b\"%(123)"
   ]
  },
  {
   "cell_type": "code",
   "execution_count": 6,
   "metadata": {},
   "outputs": [
    {
     "name": "stdout",
     "output_type": "stream",
     "text": [
      "10011010010\n"
     ]
    }
   ],
   "source": [
    "print \"{0:b}\".format(1234)"
   ]
  },
  {
   "cell_type": "code",
   "execution_count": 7,
   "metadata": {},
   "outputs": [
    {
     "name": "stdout",
     "output_type": "stream",
     "text": [
      "10011010010\n"
     ]
    }
   ],
   "source": [
    "print \"{:b}\".format(1234)"
   ]
  },
  {
   "cell_type": "code",
   "execution_count": 8,
   "metadata": {},
   "outputs": [
    {
     "name": "stdout",
     "output_type": "stream",
     "text": [
      "Name:anil kumar, Age:23, Height:5.68\n",
      "Name:anil kumar, Age:23, Height:5.68\n"
     ]
    }
   ],
   "source": [
    "name=\"anil kumar\"\n",
    "age=23\n",
    "height = 5.6789\n",
    "print \"Name:%s, Age:%s, Height:%.2f\"%(name, age, height)\n",
    "print \"Name:{}, Age:{}, Height:{:.2f}\".format(name, age, height)"
   ]
  },
  {
   "cell_type": "code",
   "execution_count": 10,
   "metadata": {},
   "outputs": [
    {
     "name": "stdout",
     "output_type": "stream",
     "text": [
      "Name:anil kumar, Age:23, Height:5.68\n",
      "Name:anil kumar, Age:anil kumar, Height:anil kumar\n"
     ]
    }
   ],
   "source": [
    "name=\"anil kumar\"\n",
    "age=23\n",
    "height = 5.6789\n",
    "print \"Name:%s, Age:%s, Height:%.2f\"%(name, age, height)\n",
    "print \"Name:{0}, Age:{0}, Height:{0:}\".format(name, age, height)"
   ]
  },
  {
   "cell_type": "code",
   "execution_count": 11,
   "metadata": {},
   "outputs": [
    {
     "name": "stdout",
     "output_type": "stream",
     "text": [
      "True\n"
     ]
    }
   ],
   "source": [
    "s=\"abcd\"\n",
    "print s.isalnum()"
   ]
  },
  {
   "cell_type": "code",
   "execution_count": 12,
   "metadata": {},
   "outputs": [
    {
     "name": "stdout",
     "output_type": "stream",
     "text": [
      "True\n"
     ]
    }
   ],
   "source": [
    "s=\"1234\"\n",
    "print s.isalnum()"
   ]
  },
  {
   "cell_type": "code",
   "execution_count": 13,
   "metadata": {},
   "outputs": [
    {
     "name": "stdout",
     "output_type": "stream",
     "text": [
      "True\n"
     ]
    }
   ],
   "source": [
    "s=\"abcd1234\"\n",
    "print s.isalnum()"
   ]
  },
  {
   "cell_type": "code",
   "execution_count": 14,
   "metadata": {},
   "outputs": [
    {
     "name": "stdout",
     "output_type": "stream",
     "text": [
      "False\n"
     ]
    }
   ],
   "source": [
    "s=\"abcd1234@#\"\n",
    "print s.isalnum()"
   ]
  },
  {
   "cell_type": "code",
   "execution_count": 15,
   "metadata": {},
   "outputs": [
    {
     "name": "stdout",
     "output_type": "stream",
     "text": [
      "False\n"
     ]
    }
   ],
   "source": [
    "s=\"\"\n",
    "print s.isalnum()"
   ]
  },
  {
   "cell_type": "code",
   "execution_count": 16,
   "metadata": {},
   "outputs": [
    {
     "name": "stdout",
     "output_type": "stream",
     "text": [
      "True\n"
     ]
    }
   ],
   "source": [
    "s=\"abcd\"\n",
    "print s.isalpha()"
   ]
  },
  {
   "cell_type": "code",
   "execution_count": 17,
   "metadata": {},
   "outputs": [
    {
     "name": "stdout",
     "output_type": "stream",
     "text": [
      "True\n"
     ]
    }
   ],
   "source": [
    "s=\"abcdQWERT\"\n",
    "print s.isalpha()"
   ]
  },
  {
   "cell_type": "code",
   "execution_count": 18,
   "metadata": {},
   "outputs": [
    {
     "name": "stdout",
     "output_type": "stream",
     "text": [
      "False\n"
     ]
    }
   ],
   "source": [
    "s=\"abcdQWERT1\"\n",
    "print s.isalpha()"
   ]
  },
  {
   "cell_type": "code",
   "execution_count": 19,
   "metadata": {},
   "outputs": [
    {
     "name": "stdout",
     "output_type": "stream",
     "text": [
      "False\n"
     ]
    }
   ],
   "source": [
    "s=\"abcdQWERT$\"\n",
    "print s.isalpha()"
   ]
  },
  {
   "cell_type": "code",
   "execution_count": 20,
   "metadata": {},
   "outputs": [
    {
     "name": "stdout",
     "output_type": "stream",
     "text": [
      "False\n"
     ]
    }
   ],
   "source": [
    "s=\"\"\n",
    "print s.isalpha()"
   ]
  },
  {
   "cell_type": "code",
   "execution_count": 21,
   "metadata": {},
   "outputs": [
    {
     "name": "stdout",
     "output_type": "stream",
     "text": [
      "True\n"
     ]
    }
   ],
   "source": [
    "s=\"1234\"\n",
    "print s.isdigit()"
   ]
  },
  {
   "cell_type": "code",
   "execution_count": 22,
   "metadata": {},
   "outputs": [
    {
     "name": "stdout",
     "output_type": "stream",
     "text": [
      "False\n"
     ]
    }
   ],
   "source": [
    "s=\"1234a\"\n",
    "print s.isdigit()"
   ]
  },
  {
   "cell_type": "code",
   "execution_count": 23,
   "metadata": {},
   "outputs": [
    {
     "name": "stdout",
     "output_type": "stream",
     "text": [
      "False\n"
     ]
    }
   ],
   "source": [
    "s=\"1234#\"\n",
    "print s.isdigit()"
   ]
  },
  {
   "cell_type": "code",
   "execution_count": 24,
   "metadata": {},
   "outputs": [
    {
     "name": "stdout",
     "output_type": "stream",
     "text": [
      "False\n"
     ]
    }
   ],
   "source": [
    "s=\"12.34\"\n",
    "print s.isdigit()"
   ]
  },
  {
   "cell_type": "code",
   "execution_count": 25,
   "metadata": {},
   "outputs": [
    {
     "name": "stdout",
     "output_type": "stream",
     "text": [
      "False\n"
     ]
    }
   ],
   "source": [
    "s=\"1+2j\"\n",
    "print s.isdigit()"
   ]
  },
  {
   "cell_type": "code",
   "execution_count": 26,
   "metadata": {},
   "outputs": [
    {
     "name": "stdout",
     "output_type": "stream",
     "text": [
      "True\n"
     ]
    }
   ],
   "source": [
    "s=\"abcd\"\n",
    "print s.islower()"
   ]
  },
  {
   "cell_type": "code",
   "execution_count": 27,
   "metadata": {},
   "outputs": [
    {
     "name": "stdout",
     "output_type": "stream",
     "text": [
      "True\n"
     ]
    }
   ],
   "source": [
    "s=\"abcd123\"\n",
    "print s.islower()"
   ]
  },
  {
   "cell_type": "code",
   "execution_count": 28,
   "metadata": {},
   "outputs": [
    {
     "name": "stdout",
     "output_type": "stream",
     "text": [
      "True\n"
     ]
    }
   ],
   "source": [
    "s=\"@#$%abcd123\"\n",
    "print s.islower()"
   ]
  },
  {
   "cell_type": "code",
   "execution_count": 29,
   "metadata": {},
   "outputs": [
    {
     "name": "stdout",
     "output_type": "stream",
     "text": [
      "False\n"
     ]
    }
   ],
   "source": [
    "s=\"@#$%abcd123A\"\n",
    "print s.islower()"
   ]
  },
  {
   "cell_type": "code",
   "execution_count": 30,
   "metadata": {},
   "outputs": [
    {
     "name": "stdout",
     "output_type": "stream",
     "text": [
      "False\n"
     ]
    }
   ],
   "source": [
    "s=\"@#$%123\"\n",
    "print s.islower()"
   ]
  },
  {
   "cell_type": "code",
   "execution_count": 31,
   "metadata": {},
   "outputs": [
    {
     "name": "stdout",
     "output_type": "stream",
     "text": [
      "False\n"
     ]
    }
   ],
   "source": [
    "s=\"\"\n",
    "print s.islower()"
   ]
  },
  {
   "cell_type": "code",
   "execution_count": 32,
   "metadata": {},
   "outputs": [
    {
     "name": "stdout",
     "output_type": "stream",
     "text": [
      "False\n"
     ]
    }
   ],
   "source": [
    "s=\"python program\"\n",
    "print s.isspace()"
   ]
  },
  {
   "cell_type": "code",
   "execution_count": 33,
   "metadata": {},
   "outputs": [
    {
     "name": "stdout",
     "output_type": "stream",
     "text": [
      "True\n"
     ]
    }
   ],
   "source": [
    "s=\"     \"\n",
    "print s.isspace()"
   ]
  },
  {
   "cell_type": "code",
   "execution_count": 34,
   "metadata": {},
   "outputs": [
    {
     "name": "stdout",
     "output_type": "stream",
     "text": [
      "True\n"
     ]
    }
   ],
   "source": [
    "s=\"\\n\"\n",
    "print s.isspace()"
   ]
  },
  {
   "cell_type": "code",
   "execution_count": 35,
   "metadata": {},
   "outputs": [
    {
     "name": "stdout",
     "output_type": "stream",
     "text": [
      "True\n"
     ]
    }
   ],
   "source": [
    "s=\"\\t\"\n",
    "print s.isspace()"
   ]
  },
  {
   "cell_type": "code",
   "execution_count": 36,
   "metadata": {},
   "outputs": [
    {
     "name": "stdout",
     "output_type": "stream",
     "text": [
      "False\n"
     ]
    }
   ],
   "source": [
    "s=\"\"\n",
    "print s.isspace()"
   ]
  },
  {
   "cell_type": "code",
   "execution_count": 37,
   "metadata": {},
   "outputs": [
    {
     "name": "stdout",
     "output_type": "stream",
     "text": [
      "True\n"
     ]
    }
   ],
   "source": [
    "print \" \" in \"python program\""
   ]
  },
  {
   "cell_type": "code",
   "execution_count": 38,
   "metadata": {},
   "outputs": [
    {
     "name": "stdout",
     "output_type": "stream",
     "text": [
      "False\n"
     ]
    }
   ],
   "source": [
    "print \" \" in \"pythonprogram\""
   ]
  },
  {
   "cell_type": "code",
   "execution_count": 39,
   "metadata": {},
   "outputs": [
    {
     "name": "stdout",
     "output_type": "stream",
     "text": [
      "enter a value:iweourwyihwihuidewhfweyfiuhewyfewuyfhuewjhiusdfhuf\n",
      "it's not contains digits\n"
     ]
    }
   ],
   "source": [
    "s=raw_input(\"enter a value:\")\n",
    "for i in s:\n",
    "    if i.isdigit():\n",
    "        print \"it contains digits\"\n",
    "else:\n",
    "    print \"it's not contains digits\""
   ]
  },
  {
   "cell_type": "code",
   "execution_count": 41,
   "metadata": {},
   "outputs": [
    {
     "name": "stdout",
     "output_type": "stream",
     "text": [
      "enter a value:dshfsdklfjsdklfjdsklfj234234\n",
      "it contains digits\n"
     ]
    }
   ],
   "source": [
    "s=raw_input(\"enter a value:\")\n",
    "for i in s:\n",
    "    if i.isdigit():\n",
    "        print \"it contains digits\"\n",
    "        break\n",
    "else:\n",
    "    print \"it's not contains digits\""
   ]
  },
  {
   "cell_type": "code",
   "execution_count": 42,
   "metadata": {},
   "outputs": [
    {
     "name": "stdout",
     "output_type": "stream",
     "text": [
      "enter a value:ghjkljhgfdsyuiopuytryuiop[iuytruiop[iuyt1\n",
      "it contains digits\n"
     ]
    }
   ],
   "source": [
    "s=raw_input(\"enter a value:\")\n",
    "for i in s:\n",
    "    if i.isdigit():\n",
    "        print \"it contains digits\"\n",
    "        break\n",
    "else:\n",
    "    print \"it's not contains digits\""
   ]
  },
  {
   "cell_type": "code",
   "execution_count": 43,
   "metadata": {},
   "outputs": [
    {
     "name": "stdout",
     "output_type": "stream",
     "text": [
      "enter a value:ertyuiop[sdfghjkl;'tryuiop[rfdghjklretyuio1\n",
      "it contains digits\n"
     ]
    }
   ],
   "source": [
    "s=raw_input(\"enter a value:\")\n",
    "for i in range(10):\n",
    "    if str(i) in s:\n",
    "        print \"it contains digits\"\n",
    "        break\n",
    "else:\n",
    "    print \"it's not contains digits\""
   ]
  },
  {
   "cell_type": "code",
   "execution_count": 44,
   "metadata": {
    "collapsed": true
   },
   "outputs": [],
   "source": [
    "import string"
   ]
  },
  {
   "cell_type": "code",
   "execution_count": 45,
   "metadata": {},
   "outputs": [
    {
     "data": {
      "text/plain": [
       "'!\"#$%&\\'()*+,-./:;<=>?@[\\\\]^_`{|}~'"
      ]
     },
     "execution_count": 45,
     "metadata": {},
     "output_type": "execute_result"
    }
   ],
   "source": [
    "string.punctuation"
   ]
  },
  {
   "cell_type": "code",
   "execution_count": 46,
   "metadata": {},
   "outputs": [
    {
     "name": "stdout",
     "output_type": "stream",
     "text": [
      "Enter a value:wqerwetreterytryutrurt\n",
      "it's not contains special symbols\n"
     ]
    }
   ],
   "source": [
    "s=raw_input(\"Enter a value:\")\n",
    "for i in s:\n",
    "    if i.isalnum():\n",
    "        continue\n",
    "    else:\n",
    "        print \"it contains special symbols\"\n",
    "        break\n",
    "else:\n",
    "    print \"it's not contains special symbols\"\n",
    "        "
   ]
  },
  {
   "cell_type": "code",
   "execution_count": 47,
   "metadata": {},
   "outputs": [
    {
     "name": "stdout",
     "output_type": "stream",
     "text": [
      "Enter a value:wetretrew1242352352\n",
      "it's not contains special symbols\n"
     ]
    }
   ],
   "source": [
    "s=raw_input(\"Enter a value:\")\n",
    "for i in s:\n",
    "    if i.isalnum():\n",
    "        continue\n",
    "    else:\n",
    "        print \"it contains special symbols\"\n",
    "        break\n",
    "else:\n",
    "    print \"it's not contains special symbols\"\n",
    "        "
   ]
  },
  {
   "cell_type": "code",
   "execution_count": 48,
   "metadata": {},
   "outputs": [
    {
     "name": "stdout",
     "output_type": "stream",
     "text": [
      "Enter a value:sdfgsdfg324423!\n",
      "it contains special symbols\n"
     ]
    }
   ],
   "source": [
    "s=raw_input(\"Enter a value:\")\n",
    "for i in s:\n",
    "    if i.isalnum():\n",
    "        continue\n",
    "    else:\n",
    "        print \"it contains special symbols\"\n",
    "        break\n",
    "else:\n",
    "    print \"it's not contains special symbols\"\n",
    "        "
   ]
  },
  {
   "cell_type": "code",
   "execution_count": 49,
   "metadata": {},
   "outputs": [
    {
     "name": "stdout",
     "output_type": "stream",
     "text": [
      "Enter a value:python program\n",
      "it contains special symbols\n"
     ]
    }
   ],
   "source": [
    "s=raw_input(\"Enter a value:\")\n",
    "for i in s:\n",
    "    if i.isalnum():\n",
    "        continue\n",
    "    else:\n",
    "        print \"it contains special symbols\"\n",
    "        break\n",
    "else:\n",
    "    print \"it's not contains special symbols\"\n",
    "        "
   ]
  },
  {
   "cell_type": "code",
   "execution_count": 50,
   "metadata": {},
   "outputs": [
    {
     "name": "stdout",
     "output_type": "stream",
     "text": [
      "Enter a value:   \n",
      "it contains special symbols\n"
     ]
    }
   ],
   "source": [
    "s=raw_input(\"Enter a value:\")\n",
    "for i in s:\n",
    "    if i.isalnum():\n",
    "        continue\n",
    "    else:\n",
    "        print \"it contains special symbols\"\n",
    "        break\n",
    "else:\n",
    "    print \"it's not contains special symbols\"\n",
    "        "
   ]
  },
  {
   "cell_type": "code",
   "execution_count": 51,
   "metadata": {},
   "outputs": [
    {
     "name": "stdout",
     "output_type": "stream",
     "text": [
      "Python Program\n"
     ]
    }
   ],
   "source": [
    "s=\"python program\"\n",
    "print s.title()"
   ]
  },
  {
   "cell_type": "code",
   "execution_count": 52,
   "metadata": {},
   "outputs": [
    {
     "name": "stdout",
     "output_type": "stream",
     "text": [
      "Python Is Pure Object Oriented Programing Language\n"
     ]
    }
   ],
   "source": [
    "s=\"python is pure object oriented programing language\"\n",
    "print s.title()"
   ]
  },
  {
   "cell_type": "code",
   "execution_count": 53,
   "metadata": {},
   "outputs": [
    {
     "name": "stdout",
     "output_type": "stream",
     "text": [
      "Python Is Pure Object Oriente3D Programin$G Language\n"
     ]
    }
   ],
   "source": [
    "s=\"python is pure object oriente3d programin$g language\"\n",
    "print s.title()"
   ]
  },
  {
   "cell_type": "code",
   "execution_count": 55,
   "metadata": {},
   "outputs": [
    {
     "name": "stdout",
     "output_type": "stream",
     "text": [
      "12344 Python Is Pure Object Oriente3D Programin$G Language\n"
     ]
    }
   ],
   "source": [
    "s=\"12344 python is pure object oriente3d programin$g lanGUAGE\"\n",
    "print s.title()"
   ]
  },
  {
   "cell_type": "code",
   "execution_count": 56,
   "metadata": {},
   "outputs": [
    {
     "name": "stdout",
     "output_type": "stream",
     "text": [
      "True\n"
     ]
    }
   ],
   "source": [
    "s=\"Python Program\"\n",
    "print s.istitle()"
   ]
  },
  {
   "cell_type": "code",
   "execution_count": 57,
   "metadata": {},
   "outputs": [
    {
     "name": "stdout",
     "output_type": "stream",
     "text": [
      "False\n"
     ]
    }
   ],
   "source": [
    "s=\"Pyt1hon Progr$am\"\n",
    "print s.istitle()"
   ]
  },
  {
   "cell_type": "code",
   "execution_count": 58,
   "metadata": {},
   "outputs": [
    {
     "name": "stdout",
     "output_type": "stream",
     "text": [
      "True\n"
     ]
    }
   ],
   "source": [
    "s=\"Pyt1Hon Progr$Am\"\n",
    "print s.istitle()"
   ]
  },
  {
   "cell_type": "code",
   "execution_count": 59,
   "metadata": {
    "collapsed": true
   },
   "outputs": [],
   "source": [
    "s.title?"
   ]
  },
  {
   "cell_type": "code",
   "execution_count": 60,
   "metadata": {},
   "outputs": [
    {
     "name": "stdout",
     "output_type": "stream",
     "text": [
      "1234567\n"
     ]
    }
   ],
   "source": [
    "s=\"1234567\"\n",
    "print s.title()"
   ]
  },
  {
   "cell_type": "code",
   "execution_count": 61,
   "metadata": {},
   "outputs": [
    {
     "name": "stdout",
     "output_type": "stream",
     "text": [
      "ccpppythonjavaphpjshtml\n"
     ]
    }
   ],
   "source": [
    "s=[\"c\",\"cpp\",\"python\",\"java\",\"php\",\"js\",\"html\"]\n",
    "s1=\"\"\n",
    "for i in s:\n",
    "    s1=s1+i\n",
    "print s1\n",
    "    "
   ]
  },
  {
   "cell_type": "code",
   "execution_count": 62,
   "metadata": {},
   "outputs": [
    {
     "name": "stdout",
     "output_type": "stream",
     "text": [
      "c:cpp:python:java:php:js:html:\n"
     ]
    }
   ],
   "source": [
    "s=[\"c\",\"cpp\",\"python\",\"java\",\"php\",\"js\",\"html\"]\n",
    "s1=\"\"\n",
    "for i in s:\n",
    "    s1=s1+i+\":\"\n",
    "print s1\n",
    "    "
   ]
  },
  {
   "cell_type": "code",
   "execution_count": 63,
   "metadata": {},
   "outputs": [
    {
     "ename": "TypeError",
     "evalue": "cannot concatenate 'str' and 'int' objects",
     "output_type": "error",
     "traceback": [
      "\u001b[0;31m---------------------------------------------------------------------------\u001b[0m",
      "\u001b[0;31mTypeError\u001b[0m                                 Traceback (most recent call last)",
      "\u001b[0;32m<ipython-input-63-b612ddf7001f>\u001b[0m in \u001b[0;36m<module>\u001b[0;34m()\u001b[0m\n\u001b[1;32m      2\u001b[0m \u001b[0ms1\u001b[0m\u001b[0;34m=\u001b[0m\u001b[0;34m\"\"\u001b[0m\u001b[0;34m\u001b[0m\u001b[0m\n\u001b[1;32m      3\u001b[0m \u001b[0;32mfor\u001b[0m \u001b[0mi\u001b[0m \u001b[0;32min\u001b[0m \u001b[0ms\u001b[0m\u001b[0;34m:\u001b[0m\u001b[0;34m\u001b[0m\u001b[0m\n\u001b[0;32m----> 4\u001b[0;31m     \u001b[0ms1\u001b[0m\u001b[0;34m=\u001b[0m\u001b[0ms1\u001b[0m\u001b[0;34m+\u001b[0m\u001b[0mi\u001b[0m\u001b[0;34m+\u001b[0m\u001b[0;34m\":\"\u001b[0m\u001b[0;34m\u001b[0m\u001b[0m\n\u001b[0m\u001b[1;32m      5\u001b[0m \u001b[0;32mprint\u001b[0m \u001b[0ms1\u001b[0m\u001b[0;34m\u001b[0m\u001b[0m\n\u001b[1;32m      6\u001b[0m \u001b[0;34m\u001b[0m\u001b[0m\n",
      "\u001b[0;31mTypeError\u001b[0m: cannot concatenate 'str' and 'int' objects"
     ]
    }
   ],
   "source": [
    "s=[\"c\",\"cpp\",\"python\",\"java\",\"php\",\"js\",\"html\",1234]\n",
    "s1=\"\"\n",
    "for i in s:\n",
    "    s1=s1+i+\":\"\n",
    "print s1\n",
    "    "
   ]
  },
  {
   "cell_type": "code",
   "execution_count": 64,
   "metadata": {},
   "outputs": [
    {
     "name": "stdout",
     "output_type": "stream",
     "text": [
      "ccpppythonjavaphpjshtml\n"
     ]
    }
   ],
   "source": [
    "l=[\"c\",\"cpp\",\"python\",\"java\",\"php\",\"js\",\"html\",]\n",
    "print \"\".join(l)"
   ]
  },
  {
   "cell_type": "code",
   "execution_count": 65,
   "metadata": {},
   "outputs": [
    {
     "name": "stdout",
     "output_type": "stream",
     "text": [
      "c;cpp;python;java;php;js;html\n"
     ]
    }
   ],
   "source": [
    "l=[\"c\",\"cpp\",\"python\",\"java\",\"php\",\"js\",\"html\",]\n",
    "print \";\".join(l)"
   ]
  },
  {
   "cell_type": "code",
   "execution_count": 66,
   "metadata": {},
   "outputs": [
    {
     "ename": "TypeError",
     "evalue": "sequence item 7: expected string, int found",
     "output_type": "error",
     "traceback": [
      "\u001b[0;31m---------------------------------------------------------------------------\u001b[0m",
      "\u001b[0;31mTypeError\u001b[0m                                 Traceback (most recent call last)",
      "\u001b[0;32m<ipython-input-66-a9f347810ecd>\u001b[0m in \u001b[0;36m<module>\u001b[0;34m()\u001b[0m\n\u001b[1;32m      1\u001b[0m \u001b[0ml\u001b[0m\u001b[0;34m=\u001b[0m\u001b[0;34m[\u001b[0m\u001b[0;34m\"c\"\u001b[0m\u001b[0;34m,\u001b[0m\u001b[0;34m\"cpp\"\u001b[0m\u001b[0;34m,\u001b[0m\u001b[0;34m\"python\"\u001b[0m\u001b[0;34m,\u001b[0m\u001b[0;34m\"java\"\u001b[0m\u001b[0;34m,\u001b[0m\u001b[0;34m\"php\"\u001b[0m\u001b[0;34m,\u001b[0m\u001b[0;34m\"js\"\u001b[0m\u001b[0;34m,\u001b[0m\u001b[0;34m\"html\"\u001b[0m\u001b[0;34m,\u001b[0m\u001b[0;36m1234\u001b[0m\u001b[0;34m]\u001b[0m\u001b[0;34m\u001b[0m\u001b[0m\n\u001b[0;32m----> 2\u001b[0;31m \u001b[0;32mprint\u001b[0m \u001b[0;34m\";\"\u001b[0m\u001b[0;34m.\u001b[0m\u001b[0mjoin\u001b[0m\u001b[0;34m(\u001b[0m\u001b[0ml\u001b[0m\u001b[0;34m)\u001b[0m\u001b[0;34m\u001b[0m\u001b[0m\n\u001b[0m",
      "\u001b[0;31mTypeError\u001b[0m: sequence item 7: expected string, int found"
     ]
    }
   ],
   "source": [
    "l=[\"c\",\"cpp\",\"python\",\"java\",\"php\",\"js\",\"html\",1234]\n",
    "print \";\".join(l)"
   ]
  },
  {
   "cell_type": "code",
   "execution_count": 67,
   "metadata": {},
   "outputs": [
    {
     "name": "stdout",
     "output_type": "stream",
     "text": [
      "k2:k1:\n"
     ]
    }
   ],
   "source": [
    "s={\"k1\":\"v1\",\"k2\":\"v2\"}\n",
    "s1=\"\"\n",
    "for i in s:\n",
    "    s1=s1+i+\":\"\n",
    "print s1\n",
    "    "
   ]
  },
  {
   "cell_type": "code",
   "execution_count": 68,
   "metadata": {},
   "outputs": [
    {
     "name": "stdout",
     "output_type": "stream",
     "text": [
      "k2:k1\n"
     ]
    }
   ],
   "source": [
    "s={\"k1\":\"v1\",\"k2\":\"v2\"}\n",
    "print \":\".join(s)"
   ]
  },
  {
   "cell_type": "code",
   "execution_count": 69,
   "metadata": {},
   "outputs": [
    {
     "name": "stdout",
     "output_type": "stream",
     "text": [
      "k2ERk1\n"
     ]
    }
   ],
   "source": [
    "s={\"k1\":\"v1\",\"k2\":\"v2\"}\n",
    "print \"ER\".join(s)"
   ]
  },
  {
   "cell_type": "code",
   "execution_count": 70,
   "metadata": {},
   "outputs": [
    {
     "name": "stdout",
     "output_type": "stream",
     "text": [
      "    user   name    \n",
      "user   name\n"
     ]
    }
   ],
   "source": [
    "username = \"    user   name    \"\n",
    "print username\n",
    "print username.strip()"
   ]
  },
  {
   "cell_type": "code",
   "execution_count": 71,
   "metadata": {},
   "outputs": [
    {
     "name": "stdout",
     "output_type": "stream",
     "text": [
      "    u   s   e    r   n    a    m    e    \n",
      "u   s   e    r   n    a    m    e\n"
     ]
    }
   ],
   "source": [
    "username = \"    u   s   e    r   n    a    m    e    \"\n",
    "print username\n",
    "print username.strip()"
   ]
  },
  {
   "cell_type": "code",
   "execution_count": 72,
   "metadata": {},
   "outputs": [
    {
     "name": "stdout",
     "output_type": "stream",
     "text": [
      "$#@user@#$name#@$\n",
      "#@user@#$name#@\n"
     ]
    }
   ],
   "source": [
    "username = \"$#@user@#$name#@$\"\n",
    "print username\n",
    "print username.strip(\"$\")"
   ]
  },
  {
   "cell_type": "code",
   "execution_count": 73,
   "metadata": {},
   "outputs": [
    {
     "name": "stdout",
     "output_type": "stream",
     "text": [
      "2\n"
     ]
    }
   ],
   "source": [
    "s=\"abcdabcdacbdacbd\"\n",
    "print s.count(\"abcd\")"
   ]
  },
  {
   "cell_type": "code",
   "execution_count": 74,
   "metadata": {},
   "outputs": [
    {
     "name": "stdout",
     "output_type": "stream",
     "text": [
      "$#@user@#$name#@$\n",
      "@user@#$name#@\n"
     ]
    }
   ],
   "source": [
    "username = \"$#@user@#$name#@$\"\n",
    "print username\n",
    "print username.strip(\"$#\")"
   ]
  },
  {
   "cell_type": "code",
   "execution_count": 75,
   "metadata": {},
   "outputs": [
    {
     "name": "stdout",
     "output_type": "stream",
     "text": [
      "$#@user@#$name#@$\n",
      "user@#$name\n"
     ]
    }
   ],
   "source": [
    "username = \"$#@user@#$name#@$\"\n",
    "print username\n",
    "print username.strip(\"$#@\")"
   ]
  },
  {
   "cell_type": "code",
   "execution_count": 78,
   "metadata": {},
   "outputs": [
    {
     "name": "stdout",
     "output_type": "stream",
     "text": [
      "user@#$name\n",
      "#@user@#$name#@\n",
      "@user@#$name#@\n",
      "user@#$name#\n"
     ]
    }
   ],
   "source": [
    "username = \"$#@user@#$name#@$\"\n",
    "print username.strip(\"$#@\")\n",
    "for i in \"$#@\":\n",
    "    username = username.strip(i)\n",
    "    print username"
   ]
  },
  {
   "cell_type": "code",
   "execution_count": 79,
   "metadata": {},
   "outputs": [
    {
     "name": "stdout",
     "output_type": "stream",
     "text": [
      "user@#$name\n",
      "user@#$name#@$\n",
      "$#@user@#$name\n"
     ]
    }
   ],
   "source": [
    "username = \"$#@user@#$name#@$\"\n",
    "print username.strip(\"$#@\")\n",
    "print username.lstrip(\"$#@\")\n",
    "print username.rstrip(\"$#@\")"
   ]
  },
  {
   "cell_type": "code",
   "execution_count": 80,
   "metadata": {},
   "outputs": [
    {
     "name": "stdout",
     "output_type": "stream",
     "text": [
      "['python', 'is', 'a', 'pure', 'object', 'oriented', 'programing', 'language']\n"
     ]
    }
   ],
   "source": [
    "s=\"python is a pure object oriented programing language\"\n",
    "print s.split()"
   ]
  },
  {
   "cell_type": "code",
   "execution_count": 81,
   "metadata": {},
   "outputs": [
    {
     "name": "stdout",
     "output_type": "stream",
     "text": [
      "['python is ', ' pure object oriented progr', 'ming l', 'ngu', 'ge']\n"
     ]
    }
   ],
   "source": [
    "s=\"python is a pure object oriented programing language\"\n",
    "print s.split(\"a\")"
   ]
  },
  {
   "cell_type": "code",
   "execution_count": 82,
   "metadata": {},
   "outputs": [
    {
     "name": "stdout",
     "output_type": "stream",
     "text": [
      "python is  pure object oriented progrming lnguge\n"
     ]
    }
   ],
   "source": [
    "s=\"python is a pure object oriented programing language\"\n",
    "print s.replace(\"a\",\"\")"
   ]
  },
  {
   "cell_type": "code",
   "execution_count": 83,
   "metadata": {},
   "outputs": [
    {
     "name": "stdout",
     "output_type": "stream",
     "text": [
      "python is  pure object oriented progrming lnguge\n",
      "python is  pure object oriented progrming lnguge\n"
     ]
    }
   ],
   "source": [
    "s=\"python is a pure object oriented programing language\"\n",
    "print s.replace(\"a\",\"\")\n",
    "s1=s.split(\"a\")\n",
    "print \"\".join(s1)"
   ]
  },
  {
   "cell_type": "code",
   "execution_count": 87,
   "metadata": {},
   "outputs": [
    {
     "name": "stdout",
     "output_type": "stream",
     "text": [
      "python;is;a;pure;object;oriented;programing;language\n"
     ]
    }
   ],
   "source": [
    "s=\"python is a pure object oriented programing language\"\n",
    "s1=s.replace(\" \",\";\")\n",
    "print s1"
   ]
  },
  {
   "cell_type": "code",
   "execution_count": 88,
   "metadata": {},
   "outputs": [
    {
     "name": "stdout",
     "output_type": "stream",
     "text": [
      "['python', 'is', 'a', 'pure', 'object;oriented;programing;language']\n"
     ]
    }
   ],
   "source": [
    "print s1.split(\";\",4)"
   ]
  },
  {
   "cell_type": "code",
   "execution_count": 89,
   "metadata": {},
   "outputs": [
    {
     "name": "stdout",
     "output_type": "stream",
     "text": [
      "['python;is;a;pure', 'object', 'oriented', 'programing', 'language']\n"
     ]
    }
   ],
   "source": [
    "print s1.rsplit(\";\",4)"
   ]
  },
  {
   "cell_type": "code",
   "execution_count": 90,
   "metadata": {},
   "outputs": [
    {
     "name": "stdout",
     "output_type": "stream",
     "text": [
      "python;is;a;pure:object:oriented:programing:language\n"
     ]
    }
   ],
   "source": [
    "print \":\".join(s1.rsplit(\";\",4))"
   ]
  },
  {
   "cell_type": "code",
   "execution_count": 91,
   "metadata": {},
   "outputs": [
    {
     "name": "stdout",
     "output_type": "stream",
     "text": [
      "['python', 'is', 'a', 'pure', 'object', 'oriented', 'programing', 'language']\n",
      "('python', ';', 'is;a;pure;object;oriented;programing;language')\n"
     ]
    }
   ],
   "source": [
    "s=\"python;is;a;pure;object;oriented;programing;language\"\n",
    "print s.split(\";\")\n",
    "print s.partition(\";\")"
   ]
  },
  {
   "cell_type": "code",
   "execution_count": 92,
   "metadata": {},
   "outputs": [
    {
     "ename": "TypeError",
     "evalue": "partition() takes exactly one argument (0 given)",
     "output_type": "error",
     "traceback": [
      "\u001b[0;31m---------------------------------------------------------------------------\u001b[0m",
      "\u001b[0;31mTypeError\u001b[0m                                 Traceback (most recent call last)",
      "\u001b[0;32m<ipython-input-92-1fac82bec431>\u001b[0m in \u001b[0;36m<module>\u001b[0;34m()\u001b[0m\n\u001b[0;32m----> 1\u001b[0;31m \u001b[0;32mprint\u001b[0m \u001b[0ms\u001b[0m\u001b[0;34m.\u001b[0m\u001b[0mpartition\u001b[0m\u001b[0;34m(\u001b[0m\u001b[0;34m)\u001b[0m\u001b[0;34m\u001b[0m\u001b[0m\n\u001b[0m",
      "\u001b[0;31mTypeError\u001b[0m: partition() takes exactly one argument (0 given)"
     ]
    }
   ],
   "source": [
    "print s.partition()"
   ]
  },
  {
   "cell_type": "code",
   "execution_count": 1,
   "metadata": {},
   "outputs": [
    {
     "name": "stdout",
     "output_type": "stream",
     "text": [
      "line1\n",
      "line2\n",
      "lin3\n",
      "lin4\n"
     ]
    }
   ],
   "source": [
    "s=\"line1\\nline2\\nlin3\\nlin4\"\n",
    "print s"
   ]
  },
  {
   "cell_type": "code",
   "execution_count": 2,
   "metadata": {},
   "outputs": [
    {
     "name": "stdout",
     "output_type": "stream",
     "text": [
      "['line1', 'line2', 'lin3', 'lin4']\n",
      "['line1', 'line2', 'lin3', 'lin4']\n"
     ]
    }
   ],
   "source": [
    "s=\"line1\\nline2\\nlin3\\nlin4\"\n",
    "print s.split()\n",
    "print s.splitlines()"
   ]
  },
  {
   "cell_type": "code",
   "execution_count": 3,
   "metadata": {},
   "outputs": [
    {
     "name": "stdout",
     "output_type": "stream",
     "text": [
      "['line1', 'line2', 'lin3', 'lin4']\n",
      "['line1', 'line2', 'lin3', 'lin4']\n"
     ]
    }
   ],
   "source": [
    "s=\"line1\\nline2\\nlin3\\nlin4\"\n",
    "print s.split(\"\\n\")\n",
    "print s.splitlines()"
   ]
  },
  {
   "cell_type": "code",
   "execution_count": 4,
   "metadata": {},
   "outputs": [
    {
     "name": "stdout",
     "output_type": "stream",
     "text": [
      "['line1', 'line2', 'lin3', 'lin4']\n",
      "['line1\\n', 'line2\\n', 'lin3\\n', 'lin4']\n"
     ]
    }
   ],
   "source": [
    "s=\"line1\\nline2\\nlin3\\nlin4\"\n",
    "print s.split(\"\\n\")\n",
    "print s.splitlines(True)"
   ]
  },
  {
   "cell_type": "code",
   "execution_count": 5,
   "metadata": {},
   "outputs": [
    {
     "name": "stdout",
     "output_type": "stream",
     "text": [
      "pythON PROGram\n"
     ]
    }
   ],
   "source": [
    "s=\"PYTHon progRAM\"\n",
    "print s.swapcase()"
   ]
  },
  {
   "cell_type": "code",
   "execution_count": 7,
   "metadata": {},
   "outputs": [
    {
     "name": "stdout",
     "output_type": "stream",
     "text": [
      "['line1', 'line2', 'lin3', 'lin4\\ttabspace']\n",
      "['line1\\n', 'line2\\n', 'lin3\\n', 'lin4\\ttabspace']\n"
     ]
    }
   ],
   "source": [
    "s=\"line1\\nline2\\nlin3\\nlin4\\ttabspace\"\n",
    "print s.split(\"\\n\")\n",
    "print s.splitlines(True)"
   ]
  },
  {
   "cell_type": "code",
   "execution_count": 8,
   "metadata": {},
   "outputs": [
    {
     "name": "stdout",
     "output_type": "stream",
     "text": [
      "1234\n",
      "123\n",
      "12\n",
      "1\n"
     ]
    }
   ],
   "source": [
    "print \"1234\"\n",
    "print \"123\"\n",
    "print \"12\"\n",
    "print \"1\""
   ]
  },
  {
   "cell_type": "code",
   "execution_count": 9,
   "metadata": {},
   "outputs": [
    {
     "name": "stdout",
     "output_type": "stream",
     "text": [
      "1234\n",
      "0123\n",
      "0012\n",
      "0001\n"
     ]
    }
   ],
   "source": [
    "print \"1234\".zfill(4)\n",
    "print \"123\".zfill(4)\n",
    "print \"12\".zfill(4)\n",
    "print \"1\".zfill(4)"
   ]
  },
  {
   "cell_type": "code",
   "execution_count": 10,
   "metadata": {},
   "outputs": [
    {
     "name": "stdout",
     "output_type": "stream",
     "text": [
      "cHl0aG9uIHByb2dyYW0=\n",
      "\n"
     ]
    }
   ],
   "source": [
    "s=\"python program\"\n",
    "print s.encode(\"base64\")"
   ]
  },
  {
   "cell_type": "code",
   "execution_count": 11,
   "metadata": {
    "collapsed": true
   },
   "outputs": [],
   "source": [
    "s=\"python program\"\n",
    "pwd_e = s.encode(\"base64\")"
   ]
  },
  {
   "cell_type": "code",
   "execution_count": 12,
   "metadata": {},
   "outputs": [
    {
     "data": {
      "text/plain": [
       "'python program'"
      ]
     },
     "execution_count": 12,
     "metadata": {},
     "output_type": "execute_result"
    }
   ],
   "source": [
    "pwd_e.decode(\"base64\")"
   ]
  },
  {
   "cell_type": "code",
   "execution_count": 14,
   "metadata": {},
   "outputs": [
    {
     "name": "stdout",
     "output_type": "stream",
     "text": [
      "#$%^efgh#$%^efgh#$%^efgh#w^s^swt$s^sgtewr%\n"
     ]
    }
   ],
   "source": [
    "from string import maketrans\n",
    "s=\"abcdefghabcdefghabcdefghawdsdswtbsdsgtewrc\"\n",
    "table = maketrans(\"abcd\",\"#$%^\")\n",
    "\"\"\"\n",
    "a->#\n",
    "b->$\n",
    "c-%\n",
    "d-^\n",
    "e-e\n",
    "f-f\n",
    "g-g\n",
    "h-h\n",
    "\"\"\"\n",
    "s1=s.translate(table)\n",
    "print s1"
   ]
  },
  {
   "cell_type": "code",
   "execution_count": 15,
   "metadata": {},
   "outputs": [
    {
     "name": "stdout",
     "output_type": "stream",
     "text": [
      "abcdefghabcdefghabcdefghawdsdswtbsdsgtewrc\n"
     ]
    }
   ],
   "source": [
    "table_r = maketrans(\"#$%^\",\"abcd\")\n",
    "print s1.translate(table_r)"
   ]
  },
  {
   "cell_type": "code",
   "execution_count": null,
   "metadata": {
    "collapsed": true
   },
   "outputs": [],
   "source": []
  }
 ],
 "metadata": {
  "kernelspec": {
   "display_name": "Python 2",
   "language": "python",
   "name": "python2"
  },
  "language_info": {
   "codemirror_mode": {
    "name": "ipython",
    "version": 2
   },
   "file_extension": ".py",
   "mimetype": "text/x-python",
   "name": "python",
   "nbconvert_exporter": "python",
   "pygments_lexer": "ipython2",
   "version": "2.7.14"
  }
 },
 "nbformat": 4,
 "nbformat_minor": 2
}
