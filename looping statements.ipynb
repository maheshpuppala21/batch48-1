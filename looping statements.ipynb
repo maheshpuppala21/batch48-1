{
 "cells": [
  {
   "cell_type": "code",
   "execution_count": 2,
   "metadata": {},
   "outputs": [
    {
     "name": "stdout",
     "output_type": "stream",
     "text": [
      "st1\n",
      "st2\n",
      "st3\n",
      "st4\n",
      "st5\n"
     ]
    }
   ],
   "source": [
    "\"\"\"\n",
    "st1\n",
    "st2\n",
    "st3\n",
    "st4\n",
    "st5\n",
    "\"\"\"\n",
    "print \"st1\"\n",
    "print \"st2\"\n",
    "print \"st3\"\n",
    "print \"st4\"\n",
    "print \"st5\""
   ]
  },
  {
   "cell_type": "code",
   "execution_count": 3,
   "metadata": {},
   "outputs": [
    {
     "name": "stdout",
     "output_type": "stream",
     "text": [
      "st1\n",
      "st2\n",
      "st3\n",
      "st4\n",
      "st5\n"
     ]
    }
   ],
   "source": [
    "for i in range(1,6):\n",
    "    print \"st\"+str(i)"
   ]
  },
  {
   "cell_type": "code",
   "execution_count": 4,
   "metadata": {},
   "outputs": [
    {
     "name": "stdout",
     "output_type": "stream",
     "text": [
      "p\n"
     ]
    }
   ],
   "source": [
    "s=\"python\"\n",
    "print s[0]"
   ]
  },
  {
   "cell_type": "code",
   "execution_count": 5,
   "metadata": {},
   "outputs": [
    {
     "name": "stdout",
     "output_type": "stream",
     "text": [
      "n\n"
     ]
    }
   ],
   "source": [
    "print s[5]"
   ]
  },
  {
   "cell_type": "code",
   "execution_count": 6,
   "metadata": {},
   "outputs": [
    {
     "name": "stdout",
     "output_type": "stream",
     "text": [
      "program started\n",
      "0\n",
      "other statements in program\n",
      "program ended\n"
     ]
    }
   ],
   "source": [
    "print \"program started\"\n",
    "i=0\n",
    "if i<10:\n",
    "    print i\n",
    "    i=i+1\n",
    "print \"other statements in program\"\n",
    "print \"program ended\""
   ]
  },
  {
   "cell_type": "code",
   "execution_count": 7,
   "metadata": {},
   "outputs": [
    {
     "name": "stdout",
     "output_type": "stream",
     "text": [
      "program started\n",
      "0\n",
      "1\n",
      "2\n",
      "3\n",
      "4\n",
      "5\n",
      "6\n",
      "7\n",
      "8\n",
      "9\n",
      "other statements in program\n",
      "program ended\n"
     ]
    }
   ],
   "source": [
    "print \"program started\"\n",
    "i=0\n",
    "while i<10:\n",
    "    print i\n",
    "    i=i+1\n",
    "print \"other statements in program\"\n",
    "print \"program ended\""
   ]
  },
  {
   "cell_type": "code",
   "execution_count": 8,
   "metadata": {},
   "outputs": [
    {
     "name": "stdout",
     "output_type": "stream",
     "text": [
      "program started\n",
      "0\n",
      "other statements in program\n",
      "1\n",
      "other statements in program\n",
      "2\n",
      "other statements in program\n",
      "program ended\n"
     ]
    }
   ],
   "source": [
    "print \"program started\"\n",
    "i=0\n",
    "while i<3:\n",
    "    print i\n",
    "    i=i+1\n",
    "    print \"other statements in program\"\n",
    "print \"program ended\""
   ]
  },
  {
   "cell_type": "code",
   "execution_count": null,
   "metadata": {
    "collapsed": true
   },
   "outputs": [],
   "source": [
    "print \"program started\"\n",
    "i=0\n",
    "while i<3:\n",
    "    print i\n",
    "    i=i-1\n",
    "print \"other statements in program\"\n",
    "print \"program ended\""
   ]
  },
  {
   "cell_type": "code",
   "execution_count": 1,
   "metadata": {},
   "outputs": [
    {
     "name": "stdout",
     "output_type": "stream",
     "text": [
      "program started\n",
      "other statements in program\n",
      "program ended\n"
     ]
    }
   ],
   "source": [
    "print \"program started\"\n",
    "i=0\n",
    "while i>3:\n",
    "    print i\n",
    "    i=i+1\n",
    "print \"other statements in program\"\n",
    "print \"program ended\""
   ]
  },
  {
   "cell_type": "code",
   "execution_count": 2,
   "metadata": {},
   "outputs": [
    {
     "name": "stdout",
     "output_type": "stream",
     "text": [
      "program started\n",
      "i outside: 3\n",
      "other statements in program\n",
      "program ended\n"
     ]
    }
   ],
   "source": [
    "print \"program started\"\n",
    "i=0\n",
    "while i<3:\n",
    "    i=i+1\n",
    "print \"i outside:\",i\n",
    "print \"other statements in program\"\n",
    "print \"program ended\""
   ]
  },
  {
   "cell_type": "code",
   "execution_count": 3,
   "metadata": {},
   "outputs": [
    {
     "name": "stdout",
     "output_type": "stream",
     "text": [
      "p\n",
      "y\n",
      "t\n",
      "h\n",
      "o\n",
      "n\n"
     ]
    }
   ],
   "source": [
    "s=\"python\"\n",
    "print s[0]\n",
    "print s[1]\n",
    "print s[2]\n",
    "print s[3]\n",
    "print s[4]\n",
    "print s[5]"
   ]
  },
  {
   "cell_type": "code",
   "execution_count": 4,
   "metadata": {},
   "outputs": [
    {
     "name": "stdout",
     "output_type": "stream",
     "text": [
      "p\n",
      "y\n",
      "t\n",
      "h\n",
      "o\n",
      "n\n"
     ]
    }
   ],
   "source": [
    "s=\"python\"\n",
    "i=0\n",
    "while i<6:\n",
    "    print s[i]\n",
    "    i=i+1\n"
   ]
  },
  {
   "cell_type": "code",
   "execution_count": 5,
   "metadata": {},
   "outputs": [
    {
     "name": "stdout",
     "output_type": "stream",
     "text": [
      "Enter string to iterate:python program\n",
      "p\n",
      "y\n",
      "t\n",
      "h\n",
      "o\n",
      "n\n"
     ]
    }
   ],
   "source": [
    "s=raw_input(\"Enter string to iterate:\")\n",
    "i=0\n",
    "while i<6:\n",
    "    print s[i]\n",
    "    i=i+1"
   ]
  },
  {
   "cell_type": "code",
   "execution_count": 6,
   "metadata": {},
   "outputs": [
    {
     "name": "stdout",
     "output_type": "stream",
     "text": [
      "Enter string to iterate:python\n",
      "python\n",
      "6\n"
     ]
    }
   ],
   "source": [
    "s=raw_input(\"Enter string to iterate:\")\n",
    "print s\n",
    "print len(s)"
   ]
  },
  {
   "cell_type": "code",
   "execution_count": 7,
   "metadata": {},
   "outputs": [
    {
     "name": "stdout",
     "output_type": "stream",
     "text": [
      "Enter string to iterate:python program\n",
      "python program\n",
      "14\n"
     ]
    }
   ],
   "source": [
    "s=raw_input(\"Enter string to iterate:\")\n",
    "print s\n",
    "print len(s)"
   ]
  },
  {
   "cell_type": "code",
   "execution_count": 8,
   "metadata": {},
   "outputs": [
    {
     "name": "stdout",
     "output_type": "stream",
     "text": [
      "Enter string to iterate:qwerewr\n",
      "q\n",
      "w\n",
      "e\n",
      "r\n",
      "e\n",
      "w\n",
      "r\n"
     ]
    }
   ],
   "source": [
    "s=raw_input(\"Enter string to iterate:\")\n",
    "i=0\n",
    "d=len(s)\n",
    "while i<d:\n",
    "    print s[i]\n",
    "    i=i+1"
   ]
  },
  {
   "cell_type": "code",
   "execution_count": 9,
   "metadata": {},
   "outputs": [
    {
     "name": "stdout",
     "output_type": "stream",
     "text": [
      "Enter string to iterate:23456780987654321\n",
      "2\n",
      "3\n",
      "4\n",
      "5\n",
      "6\n",
      "7\n",
      "8\n",
      "0\n",
      "9\n",
      "8\n",
      "7\n",
      "6\n",
      "5\n",
      "4\n",
      "3\n",
      "2\n",
      "1\n"
     ]
    }
   ],
   "source": [
    "s=raw_input(\"Enter string to iterate:\")\n",
    "i=0\n",
    "d=len(s)\n",
    "while i<d:\n",
    "    print s[i]\n",
    "    i=i+1"
   ]
  },
  {
   "cell_type": "code",
   "execution_count": 11,
   "metadata": {},
   "outputs": [
    {
     "name": "stdout",
     "output_type": "stream",
     "text": [
      "Enter string to iterate:python program\n",
      "length of the give string: 14\n",
      "p\n",
      "y\n",
      "t\n",
      "h\n",
      "o\n",
      "n\n",
      " \n",
      "p\n",
      "r\n",
      "o\n",
      "g\n",
      "r\n",
      "a\n",
      "m\n"
     ]
    }
   ],
   "source": [
    "s=raw_input(\"Enter string to iterate:\")\n",
    "i=0\n",
    "d=len(s)\n",
    "print \"length of the give string:\",d\n",
    "while i<d:\n",
    "    print s[i]\n",
    "    i=i+1"
   ]
  },
  {
   "cell_type": "code",
   "execution_count": 12,
   "metadata": {},
   "outputs": [
    {
     "name": "stdout",
     "output_type": "stream",
     "text": [
      "Enter string to iterate:\n",
      "length of the give string: 0\n"
     ]
    }
   ],
   "source": [
    "s=raw_input(\"Enter string to iterate:\")\n",
    "i=0\n",
    "d=len(s)\n",
    "print \"length of the give string:\",d\n",
    "while i<d:\n",
    "    print s[i]\n",
    "    i=i+1"
   ]
  },
  {
   "cell_type": "code",
   "execution_count": 13,
   "metadata": {},
   "outputs": [
    {
     "name": "stdout",
     "output_type": "stream",
     "text": [
      "Enter string to iterate:\n",
      "length of the give string: 0\n",
      "please enter a valid string\n"
     ]
    }
   ],
   "source": [
    "#please enter a valid string\n",
    "s=raw_input(\"Enter string to iterate:\")\n",
    "i=0\n",
    "d=len(s)\n",
    "print \"length of the give string:\",d\n",
    "if d==0:\n",
    "    print \"please enter a valid string\"\n",
    "while i<d:\n",
    "    print s[i]\n",
    "    i=i+1"
   ]
  },
  {
   "cell_type": "code",
   "execution_count": 14,
   "metadata": {},
   "outputs": [
    {
     "name": "stdout",
     "output_type": "stream",
     "text": [
      "Enter string to iterate:python\n",
      "length of the give string: 6\n",
      "p\n",
      "y\n",
      "t\n",
      "h\n",
      "o\n",
      "n\n"
     ]
    }
   ],
   "source": [
    "#please enter a valid string\n",
    "s=raw_input(\"Enter string to iterate:\")\n",
    "i=0\n",
    "d=len(s)\n",
    "print \"length of the give string:\",d\n",
    "if d!=0:\n",
    "    while i<d:\n",
    "        print s[i]\n",
    "        i=i+1\n",
    "else:\n",
    "    print \"please enter a valid string\""
   ]
  },
  {
   "cell_type": "code",
   "execution_count": 15,
   "metadata": {},
   "outputs": [
    {
     "name": "stdout",
     "output_type": "stream",
     "text": [
      "Enter string to iterate:\n",
      "length of the give string: 0\n",
      "please enter a valid string\n"
     ]
    }
   ],
   "source": [
    "#please enter a valid string\n",
    "s=raw_input(\"Enter string to iterate:\")\n",
    "i=0\n",
    "d=len(s)\n",
    "print \"length of the give string:\",d\n",
    "if d!=0:\n",
    "    while i<d:\n",
    "        print s[i]\n",
    "        i=i+1\n",
    "else:\n",
    "    print \"please enter a valid string\""
   ]
  },
  {
   "cell_type": "code",
   "execution_count": 16,
   "metadata": {},
   "outputs": [
    {
     "name": "stdout",
     "output_type": "stream",
     "text": [
      "enter a string to iterate:python\n",
      "6\n"
     ]
    }
   ],
   "source": [
    "s=raw_input(\"enter a string to iterate:\")\n",
    "if len(s)>0:\n",
    "    print len(s)\n",
    "else:\n",
    "    print \"not a valid string.\""
   ]
  },
  {
   "cell_type": "code",
   "execution_count": 17,
   "metadata": {},
   "outputs": [
    {
     "name": "stdout",
     "output_type": "stream",
     "text": [
      "enter a string to iterate:\n",
      "not a valid string.\n"
     ]
    }
   ],
   "source": [
    "s=raw_input(\"enter a string to iterate:\")\n",
    "if len(s)>0:\n",
    "    print len(s)\n",
    "else:\n",
    "    print \"not a valid string.\""
   ]
  },
  {
   "cell_type": "code",
   "execution_count": 18,
   "metadata": {},
   "outputs": [
    {
     "name": "stdout",
     "output_type": "stream",
     "text": [
      "enter a string to iterate:python\n",
      "6\n"
     ]
    }
   ],
   "source": [
    "s=raw_input(\"enter a string to iterate:\")\n",
    "if s!=\"\":\n",
    "    print len(s)\n",
    "else:\n",
    "    print \"not a valid string.\""
   ]
  },
  {
   "cell_type": "code",
   "execution_count": 19,
   "metadata": {},
   "outputs": [
    {
     "name": "stdout",
     "output_type": "stream",
     "text": [
      "enter a string to iterate:\n",
      "not a valid string.\n"
     ]
    }
   ],
   "source": [
    "s=raw_input(\"enter a string to iterate:\")\n",
    "if s!=\"\":\n",
    "    print len(s)\n",
    "else:\n",
    "    print \"not a valid string.\""
   ]
  },
  {
   "cell_type": "code",
   "execution_count": 20,
   "metadata": {},
   "outputs": [
    {
     "name": "stdout",
     "output_type": "stream",
     "text": [
      "True\n",
      "<type 'bool'>\n"
     ]
    }
   ],
   "source": [
    "f=True\n",
    "print f\n",
    "print type(f)"
   ]
  },
  {
   "cell_type": "code",
   "execution_count": 21,
   "metadata": {},
   "outputs": [
    {
     "name": "stdout",
     "output_type": "stream",
     "text": [
      "True\n",
      "<type 'str'>\n"
     ]
    }
   ],
   "source": [
    "f=\"True\"\n",
    "print f\n",
    "print type(f)"
   ]
  },
  {
   "cell_type": "code",
   "execution_count": 22,
   "metadata": {},
   "outputs": [
    {
     "name": "stdout",
     "output_type": "stream",
     "text": [
      "2\n"
     ]
    }
   ],
   "source": [
    "print True+True"
   ]
  },
  {
   "cell_type": "code",
   "execution_count": 23,
   "metadata": {},
   "outputs": [
    {
     "name": "stdout",
     "output_type": "stream",
     "text": [
      "0\n"
     ]
    }
   ],
   "source": [
    "print True-True"
   ]
  },
  {
   "cell_type": "code",
   "execution_count": 24,
   "metadata": {},
   "outputs": [
    {
     "name": "stdout",
     "output_type": "stream",
     "text": [
      "1\n"
     ]
    }
   ],
   "source": [
    "print True-False"
   ]
  },
  {
   "cell_type": "code",
   "execution_count": 25,
   "metadata": {},
   "outputs": [
    {
     "name": "stdout",
     "output_type": "stream",
     "text": [
      "0\n"
     ]
    }
   ],
   "source": [
    "print True*False"
   ]
  },
  {
   "cell_type": "code",
   "execution_count": 26,
   "metadata": {},
   "outputs": [
    {
     "name": "stdout",
     "output_type": "stream",
     "text": [
      "1\n"
     ]
    }
   ],
   "source": [
    "print int(True)"
   ]
  },
  {
   "cell_type": "code",
   "execution_count": 27,
   "metadata": {},
   "outputs": [
    {
     "name": "stdout",
     "output_type": "stream",
     "text": [
      "True\n"
     ]
    }
   ],
   "source": [
    "print bool(1)"
   ]
  },
  {
   "cell_type": "code",
   "execution_count": 28,
   "metadata": {},
   "outputs": [
    {
     "name": "stdout",
     "output_type": "stream",
     "text": [
      "False\n"
     ]
    }
   ],
   "source": [
    "print bool(0)"
   ]
  },
  {
   "cell_type": "code",
   "execution_count": 29,
   "metadata": {},
   "outputs": [
    {
     "name": "stdout",
     "output_type": "stream",
     "text": [
      "True\n"
     ]
    }
   ],
   "source": [
    "print bool(1.0)"
   ]
  },
  {
   "cell_type": "code",
   "execution_count": 30,
   "metadata": {},
   "outputs": [
    {
     "name": "stdout",
     "output_type": "stream",
     "text": [
      "False\n"
     ]
    }
   ],
   "source": [
    "print bool(0.0)"
   ]
  },
  {
   "cell_type": "code",
   "execution_count": 31,
   "metadata": {},
   "outputs": [
    {
     "name": "stdout",
     "output_type": "stream",
     "text": [
      "True\n"
     ]
    }
   ],
   "source": [
    "print bool(0.1)"
   ]
  },
  {
   "cell_type": "code",
   "execution_count": 32,
   "metadata": {},
   "outputs": [
    {
     "name": "stdout",
     "output_type": "stream",
     "text": [
      "True\n"
     ]
    }
   ],
   "source": [
    "print bool(\"python\")"
   ]
  },
  {
   "cell_type": "code",
   "execution_count": 33,
   "metadata": {},
   "outputs": [
    {
     "name": "stdout",
     "output_type": "stream",
     "text": [
      "True\n"
     ]
    }
   ],
   "source": [
    "print bool([1,2,3,4,5])"
   ]
  },
  {
   "cell_type": "code",
   "execution_count": 34,
   "metadata": {},
   "outputs": [
    {
     "name": "stdout",
     "output_type": "stream",
     "text": [
      "True\n"
     ]
    }
   ],
   "source": [
    "print bool((1,2,3,4,5))"
   ]
  },
  {
   "cell_type": "code",
   "execution_count": 35,
   "metadata": {},
   "outputs": [
    {
     "name": "stdout",
     "output_type": "stream",
     "text": [
      "True\n"
     ]
    }
   ],
   "source": [
    "print bool({1,2,3,4})"
   ]
  },
  {
   "cell_type": "code",
   "execution_count": 36,
   "metadata": {},
   "outputs": [
    {
     "name": "stdout",
     "output_type": "stream",
     "text": [
      "True\n"
     ]
    }
   ],
   "source": [
    "print bool({1:2,3:4})"
   ]
  },
  {
   "cell_type": "code",
   "execution_count": 37,
   "metadata": {},
   "outputs": [
    {
     "name": "stdout",
     "output_type": "stream",
     "text": [
      "False\n"
     ]
    }
   ],
   "source": [
    "print bool(\"\")"
   ]
  },
  {
   "cell_type": "code",
   "execution_count": 38,
   "metadata": {},
   "outputs": [
    {
     "name": "stdout",
     "output_type": "stream",
     "text": [
      "False\n"
     ]
    }
   ],
   "source": [
    "print bool([])"
   ]
  },
  {
   "cell_type": "code",
   "execution_count": 39,
   "metadata": {},
   "outputs": [
    {
     "name": "stdout",
     "output_type": "stream",
     "text": [
      "False\n"
     ]
    }
   ],
   "source": [
    "print bool(())"
   ]
  },
  {
   "cell_type": "code",
   "execution_count": 40,
   "metadata": {},
   "outputs": [
    {
     "name": "stdout",
     "output_type": "stream",
     "text": [
      "False\n"
     ]
    }
   ],
   "source": [
    "print bool({})"
   ]
  },
  {
   "cell_type": "code",
   "execution_count": 41,
   "metadata": {},
   "outputs": [
    {
     "name": "stdout",
     "output_type": "stream",
     "text": [
      "True\n"
     ]
    }
   ],
   "source": [
    "print bool(\"0\")"
   ]
  },
  {
   "cell_type": "code",
   "execution_count": 42,
   "metadata": {},
   "outputs": [
    {
     "name": "stdout",
     "output_type": "stream",
     "text": [
      "True\n"
     ]
    }
   ],
   "source": [
    "print bool(1000)"
   ]
  },
  {
   "cell_type": "code",
   "execution_count": 43,
   "metadata": {},
   "outputs": [
    {
     "name": "stdout",
     "output_type": "stream",
     "text": [
      "True\n"
     ]
    }
   ],
   "source": [
    "print bool(-1000)"
   ]
  },
  {
   "cell_type": "code",
   "execution_count": 44,
   "metadata": {},
   "outputs": [
    {
     "name": "stdout",
     "output_type": "stream",
     "text": [
      "False\n"
     ]
    }
   ],
   "source": [
    "print bool(1>3)"
   ]
  },
  {
   "cell_type": "code",
   "execution_count": 45,
   "metadata": {},
   "outputs": [
    {
     "name": "stdout",
     "output_type": "stream",
     "text": [
      "False\n"
     ]
    }
   ],
   "source": [
    "print 1>3"
   ]
  },
  {
   "cell_type": "code",
   "execution_count": 46,
   "metadata": {},
   "outputs": [
    {
     "name": "stdout",
     "output_type": "stream",
     "text": [
      "enter a string to iterate:python\n",
      "6\n"
     ]
    }
   ],
   "source": [
    "s=raw_input(\"enter a string to iterate:\")\n",
    "if bool(s):\n",
    "    print len(s)\n",
    "else:\n",
    "    print \"not a valid string.\""
   ]
  },
  {
   "cell_type": "code",
   "execution_count": 47,
   "metadata": {},
   "outputs": [
    {
     "name": "stdout",
     "output_type": "stream",
     "text": [
      "enter a string to iterate:\n",
      "not a valid string.\n"
     ]
    }
   ],
   "source": [
    "s=raw_input(\"enter a string to iterate:\")\n",
    "if bool(s):\n",
    "    print len(s)\n",
    "else:\n",
    "    print \"not a valid string.\""
   ]
  },
  {
   "cell_type": "code",
   "execution_count": 48,
   "metadata": {},
   "outputs": [
    {
     "name": "stdout",
     "output_type": "stream",
     "text": [
      "enter a string to iterate:  h   j   k\n",
      "11\n"
     ]
    }
   ],
   "source": [
    "s=raw_input(\"enter a string to iterate:\")\n",
    "if bool(s):\n",
    "    print len(s)\n",
    "else:\n",
    "    print \"not a valid string.\""
   ]
  },
  {
   "cell_type": "code",
   "execution_count": 49,
   "metadata": {},
   "outputs": [
    {
     "name": "stdout",
     "output_type": "stream",
     "text": [
      "enter a string to iterate:       \n",
      "7\n"
     ]
    }
   ],
   "source": [
    "s=raw_input(\"enter a string to iterate:\")\n",
    "if bool(s):\n",
    "    print len(s)\n",
    "else:\n",
    "    print \"not a valid string.\""
   ]
  },
  {
   "cell_type": "code",
   "execution_count": 50,
   "metadata": {},
   "outputs": [
    {
     "name": "stdout",
     "output_type": "stream",
     "text": [
      "enter a string to iterate:  \n",
      "2\n"
     ]
    }
   ],
   "source": [
    "s=raw_input(\"enter a string to iterate:\")\n",
    "if bool(s):\n",
    "    print len(s)\n",
    "else:\n",
    "    print \"not a valid string.\""
   ]
  },
  {
   "cell_type": "code",
   "execution_count": 52,
   "metadata": {},
   "outputs": [
    {
     "name": "stdout",
     "output_type": "stream",
     "text": [
      "False\n"
     ]
    }
   ],
   "source": [
    "print bool(\"\")"
   ]
  },
  {
   "cell_type": "code",
   "execution_count": 53,
   "metadata": {},
   "outputs": [
    {
     "name": "stdout",
     "output_type": "stream",
     "text": [
      "True\n"
     ]
    }
   ],
   "source": [
    "print bool(\"  \")"
   ]
  },
  {
   "cell_type": "code",
   "execution_count": 55,
   "metadata": {},
   "outputs": [
    {
     "name": "stdout",
     "output_type": "stream",
     "text": [
      "False\n"
     ]
    }
   ],
   "source": [
    "print bool(  )"
   ]
  },
  {
   "cell_type": "code",
   "execution_count": 56,
   "metadata": {},
   "outputs": [
    {
     "name": "stdout",
     "output_type": "stream",
     "text": [
      "enter a string to iterate:python\n",
      "6\n"
     ]
    }
   ],
   "source": [
    "s=raw_input(\"enter a string to iterate:\")\n",
    "if s:\n",
    "    print len(s)\n",
    "else:\n",
    "    print \"not a valid string.\""
   ]
  },
  {
   "cell_type": "code",
   "execution_count": 57,
   "metadata": {},
   "outputs": [
    {
     "name": "stdout",
     "output_type": "stream",
     "text": [
      "enter a string to iterate:\n",
      "not a valid string.\n"
     ]
    }
   ],
   "source": [
    "s=raw_input(\"enter a string to iterate:\")\n",
    "if s:\n",
    "    print len(s)\n",
    "else:\n",
    "    print \"not a valid string.\""
   ]
  },
  {
   "cell_type": "code",
   "execution_count": 58,
   "metadata": {},
   "outputs": [
    {
     "name": "stdout",
     "output_type": "stream",
     "text": [
      "1 is true\n"
     ]
    }
   ],
   "source": [
    "if 1:\n",
    "    print \"1 is true\"\n",
    "else:\n",
    "    print \"1 is false\""
   ]
  },
  {
   "cell_type": "code",
   "execution_count": 59,
   "metadata": {},
   "outputs": [
    {
     "name": "stdout",
     "output_type": "stream",
     "text": [
      "0 is false\n"
     ]
    }
   ],
   "source": [
    "if 0:\n",
    "    print \"0 is true\"\n",
    "else:\n",
    "    print \"0 is false\""
   ]
  },
  {
   "cell_type": "code",
   "execution_count": 60,
   "metadata": {},
   "outputs": [
    {
     "name": "stdout",
     "output_type": "stream",
     "text": [
      "Enter string to iterate:\n",
      "length of the give string: 0\n",
      "please enter a valid string\n"
     ]
    }
   ],
   "source": [
    "#please enter a valid string\n",
    "s=raw_input(\"Enter string to iterate:\")\n",
    "i=0\n",
    "d=len(s)\n",
    "print \"length of the give string:\",d\n",
    "if s:\n",
    "    while i<d:\n",
    "        print s[i]\n",
    "        i=i+1\n",
    "else:\n",
    "    print \"please enter a valid string\""
   ]
  },
  {
   "cell_type": "code",
   "execution_count": 61,
   "metadata": {},
   "outputs": [
    {
     "name": "stdout",
     "output_type": "stream",
     "text": [
      "Enter string to iterate:   \n",
      "length of the give string: 3\n",
      " \n",
      " \n",
      " \n"
     ]
    }
   ],
   "source": [
    "#please enter a valid string\n",
    "s=raw_input(\"Enter string to iterate:\")\n",
    "i=0\n",
    "d=len(s)\n",
    "print \"length of the give string:\",d\n",
    "if s:\n",
    "    while i<d:\n",
    "        print s[i]\n",
    "        i=i+1\n",
    "else:\n",
    "    print \"please enter a valid string\""
   ]
  },
  {
   "cell_type": "code",
   "execution_count": null,
   "metadata": {
    "collapsed": true
   },
   "outputs": [],
   "source": [
    "#please enter a valid string\n",
    "s=raw_input(\"Enter string to iterate:\")\n",
    "i=0\n",
    "if s:\n",
    "    d=len(s)\n",
    "    print \"length of the give string:\",d\n",
    "    while i<d:\n",
    "        print s[i]\n",
    "        i=i+1\n",
    "else:\n",
    "    print \"please enter a valid string\""
   ]
  },
  {
   "cell_type": "code",
   "execution_count": 1,
   "metadata": {},
   "outputs": [
    {
     "name": "stdout",
     "output_type": "stream",
     "text": [
      "i outside the loop: 0\n"
     ]
    }
   ],
   "source": [
    "i=0\n",
    "while False:\n",
    "    i=i+1\n",
    "print \"i outside the loop:\",i"
   ]
  },
  {
   "cell_type": "code",
   "execution_count": 2,
   "metadata": {},
   "outputs": [
    {
     "name": "stdout",
     "output_type": "stream",
     "text": [
      "i outside the loop: 1\n"
     ]
    }
   ],
   "source": [
    "i=0\n",
    "if True:\n",
    "    i=i+1\n",
    "print \"i outside the loop:\",i"
   ]
  },
  {
   "cell_type": "code",
   "execution_count": null,
   "metadata": {
    "collapsed": true
   },
   "outputs": [],
   "source": [
    "i=0\n",
    "while True:\n",
    "    i=i+1\n",
    "print \"i outside the loop:\",i"
   ]
  },
  {
   "cell_type": "code",
   "execution_count": 3,
   "metadata": {},
   "outputs": [
    {
     "name": "stdout",
     "output_type": "stream",
     "text": [
      "0\n",
      "1\n",
      "2\n",
      "3\n",
      "4\n",
      "5\n",
      "6\n",
      "7\n",
      "8\n",
      "9\n"
     ]
    }
   ],
   "source": [
    "i=0 # initialization\n",
    "while i<10: # condition check\n",
    "    print i\n",
    "    i=i+1 # inc/dec\n",
    "# s=\"python\"\n",
    "# for i=0; s[i]!=\"\\0\"; i++:"
   ]
  },
  {
   "cell_type": "code",
   "execution_count": 4,
   "metadata": {},
   "outputs": [
    {
     "name": "stdout",
     "output_type": "stream",
     "text": [
      "p\n",
      "y\n",
      "t\n",
      "h\n",
      "o\n",
      "n\n"
     ]
    }
   ],
   "source": [
    "for i in \"python\":\n",
    "    print i"
   ]
  },
  {
   "cell_type": "code",
   "execution_count": 7,
   "metadata": {},
   "outputs": [
    {
     "name": "stdout",
     "output_type": "stream",
     "text": [
      "p\n",
      "y\n",
      "t\n",
      "h\n",
      "o\n",
      "n\n",
      "******************************\n",
      "p\n",
      "y\n",
      "t\n",
      "h\n",
      "o\n",
      "n\n"
     ]
    }
   ],
   "source": [
    "i=0\n",
    "s=\"python\"\n",
    "while i<len(s):\n",
    "    print s[i]\n",
    "    i=i+1\n",
    "print \"*\"*30\n",
    "for i in \"python\":\n",
    "    print i\n",
    "    "
   ]
  },
  {
   "cell_type": "code",
   "execution_count": 8,
   "metadata": {},
   "outputs": [
    {
     "name": "stdout",
     "output_type": "stream",
     "text": [
      "10\n",
      "20\n",
      "30.4\n",
      "python\n"
     ]
    }
   ],
   "source": [
    "for i in [10,20,30.4,\"python\"]:\n",
    "    print i"
   ]
  },
  {
   "cell_type": "code",
   "execution_count": 9,
   "metadata": {},
   "outputs": [
    {
     "name": "stdout",
     "output_type": "stream",
     "text": [
      "10\n",
      "20\n",
      "30.4\n",
      "python\n"
     ]
    }
   ],
   "source": [
    "for i in (10,20,30.4,\"python\"):\n",
    "    print i"
   ]
  },
  {
   "cell_type": "code",
   "execution_count": 10,
   "metadata": {},
   "outputs": [
    {
     "name": "stdout",
     "output_type": "stream",
     "text": [
      "python\n",
      "30.4\n",
      "10\n",
      "20\n"
     ]
    }
   ],
   "source": [
    "for i in {10,20,30.4,\"python\"}:\n",
    "    print i"
   ]
  },
  {
   "cell_type": "code",
   "execution_count": 11,
   "metadata": {},
   "outputs": [
    {
     "name": "stdout",
     "output_type": "stream",
     "text": [
      "1\n",
      "3\n",
      "5\n"
     ]
    }
   ],
   "source": [
    "for i in {1:2,3:4,5:6}:\n",
    "    print i"
   ]
  },
  {
   "cell_type": "code",
   "execution_count": 12,
   "metadata": {
    "collapsed": true
   },
   "outputs": [],
   "source": [
    "# nos sequnces\n",
    "s=10\n",
    "s=12.34\n",
    "s=1+2j\n",
    "b=True\n",
    "b=False\n",
    "c=None\n",
    "\n",
    "# sequences\n",
    "l=[1,2,3,4]\n",
    "s=\"python\"\n",
    "t=(1,2,3,4)\n",
    "s={1,2,3,4}\n",
    "d={1:2,3:4,5:6}\n",
    "s=\"10076866\""
   ]
  },
  {
   "cell_type": "code",
   "execution_count": 13,
   "metadata": {},
   "outputs": [
    {
     "name": "stdout",
     "output_type": "stream",
     "text": [
      "<type 'int'>\n",
      "<type 'int'>\n"
     ]
    }
   ],
   "source": [
    "a=10\n",
    "b=(10)\n",
    "print type(a)\n",
    "print type(b)"
   ]
  },
  {
   "cell_type": "code",
   "execution_count": 14,
   "metadata": {},
   "outputs": [
    {
     "name": "stdout",
     "output_type": "stream",
     "text": [
      "<type 'int'>\n",
      "<type 'tuple'>\n"
     ]
    }
   ],
   "source": [
    "a=10\n",
    "b=(10,)\n",
    "print type(a)\n",
    "print type(b)"
   ]
  },
  {
   "cell_type": "code",
   "execution_count": 15,
   "metadata": {},
   "outputs": [
    {
     "name": "stdout",
     "output_type": "stream",
     "text": [
      "10\n",
      "20\n",
      "30\n",
      "40\n"
     ]
    }
   ],
   "source": [
    "l=[10,20,30,40]\n",
    "i=20\n",
    "for k in l:\n",
    "    print k"
   ]
  },
  {
   "cell_type": "code",
   "execution_count": 16,
   "metadata": {},
   "outputs": [
    {
     "name": "stdout",
     "output_type": "stream",
     "text": [
      "found given value\n"
     ]
    }
   ],
   "source": [
    "l=[10,20,30,40]\n",
    "i=20\n",
    "for k in l:\n",
    "    if k==i:\n",
    "        print \"found given value\"\n"
   ]
  },
  {
   "cell_type": "code",
   "execution_count": 17,
   "metadata": {},
   "outputs": [
    {
     "name": "stdout",
     "output_type": "stream",
     "text": [
      "not found a given value\n",
      "found given value\n",
      "not found a given value\n",
      "not found a given value\n"
     ]
    }
   ],
   "source": [
    "l=[10,20,30,40]\n",
    "i=20\n",
    "for k in l:\n",
    "    if k==i:\n",
    "        print \"found given value\"\n",
    "    else:\n",
    "        print \"not found a given value\"\n"
   ]
  },
  {
   "cell_type": "code",
   "execution_count": 18,
   "metadata": {},
   "outputs": [
    {
     "name": "stdout",
     "output_type": "stream",
     "text": [
      "not found a given value\n",
      "not found a given value\n",
      "not found a given value\n",
      "not found a given value\n"
     ]
    }
   ],
   "source": [
    "l=[100,10,20,30,40,200]\n",
    "i=60\n",
    "for k in l:\n",
    "    if k==i:\n",
    "        print \"found given value\"\n",
    "    else:\n",
    "        print \"not found a given value\"\n"
   ]
  },
  {
   "cell_type": "code",
   "execution_count": 19,
   "metadata": {},
   "outputs": [
    {
     "name": "stdout",
     "output_type": "stream",
     "text": [
      "iteration started\n",
      "100\n",
      "iteration ended\n",
      "iteration started\n",
      "10\n",
      "iteration ended\n",
      "iteration started\n",
      "20\n",
      "iteration ended\n",
      "iteration started\n",
      "30\n",
      "iteration ended\n",
      "iteration started\n",
      "40\n",
      "iteration ended\n",
      "iteration started\n",
      "200\n",
      "iteration ended\n"
     ]
    }
   ],
   "source": [
    "l=[100,10,20,30,40,200]\n",
    "for i in l:\n",
    "    print \"iteration started\"\n",
    "    print i\n",
    "    print \"iteration ended\"\n"
   ]
  },
  {
   "cell_type": "code",
   "execution_count": 20,
   "metadata": {},
   "outputs": [
    {
     "name": "stdout",
     "output_type": "stream",
     "text": [
      "count : 2\n"
     ]
    }
   ],
   "source": [
    "l=[100,10,20,30,40,200,60,30,40,50,60,70,20,30,40,50]\n",
    "i=60\n",
    "count_i = 0\n",
    "for k in l:\n",
    "    if k==i:\n",
    "        count_i = count_i+1\n",
    "print \"count :\",count_i\n"
   ]
  },
  {
   "cell_type": "code",
   "execution_count": 21,
   "metadata": {},
   "outputs": [
    {
     "name": "stdout",
     "output_type": "stream",
     "text": [
      "count : 0\n"
     ]
    }
   ],
   "source": [
    "l=[100,10,20,30,40,200,60,30,40,50,60,70,20,30,40,50]\n",
    "i=60000\n",
    "count_i = 0\n",
    "for k in l:\n",
    "    if k==i:\n",
    "        count_i = count_i+1\n",
    "print \"count :\",count_i\n"
   ]
  },
  {
   "cell_type": "code",
   "execution_count": 22,
   "metadata": {},
   "outputs": [
    {
     "name": "stdout",
     "output_type": "stream",
     "text": [
      "count : 0\n",
      "element not found\n"
     ]
    }
   ],
   "source": [
    "l=[100,10,20,30,40,200,60,30,40,50,60,70,20,30,40,50]\n",
    "i=60000\n",
    "count_i = 0\n",
    "for k in l:\n",
    "    if k==i:\n",
    "        count_i = count_i+1\n",
    "print \"count :\",count_i\n",
    "if count_i==0:\n",
    "    print \"element not found\"\n",
    "else:\n",
    "    print \"element found\"\n"
   ]
  },
  {
   "cell_type": "code",
   "execution_count": 23,
   "metadata": {},
   "outputs": [
    {
     "name": "stdout",
     "output_type": "stream",
     "text": [
      "Enter element to search:20\n",
      "count : 2\n",
      "element found\n"
     ]
    }
   ],
   "source": [
    "l=[100,10,20,30,40,200,60,30,40,50,60,70,20,30,40,50]\n",
    "i=int(raw_input(\"Enter element to search:\"))\n",
    "count_i = 0\n",
    "for k in l:\n",
    "    if k==i:\n",
    "        count_i = count_i+1\n",
    "print \"count :\",count_i\n",
    "if count_i==0:\n",
    "    print \"element not found\"\n",
    "else:\n",
    "    print \"element found\"\n"
   ]
  },
  {
   "cell_type": "code",
   "execution_count": 24,
   "metadata": {},
   "outputs": [
    {
     "name": "stdout",
     "output_type": "stream",
     "text": [
      "Enter element to search:400\n",
      "count : 0\n",
      "element not found\n"
     ]
    }
   ],
   "source": [
    "l=[100,10,20,30,40,200,60,30,40,50,60,70,20,30,40,50]\n",
    "i=int(raw_input(\"Enter element to search:\"))\n",
    "count_i = 0\n",
    "for k in l:\n",
    "    if k==i:\n",
    "        count_i = count_i+1\n",
    "print \"count :\",count_i\n",
    "if count_i==0:\n",
    "    print \"element not found\"\n",
    "else:\n",
    "    print \"element found\"\n"
   ]
  },
  {
   "cell_type": "code",
   "execution_count": 25,
   "metadata": {},
   "outputs": [
    {
     "name": "stdout",
     "output_type": "stream",
     "text": [
      "True\n"
     ]
    }
   ],
   "source": [
    "l=[100,10,20,30,40,200,60,30,40,50,60,70,20,30,40,50]\n",
    "print 10 in l"
   ]
  },
  {
   "cell_type": "code",
   "execution_count": 26,
   "metadata": {},
   "outputs": [
    {
     "name": "stdout",
     "output_type": "stream",
     "text": [
      "enter an element to search:20\n",
      "verifying  20 with 1\n",
      "verifying  20 with 2\n",
      "verifying  20 with 3\n",
      "verifying  20 with 6\n",
      "verifying  20 with 7\n",
      "verifying  20 with 8\n",
      "verifying  20 with 10\n",
      "verifying  20 with 32\n",
      "verifying  20 with -20\n",
      "verifying  20 with 89\n",
      "verifying  20 with -45\n",
      "verifying  20 with 67\n",
      "verifying  20 with 58\n"
     ]
    }
   ],
   "source": [
    "l=[1,2,3,6,7,8,10,32,-20,89,-45,67,58]\n",
    "element_search = raw_input(\"enter an element to search:\")\n",
    "for i in l:\n",
    "    print \"verifying \",element_search,\"with\",i"
   ]
  },
  {
   "cell_type": "code",
   "execution_count": 27,
   "metadata": {},
   "outputs": [
    {
     "name": "stdout",
     "output_type": "stream",
     "text": [
      "enter an element to search:20\n",
      "verifying  20 with 1\n",
      "False\n",
      "verifying  20 with 2\n",
      "False\n",
      "verifying  20 with 3\n",
      "False\n",
      "verifying  20 with 6\n",
      "False\n",
      "verifying  20 with 7\n",
      "False\n",
      "verifying  20 with 8\n",
      "False\n",
      "verifying  20 with 10\n",
      "False\n",
      "verifying  20 with 32\n",
      "False\n",
      "verifying  20 with -20\n",
      "False\n",
      "verifying  20 with 89\n",
      "False\n",
      "verifying  20 with -45\n",
      "False\n",
      "verifying  20 with 67\n",
      "False\n",
      "verifying  20 with 58\n",
      "False\n"
     ]
    }
   ],
   "source": [
    "l=[1,2,3,6,7,8,10,32,-20,89,-45,67,58]\n",
    "element_search = raw_input(\"enter an element to search:\")\n",
    "for i in l:\n",
    "    print \"verifying \",element_search,\"with\",i\n",
    "    print element_search==i"
   ]
  },
  {
   "cell_type": "code",
   "execution_count": 28,
   "metadata": {},
   "outputs": [
    {
     "name": "stdout",
     "output_type": "stream",
     "text": [
      "enter an element to search:8\n",
      "verifying  8 with 1\n",
      "False\n",
      "verifying  8 with 2\n",
      "False\n",
      "verifying  8 with 3\n",
      "False\n",
      "verifying  8 with 6\n",
      "False\n",
      "verifying  8 with 7\n",
      "False\n",
      "verifying  8 with 8\n",
      "False\n",
      "verifying  8 with 10\n",
      "False\n",
      "verifying  8 with 32\n",
      "False\n",
      "verifying  8 with -20\n",
      "False\n",
      "verifying  8 with 89\n",
      "False\n",
      "verifying  8 with -45\n",
      "False\n",
      "verifying  8 with 67\n",
      "False\n",
      "verifying  8 with 58\n",
      "False\n"
     ]
    }
   ],
   "source": [
    "l=[1,2,3,6,7,8,10,32,-20,89,-45,67,58]\n",
    "element_search = raw_input(\"enter an element to search:\")\n",
    "for i in l:\n",
    "    print \"verifying \",element_search,\"with\",i\n",
    "    print element_search==i"
   ]
  },
  {
   "cell_type": "code",
   "execution_count": 29,
   "metadata": {},
   "outputs": [
    {
     "name": "stdout",
     "output_type": "stream",
     "text": [
      "enter an element to search:8\n",
      "verifying  8 with 1\n",
      "False\n",
      "verifying  8 with 2\n",
      "False\n",
      "verifying  8 with 3\n",
      "False\n",
      "verifying  8 with 6\n",
      "False\n",
      "verifying  8 with 7\n",
      "False\n",
      "verifying  8 with 8\n",
      "True\n",
      "verifying  8 with 10\n",
      "False\n",
      "verifying  8 with 32\n",
      "False\n",
      "verifying  8 with -20\n",
      "False\n",
      "verifying  8 with 89\n",
      "False\n",
      "verifying  8 with -45\n",
      "False\n",
      "verifying  8 with 67\n",
      "False\n",
      "verifying  8 with 58\n",
      "False\n"
     ]
    }
   ],
   "source": [
    "l=[1,2,3,6,7,8,10,32,-20,89,-45,67,58]\n",
    "element_search = int(raw_input(\"enter an element to search:\"))\n",
    "for i in l:\n",
    "    print \"verifying \",element_search,\"with\",i\n",
    "    print element_search==i"
   ]
  },
  {
   "cell_type": "code",
   "execution_count": 30,
   "metadata": {},
   "outputs": [
    {
     "name": "stdout",
     "output_type": "stream",
     "text": [
      "enter an element to search:8\n",
      "verifying  8 with 1\n",
      "verifying  8 with 2\n",
      "verifying  8 with 3\n",
      "verifying  8 with 6\n",
      "verifying  8 with 7\n",
      "verifying  8 with 8\n",
      "incremented count value to 1\n",
      "verifying  8 with 10\n",
      "verifying  8 with 32\n",
      "verifying  8 with -20\n",
      "verifying  8 with 89\n",
      "verifying  8 with -45\n",
      "verifying  8 with 67\n",
      "verifying  8 with 58\n",
      "verifying  8 with 8\n",
      "incremented count value to 2\n",
      "verifying  8 with 8\n",
      "incremented count value to 3\n",
      "verifying  8 with 2\n",
      "verifying  8 with 3\n",
      "verifying  8 with 6\n",
      "verifying  8 with 7\n",
      "verifying  8 with 10\n",
      "verifying  8 with 32\n",
      "verifying  8 with -20\n"
     ]
    }
   ],
   "source": [
    "l=[1,2,3,6,7,8,10,32,-20,89,-45,67,58,8,8,2,3,6,7,10,32,-20]\n",
    "element_search = int(raw_input(\"enter an element to search:\"))\n",
    "c=0\n",
    "for i in l:\n",
    "    print \"verifying \",element_search,\"with\",i\n",
    "    if element_search==i:\n",
    "        c=c+1\n",
    "        print \"incremented count value to\",c\n",
    "\n",
    "        "
   ]
  },
  {
   "cell_type": "code",
   "execution_count": 31,
   "metadata": {},
   "outputs": [
    {
     "name": "stdout",
     "output_type": "stream",
     "text": [
      "enter an element to search:8\n",
      "verifying  8 with 1\n",
      "verifying  8 with 2\n",
      "verifying  8 with 3\n",
      "verifying  8 with 6\n",
      "verifying  8 with 7\n",
      "verifying  8 with 8\n",
      "incremented count value to 1\n",
      "verifying  8 with 10\n",
      "verifying  8 with 32\n",
      "verifying  8 with -20\n",
      "verifying  8 with 89\n",
      "verifying  8 with -45\n",
      "verifying  8 with 67\n",
      "verifying  8 with 58\n",
      "verifying  8 with 8\n",
      "incremented count value to 2\n",
      "verifying  8 with 8\n",
      "incremented count value to 3\n",
      "verifying  8 with 2\n",
      "verifying  8 with 3\n",
      "verifying  8 with 6\n",
      "verifying  8 with 7\n",
      "verifying  8 with 10\n",
      "verifying  8 with 32\n",
      "verifying  8 with -20\n",
      "after loop c= 3\n"
     ]
    }
   ],
   "source": [
    "l=[1,2,3,6,7,8,10,32,-20,89,-45,67,58,8,8,2,3,6,7,10,32,-20]\n",
    "element_search = int(raw_input(\"enter an element to search:\"))\n",
    "c=0\n",
    "for i in l:\n",
    "    print \"verifying \",element_search,\"with\",i\n",
    "    if element_search==i:\n",
    "        c=c+1\n",
    "        print \"incremented count value to\",c\n",
    "print \"after loop c=\",c"
   ]
  },
  {
   "cell_type": "code",
   "execution_count": 32,
   "metadata": {},
   "outputs": [
    {
     "name": "stdout",
     "output_type": "stream",
     "text": [
      "enter an element to search:69\n",
      "verifying  69 with 1\n",
      "verifying  69 with 2\n",
      "verifying  69 with 3\n",
      "verifying  69 with 6\n",
      "verifying  69 with 7\n",
      "verifying  69 with 8\n",
      "verifying  69 with 10\n",
      "verifying  69 with 32\n",
      "verifying  69 with -20\n",
      "verifying  69 with 89\n",
      "verifying  69 with -45\n",
      "verifying  69 with 67\n",
      "verifying  69 with 58\n",
      "verifying  69 with 8\n",
      "verifying  69 with 8\n",
      "verifying  69 with 2\n",
      "verifying  69 with 3\n",
      "verifying  69 with 6\n",
      "verifying  69 with 7\n",
      "verifying  69 with 10\n",
      "verifying  69 with 32\n",
      "verifying  69 with -20\n",
      "after loop c= 0\n"
     ]
    }
   ],
   "source": [
    "l=[1,2,3,6,7,8,10,32,-20,89,-45,67,58,8,8,2,3,6,7,10,32,-20]\n",
    "element_search = int(raw_input(\"enter an element to search:\"))\n",
    "c=0\n",
    "for i in l:\n",
    "    print \"verifying \",element_search,\"with\",i\n",
    "    if element_search==i:\n",
    "        c=c+1\n",
    "        print \"incremented count value to\",c\n",
    "print \"after loop c=\",c"
   ]
  },
  {
   "cell_type": "code",
   "execution_count": 34,
   "metadata": {},
   "outputs": [
    {
     "name": "stdout",
     "output_type": "stream",
     "text": [
      "enter an element to search:8\n",
      "verifying  8 with 1\n",
      "verifying  8 with 2\n",
      "verifying  8 with 3\n",
      "verifying  8 with 6\n",
      "verifying  8 with 7\n",
      "verifying  8 with 8\n",
      "incremented count value to 1\n",
      "verifying  8 with 10\n",
      "verifying  8 with 32\n",
      "verifying  8 with -20\n",
      "verifying  8 with 89\n",
      "verifying  8 with -45\n",
      "verifying  8 with 67\n",
      "verifying  8 with 58\n",
      "verifying  8 with 8\n",
      "incremented count value to 2\n",
      "verifying  8 with 8\n",
      "incremented count value to 3\n",
      "verifying  8 with 2\n",
      "verifying  8 with 3\n",
      "verifying  8 with 6\n",
      "verifying  8 with 7\n",
      "verifying  8 with 10\n",
      "verifying  8 with 32\n",
      "verifying  8 with -20\n",
      "after loop c= 3\n",
      "find the element\n"
     ]
    }
   ],
   "source": [
    "l=[1,2,3,6,7,8,10,32,-20,89,-45,67,58,8,8,2,3,6,7,10,32,-20]\n",
    "element_search = int(raw_input(\"enter an element to search:\"))\n",
    "c=0\n",
    "for i in l:\n",
    "    print \"verifying \",element_search,\"with\",i\n",
    "    if element_search==i:\n",
    "        c=c+1\n",
    "        print \"incremented count value to\",c\n",
    "print \"after loop c=\",c\n",
    "if c==0:\n",
    "    print \"not find the element\"\n",
    "else:\n",
    "    print \"find the element\"\n",
    "    "
   ]
  },
  {
   "cell_type": "code",
   "execution_count": null,
   "metadata": {
    "collapsed": true
   },
   "outputs": [],
   "source": [
    "l=[1,2,3,6,7,8,10,32,-20,89,-45,67,58,8,8,2,3,6,7,10,32,-20]\n",
    "element_search = int(raw_input(\"enter an element to search:\"))\n",
    "c=0\n",
    "for i in l:\n",
    "    print \"verifying \",element_search,\"with\",i\n",
    "    if element_search==i:\n",
    "        c=c+1\n",
    "        print \"incremented count value to\",c\n",
    "print \"after loop c=\",c\n",
    "if c==0:\n",
    "    print \"not find the element\"\n",
    "else:\n",
    "    print \"find the element\"\n",
    "    "
   ]
  },
  {
   "cell_type": "code",
   "execution_count": 35,
   "metadata": {},
   "outputs": [
    {
     "name": "stdout",
     "output_type": "stream",
     "text": [
      "number of vowels in s is 18\n"
     ]
    }
   ],
   "source": [
    "s=\"python is a pure object oriented programing language\"\n",
    "# vowels means: a e i o u\n",
    "c=0\n",
    "for i in s:\n",
    "    if i==\"a\" or i==\"e\" or i==\"i\" or i==\"o\" or i==\"u\":\n",
    "        c=c+1\n",
    "print \"number of vowels in s is\",c\n",
    "        "
   ]
  },
  {
   "cell_type": "code",
   "execution_count": 36,
   "metadata": {},
   "outputs": [
    {
     "name": "stdout",
     "output_type": "stream",
     "text": [
      "number of vowels in s is 0\n",
      "number of vowels in s is 0\n",
      "number of vowels in s is 0\n",
      "number of vowels in s is 0\n",
      "number of vowels in s is 1\n",
      "number of vowels in s is 1\n",
      "number of vowels in s is 1\n",
      "number of vowels in s is 2\n",
      "number of vowels in s is 2\n",
      "number of vowels in s is 2\n",
      "number of vowels in s is 3\n",
      "number of vowels in s is 3\n",
      "number of vowels in s is 3\n",
      "number of vowels in s is 4\n",
      "number of vowels in s is 4\n",
      "number of vowels in s is 5\n",
      "number of vowels in s is 5\n",
      "number of vowels in s is 6\n",
      "number of vowels in s is 6\n",
      "number of vowels in s is 6\n",
      "number of vowels in s is 7\n",
      "number of vowels in s is 7\n",
      "number of vowels in s is 7\n",
      "number of vowels in s is 7\n",
      "number of vowels in s is 8\n",
      "number of vowels in s is 8\n",
      "number of vowels in s is 9\n",
      "number of vowels in s is 10\n",
      "number of vowels in s is 10\n",
      "number of vowels in s is 10\n",
      "number of vowels in s is 11\n",
      "number of vowels in s is 11\n",
      "number of vowels in s is 11\n",
      "number of vowels in s is 11\n",
      "number of vowels in s is 11\n",
      "number of vowels in s is 12\n",
      "number of vowels in s is 12\n",
      "number of vowels in s is 12\n",
      "number of vowels in s is 13\n",
      "number of vowels in s is 13\n",
      "number of vowels in s is 14\n",
      "number of vowels in s is 14\n",
      "number of vowels in s is 14\n",
      "number of vowels in s is 14\n",
      "number of vowels in s is 14\n",
      "number of vowels in s is 15\n",
      "number of vowels in s is 15\n",
      "number of vowels in s is 15\n",
      "number of vowels in s is 16\n",
      "number of vowels in s is 17\n",
      "number of vowels in s is 17\n",
      "number of vowels in s is 18\n"
     ]
    }
   ],
   "source": [
    "s=\"python is a pure object oriented programing language\"\n",
    "# vowels means: a e i o u\n",
    "c=0\n",
    "for i in s:\n",
    "    if i==\"a\" or i==\"e\" or i==\"i\" or i==\"o\" or i==\"u\":\n",
    "        c=c+1\n",
    "    print \"number of vowels in s is\",c\n",
    "        "
   ]
  },
  {
   "cell_type": "code",
   "execution_count": 37,
   "metadata": {},
   "outputs": [
    {
     "name": "stdout",
     "output_type": "stream",
     "text": [
      "0\n"
     ]
    }
   ],
   "source": [
    "l=[10,20,30,23,45,67,89]\n",
    "a=20\n",
    "print 20%2"
   ]
  },
  {
   "cell_type": "code",
   "execution_count": 38,
   "metadata": {},
   "outputs": [
    {
     "name": "stdout",
     "output_type": "stream",
     "text": [
      "3\n"
     ]
    }
   ],
   "source": [
    "print 13%5"
   ]
  },
  {
   "cell_type": "code",
   "execution_count": 39,
   "metadata": {},
   "outputs": [
    {
     "name": "stdout",
     "output_type": "stream",
     "text": [
      "even number\n"
     ]
    }
   ],
   "source": [
    "a=20\n",
    "if a%2==0:\n",
    "    print \"even number\"\n",
    "else:\n",
    "    print \"odd number\""
   ]
  },
  {
   "cell_type": "code",
   "execution_count": 40,
   "metadata": {},
   "outputs": [
    {
     "name": "stdout",
     "output_type": "stream",
     "text": [
      "10\n",
      "20\n",
      "30\n",
      "23\n",
      "45\n",
      "67\n",
      "89\n"
     ]
    }
   ],
   "source": [
    "l=[10,20,30,23,45,67,89]\n",
    "for i in l:\n",
    "    print i"
   ]
  },
  {
   "cell_type": "code",
   "execution_count": 41,
   "metadata": {},
   "outputs": [
    {
     "name": "stdout",
     "output_type": "stream",
     "text": [
      "10\n",
      "even number\n",
      "20\n",
      "even number\n",
      "30\n",
      "even number\n",
      "23\n",
      "odd number\n",
      "45\n",
      "odd number\n",
      "67\n",
      "odd number\n",
      "89\n",
      "odd number\n"
     ]
    }
   ],
   "source": [
    "l=[10,20,30,23,45,67,89]\n",
    "for i in l:\n",
    "    print i\n",
    "    if i%2==0:\n",
    "        print \"even number\"\n",
    "    else:\n",
    "        print \"odd number\""
   ]
  },
  {
   "cell_type": "code",
   "execution_count": 42,
   "metadata": {},
   "outputs": [
    {
     "name": "stdout",
     "output_type": "stream",
     "text": [
      "even count= 3\n",
      "odd count= 4\n"
     ]
    }
   ],
   "source": [
    "l=[10,20,30,23,45,67,89]\n",
    "even_c = 0\n",
    "odd_c=0\n",
    "for i in l:\n",
    "    if i%2==0:\n",
    "        even_c = even_c+1\n",
    "    else:\n",
    "        odd_c = odd_c+1\n",
    "print \"even count=\",even_c\n",
    "print \"odd count=\",odd_c"
   ]
  },
  {
   "cell_type": "code",
   "execution_count": 44,
   "metadata": {},
   "outputs": [
    {
     "name": "stdout",
     "output_type": "stream",
     "text": [
      "49\n"
     ]
    }
   ],
   "source": [
    "#145\n",
    "# 1**3+4**3+5**3==145\n",
    "# 23\n",
    "# 2**2+3**2==23\n",
    "\n",
    "print ord(\"1\")"
   ]
  },
  {
   "cell_type": "code",
   "execution_count": 45,
   "metadata": {},
   "outputs": [
    {
     "name": "stdout",
     "output_type": "stream",
     "text": [
      "57\n"
     ]
    }
   ],
   "source": [
    "print ord(\"9\")"
   ]
  },
  {
   "cell_type": "code",
   "execution_count": 46,
   "metadata": {},
   "outputs": [
    {
     "data": {
      "text/plain": [
       "97"
      ]
     },
     "execution_count": 46,
     "metadata": {},
     "output_type": "execute_result"
    }
   ],
   "source": [
    "ord(\"a\")"
   ]
  },
  {
   "cell_type": "code",
   "execution_count": 47,
   "metadata": {},
   "outputs": [
    {
     "data": {
      "text/plain": [
       "122"
      ]
     },
     "execution_count": 47,
     "metadata": {},
     "output_type": "execute_result"
    }
   ],
   "source": [
    "ord(\"z\")"
   ]
  },
  {
   "cell_type": "code",
   "execution_count": 48,
   "metadata": {},
   "outputs": [
    {
     "name": "stdout",
     "output_type": "stream",
     "text": [
      "its not a digit\n"
     ]
    }
   ],
   "source": [
    "s=\"z\"\n",
    "if ord(s)>=49 and ord(s)<=57:\n",
    "    print \"its a digit\"\n",
    "else:\n",
    "    print \"its not a digit\""
   ]
  },
  {
   "cell_type": "code",
   "execution_count": 49,
   "metadata": {},
   "outputs": [
    {
     "name": "stdout",
     "output_type": "stream",
     "text": [
      "its a digit\n"
     ]
    }
   ],
   "source": [
    "s=\"9\"\n",
    "if ord(s)>=49 and ord(s)<=57:\n",
    "    print \"its a digit\"\n",
    "else:\n",
    "    print \"its not a digit\""
   ]
  },
  {
   "cell_type": "code",
   "execution_count": 50,
   "metadata": {},
   "outputs": [
    {
     "name": "stdout",
     "output_type": "stream",
     "text": [
      "its a digit\n",
      "its a digit\n",
      "its a digit\n",
      "its not a digit\n",
      "its not a digit\n",
      "its not a digit\n",
      "its not a digit\n",
      "its not a digit\n",
      "its not a digit\n",
      "its a digit\n",
      "its a digit\n",
      "its a digit\n",
      "its a digit\n",
      "its not a digit\n",
      "its not a digit\n",
      "its a digit\n",
      "its a digit\n",
      "its a digit\n"
     ]
    }
   ],
   "source": [
    "s=\"912etgerw3214et235\"\n",
    "for i in s:\n",
    "    if ord(i)>=49 and ord(i)<=57:\n",
    "        print \"its a digit\"\n",
    "    else:\n",
    "        print \"its not a digit\""
   ]
  },
  {
   "cell_type": "code",
   "execution_count": null,
   "metadata": {
    "collapsed": true
   },
   "outputs": [],
   "source": []
  }
 ],
 "metadata": {
  "kernelspec": {
   "display_name": "Python 2",
   "language": "python",
   "name": "python2"
  },
  "language_info": {
   "codemirror_mode": {
    "name": "ipython",
    "version": 2
   },
   "file_extension": ".py",
   "mimetype": "text/x-python",
   "name": "python",
   "nbconvert_exporter": "python",
   "pygments_lexer": "ipython2",
   "version": "2.7.14"
  }
 },
 "nbformat": 4,
 "nbformat_minor": 2
}
