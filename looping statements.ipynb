{
 "cells": [
  {
   "cell_type": "code",
   "execution_count": 2,
   "metadata": {},
   "outputs": [
    {
     "name": "stdout",
     "output_type": "stream",
     "text": [
      "st1\n",
      "st2\n",
      "st3\n",
      "st4\n",
      "st5\n"
     ]
    }
   ],
   "source": [
    "\"\"\"\n",
    "st1\n",
    "st2\n",
    "st3\n",
    "st4\n",
    "st5\n",
    "\"\"\"\n",
    "print \"st1\"\n",
    "print \"st2\"\n",
    "print \"st3\"\n",
    "print \"st4\"\n",
    "print \"st5\""
   ]
  },
  {
   "cell_type": "code",
   "execution_count": 3,
   "metadata": {},
   "outputs": [
    {
     "name": "stdout",
     "output_type": "stream",
     "text": [
      "st1\n",
      "st2\n",
      "st3\n",
      "st4\n",
      "st5\n"
     ]
    }
   ],
   "source": [
    "for i in range(1,6):\n",
    "    print \"st\"+str(i)"
   ]
  },
  {
   "cell_type": "code",
   "execution_count": 4,
   "metadata": {},
   "outputs": [
    {
     "name": "stdout",
     "output_type": "stream",
     "text": [
      "p\n"
     ]
    }
   ],
   "source": [
    "s=\"python\"\n",
    "print s[0]"
   ]
  },
  {
   "cell_type": "code",
   "execution_count": 5,
   "metadata": {},
   "outputs": [
    {
     "name": "stdout",
     "output_type": "stream",
     "text": [
      "n\n"
     ]
    }
   ],
   "source": [
    "print s[5]"
   ]
  },
  {
   "cell_type": "code",
   "execution_count": 6,
   "metadata": {},
   "outputs": [
    {
     "name": "stdout",
     "output_type": "stream",
     "text": [
      "program started\n",
      "0\n",
      "other statements in program\n",
      "program ended\n"
     ]
    }
   ],
   "source": [
    "print \"program started\"\n",
    "i=0\n",
    "if i<10:\n",
    "    print i\n",
    "    i=i+1\n",
    "print \"other statements in program\"\n",
    "print \"program ended\""
   ]
  },
  {
   "cell_type": "code",
   "execution_count": 7,
   "metadata": {},
   "outputs": [
    {
     "name": "stdout",
     "output_type": "stream",
     "text": [
      "program started\n",
      "0\n",
      "1\n",
      "2\n",
      "3\n",
      "4\n",
      "5\n",
      "6\n",
      "7\n",
      "8\n",
      "9\n",
      "other statements in program\n",
      "program ended\n"
     ]
    }
   ],
   "source": [
    "print \"program started\"\n",
    "i=0\n",
    "while i<10:\n",
    "    print i\n",
    "    i=i+1\n",
    "print \"other statements in program\"\n",
    "print \"program ended\""
   ]
  },
  {
   "cell_type": "code",
   "execution_count": 8,
   "metadata": {},
   "outputs": [
    {
     "name": "stdout",
     "output_type": "stream",
     "text": [
      "program started\n",
      "0\n",
      "other statements in program\n",
      "1\n",
      "other statements in program\n",
      "2\n",
      "other statements in program\n",
      "program ended\n"
     ]
    }
   ],
   "source": [
    "print \"program started\"\n",
    "i=0\n",
    "while i<3:\n",
    "    print i\n",
    "    i=i+1\n",
    "    print \"other statements in program\"\n",
    "print \"program ended\""
   ]
  },
  {
   "cell_type": "code",
   "execution_count": null,
   "metadata": {
    "collapsed": true
   },
   "outputs": [],
   "source": [
    "print \"program started\"\n",
    "i=0\n",
    "while i<3:\n",
    "    print i\n",
    "    i=i-1\n",
    "print \"other statements in program\"\n",
    "print \"program ended\""
   ]
  },
  {
   "cell_type": "code",
   "execution_count": 1,
   "metadata": {},
   "outputs": [
    {
     "name": "stdout",
     "output_type": "stream",
     "text": [
      "program started\n",
      "other statements in program\n",
      "program ended\n"
     ]
    }
   ],
   "source": [
    "print \"program started\"\n",
    "i=0\n",
    "while i>3:\n",
    "    print i\n",
    "    i=i+1\n",
    "print \"other statements in program\"\n",
    "print \"program ended\""
   ]
  },
  {
   "cell_type": "code",
   "execution_count": 2,
   "metadata": {},
   "outputs": [
    {
     "name": "stdout",
     "output_type": "stream",
     "text": [
      "program started\n",
      "i outside: 3\n",
      "other statements in program\n",
      "program ended\n"
     ]
    }
   ],
   "source": [
    "print \"program started\"\n",
    "i=0\n",
    "while i<3:\n",
    "    i=i+1\n",
    "print \"i outside:\",i\n",
    "print \"other statements in program\"\n",
    "print \"program ended\""
   ]
  },
  {
   "cell_type": "code",
   "execution_count": 3,
   "metadata": {},
   "outputs": [
    {
     "name": "stdout",
     "output_type": "stream",
     "text": [
      "p\n",
      "y\n",
      "t\n",
      "h\n",
      "o\n",
      "n\n"
     ]
    }
   ],
   "source": [
    "s=\"python\"\n",
    "print s[0]\n",
    "print s[1]\n",
    "print s[2]\n",
    "print s[3]\n",
    "print s[4]\n",
    "print s[5]"
   ]
  },
  {
   "cell_type": "code",
   "execution_count": 4,
   "metadata": {},
   "outputs": [
    {
     "name": "stdout",
     "output_type": "stream",
     "text": [
      "p\n",
      "y\n",
      "t\n",
      "h\n",
      "o\n",
      "n\n"
     ]
    }
   ],
   "source": [
    "s=\"python\"\n",
    "i=0\n",
    "while i<6:\n",
    "    print s[i]\n",
    "    i=i+1\n"
   ]
  },
  {
   "cell_type": "code",
   "execution_count": 5,
   "metadata": {},
   "outputs": [
    {
     "name": "stdout",
     "output_type": "stream",
     "text": [
      "Enter string to iterate:python program\n",
      "p\n",
      "y\n",
      "t\n",
      "h\n",
      "o\n",
      "n\n"
     ]
    }
   ],
   "source": [
    "s=raw_input(\"Enter string to iterate:\")\n",
    "i=0\n",
    "while i<6:\n",
    "    print s[i]\n",
    "    i=i+1"
   ]
  },
  {
   "cell_type": "code",
   "execution_count": 6,
   "metadata": {},
   "outputs": [
    {
     "name": "stdout",
     "output_type": "stream",
     "text": [
      "Enter string to iterate:python\n",
      "python\n",
      "6\n"
     ]
    }
   ],
   "source": [
    "s=raw_input(\"Enter string to iterate:\")\n",
    "print s\n",
    "print len(s)"
   ]
  },
  {
   "cell_type": "code",
   "execution_count": 7,
   "metadata": {},
   "outputs": [
    {
     "name": "stdout",
     "output_type": "stream",
     "text": [
      "Enter string to iterate:python program\n",
      "python program\n",
      "14\n"
     ]
    }
   ],
   "source": [
    "s=raw_input(\"Enter string to iterate:\")\n",
    "print s\n",
    "print len(s)"
   ]
  },
  {
   "cell_type": "code",
   "execution_count": 8,
   "metadata": {},
   "outputs": [
    {
     "name": "stdout",
     "output_type": "stream",
     "text": [
      "Enter string to iterate:qwerewr\n",
      "q\n",
      "w\n",
      "e\n",
      "r\n",
      "e\n",
      "w\n",
      "r\n"
     ]
    }
   ],
   "source": [
    "s=raw_input(\"Enter string to iterate:\")\n",
    "i=0\n",
    "d=len(s)\n",
    "while i<d:\n",
    "    print s[i]\n",
    "    i=i+1"
   ]
  },
  {
   "cell_type": "code",
   "execution_count": 9,
   "metadata": {},
   "outputs": [
    {
     "name": "stdout",
     "output_type": "stream",
     "text": [
      "Enter string to iterate:23456780987654321\n",
      "2\n",
      "3\n",
      "4\n",
      "5\n",
      "6\n",
      "7\n",
      "8\n",
      "0\n",
      "9\n",
      "8\n",
      "7\n",
      "6\n",
      "5\n",
      "4\n",
      "3\n",
      "2\n",
      "1\n"
     ]
    }
   ],
   "source": [
    "s=raw_input(\"Enter string to iterate:\")\n",
    "i=0\n",
    "d=len(s)\n",
    "while i<d:\n",
    "    print s[i]\n",
    "    i=i+1"
   ]
  },
  {
   "cell_type": "code",
   "execution_count": 11,
   "metadata": {},
   "outputs": [
    {
     "name": "stdout",
     "output_type": "stream",
     "text": [
      "Enter string to iterate:python program\n",
      "length of the give string: 14\n",
      "p\n",
      "y\n",
      "t\n",
      "h\n",
      "o\n",
      "n\n",
      " \n",
      "p\n",
      "r\n",
      "o\n",
      "g\n",
      "r\n",
      "a\n",
      "m\n"
     ]
    }
   ],
   "source": [
    "s=raw_input(\"Enter string to iterate:\")\n",
    "i=0\n",
    "d=len(s)\n",
    "print \"length of the give string:\",d\n",
    "while i<d:\n",
    "    print s[i]\n",
    "    i=i+1"
   ]
  },
  {
   "cell_type": "code",
   "execution_count": 12,
   "metadata": {},
   "outputs": [
    {
     "name": "stdout",
     "output_type": "stream",
     "text": [
      "Enter string to iterate:\n",
      "length of the give string: 0\n"
     ]
    }
   ],
   "source": [
    "s=raw_input(\"Enter string to iterate:\")\n",
    "i=0\n",
    "d=len(s)\n",
    "print \"length of the give string:\",d\n",
    "while i<d:\n",
    "    print s[i]\n",
    "    i=i+1"
   ]
  },
  {
   "cell_type": "code",
   "execution_count": 13,
   "metadata": {},
   "outputs": [
    {
     "name": "stdout",
     "output_type": "stream",
     "text": [
      "Enter string to iterate:\n",
      "length of the give string: 0\n",
      "please enter a valid string\n"
     ]
    }
   ],
   "source": [
    "#please enter a valid string\n",
    "s=raw_input(\"Enter string to iterate:\")\n",
    "i=0\n",
    "d=len(s)\n",
    "print \"length of the give string:\",d\n",
    "if d==0:\n",
    "    print \"please enter a valid string\"\n",
    "while i<d:\n",
    "    print s[i]\n",
    "    i=i+1"
   ]
  },
  {
   "cell_type": "code",
   "execution_count": 14,
   "metadata": {},
   "outputs": [
    {
     "name": "stdout",
     "output_type": "stream",
     "text": [
      "Enter string to iterate:python\n",
      "length of the give string: 6\n",
      "p\n",
      "y\n",
      "t\n",
      "h\n",
      "o\n",
      "n\n"
     ]
    }
   ],
   "source": [
    "#please enter a valid string\n",
    "s=raw_input(\"Enter string to iterate:\")\n",
    "i=0\n",
    "d=len(s)\n",
    "print \"length of the give string:\",d\n",
    "if d!=0:\n",
    "    while i<d:\n",
    "        print s[i]\n",
    "        i=i+1\n",
    "else:\n",
    "    print \"please enter a valid string\""
   ]
  },
  {
   "cell_type": "code",
   "execution_count": 15,
   "metadata": {},
   "outputs": [
    {
     "name": "stdout",
     "output_type": "stream",
     "text": [
      "Enter string to iterate:\n",
      "length of the give string: 0\n",
      "please enter a valid string\n"
     ]
    }
   ],
   "source": [
    "#please enter a valid string\n",
    "s=raw_input(\"Enter string to iterate:\")\n",
    "i=0\n",
    "d=len(s)\n",
    "print \"length of the give string:\",d\n",
    "if d!=0:\n",
    "    while i<d:\n",
    "        print s[i]\n",
    "        i=i+1\n",
    "else:\n",
    "    print \"please enter a valid string\""
   ]
  },
  {
   "cell_type": "code",
   "execution_count": 16,
   "metadata": {},
   "outputs": [
    {
     "name": "stdout",
     "output_type": "stream",
     "text": [
      "enter a string to iterate:python\n",
      "6\n"
     ]
    }
   ],
   "source": [
    "s=raw_input(\"enter a string to iterate:\")\n",
    "if len(s)>0:\n",
    "    print len(s)\n",
    "else:\n",
    "    print \"not a valid string.\""
   ]
  },
  {
   "cell_type": "code",
   "execution_count": 17,
   "metadata": {},
   "outputs": [
    {
     "name": "stdout",
     "output_type": "stream",
     "text": [
      "enter a string to iterate:\n",
      "not a valid string.\n"
     ]
    }
   ],
   "source": [
    "s=raw_input(\"enter a string to iterate:\")\n",
    "if len(s)>0:\n",
    "    print len(s)\n",
    "else:\n",
    "    print \"not a valid string.\""
   ]
  },
  {
   "cell_type": "code",
   "execution_count": 18,
   "metadata": {},
   "outputs": [
    {
     "name": "stdout",
     "output_type": "stream",
     "text": [
      "enter a string to iterate:python\n",
      "6\n"
     ]
    }
   ],
   "source": [
    "s=raw_input(\"enter a string to iterate:\")\n",
    "if s!=\"\":\n",
    "    print len(s)\n",
    "else:\n",
    "    print \"not a valid string.\""
   ]
  },
  {
   "cell_type": "code",
   "execution_count": 19,
   "metadata": {},
   "outputs": [
    {
     "name": "stdout",
     "output_type": "stream",
     "text": [
      "enter a string to iterate:\n",
      "not a valid string.\n"
     ]
    }
   ],
   "source": [
    "s=raw_input(\"enter a string to iterate:\")\n",
    "if s!=\"\":\n",
    "    print len(s)\n",
    "else:\n",
    "    print \"not a valid string.\""
   ]
  },
  {
   "cell_type": "code",
   "execution_count": 20,
   "metadata": {},
   "outputs": [
    {
     "name": "stdout",
     "output_type": "stream",
     "text": [
      "True\n",
      "<type 'bool'>\n"
     ]
    }
   ],
   "source": [
    "f=True\n",
    "print f\n",
    "print type(f)"
   ]
  },
  {
   "cell_type": "code",
   "execution_count": 21,
   "metadata": {},
   "outputs": [
    {
     "name": "stdout",
     "output_type": "stream",
     "text": [
      "True\n",
      "<type 'str'>\n"
     ]
    }
   ],
   "source": [
    "f=\"True\"\n",
    "print f\n",
    "print type(f)"
   ]
  },
  {
   "cell_type": "code",
   "execution_count": 22,
   "metadata": {},
   "outputs": [
    {
     "name": "stdout",
     "output_type": "stream",
     "text": [
      "2\n"
     ]
    }
   ],
   "source": [
    "print True+True"
   ]
  },
  {
   "cell_type": "code",
   "execution_count": 23,
   "metadata": {},
   "outputs": [
    {
     "name": "stdout",
     "output_type": "stream",
     "text": [
      "0\n"
     ]
    }
   ],
   "source": [
    "print True-True"
   ]
  },
  {
   "cell_type": "code",
   "execution_count": 24,
   "metadata": {},
   "outputs": [
    {
     "name": "stdout",
     "output_type": "stream",
     "text": [
      "1\n"
     ]
    }
   ],
   "source": [
    "print True-False"
   ]
  },
  {
   "cell_type": "code",
   "execution_count": 25,
   "metadata": {},
   "outputs": [
    {
     "name": "stdout",
     "output_type": "stream",
     "text": [
      "0\n"
     ]
    }
   ],
   "source": [
    "print True*False"
   ]
  },
  {
   "cell_type": "code",
   "execution_count": 26,
   "metadata": {},
   "outputs": [
    {
     "name": "stdout",
     "output_type": "stream",
     "text": [
      "1\n"
     ]
    }
   ],
   "source": [
    "print int(True)"
   ]
  },
  {
   "cell_type": "code",
   "execution_count": 27,
   "metadata": {},
   "outputs": [
    {
     "name": "stdout",
     "output_type": "stream",
     "text": [
      "True\n"
     ]
    }
   ],
   "source": [
    "print bool(1)"
   ]
  },
  {
   "cell_type": "code",
   "execution_count": 28,
   "metadata": {},
   "outputs": [
    {
     "name": "stdout",
     "output_type": "stream",
     "text": [
      "False\n"
     ]
    }
   ],
   "source": [
    "print bool(0)"
   ]
  },
  {
   "cell_type": "code",
   "execution_count": 29,
   "metadata": {},
   "outputs": [
    {
     "name": "stdout",
     "output_type": "stream",
     "text": [
      "True\n"
     ]
    }
   ],
   "source": [
    "print bool(1.0)"
   ]
  },
  {
   "cell_type": "code",
   "execution_count": 30,
   "metadata": {},
   "outputs": [
    {
     "name": "stdout",
     "output_type": "stream",
     "text": [
      "False\n"
     ]
    }
   ],
   "source": [
    "print bool(0.0)"
   ]
  },
  {
   "cell_type": "code",
   "execution_count": 31,
   "metadata": {},
   "outputs": [
    {
     "name": "stdout",
     "output_type": "stream",
     "text": [
      "True\n"
     ]
    }
   ],
   "source": [
    "print bool(0.1)"
   ]
  },
  {
   "cell_type": "code",
   "execution_count": 32,
   "metadata": {},
   "outputs": [
    {
     "name": "stdout",
     "output_type": "stream",
     "text": [
      "True\n"
     ]
    }
   ],
   "source": [
    "print bool(\"python\")"
   ]
  },
  {
   "cell_type": "code",
   "execution_count": 33,
   "metadata": {},
   "outputs": [
    {
     "name": "stdout",
     "output_type": "stream",
     "text": [
      "True\n"
     ]
    }
   ],
   "source": [
    "print bool([1,2,3,4,5])"
   ]
  },
  {
   "cell_type": "code",
   "execution_count": 34,
   "metadata": {},
   "outputs": [
    {
     "name": "stdout",
     "output_type": "stream",
     "text": [
      "True\n"
     ]
    }
   ],
   "source": [
    "print bool((1,2,3,4,5))"
   ]
  },
  {
   "cell_type": "code",
   "execution_count": 35,
   "metadata": {},
   "outputs": [
    {
     "name": "stdout",
     "output_type": "stream",
     "text": [
      "True\n"
     ]
    }
   ],
   "source": [
    "print bool({1,2,3,4})"
   ]
  },
  {
   "cell_type": "code",
   "execution_count": 36,
   "metadata": {},
   "outputs": [
    {
     "name": "stdout",
     "output_type": "stream",
     "text": [
      "True\n"
     ]
    }
   ],
   "source": [
    "print bool({1:2,3:4})"
   ]
  },
  {
   "cell_type": "code",
   "execution_count": 37,
   "metadata": {},
   "outputs": [
    {
     "name": "stdout",
     "output_type": "stream",
     "text": [
      "False\n"
     ]
    }
   ],
   "source": [
    "print bool(\"\")"
   ]
  },
  {
   "cell_type": "code",
   "execution_count": 38,
   "metadata": {},
   "outputs": [
    {
     "name": "stdout",
     "output_type": "stream",
     "text": [
      "False\n"
     ]
    }
   ],
   "source": [
    "print bool([])"
   ]
  },
  {
   "cell_type": "code",
   "execution_count": 39,
   "metadata": {},
   "outputs": [
    {
     "name": "stdout",
     "output_type": "stream",
     "text": [
      "False\n"
     ]
    }
   ],
   "source": [
    "print bool(())"
   ]
  },
  {
   "cell_type": "code",
   "execution_count": 40,
   "metadata": {},
   "outputs": [
    {
     "name": "stdout",
     "output_type": "stream",
     "text": [
      "False\n"
     ]
    }
   ],
   "source": [
    "print bool({})"
   ]
  },
  {
   "cell_type": "code",
   "execution_count": 41,
   "metadata": {},
   "outputs": [
    {
     "name": "stdout",
     "output_type": "stream",
     "text": [
      "True\n"
     ]
    }
   ],
   "source": [
    "print bool(\"0\")"
   ]
  },
  {
   "cell_type": "code",
   "execution_count": 42,
   "metadata": {},
   "outputs": [
    {
     "name": "stdout",
     "output_type": "stream",
     "text": [
      "True\n"
     ]
    }
   ],
   "source": [
    "print bool(1000)"
   ]
  },
  {
   "cell_type": "code",
   "execution_count": 43,
   "metadata": {},
   "outputs": [
    {
     "name": "stdout",
     "output_type": "stream",
     "text": [
      "True\n"
     ]
    }
   ],
   "source": [
    "print bool(-1000)"
   ]
  },
  {
   "cell_type": "code",
   "execution_count": 44,
   "metadata": {},
   "outputs": [
    {
     "name": "stdout",
     "output_type": "stream",
     "text": [
      "False\n"
     ]
    }
   ],
   "source": [
    "print bool(1>3)"
   ]
  },
  {
   "cell_type": "code",
   "execution_count": 45,
   "metadata": {},
   "outputs": [
    {
     "name": "stdout",
     "output_type": "stream",
     "text": [
      "False\n"
     ]
    }
   ],
   "source": [
    "print 1>3"
   ]
  },
  {
   "cell_type": "code",
   "execution_count": 46,
   "metadata": {},
   "outputs": [
    {
     "name": "stdout",
     "output_type": "stream",
     "text": [
      "enter a string to iterate:python\n",
      "6\n"
     ]
    }
   ],
   "source": [
    "s=raw_input(\"enter a string to iterate:\")\n",
    "if bool(s):\n",
    "    print len(s)\n",
    "else:\n",
    "    print \"not a valid string.\""
   ]
  },
  {
   "cell_type": "code",
   "execution_count": 47,
   "metadata": {},
   "outputs": [
    {
     "name": "stdout",
     "output_type": "stream",
     "text": [
      "enter a string to iterate:\n",
      "not a valid string.\n"
     ]
    }
   ],
   "source": [
    "s=raw_input(\"enter a string to iterate:\")\n",
    "if bool(s):\n",
    "    print len(s)\n",
    "else:\n",
    "    print \"not a valid string.\""
   ]
  },
  {
   "cell_type": "code",
   "execution_count": 48,
   "metadata": {},
   "outputs": [
    {
     "name": "stdout",
     "output_type": "stream",
     "text": [
      "enter a string to iterate:  h   j   k\n",
      "11\n"
     ]
    }
   ],
   "source": [
    "s=raw_input(\"enter a string to iterate:\")\n",
    "if bool(s):\n",
    "    print len(s)\n",
    "else:\n",
    "    print \"not a valid string.\""
   ]
  },
  {
   "cell_type": "code",
   "execution_count": 49,
   "metadata": {},
   "outputs": [
    {
     "name": "stdout",
     "output_type": "stream",
     "text": [
      "enter a string to iterate:       \n",
      "7\n"
     ]
    }
   ],
   "source": [
    "s=raw_input(\"enter a string to iterate:\")\n",
    "if bool(s):\n",
    "    print len(s)\n",
    "else:\n",
    "    print \"not a valid string.\""
   ]
  },
  {
   "cell_type": "code",
   "execution_count": 50,
   "metadata": {},
   "outputs": [
    {
     "name": "stdout",
     "output_type": "stream",
     "text": [
      "enter a string to iterate:  \n",
      "2\n"
     ]
    }
   ],
   "source": [
    "s=raw_input(\"enter a string to iterate:\")\n",
    "if bool(s):\n",
    "    print len(s)\n",
    "else:\n",
    "    print \"not a valid string.\""
   ]
  },
  {
   "cell_type": "code",
   "execution_count": 52,
   "metadata": {},
   "outputs": [
    {
     "name": "stdout",
     "output_type": "stream",
     "text": [
      "False\n"
     ]
    }
   ],
   "source": [
    "print bool(\"\")"
   ]
  },
  {
   "cell_type": "code",
   "execution_count": 53,
   "metadata": {},
   "outputs": [
    {
     "name": "stdout",
     "output_type": "stream",
     "text": [
      "True\n"
     ]
    }
   ],
   "source": [
    "print bool(\"  \")"
   ]
  },
  {
   "cell_type": "code",
   "execution_count": 55,
   "metadata": {},
   "outputs": [
    {
     "name": "stdout",
     "output_type": "stream",
     "text": [
      "False\n"
     ]
    }
   ],
   "source": [
    "print bool(  )"
   ]
  },
  {
   "cell_type": "code",
   "execution_count": 56,
   "metadata": {},
   "outputs": [
    {
     "name": "stdout",
     "output_type": "stream",
     "text": [
      "enter a string to iterate:python\n",
      "6\n"
     ]
    }
   ],
   "source": [
    "s=raw_input(\"enter a string to iterate:\")\n",
    "if s:\n",
    "    print len(s)\n",
    "else:\n",
    "    print \"not a valid string.\""
   ]
  },
  {
   "cell_type": "code",
   "execution_count": 57,
   "metadata": {},
   "outputs": [
    {
     "name": "stdout",
     "output_type": "stream",
     "text": [
      "enter a string to iterate:\n",
      "not a valid string.\n"
     ]
    }
   ],
   "source": [
    "s=raw_input(\"enter a string to iterate:\")\n",
    "if s:\n",
    "    print len(s)\n",
    "else:\n",
    "    print \"not a valid string.\""
   ]
  },
  {
   "cell_type": "code",
   "execution_count": 58,
   "metadata": {},
   "outputs": [
    {
     "name": "stdout",
     "output_type": "stream",
     "text": [
      "1 is true\n"
     ]
    }
   ],
   "source": [
    "if 1:\n",
    "    print \"1 is true\"\n",
    "else:\n",
    "    print \"1 is false\""
   ]
  },
  {
   "cell_type": "code",
   "execution_count": 59,
   "metadata": {},
   "outputs": [
    {
     "name": "stdout",
     "output_type": "stream",
     "text": [
      "0 is false\n"
     ]
    }
   ],
   "source": [
    "if 0:\n",
    "    print \"0 is true\"\n",
    "else:\n",
    "    print \"0 is false\""
   ]
  },
  {
   "cell_type": "code",
   "execution_count": 60,
   "metadata": {},
   "outputs": [
    {
     "name": "stdout",
     "output_type": "stream",
     "text": [
      "Enter string to iterate:\n",
      "length of the give string: 0\n",
      "please enter a valid string\n"
     ]
    }
   ],
   "source": [
    "#please enter a valid string\n",
    "s=raw_input(\"Enter string to iterate:\")\n",
    "i=0\n",
    "d=len(s)\n",
    "print \"length of the give string:\",d\n",
    "if s:\n",
    "    while i<d:\n",
    "        print s[i]\n",
    "        i=i+1\n",
    "else:\n",
    "    print \"please enter a valid string\""
   ]
  },
  {
   "cell_type": "code",
   "execution_count": 61,
   "metadata": {},
   "outputs": [
    {
     "name": "stdout",
     "output_type": "stream",
     "text": [
      "Enter string to iterate:   \n",
      "length of the give string: 3\n",
      " \n",
      " \n",
      " \n"
     ]
    }
   ],
   "source": [
    "#please enter a valid string\n",
    "s=raw_input(\"Enter string to iterate:\")\n",
    "i=0\n",
    "d=len(s)\n",
    "print \"length of the give string:\",d\n",
    "if s:\n",
    "    while i<d:\n",
    "        print s[i]\n",
    "        i=i+1\n",
    "else:\n",
    "    print \"please enter a valid string\""
   ]
  },
  {
   "cell_type": "code",
   "execution_count": null,
   "metadata": {
    "collapsed": true
   },
   "outputs": [],
   "source": [
    "#please enter a valid string\n",
    "s=raw_input(\"Enter string to iterate:\")\n",
    "i=0\n",
    "if s:\n",
    "    d=len(s)\n",
    "    print \"length of the give string:\",d\n",
    "    while i<d:\n",
    "        print s[i]\n",
    "        i=i+1\n",
    "else:\n",
    "    print \"please enter a valid string\""
   ]
  },
  {
   "cell_type": "code",
   "execution_count": 1,
   "metadata": {},
   "outputs": [
    {
     "name": "stdout",
     "output_type": "stream",
     "text": [
      "i outside the loop: 0\n"
     ]
    }
   ],
   "source": [
    "i=0\n",
    "while False:\n",
    "    i=i+1\n",
    "print \"i outside the loop:\",i"
   ]
  },
  {
   "cell_type": "code",
   "execution_count": 2,
   "metadata": {},
   "outputs": [
    {
     "name": "stdout",
     "output_type": "stream",
     "text": [
      "i outside the loop: 1\n"
     ]
    }
   ],
   "source": [
    "i=0\n",
    "if True:\n",
    "    i=i+1\n",
    "print \"i outside the loop:\",i"
   ]
  },
  {
   "cell_type": "code",
   "execution_count": null,
   "metadata": {
    "collapsed": true
   },
   "outputs": [],
   "source": [
    "i=0\n",
    "while True:\n",
    "    i=i+1\n",
    "print \"i outside the loop:\",i"
   ]
  },
  {
   "cell_type": "code",
   "execution_count": 3,
   "metadata": {},
   "outputs": [
    {
     "name": "stdout",
     "output_type": "stream",
     "text": [
      "0\n",
      "1\n",
      "2\n",
      "3\n",
      "4\n",
      "5\n",
      "6\n",
      "7\n",
      "8\n",
      "9\n"
     ]
    }
   ],
   "source": [
    "i=0 # initialization\n",
    "while i<10: # condition check\n",
    "    print i\n",
    "    i=i+1 # inc/dec\n",
    "# s=\"python\"\n",
    "# for i=0; s[i]!=\"\\0\"; i++:"
   ]
  },
  {
   "cell_type": "code",
   "execution_count": 4,
   "metadata": {},
   "outputs": [
    {
     "name": "stdout",
     "output_type": "stream",
     "text": [
      "p\n",
      "y\n",
      "t\n",
      "h\n",
      "o\n",
      "n\n"
     ]
    }
   ],
   "source": [
    "for i in \"python\":\n",
    "    print i"
   ]
  },
  {
   "cell_type": "code",
   "execution_count": 7,
   "metadata": {},
   "outputs": [
    {
     "name": "stdout",
     "output_type": "stream",
     "text": [
      "p\n",
      "y\n",
      "t\n",
      "h\n",
      "o\n",
      "n\n",
      "******************************\n",
      "p\n",
      "y\n",
      "t\n",
      "h\n",
      "o\n",
      "n\n"
     ]
    }
   ],
   "source": [
    "i=0\n",
    "s=\"python\"\n",
    "while i<len(s):\n",
    "    print s[i]\n",
    "    i=i+1\n",
    "print \"*\"*30\n",
    "for i in \"python\":\n",
    "    print i\n",
    "    "
   ]
  },
  {
   "cell_type": "code",
   "execution_count": 8,
   "metadata": {},
   "outputs": [
    {
     "name": "stdout",
     "output_type": "stream",
     "text": [
      "10\n",
      "20\n",
      "30.4\n",
      "python\n"
     ]
    }
   ],
   "source": [
    "for i in [10,20,30.4,\"python\"]:\n",
    "    print i"
   ]
  },
  {
   "cell_type": "code",
   "execution_count": 9,
   "metadata": {},
   "outputs": [
    {
     "name": "stdout",
     "output_type": "stream",
     "text": [
      "10\n",
      "20\n",
      "30.4\n",
      "python\n"
     ]
    }
   ],
   "source": [
    "for i in (10,20,30.4,\"python\"):\n",
    "    print i"
   ]
  },
  {
   "cell_type": "code",
   "execution_count": 10,
   "metadata": {},
   "outputs": [
    {
     "name": "stdout",
     "output_type": "stream",
     "text": [
      "python\n",
      "30.4\n",
      "10\n",
      "20\n"
     ]
    }
   ],
   "source": [
    "for i in {10,20,30.4,\"python\"}:\n",
    "    print i"
   ]
  },
  {
   "cell_type": "code",
   "execution_count": 11,
   "metadata": {},
   "outputs": [
    {
     "name": "stdout",
     "output_type": "stream",
     "text": [
      "1\n",
      "3\n",
      "5\n"
     ]
    }
   ],
   "source": [
    "for i in {1:2,3:4,5:6}:\n",
    "    print i"
   ]
  },
  {
   "cell_type": "code",
   "execution_count": 12,
   "metadata": {
    "collapsed": true
   },
   "outputs": [],
   "source": [
    "# nos sequnces\n",
    "s=10\n",
    "s=12.34\n",
    "s=1+2j\n",
    "b=True\n",
    "b=False\n",
    "c=None\n",
    "\n",
    "# sequences\n",
    "l=[1,2,3,4]\n",
    "s=\"python\"\n",
    "t=(1,2,3,4)\n",
    "s={1,2,3,4}\n",
    "d={1:2,3:4,5:6}\n",
    "s=\"10076866\""
   ]
  },
  {
   "cell_type": "code",
   "execution_count": 13,
   "metadata": {},
   "outputs": [
    {
     "name": "stdout",
     "output_type": "stream",
     "text": [
      "<type 'int'>\n",
      "<type 'int'>\n"
     ]
    }
   ],
   "source": [
    "a=10\n",
    "b=(10)\n",
    "print type(a)\n",
    "print type(b)"
   ]
  },
  {
   "cell_type": "code",
   "execution_count": 14,
   "metadata": {},
   "outputs": [
    {
     "name": "stdout",
     "output_type": "stream",
     "text": [
      "<type 'int'>\n",
      "<type 'tuple'>\n"
     ]
    }
   ],
   "source": [
    "a=10\n",
    "b=(10,)\n",
    "print type(a)\n",
    "print type(b)"
   ]
  },
  {
   "cell_type": "code",
   "execution_count": 15,
   "metadata": {},
   "outputs": [
    {
     "name": "stdout",
     "output_type": "stream",
     "text": [
      "10\n",
      "20\n",
      "30\n",
      "40\n"
     ]
    }
   ],
   "source": [
    "l=[10,20,30,40]\n",
    "i=20\n",
    "for k in l:\n",
    "    print k"
   ]
  },
  {
   "cell_type": "code",
   "execution_count": 16,
   "metadata": {},
   "outputs": [
    {
     "name": "stdout",
     "output_type": "stream",
     "text": [
      "found given value\n"
     ]
    }
   ],
   "source": [
    "l=[10,20,30,40]\n",
    "i=20\n",
    "for k in l:\n",
    "    if k==i:\n",
    "        print \"found given value\"\n"
   ]
  },
  {
   "cell_type": "code",
   "execution_count": 17,
   "metadata": {},
   "outputs": [
    {
     "name": "stdout",
     "output_type": "stream",
     "text": [
      "not found a given value\n",
      "found given value\n",
      "not found a given value\n",
      "not found a given value\n"
     ]
    }
   ],
   "source": [
    "l=[10,20,30,40]\n",
    "i=20\n",
    "for k in l:\n",
    "    if k==i:\n",
    "        print \"found given value\"\n",
    "    else:\n",
    "        print \"not found a given value\"\n"
   ]
  },
  {
   "cell_type": "code",
   "execution_count": 18,
   "metadata": {},
   "outputs": [
    {
     "name": "stdout",
     "output_type": "stream",
     "text": [
      "not found a given value\n",
      "not found a given value\n",
      "not found a given value\n",
      "not found a given value\n"
     ]
    }
   ],
   "source": [
    "l=[100,10,20,30,40,200]\n",
    "i=60\n",
    "for k in l:\n",
    "    if k==i:\n",
    "        print \"found given value\"\n",
    "    else:\n",
    "        print \"not found a given value\"\n"
   ]
  },
  {
   "cell_type": "code",
   "execution_count": 19,
   "metadata": {},
   "outputs": [
    {
     "name": "stdout",
     "output_type": "stream",
     "text": [
      "iteration started\n",
      "100\n",
      "iteration ended\n",
      "iteration started\n",
      "10\n",
      "iteration ended\n",
      "iteration started\n",
      "20\n",
      "iteration ended\n",
      "iteration started\n",
      "30\n",
      "iteration ended\n",
      "iteration started\n",
      "40\n",
      "iteration ended\n",
      "iteration started\n",
      "200\n",
      "iteration ended\n"
     ]
    }
   ],
   "source": [
    "l=[100,10,20,30,40,200]\n",
    "for i in l:\n",
    "    print \"iteration started\"\n",
    "    print i\n",
    "    print \"iteration ended\"\n"
   ]
  },
  {
   "cell_type": "code",
   "execution_count": 20,
   "metadata": {},
   "outputs": [
    {
     "name": "stdout",
     "output_type": "stream",
     "text": [
      "count : 2\n"
     ]
    }
   ],
   "source": [
    "l=[100,10,20,30,40,200,60,30,40,50,60,70,20,30,40,50]\n",
    "i=60\n",
    "count_i = 0\n",
    "for k in l:\n",
    "    if k==i:\n",
    "        count_i = count_i+1\n",
    "print \"count :\",count_i\n"
   ]
  },
  {
   "cell_type": "code",
   "execution_count": 21,
   "metadata": {},
   "outputs": [
    {
     "name": "stdout",
     "output_type": "stream",
     "text": [
      "count : 0\n"
     ]
    }
   ],
   "source": [
    "l=[100,10,20,30,40,200,60,30,40,50,60,70,20,30,40,50]\n",
    "i=60000\n",
    "count_i = 0\n",
    "for k in l:\n",
    "    if k==i:\n",
    "        count_i = count_i+1\n",
    "print \"count :\",count_i\n"
   ]
  },
  {
   "cell_type": "code",
   "execution_count": 22,
   "metadata": {},
   "outputs": [
    {
     "name": "stdout",
     "output_type": "stream",
     "text": [
      "count : 0\n",
      "element not found\n"
     ]
    }
   ],
   "source": [
    "l=[100,10,20,30,40,200,60,30,40,50,60,70,20,30,40,50]\n",
    "i=60000\n",
    "count_i = 0\n",
    "for k in l:\n",
    "    if k==i:\n",
    "        count_i = count_i+1\n",
    "print \"count :\",count_i\n",
    "if count_i==0:\n",
    "    print \"element not found\"\n",
    "else:\n",
    "    print \"element found\"\n"
   ]
  },
  {
   "cell_type": "code",
   "execution_count": 23,
   "metadata": {},
   "outputs": [
    {
     "name": "stdout",
     "output_type": "stream",
     "text": [
      "Enter element to search:20\n",
      "count : 2\n",
      "element found\n"
     ]
    }
   ],
   "source": [
    "l=[100,10,20,30,40,200,60,30,40,50,60,70,20,30,40,50]\n",
    "i=int(raw_input(\"Enter element to search:\"))\n",
    "count_i = 0\n",
    "for k in l:\n",
    "    if k==i:\n",
    "        count_i = count_i+1\n",
    "print \"count :\",count_i\n",
    "if count_i==0:\n",
    "    print \"element not found\"\n",
    "else:\n",
    "    print \"element found\"\n"
   ]
  },
  {
   "cell_type": "code",
   "execution_count": 24,
   "metadata": {},
   "outputs": [
    {
     "name": "stdout",
     "output_type": "stream",
     "text": [
      "Enter element to search:400\n",
      "count : 0\n",
      "element not found\n"
     ]
    }
   ],
   "source": [
    "l=[100,10,20,30,40,200,60,30,40,50,60,70,20,30,40,50]\n",
    "i=int(raw_input(\"Enter element to search:\"))\n",
    "count_i = 0\n",
    "for k in l:\n",
    "    if k==i:\n",
    "        count_i = count_i+1\n",
    "print \"count :\",count_i\n",
    "if count_i==0:\n",
    "    print \"element not found\"\n",
    "else:\n",
    "    print \"element found\"\n"
   ]
  },
  {
   "cell_type": "code",
   "execution_count": 25,
   "metadata": {},
   "outputs": [
    {
     "name": "stdout",
     "output_type": "stream",
     "text": [
      "True\n"
     ]
    }
   ],
   "source": [
    "l=[100,10,20,30,40,200,60,30,40,50,60,70,20,30,40,50]\n",
    "print 10 in l"
   ]
  },
  {
   "cell_type": "code",
   "execution_count": 26,
   "metadata": {},
   "outputs": [
    {
     "name": "stdout",
     "output_type": "stream",
     "text": [
      "enter an element to search:20\n",
      "verifying  20 with 1\n",
      "verifying  20 with 2\n",
      "verifying  20 with 3\n",
      "verifying  20 with 6\n",
      "verifying  20 with 7\n",
      "verifying  20 with 8\n",
      "verifying  20 with 10\n",
      "verifying  20 with 32\n",
      "verifying  20 with -20\n",
      "verifying  20 with 89\n",
      "verifying  20 with -45\n",
      "verifying  20 with 67\n",
      "verifying  20 with 58\n"
     ]
    }
   ],
   "source": [
    "l=[1,2,3,6,7,8,10,32,-20,89,-45,67,58]\n",
    "element_search = raw_input(\"enter an element to search:\")\n",
    "for i in l:\n",
    "    print \"verifying \",element_search,\"with\",i"
   ]
  },
  {
   "cell_type": "code",
   "execution_count": 27,
   "metadata": {},
   "outputs": [
    {
     "name": "stdout",
     "output_type": "stream",
     "text": [
      "enter an element to search:20\n",
      "verifying  20 with 1\n",
      "False\n",
      "verifying  20 with 2\n",
      "False\n",
      "verifying  20 with 3\n",
      "False\n",
      "verifying  20 with 6\n",
      "False\n",
      "verifying  20 with 7\n",
      "False\n",
      "verifying  20 with 8\n",
      "False\n",
      "verifying  20 with 10\n",
      "False\n",
      "verifying  20 with 32\n",
      "False\n",
      "verifying  20 with -20\n",
      "False\n",
      "verifying  20 with 89\n",
      "False\n",
      "verifying  20 with -45\n",
      "False\n",
      "verifying  20 with 67\n",
      "False\n",
      "verifying  20 with 58\n",
      "False\n"
     ]
    }
   ],
   "source": [
    "l=[1,2,3,6,7,8,10,32,-20,89,-45,67,58]\n",
    "element_search = raw_input(\"enter an element to search:\")\n",
    "for i in l:\n",
    "    print \"verifying \",element_search,\"with\",i\n",
    "    print element_search==i"
   ]
  },
  {
   "cell_type": "code",
   "execution_count": 28,
   "metadata": {},
   "outputs": [
    {
     "name": "stdout",
     "output_type": "stream",
     "text": [
      "enter an element to search:8\n",
      "verifying  8 with 1\n",
      "False\n",
      "verifying  8 with 2\n",
      "False\n",
      "verifying  8 with 3\n",
      "False\n",
      "verifying  8 with 6\n",
      "False\n",
      "verifying  8 with 7\n",
      "False\n",
      "verifying  8 with 8\n",
      "False\n",
      "verifying  8 with 10\n",
      "False\n",
      "verifying  8 with 32\n",
      "False\n",
      "verifying  8 with -20\n",
      "False\n",
      "verifying  8 with 89\n",
      "False\n",
      "verifying  8 with -45\n",
      "False\n",
      "verifying  8 with 67\n",
      "False\n",
      "verifying  8 with 58\n",
      "False\n"
     ]
    }
   ],
   "source": [
    "l=[1,2,3,6,7,8,10,32,-20,89,-45,67,58]\n",
    "element_search = raw_input(\"enter an element to search:\")\n",
    "for i in l:\n",
    "    print \"verifying \",element_search,\"with\",i\n",
    "    print element_search==i"
   ]
  },
  {
   "cell_type": "code",
   "execution_count": 29,
   "metadata": {},
   "outputs": [
    {
     "name": "stdout",
     "output_type": "stream",
     "text": [
      "enter an element to search:8\n",
      "verifying  8 with 1\n",
      "False\n",
      "verifying  8 with 2\n",
      "False\n",
      "verifying  8 with 3\n",
      "False\n",
      "verifying  8 with 6\n",
      "False\n",
      "verifying  8 with 7\n",
      "False\n",
      "verifying  8 with 8\n",
      "True\n",
      "verifying  8 with 10\n",
      "False\n",
      "verifying  8 with 32\n",
      "False\n",
      "verifying  8 with -20\n",
      "False\n",
      "verifying  8 with 89\n",
      "False\n",
      "verifying  8 with -45\n",
      "False\n",
      "verifying  8 with 67\n",
      "False\n",
      "verifying  8 with 58\n",
      "False\n"
     ]
    }
   ],
   "source": [
    "l=[1,2,3,6,7,8,10,32,-20,89,-45,67,58]\n",
    "element_search = int(raw_input(\"enter an element to search:\"))\n",
    "for i in l:\n",
    "    print \"verifying \",element_search,\"with\",i\n",
    "    print element_search==i"
   ]
  },
  {
   "cell_type": "code",
   "execution_count": 30,
   "metadata": {},
   "outputs": [
    {
     "name": "stdout",
     "output_type": "stream",
     "text": [
      "enter an element to search:8\n",
      "verifying  8 with 1\n",
      "verifying  8 with 2\n",
      "verifying  8 with 3\n",
      "verifying  8 with 6\n",
      "verifying  8 with 7\n",
      "verifying  8 with 8\n",
      "incremented count value to 1\n",
      "verifying  8 with 10\n",
      "verifying  8 with 32\n",
      "verifying  8 with -20\n",
      "verifying  8 with 89\n",
      "verifying  8 with -45\n",
      "verifying  8 with 67\n",
      "verifying  8 with 58\n",
      "verifying  8 with 8\n",
      "incremented count value to 2\n",
      "verifying  8 with 8\n",
      "incremented count value to 3\n",
      "verifying  8 with 2\n",
      "verifying  8 with 3\n",
      "verifying  8 with 6\n",
      "verifying  8 with 7\n",
      "verifying  8 with 10\n",
      "verifying  8 with 32\n",
      "verifying  8 with -20\n"
     ]
    }
   ],
   "source": [
    "l=[1,2,3,6,7,8,10,32,-20,89,-45,67,58,8,8,2,3,6,7,10,32,-20]\n",
    "element_search = int(raw_input(\"enter an element to search:\"))\n",
    "c=0\n",
    "for i in l:\n",
    "    print \"verifying \",element_search,\"with\",i\n",
    "    if element_search==i:\n",
    "        c=c+1\n",
    "        print \"incremented count value to\",c\n",
    "\n",
    "        "
   ]
  },
  {
   "cell_type": "code",
   "execution_count": 31,
   "metadata": {},
   "outputs": [
    {
     "name": "stdout",
     "output_type": "stream",
     "text": [
      "enter an element to search:8\n",
      "verifying  8 with 1\n",
      "verifying  8 with 2\n",
      "verifying  8 with 3\n",
      "verifying  8 with 6\n",
      "verifying  8 with 7\n",
      "verifying  8 with 8\n",
      "incremented count value to 1\n",
      "verifying  8 with 10\n",
      "verifying  8 with 32\n",
      "verifying  8 with -20\n",
      "verifying  8 with 89\n",
      "verifying  8 with -45\n",
      "verifying  8 with 67\n",
      "verifying  8 with 58\n",
      "verifying  8 with 8\n",
      "incremented count value to 2\n",
      "verifying  8 with 8\n",
      "incremented count value to 3\n",
      "verifying  8 with 2\n",
      "verifying  8 with 3\n",
      "verifying  8 with 6\n",
      "verifying  8 with 7\n",
      "verifying  8 with 10\n",
      "verifying  8 with 32\n",
      "verifying  8 with -20\n",
      "after loop c= 3\n"
     ]
    }
   ],
   "source": [
    "l=[1,2,3,6,7,8,10,32,-20,89,-45,67,58,8,8,2,3,6,7,10,32,-20]\n",
    "element_search = int(raw_input(\"enter an element to search:\"))\n",
    "c=0\n",
    "for i in l:\n",
    "    print \"verifying \",element_search,\"with\",i\n",
    "    if element_search==i:\n",
    "        c=c+1\n",
    "        print \"incremented count value to\",c\n",
    "print \"after loop c=\",c"
   ]
  },
  {
   "cell_type": "code",
   "execution_count": 32,
   "metadata": {},
   "outputs": [
    {
     "name": "stdout",
     "output_type": "stream",
     "text": [
      "enter an element to search:69\n",
      "verifying  69 with 1\n",
      "verifying  69 with 2\n",
      "verifying  69 with 3\n",
      "verifying  69 with 6\n",
      "verifying  69 with 7\n",
      "verifying  69 with 8\n",
      "verifying  69 with 10\n",
      "verifying  69 with 32\n",
      "verifying  69 with -20\n",
      "verifying  69 with 89\n",
      "verifying  69 with -45\n",
      "verifying  69 with 67\n",
      "verifying  69 with 58\n",
      "verifying  69 with 8\n",
      "verifying  69 with 8\n",
      "verifying  69 with 2\n",
      "verifying  69 with 3\n",
      "verifying  69 with 6\n",
      "verifying  69 with 7\n",
      "verifying  69 with 10\n",
      "verifying  69 with 32\n",
      "verifying  69 with -20\n",
      "after loop c= 0\n"
     ]
    }
   ],
   "source": [
    "l=[1,2,3,6,7,8,10,32,-20,89,-45,67,58,8,8,2,3,6,7,10,32,-20]\n",
    "element_search = int(raw_input(\"enter an element to search:\"))\n",
    "c=0\n",
    "for i in l:\n",
    "    print \"verifying \",element_search,\"with\",i\n",
    "    if element_search==i:\n",
    "        c=c+1\n",
    "        print \"incremented count value to\",c\n",
    "print \"after loop c=\",c"
   ]
  },
  {
   "cell_type": "code",
   "execution_count": 34,
   "metadata": {},
   "outputs": [
    {
     "name": "stdout",
     "output_type": "stream",
     "text": [
      "enter an element to search:8\n",
      "verifying  8 with 1\n",
      "verifying  8 with 2\n",
      "verifying  8 with 3\n",
      "verifying  8 with 6\n",
      "verifying  8 with 7\n",
      "verifying  8 with 8\n",
      "incremented count value to 1\n",
      "verifying  8 with 10\n",
      "verifying  8 with 32\n",
      "verifying  8 with -20\n",
      "verifying  8 with 89\n",
      "verifying  8 with -45\n",
      "verifying  8 with 67\n",
      "verifying  8 with 58\n",
      "verifying  8 with 8\n",
      "incremented count value to 2\n",
      "verifying  8 with 8\n",
      "incremented count value to 3\n",
      "verifying  8 with 2\n",
      "verifying  8 with 3\n",
      "verifying  8 with 6\n",
      "verifying  8 with 7\n",
      "verifying  8 with 10\n",
      "verifying  8 with 32\n",
      "verifying  8 with -20\n",
      "after loop c= 3\n",
      "find the element\n"
     ]
    }
   ],
   "source": [
    "l=[1,2,3,6,7,8,10,32,-20,89,-45,67,58,8,8,2,3,6,7,10,32,-20]\n",
    "element_search = int(raw_input(\"enter an element to search:\"))\n",
    "c=0\n",
    "for i in l:\n",
    "    print \"verifying \",element_search,\"with\",i\n",
    "    if element_search==i:\n",
    "        c=c+1\n",
    "        print \"incremented count value to\",c\n",
    "print \"after loop c=\",c\n",
    "if c==0:\n",
    "    print \"not find the element\"\n",
    "else:\n",
    "    print \"find the element\"\n",
    "    "
   ]
  },
  {
   "cell_type": "code",
   "execution_count": null,
   "metadata": {
    "collapsed": true
   },
   "outputs": [],
   "source": [
    "l=[1,2,3,6,7,8,10,32,-20,89,-45,67,58,8,8,2,3,6,7,10,32,-20]\n",
    "element_search = int(raw_input(\"enter an element to search:\"))\n",
    "c=0\n",
    "for i in l:\n",
    "    print \"verifying \",element_search,\"with\",i\n",
    "    if element_search==i:\n",
    "        c=c+1\n",
    "        print \"incremented count value to\",c\n",
    "print \"after loop c=\",c\n",
    "if c==0:\n",
    "    print \"not find the element\"\n",
    "else:\n",
    "    print \"find the element\"\n",
    "    "
   ]
  },
  {
   "cell_type": "code",
   "execution_count": 35,
   "metadata": {},
   "outputs": [
    {
     "name": "stdout",
     "output_type": "stream",
     "text": [
      "number of vowels in s is 18\n"
     ]
    }
   ],
   "source": [
    "s=\"python is a pure object oriented programing language\"\n",
    "# vowels means: a e i o u\n",
    "c=0\n",
    "for i in s:\n",
    "    if i==\"a\" or i==\"e\" or i==\"i\" or i==\"o\" or i==\"u\":\n",
    "        c=c+1\n",
    "print \"number of vowels in s is\",c\n",
    "        "
   ]
  },
  {
   "cell_type": "code",
   "execution_count": 36,
   "metadata": {},
   "outputs": [
    {
     "name": "stdout",
     "output_type": "stream",
     "text": [
      "number of vowels in s is 0\n",
      "number of vowels in s is 0\n",
      "number of vowels in s is 0\n",
      "number of vowels in s is 0\n",
      "number of vowels in s is 1\n",
      "number of vowels in s is 1\n",
      "number of vowels in s is 1\n",
      "number of vowels in s is 2\n",
      "number of vowels in s is 2\n",
      "number of vowels in s is 2\n",
      "number of vowels in s is 3\n",
      "number of vowels in s is 3\n",
      "number of vowels in s is 3\n",
      "number of vowels in s is 4\n",
      "number of vowels in s is 4\n",
      "number of vowels in s is 5\n",
      "number of vowels in s is 5\n",
      "number of vowels in s is 6\n",
      "number of vowels in s is 6\n",
      "number of vowels in s is 6\n",
      "number of vowels in s is 7\n",
      "number of vowels in s is 7\n",
      "number of vowels in s is 7\n",
      "number of vowels in s is 7\n",
      "number of vowels in s is 8\n",
      "number of vowels in s is 8\n",
      "number of vowels in s is 9\n",
      "number of vowels in s is 10\n",
      "number of vowels in s is 10\n",
      "number of vowels in s is 10\n",
      "number of vowels in s is 11\n",
      "number of vowels in s is 11\n",
      "number of vowels in s is 11\n",
      "number of vowels in s is 11\n",
      "number of vowels in s is 11\n",
      "number of vowels in s is 12\n",
      "number of vowels in s is 12\n",
      "number of vowels in s is 12\n",
      "number of vowels in s is 13\n",
      "number of vowels in s is 13\n",
      "number of vowels in s is 14\n",
      "number of vowels in s is 14\n",
      "number of vowels in s is 14\n",
      "number of vowels in s is 14\n",
      "number of vowels in s is 14\n",
      "number of vowels in s is 15\n",
      "number of vowels in s is 15\n",
      "number of vowels in s is 15\n",
      "number of vowels in s is 16\n",
      "number of vowels in s is 17\n",
      "number of vowels in s is 17\n",
      "number of vowels in s is 18\n"
     ]
    }
   ],
   "source": [
    "s=\"python is a pure object oriented programing language\"\n",
    "# vowels means: a e i o u\n",
    "c=0\n",
    "for i in s:\n",
    "    if i==\"a\" or i==\"e\" or i==\"i\" or i==\"o\" or i==\"u\":\n",
    "        c=c+1\n",
    "    print \"number of vowels in s is\",c\n",
    "        "
   ]
  },
  {
   "cell_type": "code",
   "execution_count": 37,
   "metadata": {},
   "outputs": [
    {
     "name": "stdout",
     "output_type": "stream",
     "text": [
      "0\n"
     ]
    }
   ],
   "source": [
    "l=[10,20,30,23,45,67,89]\n",
    "a=20\n",
    "print 20%2"
   ]
  },
  {
   "cell_type": "code",
   "execution_count": 38,
   "metadata": {},
   "outputs": [
    {
     "name": "stdout",
     "output_type": "stream",
     "text": [
      "3\n"
     ]
    }
   ],
   "source": [
    "print 13%5"
   ]
  },
  {
   "cell_type": "code",
   "execution_count": 39,
   "metadata": {},
   "outputs": [
    {
     "name": "stdout",
     "output_type": "stream",
     "text": [
      "even number\n"
     ]
    }
   ],
   "source": [
    "a=20\n",
    "if a%2==0:\n",
    "    print \"even number\"\n",
    "else:\n",
    "    print \"odd number\""
   ]
  },
  {
   "cell_type": "code",
   "execution_count": 40,
   "metadata": {},
   "outputs": [
    {
     "name": "stdout",
     "output_type": "stream",
     "text": [
      "10\n",
      "20\n",
      "30\n",
      "23\n",
      "45\n",
      "67\n",
      "89\n"
     ]
    }
   ],
   "source": [
    "l=[10,20,30,23,45,67,89]\n",
    "for i in l:\n",
    "    print i"
   ]
  },
  {
   "cell_type": "code",
   "execution_count": 41,
   "metadata": {},
   "outputs": [
    {
     "name": "stdout",
     "output_type": "stream",
     "text": [
      "10\n",
      "even number\n",
      "20\n",
      "even number\n",
      "30\n",
      "even number\n",
      "23\n",
      "odd number\n",
      "45\n",
      "odd number\n",
      "67\n",
      "odd number\n",
      "89\n",
      "odd number\n"
     ]
    }
   ],
   "source": [
    "l=[10,20,30,23,45,67,89]\n",
    "for i in l:\n",
    "    print i\n",
    "    if i%2==0:\n",
    "        print \"even number\"\n",
    "    else:\n",
    "        print \"odd number\""
   ]
  },
  {
   "cell_type": "code",
   "execution_count": 42,
   "metadata": {},
   "outputs": [
    {
     "name": "stdout",
     "output_type": "stream",
     "text": [
      "even count= 3\n",
      "odd count= 4\n"
     ]
    }
   ],
   "source": [
    "l=[10,20,30,23,45,67,89]\n",
    "even_c = 0\n",
    "odd_c=0\n",
    "for i in l:\n",
    "    if i%2==0:\n",
    "        even_c = even_c+1\n",
    "    else:\n",
    "        odd_c = odd_c+1\n",
    "print \"even count=\",even_c\n",
    "print \"odd count=\",odd_c"
   ]
  },
  {
   "cell_type": "code",
   "execution_count": 44,
   "metadata": {},
   "outputs": [
    {
     "name": "stdout",
     "output_type": "stream",
     "text": [
      "49\n"
     ]
    }
   ],
   "source": [
    "#145\n",
    "# 1**3+4**3+5**3==145\n",
    "# 23\n",
    "# 2**2+3**2==23\n",
    "\n",
    "print ord(\"1\")"
   ]
  },
  {
   "cell_type": "code",
   "execution_count": 45,
   "metadata": {},
   "outputs": [
    {
     "name": "stdout",
     "output_type": "stream",
     "text": [
      "57\n"
     ]
    }
   ],
   "source": [
    "print ord(\"9\")"
   ]
  },
  {
   "cell_type": "code",
   "execution_count": 46,
   "metadata": {},
   "outputs": [
    {
     "data": {
      "text/plain": [
       "97"
      ]
     },
     "execution_count": 46,
     "metadata": {},
     "output_type": "execute_result"
    }
   ],
   "source": [
    "ord(\"a\")"
   ]
  },
  {
   "cell_type": "code",
   "execution_count": 47,
   "metadata": {},
   "outputs": [
    {
     "data": {
      "text/plain": [
       "122"
      ]
     },
     "execution_count": 47,
     "metadata": {},
     "output_type": "execute_result"
    }
   ],
   "source": [
    "ord(\"z\")"
   ]
  },
  {
   "cell_type": "code",
   "execution_count": 48,
   "metadata": {},
   "outputs": [
    {
     "name": "stdout",
     "output_type": "stream",
     "text": [
      "its not a digit\n"
     ]
    }
   ],
   "source": [
    "s=\"z\"\n",
    "if ord(s)>=49 and ord(s)<=57:\n",
    "    print \"its a digit\"\n",
    "else:\n",
    "    print \"its not a digit\""
   ]
  },
  {
   "cell_type": "code",
   "execution_count": 49,
   "metadata": {},
   "outputs": [
    {
     "name": "stdout",
     "output_type": "stream",
     "text": [
      "its a digit\n"
     ]
    }
   ],
   "source": [
    "s=\"9\"\n",
    "if ord(s)>=49 and ord(s)<=57:\n",
    "    print \"its a digit\"\n",
    "else:\n",
    "    print \"its not a digit\""
   ]
  },
  {
   "cell_type": "code",
   "execution_count": 50,
   "metadata": {},
   "outputs": [
    {
     "name": "stdout",
     "output_type": "stream",
     "text": [
      "its a digit\n",
      "its a digit\n",
      "its a digit\n",
      "its not a digit\n",
      "its not a digit\n",
      "its not a digit\n",
      "its not a digit\n",
      "its not a digit\n",
      "its not a digit\n",
      "its a digit\n",
      "its a digit\n",
      "its a digit\n",
      "its a digit\n",
      "its not a digit\n",
      "its not a digit\n",
      "its a digit\n",
      "its a digit\n",
      "its a digit\n"
     ]
    }
   ],
   "source": [
    "s=\"912etgerw3214et235\"\n",
    "for i in s:\n",
    "    if ord(i)>=49 and ord(i)<=57:\n",
    "        print \"its a digit\"\n",
    "    else:\n",
    "        print \"its not a digit\""
   ]
  },
  {
   "cell_type": "code",
   "execution_count": 1,
   "metadata": {},
   "outputs": [
    {
     "name": "stdout",
     "output_type": "stream",
     "text": [
      "AbcdAbcdAbcdAbcdAbcdAbcd\n"
     ]
    }
   ],
   "source": [
    "s=\"abcdabcdabcdabcdabcdabcd\"\n",
    "source=\"a\"\n",
    "dest=\"A\"\n",
    "s1=\"\"\n",
    "for i in s:\n",
    "    if i==source:\n",
    "        s1=s1+\"A\"\n",
    "    else:\n",
    "        s1=s1+i\n",
    "print s1"
   ]
  },
  {
   "cell_type": "code",
   "execution_count": 3,
   "metadata": {},
   "outputs": [
    {
     "name": "stdout",
     "output_type": "stream",
     "text": [
      "enter source char:a\n",
      "Enter dest char:A\n",
      "How many chars want to replace:2\n",
      "AbcdAbcdabcdabcdabcdabcd\n"
     ]
    }
   ],
   "source": [
    "s=\"abcdabcdabcdabcdabcdabcd\"\n",
    "source=raw_input(\"enter source char:\")\n",
    "dest=raw_input(\"Enter dest char:\")\n",
    "count = int(raw_input(\"How many chars want to replace:\"))\n",
    "s1=\"\"\n",
    "c=0\n",
    "replaced_length=0\n",
    "for i in s:\n",
    "    if c==count:\n",
    "        break\n",
    "    if i==source:\n",
    "        s1=s1+\"A\"\n",
    "        c=c+1\n",
    "    else:\n",
    "        s1=s1+i\n",
    "    \n",
    "    replaced_length = replaced_length+1\n",
    "s1=s1+s[replaced_length:]\n",
    "print s1"
   ]
  },
  {
   "cell_type": "code",
   "execution_count": 4,
   "metadata": {},
   "outputs": [
    {
     "name": "stdout",
     "output_type": "stream",
     "text": [
      "enter source char:a\n",
      "Enter dest char:A\n",
      "How many chars want to replace:2\n",
      "AbcdA\n"
     ]
    }
   ],
   "source": [
    "s=\"abcdabcdabcdabcdabcdabcd\"\n",
    "source=raw_input(\"enter source char:\")\n",
    "dest=raw_input(\"Enter dest char:\")\n",
    "count = int(raw_input(\"How many chars want to replace:\"))\n",
    "s1=\"\"\n",
    "c=0\n",
    "replaced_length=0\n",
    "for i in s:\n",
    "    if c==count:\n",
    "        break\n",
    "    if i==source:\n",
    "        s1=s1+\"A\"\n",
    "        c=c+1\n",
    "    else:\n",
    "        s1=s1+i\n",
    "    \n",
    "    replaced_length = replaced_length+1\n",
    "#s1=s1+s[replaced_length:]\n",
    "print s1"
   ]
  },
  {
   "cell_type": "code",
   "execution_count": 5,
   "metadata": {},
   "outputs": [
    {
     "name": "stdout",
     "output_type": "stream",
     "text": [
      "enter source char:\n",
      "Enter dest char:\n",
      "How many chars want to replace:\n"
     ]
    },
    {
     "ename": "ValueError",
     "evalue": "invalid literal for int() with base 10: ''",
     "output_type": "error",
     "traceback": [
      "\u001b[0;31m---------------------------------------------------------------------------\u001b[0m",
      "\u001b[0;31mValueError\u001b[0m                                Traceback (most recent call last)",
      "\u001b[0;32m<ipython-input-5-b173803ada6f>\u001b[0m in \u001b[0;36m<module>\u001b[0;34m()\u001b[0m\n\u001b[1;32m      2\u001b[0m \u001b[0msource\u001b[0m\u001b[0;34m=\u001b[0m\u001b[0mraw_input\u001b[0m\u001b[0;34m(\u001b[0m\u001b[0;34m\"enter source char:\"\u001b[0m\u001b[0;34m)\u001b[0m\u001b[0;34m\u001b[0m\u001b[0m\n\u001b[1;32m      3\u001b[0m \u001b[0mdest\u001b[0m\u001b[0;34m=\u001b[0m\u001b[0mraw_input\u001b[0m\u001b[0;34m(\u001b[0m\u001b[0;34m\"Enter dest char:\"\u001b[0m\u001b[0;34m)\u001b[0m\u001b[0;34m\u001b[0m\u001b[0m\n\u001b[0;32m----> 4\u001b[0;31m \u001b[0mcount\u001b[0m \u001b[0;34m=\u001b[0m \u001b[0mint\u001b[0m\u001b[0;34m(\u001b[0m\u001b[0mraw_input\u001b[0m\u001b[0;34m(\u001b[0m\u001b[0;34m\"How many chars want to replace:\"\u001b[0m\u001b[0;34m)\u001b[0m\u001b[0;34m)\u001b[0m\u001b[0;34m\u001b[0m\u001b[0m\n\u001b[0m\u001b[1;32m      5\u001b[0m \u001b[0ms1\u001b[0m\u001b[0;34m=\u001b[0m\u001b[0;34m\"\"\u001b[0m\u001b[0;34m\u001b[0m\u001b[0m\n\u001b[1;32m      6\u001b[0m \u001b[0mc\u001b[0m\u001b[0;34m=\u001b[0m\u001b[0;36m0\u001b[0m\u001b[0;34m\u001b[0m\u001b[0m\n",
      "\u001b[0;31mValueError\u001b[0m: invalid literal for int() with base 10: ''"
     ]
    }
   ],
   "source": [
    "s=\"abcdabcdabcdabcdabcdabcd\"\n",
    "source=raw_input(\"enter source char:\")\n",
    "dest=raw_input(\"Enter dest char:\")\n",
    "count = int(raw_input(\"How many chars want to replace:\"))\n",
    "s1=\"\"\n",
    "c=0\n",
    "replaced_length=0\n",
    "for i in s:\n",
    "    if c==count:\n",
    "        break\n",
    "    if i==source:\n",
    "        s1=s1+\"A\"\n",
    "        c=c+1\n",
    "    else:\n",
    "        s1=s1+i\n",
    "    \n",
    "    replaced_length = replaced_length+1\n",
    "#s1=s1+s[replaced_length:]\n",
    "print s1"
   ]
  },
  {
   "cell_type": "code",
   "execution_count": 7,
   "metadata": {},
   "outputs": [
    {
     "name": "stdout",
     "output_type": "stream",
     "text": [
      "enter source char:a\n",
      "Enter dest char:A\n",
      "How many chars want to replace:2\n",
      "AbcdAbcdabcdabcdabcdabcd\n"
     ]
    }
   ],
   "source": [
    "s=\"abcdabcdabcdabcdabcdabcd\"\n",
    "source=raw_input(\"enter source char:\")\n",
    "dest=raw_input(\"Enter dest char:\")\n",
    "count = raw_input(\"How many chars want to replace:\")\n",
    "if count:\n",
    "    count = int(count)\n",
    "else:\n",
    "    count = len(s)\n",
    "s1=\"\"\n",
    "c=0\n",
    "replaced_length=0\n",
    "for i in s:\n",
    "    if c==count:\n",
    "        break\n",
    "    if i==source:\n",
    "        s1=s1+\"A\"\n",
    "        c=c+1\n",
    "    else:\n",
    "        s1=s1+i\n",
    "    \n",
    "    replaced_length = replaced_length+1\n",
    "s1=s1+s[replaced_length:]\n",
    "print s1"
   ]
  },
  {
   "cell_type": "code",
   "execution_count": 8,
   "metadata": {},
   "outputs": [
    {
     "name": "stdout",
     "output_type": "stream",
     "text": [
      "enter source char:a\n",
      "Enter dest char:A\n",
      "How many chars want to replace:\n",
      "AbcdAbcdAbcdAbcdAbcdAbcd\n"
     ]
    }
   ],
   "source": [
    "s=\"abcdabcdabcdabcdabcdabcd\"\n",
    "source=raw_input(\"enter source char:\")\n",
    "dest=raw_input(\"Enter dest char:\")\n",
    "count = raw_input(\"How many chars want to replace:\")\n",
    "if count:\n",
    "    count = int(count)\n",
    "else:\n",
    "    count = len(s)\n",
    "s1=\"\"\n",
    "c=0\n",
    "replaced_length=0\n",
    "for i in s:\n",
    "    if c==count:\n",
    "        break\n",
    "    if i==source:\n",
    "        s1=s1+\"A\"\n",
    "        c=c+1\n",
    "    else:\n",
    "        s1=s1+i\n",
    "    \n",
    "    replaced_length = replaced_length+1\n",
    "s1=s1+s[replaced_length:]\n",
    "print s1"
   ]
  },
  {
   "cell_type": "code",
   "execution_count": 10,
   "metadata": {},
   "outputs": [
    {
     "name": "stdout",
     "output_type": "stream",
     "text": [
      "number of vowels in s is 18\n"
     ]
    }
   ],
   "source": [
    "s=\"python is a pure object oriented programing language\"\n",
    "# vowels means: a e i o u\n",
    "c=0\n",
    "for i in s:\n",
    "    if i in ['a','e','i','o','u']:\n",
    "        c=c+1\n",
    "print \"number of vowels in s is\",c\n",
    "        "
   ]
  },
  {
   "cell_type": "code",
   "execution_count": 11,
   "metadata": {},
   "outputs": [
    {
     "name": "stdout",
     "output_type": "stream",
     "text": [
      "enter an element to search:1\n",
      "verifying  1 with 1\n",
      "verifying  1 with 2\n",
      "verifying  1 with 3\n",
      "verifying  1 with 6\n",
      "verifying  1 with 7\n",
      "verifying  1 with 8\n",
      "verifying  1 with 10\n",
      "verifying  1 with 32\n",
      "verifying  1 with -20\n",
      "verifying  1 with 89\n",
      "verifying  1 with -45\n",
      "verifying  1 with 67\n",
      "verifying  1 with 58\n",
      "verifying  1 with 8\n",
      "verifying  1 with 8\n",
      "verifying  1 with 2\n",
      "verifying  1 with 3\n",
      "verifying  1 with 6\n",
      "verifying  1 with 7\n",
      "verifying  1 with 10\n",
      "verifying  1 with 32\n",
      "verifying  1 with -20\n",
      "find the element\n"
     ]
    }
   ],
   "source": [
    "# whether element is found or not\n",
    "l=[1,2,3,6,7,8,10,32,-20,89,-45,67,58,8,8,2,3,6,7,10,32,-20]\n",
    "element_search = int(raw_input(\"enter an element to search:\"))\n",
    "c=0\n",
    "for i in l:\n",
    "    print \"verifying \",element_search,\"with\",i\n",
    "    if element_search==i:\n",
    "        c=c+1\n",
    "if c==0:\n",
    "    print \"not find the element\"\n",
    "else:\n",
    "    print \"find the element\"\n",
    "    "
   ]
  },
  {
   "cell_type": "code",
   "execution_count": 12,
   "metadata": {},
   "outputs": [
    {
     "name": "stdout",
     "output_type": "stream",
     "text": [
      "enter an element to search:4000\n",
      "verifying  4000 with 1\n",
      "verifying  4000 with 2\n",
      "verifying  4000 with 3\n",
      "verifying  4000 with 6\n",
      "verifying  4000 with 7\n",
      "verifying  4000 with 8\n",
      "verifying  4000 with 10\n",
      "verifying  4000 with 32\n",
      "verifying  4000 with -20\n",
      "verifying  4000 with 89\n",
      "verifying  4000 with -45\n",
      "verifying  4000 with 67\n",
      "verifying  4000 with 58\n",
      "verifying  4000 with 8\n",
      "verifying  4000 with 8\n",
      "verifying  4000 with 2\n",
      "verifying  4000 with 3\n",
      "verifying  4000 with 6\n",
      "verifying  4000 with 7\n",
      "verifying  4000 with 10\n",
      "verifying  4000 with 32\n",
      "verifying  4000 with -20\n",
      "not find the element\n"
     ]
    }
   ],
   "source": [
    "# whether element is found or not\n",
    "l=[1,2,3,6,7,8,10,32,-20,89,-45,67,58,8,8,2,3,6,7,10,32,-20]\n",
    "element_search = int(raw_input(\"enter an element to search:\"))\n",
    "c=0\n",
    "for i in l:\n",
    "    print \"verifying \",element_search,\"with\",i\n",
    "    if element_search==i:\n",
    "        c=c+1\n",
    "if c==0:\n",
    "    print \"not find the element\"\n",
    "else:\n",
    "    print \"find the element\"\n",
    "    "
   ]
  },
  {
   "cell_type": "code",
   "execution_count": 13,
   "metadata": {},
   "outputs": [
    {
     "name": "stdout",
     "output_type": "stream",
     "text": [
      "enter an element to search:3\n",
      "verifying  3 with 1\n",
      "verifying  3 with 2\n",
      "verifying  3 with 3\n",
      "find the element\n"
     ]
    }
   ],
   "source": [
    "# whether element is found or not\n",
    "l=[1,2,3,6,7,8,10,32,-20,89,-45,67,58,8,8,2,3,6,7,10,32,-20]\n",
    "element_search = int(raw_input(\"enter an element to search:\"))\n",
    "c=0\n",
    "for i in l:\n",
    "    print \"verifying \",element_search,\"with\",i\n",
    "    if element_search==i:\n",
    "        c=c+1\n",
    "        break\n",
    "if c==0:\n",
    "    print \"not find the element\"\n",
    "else:\n",
    "    print \"find the element\"\n",
    "    "
   ]
  },
  {
   "cell_type": "code",
   "execution_count": 14,
   "metadata": {},
   "outputs": [
    {
     "name": "stdout",
     "output_type": "stream",
     "text": [
      "enter an element to search:400\n",
      "verifying  400 with 1\n",
      "verifying  400 with 2\n",
      "verifying  400 with 3\n",
      "verifying  400 with 6\n",
      "verifying  400 with 7\n",
      "verifying  400 with 8\n",
      "verifying  400 with 10\n",
      "verifying  400 with 32\n",
      "verifying  400 with -20\n",
      "verifying  400 with 89\n",
      "verifying  400 with -45\n",
      "verifying  400 with 67\n",
      "verifying  400 with 58\n",
      "verifying  400 with 8\n",
      "verifying  400 with 8\n",
      "verifying  400 with 2\n",
      "verifying  400 with 3\n",
      "verifying  400 with 6\n",
      "verifying  400 with 7\n",
      "verifying  400 with 10\n",
      "verifying  400 with 32\n",
      "verifying  400 with -20\n",
      "not find the element\n"
     ]
    }
   ],
   "source": [
    "# whether element is found or not\n",
    "l=[1,2,3,6,7,8,10,32,-20,89,-45,67,58,8,8,2,3,6,7,10,32,-20]\n",
    "element_search = int(raw_input(\"enter an element to search:\"))\n",
    "c=0\n",
    "for i in l:\n",
    "    print \"verifying \",element_search,\"with\",i\n",
    "    if element_search==i:\n",
    "        c=c+1\n",
    "        break\n",
    "if c==0:\n",
    "    print \"not find the element\"\n",
    "else:\n",
    "    print \"find the element\"\n",
    "    "
   ]
  },
  {
   "cell_type": "code",
   "execution_count": 16,
   "metadata": {},
   "outputs": [
    {
     "name": "stdout",
     "output_type": "stream",
     "text": [
      "enter an element to search:3\n",
      "verifying  3 with 3\n",
      "verifying  3 with 3\n",
      "find the element\n"
     ]
    }
   ],
   "source": [
    "# whether element is found or not\n",
    "l=[1,2,3,6,7,8,10,32,-20,89,-45,67,58,8,8,2,3,6,7,10,32,-20]\n",
    "element_search = int(raw_input(\"enter an element to search:\"))\n",
    "c=0\n",
    "for i in l:\n",
    "    \n",
    "    if element_search==i:\n",
    "        print \"verifying \",element_search,\"with\",i\n",
    "        c=c+1\n",
    "        print \"verifying \",element_search,\"with\",i\n",
    "        break\n",
    "if c==0:\n",
    "    print \"not find the element\"\n",
    "else:\n",
    "    print \"find the element\"\n",
    "    "
   ]
  },
  {
   "cell_type": "code",
   "execution_count": 17,
   "metadata": {},
   "outputs": [
    {
     "name": "stdout",
     "output_type": "stream",
     "text": [
      "enter an element to search:3\n",
      "verifying  3 with 3\n",
      "verifying  3 with 3\n",
      "find the element\n"
     ]
    }
   ],
   "source": [
    "# whether element is found or not\n",
    "l=[1,2,3,6,7,8,10,32,-20,89,-45,67,58,8,8,2,3,6,7,10,32,-20]\n",
    "element_search = int(raw_input(\"enter an element to search:\"))\n",
    "c=0\n",
    "for i in l:\n",
    "    \n",
    "    if element_search==i:\n",
    "        print \"verifying \",element_search,\"with\",i\n",
    "        c=c+1\n",
    "        print \"verifying \",element_search,\"with\",i\n",
    "        break\n",
    "        print \"After break\"\n",
    "if c==0:\n",
    "    print \"not find the element\"\n",
    "else:\n",
    "    print \"find the element\"\n",
    "    "
   ]
  },
  {
   "cell_type": "code",
   "execution_count": 18,
   "metadata": {},
   "outputs": [
    {
     "name": "stdout",
     "output_type": "stream",
     "text": [
      "enter an element to search:3\n",
      "element found\n"
     ]
    }
   ],
   "source": [
    "l=[1,2,3,6,7,8,10,32,-20,89,-45,67,58,8,8,2,3,6,7,10,32,-20]\n",
    "element_search = int(raw_input(\"enter an element to search:\"))\n",
    "if element_search in l:\n",
    "    print \"element found\"\n",
    "else:\n",
    "    print \"element not found\""
   ]
  },
  {
   "cell_type": "code",
   "execution_count": 19,
   "metadata": {},
   "outputs": [
    {
     "name": "stdout",
     "output_type": "stream",
     "text": [
      "program started\n",
      "i out side loop: 0\n"
     ]
    }
   ],
   "source": [
    "print \"program started\"\n",
    "i=0\n",
    "while i>10:\n",
    "    i=i+1\n",
    "    break\n",
    "print \"i out side loop:\",i"
   ]
  },
  {
   "cell_type": "code",
   "execution_count": 20,
   "metadata": {},
   "outputs": [
    {
     "name": "stdout",
     "output_type": "stream",
     "text": [
      "program started\n",
      "i out side loop: 1\n"
     ]
    }
   ],
   "source": [
    "print \"program started\"\n",
    "i=0\n",
    "while i<10:\n",
    "    i=i+1\n",
    "    break\n",
    "print \"i out side loop:\",i"
   ]
  },
  {
   "cell_type": "code",
   "execution_count": 21,
   "metadata": {},
   "outputs": [
    {
     "name": "stdout",
     "output_type": "stream",
     "text": [
      "program started\n",
      "i out side loop: 1\n"
     ]
    }
   ],
   "source": [
    "print \"program started\"\n",
    "i=0\n",
    "while i<10:\n",
    "    i=i+1\n",
    "    break\n",
    "    print \"i inside loop:\",i\n",
    "print \"i out side loop:\",i"
   ]
  },
  {
   "cell_type": "code",
   "execution_count": 23,
   "metadata": {},
   "outputs": [
    {
     "name": "stdout",
     "output_type": "stream",
     "text": [
      "program started\n",
      "i inside loop: 1\n",
      "i inside loop: 2\n",
      "i out side loop: 3\n"
     ]
    }
   ],
   "source": [
    "print \"program started\"\n",
    "i=0\n",
    "while i<10:\n",
    "    i=i+1\n",
    "    if i==3:\n",
    "        break\n",
    "    print \"i inside loop:\",i\n",
    "print \"i out side loop:\",i"
   ]
  },
  {
   "cell_type": "code",
   "execution_count": 22,
   "metadata": {},
   "outputs": [
    {
     "ename": "SyntaxError",
     "evalue": "'break' outside loop (<ipython-input-22-da75756ad1d4>, line 2)",
     "output_type": "error",
     "traceback": [
      "\u001b[0;36m  File \u001b[0;32m\"<ipython-input-22-da75756ad1d4>\"\u001b[0;36m, line \u001b[0;32m2\u001b[0m\n\u001b[0;31m    break\u001b[0m\n\u001b[0;31mSyntaxError\u001b[0m\u001b[0;31m:\u001b[0m 'break' outside loop\n"
     ]
    }
   ],
   "source": [
    "if True:\n",
    "    break"
   ]
  },
  {
   "cell_type": "code",
   "execution_count": 24,
   "metadata": {},
   "outputs": [
    {
     "name": "stdout",
     "output_type": "stream",
     "text": [
      "program started\n",
      "i out side loop: 3\n"
     ]
    }
   ],
   "source": [
    "print \"program started\"\n",
    "i=0\n",
    "while i<10:\n",
    "    i=i+1\n",
    "    if i==3:\n",
    "        break\n",
    "        print \"i inside loop:\",i\n",
    "print \"i out side loop:\",i"
   ]
  },
  {
   "cell_type": "code",
   "execution_count": null,
   "metadata": {
    "collapsed": true
   },
   "outputs": [],
   "source": [
    "print \"program started\"\n",
    "i=0\n",
    "while i<10:\n",
    "    i=i+1\n",
    "    if i==3:\n",
    "        break\n",
    "    print \"i inside loop:\",i\n",
    "print \"i out side loop:\",i"
   ]
  },
  {
   "cell_type": "code",
   "execution_count": 25,
   "metadata": {},
   "outputs": [
    {
     "name": "stdout",
     "output_type": "stream",
     "text": [
      "program started\n",
      "i in side loop: p\n",
      "i in side loop: y\n",
      "i in side loop: t\n",
      "i in side loop: h\n",
      "i outside loop: o\n",
      "progrma ended\n"
     ]
    }
   ],
   "source": [
    "print \"program started\"\n",
    "for i in \"python\":\n",
    "    if i==\"o\":\n",
    "        break\n",
    "    print \"i in side loop:\",i\n",
    "print \"i outside loop:\",i\n",
    "print \"progrma ended\""
   ]
  },
  {
   "cell_type": "code",
   "execution_count": 26,
   "metadata": {},
   "outputs": [
    {
     "name": "stdout",
     "output_type": "stream",
     "text": [
      "i outside loop: 1\n"
     ]
    }
   ],
   "source": [
    "# continue\n",
    "i=0\n",
    "while i<10:\n",
    "    i=i+1\n",
    "    break\n",
    "print \"i outside loop:\",i"
   ]
  },
  {
   "cell_type": "code",
   "execution_count": 27,
   "metadata": {},
   "outputs": [
    {
     "name": "stdout",
     "output_type": "stream",
     "text": [
      "i outside loop: 10\n"
     ]
    }
   ],
   "source": [
    "# continue\n",
    "i=0\n",
    "while i<10:\n",
    "    i=i+1\n",
    "    continue\n",
    "print \"i outside loop:\",i"
   ]
  },
  {
   "cell_type": "code",
   "execution_count": 28,
   "metadata": {},
   "outputs": [
    {
     "name": "stdout",
     "output_type": "stream",
     "text": [
      "i outside loop: 10\n"
     ]
    }
   ],
   "source": [
    "# continue\n",
    "i=0\n",
    "while i<10:\n",
    "    i=i+1\n",
    "print \"i outside loop:\",i"
   ]
  },
  {
   "cell_type": "code",
   "execution_count": 29,
   "metadata": {},
   "outputs": [
    {
     "name": "stdout",
     "output_type": "stream",
     "text": [
      "i outside loop: 10\n"
     ]
    }
   ],
   "source": [
    "# continue\n",
    "i=0\n",
    "while i<10:\n",
    "    i=i+1\n",
    "    continue\n",
    "    \n",
    "    print \"i inside loop:\",i\n",
    "print \"i outside loop:\",i"
   ]
  },
  {
   "cell_type": "code",
   "execution_count": 30,
   "metadata": {},
   "outputs": [
    {
     "name": "stdout",
     "output_type": "stream",
     "text": [
      "i inside loop: 1\n",
      "i inside loop: 2\n",
      "i inside loop: 3\n",
      "i inside loop: 4\n",
      "i inside loop: 5\n",
      "i inside loop: 6\n",
      "i inside loop: 7\n",
      "i inside loop: 8\n",
      "i inside loop: 9\n",
      "i inside loop: 10\n",
      "i outside loop: 10\n"
     ]
    }
   ],
   "source": [
    "# continue\n",
    "i=0\n",
    "while i<10:\n",
    "    i=i+1\n",
    "    print \"i inside loop:\",i\n",
    "print \"i outside loop:\",i"
   ]
  },
  {
   "cell_type": "code",
   "execution_count": 31,
   "metadata": {},
   "outputs": [
    {
     "name": "stdout",
     "output_type": "stream",
     "text": [
      "0\n"
     ]
    }
   ],
   "source": [
    "i=0\n",
    "while i<10:\n",
    "    break\n",
    "    i=i+1\n",
    "print i"
   ]
  },
  {
   "cell_type": "code",
   "execution_count": 32,
   "metadata": {},
   "outputs": [
    {
     "name": "stdout",
     "output_type": "stream",
     "text": [
      "1\n"
     ]
    }
   ],
   "source": [
    "i=0\n",
    "while i<10:\n",
    "    i=i+1\n",
    "    break\n",
    "print i"
   ]
  },
  {
   "cell_type": "code",
   "execution_count": null,
   "metadata": {
    "collapsed": true
   },
   "outputs": [],
   "source": [
    "i=0\n",
    "while i<10:\n",
    "    continue\n",
    "    i=i+1\n",
    "print i"
   ]
  },
  {
   "cell_type": "code",
   "execution_count": null,
   "metadata": {
    "collapsed": true
   },
   "outputs": [],
   "source": [
    "for i in [\"c\",\"cpp\",\"python\",\"php\",\"java\"]:\n",
    "    if i in [\"php\",\"cpp\"]:\n",
    "        continue\n",
    "    print \"i inside loop:\",i\n",
    "print \"i outside loop:\",i\n",
    "        "
   ]
  },
  {
   "cell_type": "code",
   "execution_count": 33,
   "metadata": {},
   "outputs": [
    {
     "data": {
      "text/plain": [
       "False"
      ]
     },
     "execution_count": 33,
     "metadata": {},
     "output_type": "execute_result"
    }
   ],
   "source": [
    "\"c\" in [\"php\",\"cpp\"]"
   ]
  },
  {
   "cell_type": "code",
   "execution_count": 34,
   "metadata": {},
   "outputs": [
    {
     "data": {
      "text/plain": [
       "True"
      ]
     },
     "execution_count": 34,
     "metadata": {},
     "output_type": "execute_result"
    }
   ],
   "source": [
    "\"cpp\" in [\"php\",\"cpp\"]"
   ]
  },
  {
   "cell_type": "code",
   "execution_count": 35,
   "metadata": {},
   "outputs": [
    {
     "data": {
      "text/plain": [
       "True"
      ]
     },
     "execution_count": 35,
     "metadata": {},
     "output_type": "execute_result"
    }
   ],
   "source": [
    "\"php\" in [\"php\",\"cpp\"]"
   ]
  },
  {
   "cell_type": "code",
   "execution_count": 1,
   "metadata": {},
   "outputs": [
    {
     "name": "stdout",
     "output_type": "stream",
     "text": [
      "Enter a value:10\n",
      "Enter b value:5\n",
      "a is divisible by b\n"
     ]
    }
   ],
   "source": [
    "a=int(raw_input(\"Enter a value:\"))\n",
    "b=int(raw_input(\"Enter b value:\"))\n",
    "if a%b==0:\n",
    "    print \"a is divisible by b\"\n",
    "else:\n",
    "    print \"a is not divisible by b\""
   ]
  },
  {
   "cell_type": "code",
   "execution_count": 2,
   "metadata": {},
   "outputs": [
    {
     "name": "stdout",
     "output_type": "stream",
     "text": [
      "Enter a value:15\n",
      "Enter b value:2\n",
      "a is not divisible by b\n"
     ]
    }
   ],
   "source": [
    "a=int(raw_input(\"Enter a value:\"))\n",
    "b=int(raw_input(\"Enter b value:\"))\n",
    "if a%b==0:\n",
    "    print \"a is divisible by b\"\n",
    "else:\n",
    "    print \"a is not divisible by b\""
   ]
  },
  {
   "cell_type": "code",
   "execution_count": 3,
   "metadata": {},
   "outputs": [
    {
     "data": {
      "text/plain": [
       "[0, 1, 2, 3, 4, 5, 6, 7, 8, 9]"
      ]
     },
     "execution_count": 3,
     "metadata": {},
     "output_type": "execute_result"
    }
   ],
   "source": [
    "range(10)"
   ]
  },
  {
   "cell_type": "code",
   "execution_count": 4,
   "metadata": {},
   "outputs": [
    {
     "data": {
      "text/plain": [
       "[1, 2, 3, 4, 5, 6, 7, 8, 9]"
      ]
     },
     "execution_count": 4,
     "metadata": {},
     "output_type": "execute_result"
    }
   ],
   "source": [
    "range(1,10)"
   ]
  },
  {
   "cell_type": "code",
   "execution_count": 5,
   "metadata": {},
   "outputs": [
    {
     "data": {
      "text/plain": [
       "[1, 3, 5, 7, 9]"
      ]
     },
     "execution_count": 5,
     "metadata": {},
     "output_type": "execute_result"
    }
   ],
   "source": [
    "range(1,10,2)"
   ]
  },
  {
   "cell_type": "code",
   "execution_count": 6,
   "metadata": {},
   "outputs": [
    {
     "name": "stdout",
     "output_type": "stream",
     "text": [
      "enter a value:7\n",
      "1\n",
      "2\n",
      "3\n",
      "4\n",
      "5\n",
      "6\n"
     ]
    }
   ],
   "source": [
    "a=int(raw_input(\"enter a value:\"))\n",
    "for i in range(1,a):\n",
    "    print i"
   ]
  },
  {
   "cell_type": "code",
   "execution_count": 7,
   "metadata": {},
   "outputs": [
    {
     "name": "stdout",
     "output_type": "stream",
     "text": [
      "enter a value:200\n",
      "a= 200 i= 1\n",
      "a= 200 i= 2\n",
      "a= 200 i= 4\n",
      "a= 200 i= 5\n",
      "a= 200 i= 8\n",
      "a= 200 i= 10\n",
      "a= 200 i= 20\n",
      "a= 200 i= 25\n",
      "a= 200 i= 40\n",
      "a= 200 i= 50\n",
      "a= 200 i= 100\n",
      "its not a prime number\n"
     ]
    }
   ],
   "source": [
    "a=int(raw_input(\"enter a value:\"))\n",
    "f_c=0\n",
    "for i in range(1,a):\n",
    "    if a%i==0:\n",
    "        print \"a=\",a,\"i=\",i\n",
    "        f_c=f_c+1\n",
    "if f_c==2:\n",
    "    print \"its a primenumber\"\n",
    "else:\n",
    "    print \"its not a prime number\"\n",
    "\n",
    "        "
   ]
  },
  {
   "cell_type": "code",
   "execution_count": 8,
   "metadata": {},
   "outputs": [
    {
     "name": "stdout",
     "output_type": "stream",
     "text": [
      "enter a value:9\n",
      "a= 9 i= 1\n",
      "a= 9 i= 3\n",
      "its a primenumber\n"
     ]
    }
   ],
   "source": [
    "a=int(raw_input(\"enter a value:\"))\n",
    "f_c=0\n",
    "for i in range(1,a):\n",
    "    if a%i==0:\n",
    "        print \"a=\",a,\"i=\",i\n",
    "        f_c=f_c+1\n",
    "if f_c==2:\n",
    "    print \"its a primenumber\"\n",
    "else:\n",
    "    print \"its not a prime number\"\n",
    "\n",
    "        "
   ]
  },
  {
   "cell_type": "code",
   "execution_count": 9,
   "metadata": {},
   "outputs": [
    {
     "name": "stdout",
     "output_type": "stream",
     "text": [
      "enter a value:10\n",
      "a= 10 i= 1\n",
      "a= 10 i= 2\n",
      "a= 10 i= 5\n",
      "a= 10 i= 10\n",
      "its not a prime number\n"
     ]
    }
   ],
   "source": [
    "a=int(raw_input(\"enter a value:\"))\n",
    "f_c=0\n",
    "for i in range(1,a+1):\n",
    "    if a%i==0:\n",
    "        print \"a=\",a,\"i=\",i\n",
    "        f_c=f_c+1\n",
    "if f_c==2:\n",
    "    print \"its a primenumber\"\n",
    "else:\n",
    "    print \"its not a prime number\"\n",
    "\n",
    "        "
   ]
  },
  {
   "cell_type": "code",
   "execution_count": 10,
   "metadata": {},
   "outputs": [
    {
     "name": "stdout",
     "output_type": "stream",
     "text": [
      "enter a value:9\n",
      "a= 9 i= 1\n",
      "a= 9 i= 3\n",
      "a= 9 i= 9\n",
      "its not a prime number\n"
     ]
    }
   ],
   "source": [
    "a=int(raw_input(\"enter a value:\"))\n",
    "f_c=0\n",
    "for i in range(1,a+1):\n",
    "    if a%i==0:\n",
    "        print \"a=\",a,\"i=\",i\n",
    "        f_c=f_c+1\n",
    "if f_c==2:\n",
    "    print \"its a primenumber\"\n",
    "else:\n",
    "    print \"its not a prime number\"\n",
    "\n",
    "        "
   ]
  },
  {
   "cell_type": "code",
   "execution_count": 11,
   "metadata": {},
   "outputs": [
    {
     "name": "stdout",
     "output_type": "stream",
     "text": [
      "enter a value:12\n",
      "a= 12 i= 2\n",
      "a= 12 i= 3\n",
      "a= 12 i= 4\n",
      "a= 12 i= 6\n",
      "its not a prime number\n"
     ]
    }
   ],
   "source": [
    "a=int(raw_input(\"enter a value:\"))\n",
    "f_c=0\n",
    "for i in range(2,a):\n",
    "    if a%i==0:\n",
    "        print \"a=\",a,\"i=\",i\n",
    "        f_c=f_c+1\n",
    "if f_c==0:\n",
    "    print \"its a primenumber\"\n",
    "else:\n",
    "    print \"its not a prime number\"\n",
    "\n",
    "        "
   ]
  },
  {
   "cell_type": "code",
   "execution_count": 12,
   "metadata": {},
   "outputs": [
    {
     "name": "stdout",
     "output_type": "stream",
     "text": [
      "enter a value:60\n",
      "a= 60 i= 2\n",
      "a= 60 i= 3\n",
      "a= 60 i= 4\n",
      "a= 60 i= 5\n",
      "a= 60 i= 6\n",
      "a= 60 i= 10\n",
      "a= 60 i= 12\n",
      "a= 60 i= 15\n",
      "a= 60 i= 20\n",
      "a= 60 i= 30\n",
      "its not a prime number\n"
     ]
    }
   ],
   "source": [
    "a=int(raw_input(\"enter a value:\"))\n",
    "f_c=0\n",
    "for i in range(2,a):\n",
    "    if a%i==0:\n",
    "        print \"a=\",a,\"i=\",i\n",
    "        f_c=f_c+1\n",
    "if f_c==0:\n",
    "    print \"its a primenumber\"\n",
    "else:\n",
    "    print \"its not a prime number\"\n",
    "\n",
    "        "
   ]
  },
  {
   "cell_type": "code",
   "execution_count": 13,
   "metadata": {},
   "outputs": [
    {
     "name": "stdout",
     "output_type": "stream",
     "text": [
      "enter a value:1\n",
      "its a primenumber\n"
     ]
    }
   ],
   "source": [
    "a=int(raw_input(\"enter a value:\"))\n",
    "f_c=0\n",
    "for i in range(2,a):\n",
    "    if a%i==0:\n",
    "        print \"a=\",a,\"i=\",i\n",
    "        f_c=f_c+1\n",
    "if f_c==0:\n",
    "    print \"its a primenumber\"\n",
    "else:\n",
    "    print \"its not a prime number\"\n"
   ]
  },
  {
   "cell_type": "code",
   "execution_count": 14,
   "metadata": {},
   "outputs": [
    {
     "name": "stdout",
     "output_type": "stream",
     "text": [
      "enter a value:2\n",
      "its a primenumber\n"
     ]
    }
   ],
   "source": [
    "a=int(raw_input(\"enter a value:\"))\n",
    "f_c=0\n",
    "for i in range(2,a):\n",
    "    if a%i==0:\n",
    "        print \"a=\",a,\"i=\",i\n",
    "        f_c=f_c+1\n",
    "if f_c==0:\n",
    "    print \"its a primenumber\"\n",
    "else:\n",
    "    print \"its not a prime number\"\n"
   ]
  },
  {
   "cell_type": "code",
   "execution_count": 15,
   "metadata": {},
   "outputs": [
    {
     "name": "stdout",
     "output_type": "stream",
     "text": [
      "enter a value:1\n",
      "its a primenumber\n"
     ]
    }
   ],
   "source": [
    "a=int(raw_input(\"enter a value:\"))\n",
    "f_c=0\n",
    "for i in range(2,a):\n",
    "    if a%i==0:\n",
    "        print \"a=\",a,\"i=\",i\n",
    "        f_c=f_c+1\n",
    "if f_c==0:\n",
    "    print \"its a primenumber\"\n",
    "else:\n",
    "    print \"its not a prime number\"\n"
   ]
  },
  {
   "cell_type": "code",
   "execution_count": 16,
   "metadata": {},
   "outputs": [
    {
     "name": "stdout",
     "output_type": "stream",
     "text": [
      "enter a value:12\n",
      "a= 12 i= 2\n",
      "a= 12 i= 3\n",
      "a= 12 i= 4\n",
      "a= 12 i= 6\n",
      "its not a prime number\n"
     ]
    }
   ],
   "source": [
    "a=int(raw_input(\"enter a value:\"))\n",
    "f_c=0\n",
    "if a>1:\n",
    "    for i in range(2,a):\n",
    "        if a%i==0:\n",
    "            print \"a=\",a,\"i=\",i\n",
    "            f_c=f_c+1\n",
    "    if f_c==0:\n",
    "        print \"its a primenumber\"\n",
    "    else:\n",
    "        print \"its not a prime number\"\n",
    "else:\n",
    "    print \"it's not a primenumber\"\n"
   ]
  },
  {
   "cell_type": "code",
   "execution_count": 17,
   "metadata": {},
   "outputs": [
    {
     "name": "stdout",
     "output_type": "stream",
     "text": [
      "enter a value:23\n",
      "its a primenumber\n"
     ]
    }
   ],
   "source": [
    "a=int(raw_input(\"enter a value:\"))\n",
    "f_c=0\n",
    "if a>1:\n",
    "    for i in range(2,a):\n",
    "        if a%i==0:\n",
    "            print \"a=\",a,\"i=\",i\n",
    "            f_c=f_c+1\n",
    "    if f_c==0:\n",
    "        print \"its a primenumber\"\n",
    "    else:\n",
    "        print \"its not a prime number\"\n",
    "else:\n",
    "    print \"it's not a primenumber\"\n"
   ]
  },
  {
   "cell_type": "code",
   "execution_count": 18,
   "metadata": {},
   "outputs": [
    {
     "name": "stdout",
     "output_type": "stream",
     "text": [
      "enter a value:1\n",
      "it's not a primenumber\n"
     ]
    }
   ],
   "source": [
    "a=int(raw_input(\"enter a value:\"))\n",
    "f_c=0\n",
    "if a>1:\n",
    "    for i in range(2,a):\n",
    "        if a%i==0:\n",
    "            print \"a=\",a,\"i=\",i\n",
    "            f_c=f_c+1\n",
    "    if f_c==0:\n",
    "        print \"its a primenumber\"\n",
    "    else:\n",
    "        print \"its not a prime number\"\n",
    "else:\n",
    "    print \"it's not a primenumber\"\n"
   ]
  },
  {
   "cell_type": "code",
   "execution_count": 19,
   "metadata": {},
   "outputs": [
    {
     "name": "stdout",
     "output_type": "stream",
     "text": [
      "enter a value:0\n",
      "it's not a primenumber\n"
     ]
    }
   ],
   "source": [
    "a=int(raw_input(\"enter a value:\"))\n",
    "f_c=0\n",
    "if a>1:\n",
    "    for i in range(2,a):\n",
    "        if a%i==0:\n",
    "            print \"a=\",a,\"i=\",i\n",
    "            f_c=f_c+1\n",
    "    if f_c==0:\n",
    "        print \"its a primenumber\"\n",
    "    else:\n",
    "        print \"its not a prime number\"\n",
    "else:\n",
    "    print \"it's not a primenumber\"\n"
   ]
  },
  {
   "cell_type": "code",
   "execution_count": 20,
   "metadata": {},
   "outputs": [
    {
     "name": "stdout",
     "output_type": "stream",
     "text": [
      "enter a value:23\n",
      "its a primenumber\n"
     ]
    }
   ],
   "source": [
    "a=int(raw_input(\"enter a value:\"))\n",
    "f_c=0\n",
    "if a>1:\n",
    "    for i in range(2,a):\n",
    "        if a%i==0:\n",
    "            print \"a=\",a,\"i=\",i\n",
    "            f_c=f_c+1\n",
    "    if f_c==0:\n",
    "        print \"its a primenumber\"\n",
    "    else:\n",
    "        print \"its not a prime number\"\n",
    "else:\n",
    "    print \"it's not a primenumber\"\n"
   ]
  },
  {
   "cell_type": "code",
   "execution_count": 21,
   "metadata": {},
   "outputs": [
    {
     "name": "stdout",
     "output_type": "stream",
     "text": [
      "enter a value:23\n",
      "a= 23 i= 2\n",
      "a= 23 i= 3\n",
      "a= 23 i= 4\n",
      "a= 23 i= 5\n",
      "a= 23 i= 6\n",
      "a= 23 i= 7\n",
      "a= 23 i= 8\n",
      "a= 23 i= 9\n",
      "a= 23 i= 10\n",
      "a= 23 i= 11\n",
      "a= 23 i= 12\n",
      "a= 23 i= 13\n",
      "a= 23 i= 14\n",
      "a= 23 i= 15\n",
      "a= 23 i= 16\n",
      "a= 23 i= 17\n",
      "a= 23 i= 18\n",
      "a= 23 i= 19\n",
      "a= 23 i= 20\n",
      "a= 23 i= 21\n",
      "a= 23 i= 22\n",
      "its a primenumber\n"
     ]
    }
   ],
   "source": [
    "a=int(raw_input(\"enter a value:\"))\n",
    "f_c=0\n",
    "if a>1:\n",
    "    for i in range(2,a):\n",
    "        print \"a=\",a,\"i=\",i\n",
    "        if a%i==0:\n",
    "            f_c=f_c+1\n",
    "    if f_c==0:\n",
    "        print \"its a primenumber\"\n",
    "    else:\n",
    "        print \"its not a prime number\"\n",
    "else:\n",
    "    print \"it's not a primenumber\"\n"
   ]
  },
  {
   "cell_type": "code",
   "execution_count": 22,
   "metadata": {},
   "outputs": [
    {
     "name": "stdout",
     "output_type": "stream",
     "text": [
      "enter a value:400\n",
      "a= 400 i= 2\n",
      "a= 400 i= 3\n",
      "a= 400 i= 4\n",
      "a= 400 i= 5\n",
      "a= 400 i= 6\n",
      "a= 400 i= 7\n",
      "a= 400 i= 8\n",
      "a= 400 i= 9\n",
      "a= 400 i= 10\n",
      "a= 400 i= 11\n",
      "a= 400 i= 12\n",
      "a= 400 i= 13\n",
      "a= 400 i= 14\n",
      "a= 400 i= 15\n",
      "a= 400 i= 16\n",
      "a= 400 i= 17\n",
      "a= 400 i= 18\n",
      "a= 400 i= 19\n",
      "a= 400 i= 20\n",
      "a= 400 i= 21\n",
      "a= 400 i= 22\n",
      "a= 400 i= 23\n",
      "a= 400 i= 24\n",
      "a= 400 i= 25\n",
      "a= 400 i= 26\n",
      "a= 400 i= 27\n",
      "a= 400 i= 28\n",
      "a= 400 i= 29\n",
      "a= 400 i= 30\n",
      "a= 400 i= 31\n",
      "a= 400 i= 32\n",
      "a= 400 i= 33\n",
      "a= 400 i= 34\n",
      "a= 400 i= 35\n",
      "a= 400 i= 36\n",
      "a= 400 i= 37\n",
      "a= 400 i= 38\n",
      "a= 400 i= 39\n",
      "a= 400 i= 40\n",
      "a= 400 i= 41\n",
      "a= 400 i= 42\n",
      "a= 400 i= 43\n",
      "a= 400 i= 44\n",
      "a= 400 i= 45\n",
      "a= 400 i= 46\n",
      "a= 400 i= 47\n",
      "a= 400 i= 48\n",
      "a= 400 i= 49\n",
      "a= 400 i= 50\n",
      "a= 400 i= 51\n",
      "a= 400 i= 52\n",
      "a= 400 i= 53\n",
      "a= 400 i= 54\n",
      "a= 400 i= 55\n",
      "a= 400 i= 56\n",
      "a= 400 i= 57\n",
      "a= 400 i= 58\n",
      "a= 400 i= 59\n",
      "a= 400 i= 60\n",
      "a= 400 i= 61\n",
      "a= 400 i= 62\n",
      "a= 400 i= 63\n",
      "a= 400 i= 64\n",
      "a= 400 i= 65\n",
      "a= 400 i= 66\n",
      "a= 400 i= 67\n",
      "a= 400 i= 68\n",
      "a= 400 i= 69\n",
      "a= 400 i= 70\n",
      "a= 400 i= 71\n",
      "a= 400 i= 72\n",
      "a= 400 i= 73\n",
      "a= 400 i= 74\n",
      "a= 400 i= 75\n",
      "a= 400 i= 76\n",
      "a= 400 i= 77\n",
      "a= 400 i= 78\n",
      "a= 400 i= 79\n",
      "a= 400 i= 80\n",
      "a= 400 i= 81\n",
      "a= 400 i= 82\n",
      "a= 400 i= 83\n",
      "a= 400 i= 84\n",
      "a= 400 i= 85\n",
      "a= 400 i= 86\n",
      "a= 400 i= 87\n",
      "a= 400 i= 88\n",
      "a= 400 i= 89\n",
      "a= 400 i= 90\n",
      "a= 400 i= 91\n",
      "a= 400 i= 92\n",
      "a= 400 i= 93\n",
      "a= 400 i= 94\n",
      "a= 400 i= 95\n",
      "a= 400 i= 96\n",
      "a= 400 i= 97\n",
      "a= 400 i= 98\n",
      "a= 400 i= 99\n",
      "a= 400 i= 100\n",
      "a= 400 i= 101\n",
      "a= 400 i= 102\n",
      "a= 400 i= 103\n",
      "a= 400 i= 104\n",
      "a= 400 i= 105\n",
      "a= 400 i= 106\n",
      "a= 400 i= 107\n",
      "a= 400 i= 108\n",
      "a= 400 i= 109\n",
      "a= 400 i= 110\n",
      "a= 400 i= 111\n",
      "a= 400 i= 112\n",
      "a= 400 i= 113\n",
      "a= 400 i= 114\n",
      "a= 400 i= 115\n",
      "a= 400 i= 116\n",
      "a= 400 i= 117\n",
      "a= 400 i= 118\n",
      "a= 400 i= 119\n",
      "a= 400 i= 120\n",
      "a= 400 i= 121\n",
      "a= 400 i= 122\n",
      "a= 400 i= 123\n",
      "a= 400 i= 124\n",
      "a= 400 i= 125\n",
      "a= 400 i= 126\n",
      "a= 400 i= 127\n",
      "a= 400 i= 128\n",
      "a= 400 i= 129\n",
      "a= 400 i= 130\n",
      "a= 400 i= 131\n",
      "a= 400 i= 132\n",
      "a= 400 i= 133\n",
      "a= 400 i= 134\n",
      "a= 400 i= 135\n",
      "a= 400 i= 136\n",
      "a= 400 i= 137\n",
      "a= 400 i= 138\n",
      "a= 400 i= 139\n",
      "a= 400 i= 140\n",
      "a= 400 i= 141\n",
      "a= 400 i= 142\n",
      "a= 400 i= 143\n",
      "a= 400 i= 144\n",
      "a= 400 i= 145\n",
      "a= 400 i= 146\n",
      "a= 400 i= 147\n",
      "a= 400 i= 148\n",
      "a= 400 i= 149\n",
      "a= 400 i= 150\n",
      "a= 400 i= 151\n",
      "a= 400 i= 152\n",
      "a= 400 i= 153\n",
      "a= 400 i= 154\n",
      "a= 400 i= 155\n",
      "a= 400 i= 156\n",
      "a= 400 i= 157\n",
      "a= 400 i= 158\n",
      "a= 400 i= 159\n",
      "a= 400 i= 160\n",
      "a= 400 i= 161\n",
      "a= 400 i= 162\n",
      "a= 400 i= 163\n",
      "a= 400 i= 164\n",
      "a= 400 i= 165\n",
      "a= 400 i= 166\n",
      "a= 400 i= 167\n",
      "a= 400 i= 168\n",
      "a= 400 i= 169\n",
      "a= 400 i= 170\n",
      "a= 400 i= 171\n",
      "a= 400 i= 172\n",
      "a= 400 i= 173\n",
      "a= 400 i= 174\n",
      "a= 400 i= 175\n",
      "a= 400 i= 176\n",
      "a= 400 i= 177\n",
      "a= 400 i= 178\n",
      "a= 400 i= 179\n",
      "a= 400 i= 180\n",
      "a= 400 i= 181\n",
      "a= 400 i= 182\n",
      "a= 400 i= 183\n",
      "a= 400 i= 184\n",
      "a= 400 i= 185\n",
      "a= 400 i= 186\n",
      "a= 400 i= 187\n",
      "a= 400 i= 188\n",
      "a= 400 i= 189\n",
      "a= 400 i= 190\n",
      "a= 400 i= 191\n",
      "a= 400 i= 192\n",
      "a= 400 i= 193\n",
      "a= 400 i= 194\n",
      "a= 400 i= 195\n",
      "a= 400 i= 196\n",
      "a= 400 i= 197\n",
      "a= 400 i= 198\n",
      "a= 400 i= 199\n",
      "a= 400 i= 200\n",
      "a= 400 i= 201\n",
      "a= 400 i= 202\n",
      "a= 400 i= 203\n",
      "a= 400 i= 204\n",
      "a= 400 i= 205\n",
      "a= 400 i= 206\n",
      "a= 400 i= 207\n",
      "a= 400 i= 208\n",
      "a= 400 i= 209\n",
      "a= 400 i= 210\n",
      "a= 400 i= 211\n",
      "a= 400 i= 212\n",
      "a= 400 i= 213\n",
      "a= 400 i= 214\n",
      "a= 400 i= 215\n",
      "a= 400 i= 216\n",
      "a= 400 i= 217\n",
      "a= 400 i= 218\n",
      "a= 400 i= 219\n",
      "a= 400 i= 220\n",
      "a= 400 i= 221\n",
      "a= 400 i= 222\n",
      "a= 400 i= 223\n",
      "a= 400 i= 224\n",
      "a= 400 i= 225\n",
      "a= 400 i= 226\n",
      "a= 400 i= 227\n",
      "a= 400 i= 228\n",
      "a= 400 i= 229\n",
      "a= 400 i= 230\n",
      "a= 400 i= 231\n",
      "a= 400 i= 232\n",
      "a= 400 i= 233\n",
      "a= 400 i= 234\n",
      "a= 400 i= 235\n",
      "a= 400 i= 236\n",
      "a= 400 i= 237\n",
      "a= 400 i= 238\n",
      "a= 400 i= 239\n",
      "a= 400 i= 240\n",
      "a= 400 i= 241\n",
      "a= 400 i= 242\n",
      "a= 400 i= 243\n",
      "a= 400 i= 244\n",
      "a= 400 i= 245\n",
      "a= 400 i= 246\n",
      "a= 400 i= 247\n",
      "a= 400 i= 248\n",
      "a= 400 i= 249\n",
      "a= 400 i= 250\n",
      "a= 400 i= 251\n",
      "a= 400 i= 252\n",
      "a= 400 i= 253\n",
      "a= 400 i= 254\n",
      "a= 400 i= 255\n",
      "a= 400 i= 256\n",
      "a= 400 i= 257\n",
      "a= 400 i= 258\n",
      "a= 400 i= 259\n",
      "a= 400 i= 260\n",
      "a= 400 i= 261\n",
      "a= 400 i= 262\n",
      "a= 400 i= 263\n",
      "a= 400 i= 264\n",
      "a= 400 i= 265\n",
      "a= 400 i= 266\n",
      "a= 400 i= 267\n",
      "a= 400 i= 268\n",
      "a= 400 i= 269\n",
      "a= 400 i= 270\n",
      "a= 400 i= 271\n",
      "a= 400 i= 272\n",
      "a= 400 i= 273\n",
      "a= 400 i= 274\n",
      "a= 400 i= 275\n",
      "a= 400 i= 276\n",
      "a= 400 i= 277\n",
      "a= 400 i= 278\n",
      "a= 400 i= 279\n",
      "a= 400 i= 280\n",
      "a= 400 i= 281\n",
      "a= 400 i= 282\n",
      "a= 400 i= 283\n",
      "a= 400 i= 284\n",
      "a= 400 i= 285\n",
      "a= 400 i= 286\n",
      "a= 400 i= 287\n",
      "a= 400 i= 288\n",
      "a= 400 i= 289\n",
      "a= 400 i= 290\n",
      "a= 400 i= 291\n",
      "a= 400 i= 292\n",
      "a= 400 i= 293\n",
      "a= 400 i= 294\n",
      "a= 400 i= 295\n",
      "a= 400 i= 296\n",
      "a= 400 i= 297\n",
      "a= 400 i= 298\n",
      "a= 400 i= 299\n",
      "a= 400 i= 300\n",
      "a= 400 i= 301\n",
      "a= 400 i= 302\n",
      "a= 400 i= 303\n",
      "a= 400 i= 304\n",
      "a= 400 i= 305\n",
      "a= 400 i= 306\n",
      "a= 400 i= 307\n",
      "a= 400 i= 308\n",
      "a= 400 i= 309\n",
      "a= 400 i= 310\n",
      "a= 400 i= 311\n",
      "a= 400 i= 312\n",
      "a= 400 i= 313\n",
      "a= 400 i= 314\n",
      "a= 400 i= 315\n",
      "a= 400 i= 316\n",
      "a= 400 i= 317\n",
      "a= 400 i= 318\n",
      "a= 400 i= 319\n",
      "a= 400 i= 320\n",
      "a= 400 i= 321\n",
      "a= 400 i= 322\n",
      "a= 400 i= 323\n",
      "a= 400 i= 324\n",
      "a= 400 i= 325\n",
      "a= 400 i= 326\n",
      "a= 400 i= 327\n",
      "a= 400 i= 328\n",
      "a= 400 i= 329\n",
      "a= 400 i= 330\n",
      "a= 400 i= 331\n",
      "a= 400 i= 332\n",
      "a= 400 i= 333\n",
      "a= 400 i= 334\n",
      "a= 400 i= 335\n",
      "a= 400 i= 336\n",
      "a= 400 i= 337\n",
      "a= 400 i= 338\n",
      "a= 400 i= 339\n",
      "a= 400 i= 340\n",
      "a= 400 i= 341\n",
      "a= 400 i= 342\n",
      "a= 400 i= 343\n",
      "a= 400 i= 344\n",
      "a= 400 i= 345\n",
      "a= 400 i= 346\n",
      "a= 400 i= 347\n",
      "a= 400 i= 348\n",
      "a= 400 i= 349\n",
      "a= 400 i= 350\n",
      "a= 400 i= 351\n",
      "a= 400 i= 352\n",
      "a= 400 i= 353\n",
      "a= 400 i= 354\n",
      "a= 400 i= 355\n",
      "a= 400 i= 356\n",
      "a= 400 i= 357\n",
      "a= 400 i= 358\n",
      "a= 400 i= 359\n",
      "a= 400 i= 360\n",
      "a= 400 i= 361\n",
      "a= 400 i= 362\n",
      "a= 400 i= 363\n",
      "a= 400 i= 364\n",
      "a= 400 i= 365\n",
      "a= 400 i= 366\n",
      "a= 400 i= 367\n",
      "a= 400 i= 368\n",
      "a= 400 i= 369\n",
      "a= 400 i= 370\n",
      "a= 400 i= 371\n",
      "a= 400 i= 372\n",
      "a= 400 i= 373\n",
      "a= 400 i= 374\n",
      "a= 400 i= 375\n",
      "a= 400 i= 376\n",
      "a= 400 i= 377\n",
      "a= 400 i= 378\n",
      "a= 400 i= 379\n",
      "a= 400 i= 380\n",
      "a= 400 i= 381\n",
      "a= 400 i= 382\n",
      "a= 400 i= 383\n",
      "a= 400 i= 384\n",
      "a= 400 i= 385\n",
      "a= 400 i= 386\n",
      "a= 400 i= 387\n",
      "a= 400 i= 388\n",
      "a= 400 i= 389\n",
      "a= 400 i= 390\n",
      "a= 400 i= 391\n",
      "a= 400 i= 392\n",
      "a= 400 i= 393\n",
      "a= 400 i= 394\n",
      "a= 400 i= 395\n",
      "a= 400 i= 396\n",
      "a= 400 i= 397\n",
      "a= 400 i= 398\n",
      "a= 400 i= 399\n",
      "its not a prime number\n"
     ]
    }
   ],
   "source": [
    "a=int(raw_input(\"enter a value:\"))\n",
    "f_c=0\n",
    "if a>1:\n",
    "    for i in range(2,a):\n",
    "        print \"a=\",a,\"i=\",i\n",
    "        if a%i==0:\n",
    "            f_c=f_c+1\n",
    "    if f_c==0:\n",
    "        print \"its a primenumber\"\n",
    "    else:\n",
    "        print \"its not a prime number\"\n",
    "else:\n",
    "    print \"it's not a primenumber\"\n"
   ]
  },
  {
   "cell_type": "code",
   "execution_count": 23,
   "metadata": {},
   "outputs": [
    {
     "name": "stdout",
     "output_type": "stream",
     "text": [
      "enter a value:4000\n",
      "a= 4000 i= 2\n",
      "its not a prime number\n"
     ]
    }
   ],
   "source": [
    "a=int(raw_input(\"enter a value:\"))\n",
    "f_c=0\n",
    "if a>1:\n",
    "    for i in range(2,a):\n",
    "        print \"a=\",a,\"i=\",i\n",
    "        if a%i==0:\n",
    "            f_c=f_c+1\n",
    "            break\n",
    "    if f_c==0:\n",
    "        print \"its a primenumber\"\n",
    "    else:\n",
    "        print \"its not a prime number\"\n",
    "else:\n",
    "    print \"it's not a primenumber\"\n"
   ]
  },
  {
   "cell_type": "code",
   "execution_count": null,
   "metadata": {
    "collapsed": true
   },
   "outputs": [],
   "source": [
    "a=int(raw_input(\"enter a value:\"))\n",
    "\n",
    "if a>1:\n",
    "    for i in range(2,a,2):\n",
    "        print \"a=\",a,\"i=\",i\n",
    "        if a%i==0:\n",
    "            break\n",
    "else:\n",
    "    print \"it's not a primenumber\"\n"
   ]
  },
  {
   "cell_type": "code",
   "execution_count": 24,
   "metadata": {},
   "outputs": [
    {
     "name": "stdout",
     "output_type": "stream",
     "text": [
      "p\n",
      "y\n",
      "t\n",
      "h\n",
      "o\n",
      "n\n",
      "else block\n"
     ]
    }
   ],
   "source": [
    "for i in  \"python\":\n",
    "    if i==\"z\":\n",
    "        break\n",
    "    print i\n",
    "else:\n",
    "    print \"else block\"\n",
    "    "
   ]
  },
  {
   "cell_type": "code",
   "execution_count": 25,
   "metadata": {},
   "outputs": [
    {
     "name": "stdout",
     "output_type": "stream",
     "text": [
      "p\n",
      "y\n",
      "t\n"
     ]
    }
   ],
   "source": [
    "for i in  \"python\":\n",
    "    if i==\"h\":\n",
    "        break\n",
    "    print i\n",
    "else:\n",
    "    print \"else block\"\n",
    "    "
   ]
  },
  {
   "cell_type": "code",
   "execution_count": 26,
   "metadata": {},
   "outputs": [
    {
     "name": "stdout",
     "output_type": "stream",
     "text": [
      "enter a value:20\n",
      "it's not a prime number:\n"
     ]
    }
   ],
   "source": [
    "a=int(raw_input(\"enter a value:\"))\n",
    "if a>1:\n",
    "    for i in range(2,a):\n",
    "        if a%i==0:\n",
    "            print \"it's not a prime number:\"\n",
    "            break\n",
    "    else:\n",
    "        print \"it's a prime number\"\n",
    "else:\n",
    "    print \"it's not a primenumber\"\n"
   ]
  },
  {
   "cell_type": "code",
   "execution_count": 27,
   "metadata": {},
   "outputs": [
    {
     "name": "stdout",
     "output_type": "stream",
     "text": [
      "enter a value:23\n",
      "it's a prime number\n"
     ]
    }
   ],
   "source": [
    "a=int(raw_input(\"enter a value:\"))\n",
    "if a>1:\n",
    "    for i in range(2,a):\n",
    "        if a%i==0:\n",
    "            print \"it's not a prime number:\"\n",
    "            break\n",
    "    else:\n",
    "        print \"it's a prime number\"\n",
    "else:\n",
    "    print \"it's not a primenumber\"\n"
   ]
  },
  {
   "cell_type": "code",
   "execution_count": 29,
   "metadata": {},
   "outputs": [
    {
     "name": "stdout",
     "output_type": "stream",
     "text": [
      "enter a value:23\n",
      "a= 23 i= 2\n",
      "a= 23 i= 3\n",
      "a= 23 i= 4\n",
      "a= 23 i= 5\n",
      "a= 23 i= 6\n",
      "a= 23 i= 7\n",
      "a= 23 i= 8\n",
      "a= 23 i= 9\n",
      "a= 23 i= 10\n",
      "a= 23 i= 11\n",
      "a= 23 i= 12\n",
      "a= 23 i= 13\n",
      "a= 23 i= 14\n",
      "a= 23 i= 15\n",
      "a= 23 i= 16\n",
      "a= 23 i= 17\n",
      "a= 23 i= 18\n",
      "a= 23 i= 19\n",
      "a= 23 i= 20\n",
      "a= 23 i= 21\n",
      "a= 23 i= 22\n",
      "it's a prime number\n"
     ]
    }
   ],
   "source": [
    "a=int(raw_input(\"enter a value:\"))\n",
    "if a>1:\n",
    "    for i in range(2,a):\n",
    "        print \"a=\",a,\"i=\",i\n",
    "        if a%i==0:\n",
    "            \n",
    "            print \"it's not a prime number:\"\n",
    "            break\n",
    "    else:\n",
    "        print \"it's a prime number\"\n",
    "else:\n",
    "    print \"it's not a primenumber\"\n"
   ]
  },
  {
   "cell_type": "code",
   "execution_count": 30,
   "metadata": {},
   "outputs": [
    {
     "name": "stdout",
     "output_type": "stream",
     "text": [
      "enter a value:23\n",
      "a= 23 i= 2\n",
      "a= 23 i= 3\n",
      "a= 23 i= 4\n",
      "a= 23 i= 5\n",
      "a= 23 i= 6\n",
      "a= 23 i= 7\n",
      "a= 23 i= 8\n",
      "a= 23 i= 9\n",
      "a= 23 i= 10\n",
      "it's a prime number\n"
     ]
    }
   ],
   "source": [
    "a=int(raw_input(\"enter a value:\"))\n",
    "if a>1:\n",
    "    for i in range(2,a/2):\n",
    "        print \"a=\",a,\"i=\",i\n",
    "        if a%i==0:\n",
    "            print \"it's not a prime number:\"\n",
    "            break\n",
    "    else:\n",
    "        print \"it's a prime number\"\n",
    "else:\n",
    "    print \"it's not a primenumber\"\n"
   ]
  },
  {
   "cell_type": "code",
   "execution_count": null,
   "metadata": {
    "collapsed": true
   },
   "outputs": [],
   "source": []
  }
 ],
 "metadata": {
  "kernelspec": {
   "display_name": "Python 2",
   "language": "python",
   "name": "python2"
  },
  "language_info": {
   "codemirror_mode": {
    "name": "ipython",
    "version": 2
   },
   "file_extension": ".py",
   "mimetype": "text/x-python",
   "name": "python",
   "nbconvert_exporter": "python",
   "pygments_lexer": "ipython2",
   "version": "2.7.14"
  }
 },
 "nbformat": 4,
 "nbformat_minor": 2
}
