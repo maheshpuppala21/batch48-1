{
 "cells": [
  {
   "cell_type": "code",
   "execution_count": 1,
   "metadata": {},
   "outputs": [
    {
     "name": "stdout",
     "output_type": "stream",
     "text": [
      "enter a value:10\n",
      "enter b value:20\n",
      "a is big\n",
      "b is big\n",
      "thank you. use me again\n"
     ]
    }
   ],
   "source": [
    "a=raw_input(\"enter a value:\")\n",
    "b=raw_input(\"enter b value:\")\n",
    "print \"a is big\"\n",
    "print \"b is big\"\n",
    "print \"thank you. use me again\""
   ]
  },
  {
   "cell_type": "code",
   "execution_count": 3,
   "metadata": {},
   "outputs": [
    {
     "name": "stdout",
     "output_type": "stream",
     "text": [
      "enter a value:10\n",
      "enter b value:20\n",
      "a>b False\n",
      "b>a True\n",
      "b is big\n",
      "thank you. use me again\n"
     ]
    }
   ],
   "source": [
    "a=raw_input(\"enter a value:\")\n",
    "b=raw_input(\"enter b value:\")\n",
    "print \"a>b\",a>b\n",
    "print \"b>a\",b>a\n",
    "if a>b:\n",
    "    print \"a is big\"\n",
    "if b>a:\n",
    "    print \"b is big\"\n",
    "print \"thank you. use me again\""
   ]
  },
  {
   "cell_type": "code",
   "execution_count": 4,
   "metadata": {},
   "outputs": [
    {
     "name": "stdout",
     "output_type": "stream",
     "text": [
      "Enter an age:10\n",
      "True\n",
      "eligible for vote\n",
      "thank you\n"
     ]
    }
   ],
   "source": [
    "age=raw_input(\"Enter an age:\")\n",
    "print age>=18\n",
    "if age>=18:\n",
    "    print \"eligible for vote\"\n",
    "else:\n",
    "    print \"not eligible for vote\"\n",
    "print \"thank you\""
   ]
  },
  {
   "cell_type": "code",
   "execution_count": 5,
   "metadata": {},
   "outputs": [
    {
     "data": {
      "text/plain": [
       "False"
      ]
     },
     "execution_count": 5,
     "metadata": {},
     "output_type": "execute_result"
    }
   ],
   "source": [
    "10>=18"
   ]
  },
  {
   "cell_type": "code",
   "execution_count": 6,
   "metadata": {},
   "outputs": [
    {
     "data": {
      "text/plain": [
       "True"
      ]
     },
     "execution_count": 6,
     "metadata": {},
     "output_type": "execute_result"
    }
   ],
   "source": [
    "\"10\">=18"
   ]
  },
  {
   "cell_type": "code",
   "execution_count": 7,
   "metadata": {},
   "outputs": [
    {
     "data": {
      "text/plain": [
       "True"
      ]
     },
     "execution_count": 7,
     "metadata": {},
     "output_type": "execute_result"
    }
   ],
   "source": [
    "\"10\">=18000000000234567"
   ]
  },
  {
   "cell_type": "code",
   "execution_count": 8,
   "metadata": {},
   "outputs": [
    {
     "name": "stdout",
     "output_type": "stream",
     "text": [
      "Enter an age:20\n",
      "True\n",
      "eligible for vote\n",
      "thank you\n"
     ]
    }
   ],
   "source": [
    "age=raw_input(\"Enter an age:\")\n",
    "age=int(age)\n",
    "print age>=18\n",
    "if age>=18:\n",
    "    print \"eligible for vote\"\n",
    "else:\n",
    "    print \"not eligible for vote\"\n",
    "print \"thank you\""
   ]
  },
  {
   "cell_type": "code",
   "execution_count": 9,
   "metadata": {},
   "outputs": [
    {
     "name": "stdout",
     "output_type": "stream",
     "text": [
      "Enter an age:13\n",
      "False\n",
      "not eligible for vote\n",
      "thank you\n"
     ]
    }
   ],
   "source": [
    "age=raw_input(\"Enter an age:\")\n",
    "age=int(age)\n",
    "print age>=18\n",
    "if age>=18:\n",
    "    print \"eligible for vote\"\n",
    "else:\n",
    "    print \"not eligible for vote\"\n",
    "print \"thank you\""
   ]
  },
  {
   "cell_type": "code",
   "execution_count": 10,
   "metadata": {},
   "outputs": [
    {
     "data": {
      "text/plain": [
       "False"
      ]
     },
     "execution_count": 10,
     "metadata": {},
     "output_type": "execute_result"
    }
   ],
   "source": [
    "a=10\n",
    "b=20\n",
    "a>b"
   ]
  },
  {
   "cell_type": "code",
   "execution_count": 11,
   "metadata": {},
   "outputs": [
    {
     "name": "stdout",
     "output_type": "stream",
     "text": [
      "enter a value:12\n",
      "Enter b value:34\n",
      "Enter c avlue:56\n",
      "c is big\n",
      "thank you.\n"
     ]
    }
   ],
   "source": [
    "a=raw_input(\"enter a value:\")\n",
    "b=raw_input(\"Enter b value:\")\n",
    "c=raw_input(\"Enter c avlue:\")\n",
    "a=int(a)\n",
    "b=int(b)\n",
    "c=int(c)\n",
    "if a>b and a>c:\n",
    "    print \"a is big\"\n",
    "if b>a and b>c:\n",
    "    print \"b is big\"\n",
    "if c>a and c>b:\n",
    "    print \"c is big\"\n",
    "print \"thank you.\""
   ]
  },
  {
   "cell_type": "code",
   "execution_count": 13,
   "metadata": {},
   "outputs": [
    {
     "name": "stdout",
     "output_type": "stream",
     "text": [
      "enter a value:13\n",
      "Enter b value:24\n",
      "Enter c avlue:31\n",
      "c is big\n",
      "thank you.\n"
     ]
    }
   ],
   "source": [
    "a=raw_input(\"enter a value:\")\n",
    "b=raw_input(\"Enter b value:\")\n",
    "c=raw_input(\"Enter c avlue:\")\n",
    "a=int(a)\n",
    "b=int(b)\n",
    "c=int(c)\n",
    "if a>b:\n",
    "    if a>c:\n",
    "        print \"a is big\"\n",
    "if b>a:\n",
    "    if b>c:\n",
    "        print \"b is big\"\n",
    "if c>a:\n",
    "    if c>b:\n",
    "        print \"c is big\"\n",
    "print \"thank you.\""
   ]
  },
  {
   "cell_type": "code",
   "execution_count": 14,
   "metadata": {},
   "outputs": [
    {
     "name": "stdout",
     "output_type": "stream",
     "text": [
      "operating systems:\n",
      "\t1.windows\n",
      "\t2.android\n",
      "\t3.mac\n",
      "\n",
      "Enter an option:1\n"
     ]
    }
   ],
   "source": [
    "print \"operating systems:\\n\\t1.windows\\n\\t2.android\\n\\t3.mac\\n\"\n",
    "option = raw_input(\"Enter an option:\")"
   ]
  },
  {
   "cell_type": "code",
   "execution_count": 15,
   "metadata": {},
   "outputs": [
    {
     "name": "stdout",
     "output_type": "stream",
     "text": [
      "operating systems:\n",
      "\t1.windows\n",
      "\t2.android\n",
      "\t3.mac\n",
      "\n",
      "Enter an option:1\n",
      "Goto first floor and buy windows laptop or mobile\n"
     ]
    }
   ],
   "source": [
    "print \"operating systems:\\n\\t1.windows\\n\\t2.android\\n\\t3.mac\\n\"\n",
    "option = raw_input(\"Enter an option:\")\n",
    "if option==\"1\":\n",
    "    print \"Goto first floor and buy windows laptop or mobile\"\n",
    "if option==\"2\":\n",
    "    print \"Goto second floor and buy adroid mobiles\"\n",
    "if option==\"3\":\n",
    "    print \"Goto third floor and buy mac laptop or iphones\""
   ]
  },
  {
   "cell_type": "code",
   "execution_count": 16,
   "metadata": {},
   "outputs": [
    {
     "name": "stdout",
     "output_type": "stream",
     "text": [
      "operating systems:\n",
      "\t1.windows\n",
      "\t2.android\n",
      "\t3.mac\n",
      "\n",
      "Enter an option:2\n",
      "Goto second floor and buy adroid mobiles\n"
     ]
    }
   ],
   "source": [
    "print \"operating systems:\\n\\t1.windows\\n\\t2.android\\n\\t3.mac\\n\"\n",
    "option = raw_input(\"Enter an option:\")\n",
    "if option==\"1\":\n",
    "    print \"Goto first floor and buy windows laptop or mobile\"\n",
    "if option==\"2\":\n",
    "    print \"Goto second floor and buy adroid mobiles\"\n",
    "if option==\"3\":\n",
    "    print \"Goto third floor and buy mac laptop or iphones\""
   ]
  },
  {
   "cell_type": "code",
   "execution_count": 17,
   "metadata": {},
   "outputs": [
    {
     "name": "stdout",
     "output_type": "stream",
     "text": [
      "operating systems:\n",
      "\t1.windows\n",
      "\t2.android\n",
      "\t3.mac\n",
      "\n",
      "Enter an option:3\n",
      "Goto third floor and buy mac laptop or iphones\n"
     ]
    }
   ],
   "source": [
    "print \"operating systems:\\n\\t1.windows\\n\\t2.android\\n\\t3.mac\\n\"\n",
    "option = raw_input(\"Enter an option:\")\n",
    "if option==\"1\":\n",
    "    print \"Goto first floor and buy windows laptop or mobile\"\n",
    "if option==\"2\":\n",
    "    print \"Goto second floor and buy adroid mobiles\"\n",
    "if option==\"3\":\n",
    "    print \"Goto third floor and buy mac laptop or iphones\""
   ]
  },
  {
   "cell_type": "code",
   "execution_count": 18,
   "metadata": {},
   "outputs": [
    {
     "name": "stdout",
     "output_type": "stream",
     "text": [
      "operating systems:\n",
      "\t1.windows\n",
      "\t2.android\n",
      "\t3.mac\n",
      "\n",
      "Enter an option:6\n"
     ]
    }
   ],
   "source": [
    "print \"operating systems:\\n\\t1.windows\\n\\t2.android\\n\\t3.mac\\n\"\n",
    "option = raw_input(\"Enter an option:\")\n",
    "if option==\"1\":\n",
    "    print \"Goto first floor and buy windows laptop or mobile\"\n",
    "if option==\"2\":\n",
    "    print \"Goto second floor and buy adroid mobiles\"\n",
    "if option==\"3\":\n",
    "    print \"Goto third floor and buy mac laptop or iphones\""
   ]
  },
  {
   "cell_type": "code",
   "execution_count": 19,
   "metadata": {},
   "outputs": [
    {
     "data": {
      "text/plain": [
       "True"
      ]
     },
     "execution_count": 19,
     "metadata": {},
     "output_type": "execute_result"
    }
   ],
   "source": [
    "1==1"
   ]
  },
  {
   "cell_type": "code",
   "execution_count": 20,
   "metadata": {},
   "outputs": [
    {
     "data": {
      "text/plain": [
       "False"
      ]
     },
     "execution_count": 20,
     "metadata": {},
     "output_type": "execute_result"
    }
   ],
   "source": [
    "\"1\"==1"
   ]
  },
  {
   "cell_type": "code",
   "execution_count": null,
   "metadata": {
    "collapsed": true
   },
   "outputs": [],
   "source": []
  }
 ],
 "metadata": {
  "kernelspec": {
   "display_name": "Python 2",
   "language": "python",
   "name": "python2"
  },
  "language_info": {
   "codemirror_mode": {
    "name": "ipython",
    "version": 2
   },
   "file_extension": ".py",
   "mimetype": "text/x-python",
   "name": "python",
   "nbconvert_exporter": "python",
   "pygments_lexer": "ipython2",
   "version": "2.7.14"
  }
 },
 "nbformat": 4,
 "nbformat_minor": 2
}
