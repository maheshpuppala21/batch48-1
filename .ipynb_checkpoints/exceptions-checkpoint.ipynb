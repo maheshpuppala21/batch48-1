{
 "cells": [
  {
   "cell_type": "code",
   "execution_count": 1,
   "metadata": {},
   "outputs": [
    {
     "name": "stdout",
     "output_type": "stream",
     "text": [
      "program started\n",
      "Enter a value:10\n",
      "enter b value:20\n",
      "befor conversion: a=10, b=20\n",
      "after conversion: a=10, b=20\n",
      "result= 30\n",
      "other statements in program\n",
      "program ended\n"
     ]
    }
   ],
   "source": [
    "print \"program started\"\n",
    "a=raw_input(\"Enter a value:\")\n",
    "b=raw_input(\"enter b value:\")\n",
    "print \"befor conversion: a=%s, b=%s\"%(a,b)\n",
    "a=int(a)\n",
    "b=int(b)\n",
    "print \"after conversion: a=%s, b=%s\"%(a,b)\n",
    "res=a+b\n",
    "print \"result=\",res\n",
    "print \"other statements in program\"\n",
    "print \"program ended\""
   ]
  },
  {
   "cell_type": "code",
   "execution_count": 2,
   "metadata": {},
   "outputs": [
    {
     "ename": "SyntaxError",
     "evalue": "invalid syntax (<ipython-input-2-1e135e784543>, line 9)",
     "output_type": "error",
     "traceback": [
      "\u001b[0;36m  File \u001b[0;32m\"<ipython-input-2-1e135e784543>\"\u001b[0;36m, line \u001b[0;32m9\u001b[0m\n\u001b[0;31m    print \"result=\"res\u001b[0m\n\u001b[0m                     ^\u001b[0m\n\u001b[0;31mSyntaxError\u001b[0m\u001b[0;31m:\u001b[0m invalid syntax\n"
     ]
    }
   ],
   "source": [
    "print \"program started\"\n",
    "a=raw_input(\"Enter a value:\")\n",
    "b=raw_input(\"enter b value:\")\n",
    "print \"befor conversion: a=%s, b=%s\"%(a,b)\n",
    "a=int(a)\n",
    "b=int(b)\n",
    "print \"after conversion: a=%s, b=%s\"%(a,b)\n",
    "res=a+b\n",
    "print \"result=\"res\n",
    "print \"other statements in program\"\n",
    "print \"program ended\""
   ]
  },
  {
   "cell_type": "code",
   "execution_count": 3,
   "metadata": {},
   "outputs": [
    {
     "name": "stdout",
     "output_type": "stream",
     "text": [
      "program started\n",
      "Enter a value:10.23\n",
      "enter b value:34.56\n",
      "befor conversion: a=10.23, b=34.56\n"
     ]
    },
    {
     "ename": "ValueError",
     "evalue": "invalid literal for int() with base 10: '10.23'",
     "output_type": "error",
     "traceback": [
      "\u001b[0;31m---------------------------------------------------------------------------\u001b[0m",
      "\u001b[0;31mValueError\u001b[0m                                Traceback (most recent call last)",
      "\u001b[0;32m<ipython-input-3-9e525afa2b13>\u001b[0m in \u001b[0;36m<module>\u001b[0;34m()\u001b[0m\n\u001b[1;32m      3\u001b[0m \u001b[0mb\u001b[0m\u001b[0;34m=\u001b[0m\u001b[0mraw_input\u001b[0m\u001b[0;34m(\u001b[0m\u001b[0;34m\"enter b value:\"\u001b[0m\u001b[0;34m)\u001b[0m\u001b[0;34m\u001b[0m\u001b[0m\n\u001b[1;32m      4\u001b[0m \u001b[0;32mprint\u001b[0m \u001b[0;34m\"befor conversion: a=%s, b=%s\"\u001b[0m\u001b[0;34m%\u001b[0m\u001b[0;34m(\u001b[0m\u001b[0ma\u001b[0m\u001b[0;34m,\u001b[0m\u001b[0mb\u001b[0m\u001b[0;34m)\u001b[0m\u001b[0;34m\u001b[0m\u001b[0m\n\u001b[0;32m----> 5\u001b[0;31m \u001b[0ma\u001b[0m\u001b[0;34m=\u001b[0m\u001b[0mint\u001b[0m\u001b[0;34m(\u001b[0m\u001b[0ma\u001b[0m\u001b[0;34m)\u001b[0m\u001b[0;34m\u001b[0m\u001b[0m\n\u001b[0m\u001b[1;32m      6\u001b[0m \u001b[0mb\u001b[0m\u001b[0;34m=\u001b[0m\u001b[0mint\u001b[0m\u001b[0;34m(\u001b[0m\u001b[0mb\u001b[0m\u001b[0;34m)\u001b[0m\u001b[0;34m\u001b[0m\u001b[0m\n\u001b[1;32m      7\u001b[0m \u001b[0;32mprint\u001b[0m \u001b[0;34m\"after conversion: a=%s, b=%s\"\u001b[0m\u001b[0;34m%\u001b[0m\u001b[0;34m(\u001b[0m\u001b[0ma\u001b[0m\u001b[0;34m,\u001b[0m\u001b[0mb\u001b[0m\u001b[0;34m)\u001b[0m\u001b[0;34m\u001b[0m\u001b[0m\n",
      "\u001b[0;31mValueError\u001b[0m: invalid literal for int() with base 10: '10.23'"
     ]
    }
   ],
   "source": [
    "print \"program started\"\n",
    "a=raw_input(\"Enter a value:\")\n",
    "b=raw_input(\"enter b value:\")\n",
    "print \"befor conversion: a=%s, b=%s\"%(a,b)\n",
    "a=int(a)\n",
    "b=int(b)\n",
    "print \"after conversion: a=%s, b=%s\"%(a,b)\n",
    "res=a+b\n",
    "print \"result=\",res\n",
    "print \"other statements in program\"\n",
    "print \"program ended\""
   ]
  },
  {
   "cell_type": "code",
   "execution_count": 4,
   "metadata": {},
   "outputs": [
    {
     "name": "stdout",
     "output_type": "stream",
     "text": [
      "program started\n",
      "Enter a value:10\n",
      "enter b value:20\n",
      "befor conversion: a=10, b=20\n",
      "after conversion: a=10.0, b=20.0\n",
      "result= 30.0\n",
      "other statements in program\n",
      "program ended\n"
     ]
    }
   ],
   "source": [
    "print \"program started\"\n",
    "a=raw_input(\"Enter a value:\")\n",
    "b=raw_input(\"enter b value:\")\n",
    "print \"befor conversion: a=%s, b=%s\"%(a,b)\n",
    "a=float(a)\n",
    "b=float(b)\n",
    "print \"after conversion: a=%s, b=%s\"%(a,b)\n",
    "res=a+b\n",
    "print \"result=\",res\n",
    "print \"other statements in program\"\n",
    "print \"program ended\""
   ]
  },
  {
   "cell_type": "code",
   "execution_count": 5,
   "metadata": {},
   "outputs": [
    {
     "name": "stdout",
     "output_type": "stream",
     "text": [
      "program started\n",
      "Enter a value:10.23\n",
      "enter b value:34.56\n",
      "befor conversion: a=10.23, b=34.56\n",
      "after conversion: a=10.23, b=34.56\n",
      "result= 44.79\n",
      "other statements in program\n",
      "program ended\n"
     ]
    }
   ],
   "source": [
    "print \"program started\"\n",
    "a=raw_input(\"Enter a value:\")\n",
    "b=raw_input(\"enter b value:\")\n",
    "print \"befor conversion: a=%s, b=%s\"%(a,b)\n",
    "a=float(a)\n",
    "b=float(b)\n",
    "print \"after conversion: a=%s, b=%s\"%(a,b)\n",
    "res=a+b\n",
    "print \"result=\",res\n",
    "print \"other statements in program\"\n",
    "print \"program ended\""
   ]
  },
  {
   "cell_type": "code",
   "execution_count": 6,
   "metadata": {},
   "outputs": [
    {
     "name": "stdout",
     "output_type": "stream",
     "text": [
      "program started\n",
      "Enter a value:12\n",
      "enter b value:6\n",
      "befor conversion: a=12, b=6\n",
      "after conversion: a=12.0, b=6.0\n",
      "result= 2.0\n",
      "other statements in program\n",
      "program ended\n"
     ]
    }
   ],
   "source": [
    "print \"program started\"\n",
    "a=raw_input(\"Enter a value:\")\n",
    "b=raw_input(\"enter b value:\")\n",
    "print \"befor conversion: a=%s, b=%s\"%(a,b)\n",
    "a=float(a)\n",
    "b=float(b)\n",
    "print \"after conversion: a=%s, b=%s\"%(a,b)\n",
    "res=a/b\n",
    "print \"result=\",res\n",
    "print \"other statements in program\"\n",
    "print \"program ended\""
   ]
  },
  {
   "cell_type": "code",
   "execution_count": 7,
   "metadata": {},
   "outputs": [
    {
     "name": "stdout",
     "output_type": "stream",
     "text": [
      "program started\n",
      "Enter a value:12\n",
      "enter b value:0\n",
      "befor conversion: a=12, b=0\n",
      "after conversion: a=12.0, b=0.0\n"
     ]
    },
    {
     "ename": "ZeroDivisionError",
     "evalue": "float division by zero",
     "output_type": "error",
     "traceback": [
      "\u001b[0;31m---------------------------------------------------------------------------\u001b[0m",
      "\u001b[0;31mZeroDivisionError\u001b[0m                         Traceback (most recent call last)",
      "\u001b[0;32m<ipython-input-7-680a2565eb1f>\u001b[0m in \u001b[0;36m<module>\u001b[0;34m()\u001b[0m\n\u001b[1;32m      6\u001b[0m \u001b[0mb\u001b[0m\u001b[0;34m=\u001b[0m\u001b[0mfloat\u001b[0m\u001b[0;34m(\u001b[0m\u001b[0mb\u001b[0m\u001b[0;34m)\u001b[0m\u001b[0;34m\u001b[0m\u001b[0m\n\u001b[1;32m      7\u001b[0m \u001b[0;32mprint\u001b[0m \u001b[0;34m\"after conversion: a=%s, b=%s\"\u001b[0m\u001b[0;34m%\u001b[0m\u001b[0;34m(\u001b[0m\u001b[0ma\u001b[0m\u001b[0;34m,\u001b[0m\u001b[0mb\u001b[0m\u001b[0;34m)\u001b[0m\u001b[0;34m\u001b[0m\u001b[0m\n\u001b[0;32m----> 8\u001b[0;31m \u001b[0mres\u001b[0m\u001b[0;34m=\u001b[0m\u001b[0ma\u001b[0m\u001b[0;34m/\u001b[0m\u001b[0mb\u001b[0m\u001b[0;34m\u001b[0m\u001b[0m\n\u001b[0m\u001b[1;32m      9\u001b[0m \u001b[0;32mprint\u001b[0m \u001b[0;34m\"result=\"\u001b[0m\u001b[0;34m,\u001b[0m\u001b[0mres\u001b[0m\u001b[0;34m\u001b[0m\u001b[0m\n\u001b[1;32m     10\u001b[0m \u001b[0;32mprint\u001b[0m \u001b[0;34m\"other statements in program\"\u001b[0m\u001b[0;34m\u001b[0m\u001b[0m\n",
      "\u001b[0;31mZeroDivisionError\u001b[0m: float division by zero"
     ]
    }
   ],
   "source": [
    "print \"program started\"\n",
    "a=raw_input(\"Enter a value:\")\n",
    "b=raw_input(\"enter b value:\")\n",
    "print \"befor conversion: a=%s, b=%s\"%(a,b)\n",
    "a=float(a)\n",
    "b=float(b)\n",
    "print \"after conversion: a=%s, b=%s\"%(a,b)\n",
    "res=a/b\n",
    "print \"result=\",res\n",
    "print \"other statements in program\"\n",
    "print \"program ended\""
   ]
  },
  {
   "cell_type": "code",
   "execution_count": 8,
   "metadata": {},
   "outputs": [
    {
     "name": "stdout",
     "output_type": "stream",
     "text": [
      "program started\n",
      "Enter a value:1+2j\n",
      "enter b value:23\n",
      "befor conversion: a=1+2j, b=23\n"
     ]
    },
    {
     "ename": "ValueError",
     "evalue": "invalid literal for float(): 1+2j",
     "output_type": "error",
     "traceback": [
      "\u001b[0;31m---------------------------------------------------------------------------\u001b[0m",
      "\u001b[0;31mValueError\u001b[0m                                Traceback (most recent call last)",
      "\u001b[0;32m<ipython-input-8-680a2565eb1f>\u001b[0m in \u001b[0;36m<module>\u001b[0;34m()\u001b[0m\n\u001b[1;32m      3\u001b[0m \u001b[0mb\u001b[0m\u001b[0;34m=\u001b[0m\u001b[0mraw_input\u001b[0m\u001b[0;34m(\u001b[0m\u001b[0;34m\"enter b value:\"\u001b[0m\u001b[0;34m)\u001b[0m\u001b[0;34m\u001b[0m\u001b[0m\n\u001b[1;32m      4\u001b[0m \u001b[0;32mprint\u001b[0m \u001b[0;34m\"befor conversion: a=%s, b=%s\"\u001b[0m\u001b[0;34m%\u001b[0m\u001b[0;34m(\u001b[0m\u001b[0ma\u001b[0m\u001b[0;34m,\u001b[0m\u001b[0mb\u001b[0m\u001b[0;34m)\u001b[0m\u001b[0;34m\u001b[0m\u001b[0m\n\u001b[0;32m----> 5\u001b[0;31m \u001b[0ma\u001b[0m\u001b[0;34m=\u001b[0m\u001b[0mfloat\u001b[0m\u001b[0;34m(\u001b[0m\u001b[0ma\u001b[0m\u001b[0;34m)\u001b[0m\u001b[0;34m\u001b[0m\u001b[0m\n\u001b[0m\u001b[1;32m      6\u001b[0m \u001b[0mb\u001b[0m\u001b[0;34m=\u001b[0m\u001b[0mfloat\u001b[0m\u001b[0;34m(\u001b[0m\u001b[0mb\u001b[0m\u001b[0;34m)\u001b[0m\u001b[0;34m\u001b[0m\u001b[0m\n\u001b[1;32m      7\u001b[0m \u001b[0;32mprint\u001b[0m \u001b[0;34m\"after conversion: a=%s, b=%s\"\u001b[0m\u001b[0;34m%\u001b[0m\u001b[0;34m(\u001b[0m\u001b[0ma\u001b[0m\u001b[0;34m,\u001b[0m\u001b[0mb\u001b[0m\u001b[0;34m)\u001b[0m\u001b[0;34m\u001b[0m\u001b[0m\n",
      "\u001b[0;31mValueError\u001b[0m: invalid literal for float(): 1+2j"
     ]
    }
   ],
   "source": [
    "print \"program started\"\n",
    "a=raw_input(\"Enter a value:\")\n",
    "b=raw_input(\"enter b value:\")\n",
    "print \"befor conversion: a=%s, b=%s\"%(a,b)\n",
    "a=float(a)\n",
    "b=float(b)\n",
    "print \"after conversion: a=%s, b=%s\"%(a,b)\n",
    "res=a/b\n",
    "print \"result=\",res\n",
    "print \"other statements in program\"\n",
    "print \"program ended\""
   ]
  },
  {
   "cell_type": "code",
   "execution_count": 9,
   "metadata": {},
   "outputs": [
    {
     "name": "stdout",
     "output_type": "stream",
     "text": [
      "program started\n",
      "Enter a value:qwer\n",
      "enter b value:23\n",
      "befor conversion: a=qwer, b=23\n"
     ]
    },
    {
     "ename": "ValueError",
     "evalue": "could not convert string to float: qwer",
     "output_type": "error",
     "traceback": [
      "\u001b[0;31m---------------------------------------------------------------------------\u001b[0m",
      "\u001b[0;31mValueError\u001b[0m                                Traceback (most recent call last)",
      "\u001b[0;32m<ipython-input-9-680a2565eb1f>\u001b[0m in \u001b[0;36m<module>\u001b[0;34m()\u001b[0m\n\u001b[1;32m      3\u001b[0m \u001b[0mb\u001b[0m\u001b[0;34m=\u001b[0m\u001b[0mraw_input\u001b[0m\u001b[0;34m(\u001b[0m\u001b[0;34m\"enter b value:\"\u001b[0m\u001b[0;34m)\u001b[0m\u001b[0;34m\u001b[0m\u001b[0m\n\u001b[1;32m      4\u001b[0m \u001b[0;32mprint\u001b[0m \u001b[0;34m\"befor conversion: a=%s, b=%s\"\u001b[0m\u001b[0;34m%\u001b[0m\u001b[0;34m(\u001b[0m\u001b[0ma\u001b[0m\u001b[0;34m,\u001b[0m\u001b[0mb\u001b[0m\u001b[0;34m)\u001b[0m\u001b[0;34m\u001b[0m\u001b[0m\n\u001b[0;32m----> 5\u001b[0;31m \u001b[0ma\u001b[0m\u001b[0;34m=\u001b[0m\u001b[0mfloat\u001b[0m\u001b[0;34m(\u001b[0m\u001b[0ma\u001b[0m\u001b[0;34m)\u001b[0m\u001b[0;34m\u001b[0m\u001b[0m\n\u001b[0m\u001b[1;32m      6\u001b[0m \u001b[0mb\u001b[0m\u001b[0;34m=\u001b[0m\u001b[0mfloat\u001b[0m\u001b[0;34m(\u001b[0m\u001b[0mb\u001b[0m\u001b[0;34m)\u001b[0m\u001b[0;34m\u001b[0m\u001b[0m\n\u001b[1;32m      7\u001b[0m \u001b[0;32mprint\u001b[0m \u001b[0;34m\"after conversion: a=%s, b=%s\"\u001b[0m\u001b[0;34m%\u001b[0m\u001b[0;34m(\u001b[0m\u001b[0ma\u001b[0m\u001b[0;34m,\u001b[0m\u001b[0mb\u001b[0m\u001b[0;34m)\u001b[0m\u001b[0;34m\u001b[0m\u001b[0m\n",
      "\u001b[0;31mValueError\u001b[0m: could not convert string to float: qwer"
     ]
    }
   ],
   "source": [
    "print \"program started\"\n",
    "a=raw_input(\"Enter a value:\")\n",
    "b=raw_input(\"enter b value:\")\n",
    "print \"befor conversion: a=%s, b=%s\"%(a,b)\n",
    "a=float(a)\n",
    "b=float(b)\n",
    "print \"after conversion: a=%s, b=%s\"%(a,b)\n",
    "res=a/b\n",
    "print \"result=\",res\n",
    "print \"other statements in program\"\n",
    "print \"program ended\""
   ]
  },
  {
   "cell_type": "code",
   "execution_count": 10,
   "metadata": {},
   "outputs": [
    {
     "name": "stdout",
     "output_type": "stream",
     "text": [
      "program started\n",
      "Enter a value:12\n",
      "enter b value:6\n",
      "befor conversion: a=12, b=6\n",
      "after conversion: a=12.0, b=6.0\n",
      "result= 2.0\n",
      "other statements in program\n",
      "program ended\n"
     ]
    }
   ],
   "source": [
    "try:\n",
    "    print \"program started\"\n",
    "    a=raw_input(\"Enter a value:\")\n",
    "    b=raw_input(\"enter b value:\")\n",
    "    print \"befor conversion: a=%s, b=%s\"%(a,b)\n",
    "    a=float(a)\n",
    "    b=float(b)\n",
    "    print \"after conversion: a=%s, b=%s\"%(a,b)\n",
    "    res=a/b\n",
    "    print \"result=\",res\n",
    "    print \"other statements in program\"\n",
    "    print \"program ended\"\n",
    "except:\n",
    "    print \"something went wrong\""
   ]
  },
  {
   "cell_type": "code",
   "execution_count": 11,
   "metadata": {},
   "outputs": [
    {
     "name": "stdout",
     "output_type": "stream",
     "text": [
      "program started\n",
      "Enter a value:12\n",
      "enter b value:0\n",
      "befor conversion: a=12, b=0\n",
      "after conversion: a=12.0, b=0.0\n",
      "something went wrong\n"
     ]
    }
   ],
   "source": [
    "try:\n",
    "    print \"program started\"\n",
    "    a=raw_input(\"Enter a value:\")\n",
    "    b=raw_input(\"enter b value:\")\n",
    "    print \"befor conversion: a=%s, b=%s\"%(a,b)\n",
    "    a=float(a)\n",
    "    b=float(b)\n",
    "    print \"after conversion: a=%s, b=%s\"%(a,b)\n",
    "    res=a/b\n",
    "    print \"result=\",res\n",
    "    print \"other statements in program\"\n",
    "    print \"program ended\"\n",
    "except:\n",
    "    print \"something went wrong\""
   ]
  },
  {
   "cell_type": "code",
   "execution_count": 12,
   "metadata": {},
   "outputs": [
    {
     "name": "stdout",
     "output_type": "stream",
     "text": [
      "program started\n",
      "Enter a value:12\n",
      "enter b value:0\n",
      "befor conversion: a=12, b=0\n",
      "after conversion: a=12.0, b=0.0\n",
      "something went wrong\n",
      "not enter zero for b\n"
     ]
    }
   ],
   "source": [
    "try:\n",
    "    print \"program started\"\n",
    "    a=raw_input(\"Enter a value:\")\n",
    "    b=raw_input(\"enter b value:\")\n",
    "    print \"befor conversion: a=%s, b=%s\"%(a,b)\n",
    "    a=float(a)\n",
    "    b=float(b)\n",
    "    print \"after conversion: a=%s, b=%s\"%(a,b)\n",
    "    res=a/b\n",
    "    print \"result=\",res\n",
    "    print \"other statements in program\"\n",
    "    print \"program ended\"\n",
    "except:\n",
    "    print \"something went wrong\"\n",
    "    print \"not enter zero for b\""
   ]
  },
  {
   "cell_type": "code",
   "execution_count": 13,
   "metadata": {},
   "outputs": [
    {
     "name": "stdout",
     "output_type": "stream",
     "text": [
      "program started\n",
      "Enter a value:1+2j\n",
      "enter b value:34\n",
      "befor conversion: a=1+2j, b=34\n",
      "something went wrong\n",
      "not enter zero for b\n"
     ]
    }
   ],
   "source": [
    "try:\n",
    "    print \"program started\"\n",
    "    a=raw_input(\"Enter a value:\")\n",
    "    b=raw_input(\"enter b value:\")\n",
    "    print \"befor conversion: a=%s, b=%s\"%(a,b)\n",
    "    a=float(a)\n",
    "    b=float(b)\n",
    "    print \"after conversion: a=%s, b=%s\"%(a,b)\n",
    "    res=a/b\n",
    "    print \"result=\",res\n",
    "    print \"other statements in program\"\n",
    "    print \"program ended\"\n",
    "except:\n",
    "    print \"something went wrong\"\n",
    "    print \"not enter zero for b\""
   ]
  },
  {
   "cell_type": "code",
   "execution_count": 14,
   "metadata": {},
   "outputs": [
    {
     "name": "stdout",
     "output_type": "stream",
     "text": [
      "program started\n",
      "Enter a value:12\n",
      "enter b value:6\n",
      "befor conversion: a=12, b=6\n",
      "after conversion: a=12.0, b=6.0\n",
      "result= 2.0\n",
      "other statements in program\n",
      "program ended\n"
     ]
    }
   ],
   "source": [
    "try:\n",
    "    print \"program started\"\n",
    "    a=raw_input(\"Enter a value:\")\n",
    "    b=raw_input(\"enter b value:\")\n",
    "    print \"befor conversion: a=%s, b=%s\"%(a,b)\n",
    "    a=float(a)\n",
    "    b=float(b)\n",
    "    print \"after conversion: a=%s, b=%s\"%(a,b)\n",
    "    res=a/b\n",
    "    print \"result=\",res\n",
    "    print \"other statements in program\"\n",
    "    print \"program ended\"\n",
    "except Exception as err:\n",
    "    print \"something went wrong: error: %s\"%err"
   ]
  },
  {
   "cell_type": "code",
   "execution_count": 15,
   "metadata": {},
   "outputs": [
    {
     "name": "stdout",
     "output_type": "stream",
     "text": [
      "program started\n",
      "Enter a value:12\n",
      "enter b value:0\n",
      "befor conversion: a=12, b=0\n",
      "after conversion: a=12.0, b=0.0\n",
      "something went wrong: error: float division by zero\n"
     ]
    }
   ],
   "source": [
    "try:\n",
    "    print \"program started\"\n",
    "    a=raw_input(\"Enter a value:\")\n",
    "    b=raw_input(\"enter b value:\")\n",
    "    print \"befor conversion: a=%s, b=%s\"%(a,b)\n",
    "    a=float(a)\n",
    "    b=float(b)\n",
    "    print \"after conversion: a=%s, b=%s\"%(a,b)\n",
    "    res=a/b\n",
    "    print \"result=\",res\n",
    "    print \"other statements in program\"\n",
    "    print \"program ended\"\n",
    "except Exception as err:\n",
    "    print \"something went wrong: error: %s\"%err"
   ]
  },
  {
   "cell_type": "code",
   "execution_count": 16,
   "metadata": {},
   "outputs": [
    {
     "name": "stdout",
     "output_type": "stream",
     "text": [
      "program started\n",
      "Enter a value:qwer\n",
      "enter b value:we\n",
      "befor conversion: a=qwer, b=we\n",
      "something went wrong: error: could not convert string to float: qwer\n"
     ]
    }
   ],
   "source": [
    "try:\n",
    "    print \"program started\"\n",
    "    a=raw_input(\"Enter a value:\")\n",
    "    b=raw_input(\"enter b value:\")\n",
    "    print \"befor conversion: a=%s, b=%s\"%(a,b)\n",
    "    a=float(a)\n",
    "    b=float(b)\n",
    "    print \"after conversion: a=%s, b=%s\"%(a,b)\n",
    "    res=a/b\n",
    "    print \"result=\",res\n",
    "    print \"other statements in program\"\n",
    "    print \"program ended\"\n",
    "except Exception as err:\n",
    "    print \"something went wrong: error: %s\"%err"
   ]
  },
  {
   "cell_type": "code",
   "execution_count": 17,
   "metadata": {},
   "outputs": [
    {
     "name": "stdout",
     "output_type": "stream",
     "text": [
      "program started\n",
      "Enter a value:12\n",
      "enter b value:6\n",
      "befor conversion: a=12, b=6\n",
      "after conversion: a=12.0, b=6.0\n",
      "result= 2.0\n",
      "other statements in program\n",
      "program ended\n"
     ]
    }
   ],
   "source": [
    "try:\n",
    "    print \"program started\"\n",
    "    a=raw_input(\"Enter a value:\")\n",
    "    b=raw_input(\"enter b value:\")\n",
    "    print \"befor conversion: a=%s, b=%s\"%(a,b)\n",
    "    a=float(a)\n",
    "    b=float(b)\n",
    "    print \"after conversion: a=%s, b=%s\"%(a,b)\n",
    "    res=a/b\n",
    "    print \"result=\",res\n",
    "    print \"other statements in program\"\n",
    "    print \"program ended\"\n",
    "except ZeroDivisionError as err:\n",
    "    print \"should not enter zero for b\"\n",
    "    print err\n",
    "except ValueError as err:\n",
    "    print \"expecting digits only for a,b values\"\n",
    "except Exception as err:\n",
    "    print \"something went wrong: error: %s\"%err"
   ]
  },
  {
   "cell_type": "code",
   "execution_count": 1,
   "metadata": {},
   "outputs": [
    {
     "name": "stdout",
     "output_type": "stream",
     "text": [
      "program started\n",
      "Enter a value:qrwtr\n",
      "enter b value:0\n",
      "befor conversion: a=qrwtr, b=0\n",
      "expecting digits only for a,b values\n",
      "other statements in program\n",
      "program ended\n"
     ]
    }
   ],
   "source": [
    "print \"program started\"\n",
    "a=raw_input(\"Enter a value:\")\n",
    "b=raw_input(\"enter b value:\")\n",
    "print \"befor conversion: a=%s, b=%s\"%(a,b)\n",
    "try:\n",
    "    a=float(a)\n",
    "    b=float(b)\n",
    "    print \"after conversion: a=%s, b=%s\"%(a,b)\n",
    "    res=a/b\n",
    "    print \"result=\",res\n",
    "except ZeroDivisionError as err:\n",
    "    print \"should not enter zero for b\"\n",
    "    print err\n",
    "except ValueError as err:\n",
    "    print \"expecting digits only for a,b values\"\n",
    "except Exception as err:\n",
    "    print \"something went wrong: error: %s\"%err\n",
    "print \"other statements in program\"\n",
    "print \"program ended\""
   ]
  },
  {
   "cell_type": "code",
   "execution_count": 2,
   "metadata": {},
   "outputs": [
    {
     "name": "stdout",
     "output_type": "stream",
     "text": [
      "program started\n",
      "Enter a value:12\n",
      "enter b value:6\n",
      "befor conversion: a=12, b=6\n",
      "after conversion: a=12.0, b=6.0\n",
      "result= 2.0\n",
      "other statements in program\n",
      "program ended\n"
     ]
    }
   ],
   "source": [
    "print \"program started\"\n",
    "a=raw_input(\"Enter a value:\")\n",
    "b=raw_input(\"enter b value:\")\n",
    "print \"befor conversion: a=%s, b=%s\"%(a,b)\n",
    "try:\n",
    "    a=float(a)\n",
    "    b=float(b)\n",
    "    print \"after conversion: a=%s, b=%s\"%(a,b)\n",
    "    res=a/b\n",
    "    print \"result=\",res\n",
    "except ZeroDivisionError as err:\n",
    "    print \"should not enter zero for b\"\n",
    "    print err\n",
    "except ValueError as err:\n",
    "    print \"expecting digits only for a,b values\"\n",
    "except Exception as err:\n",
    "    print \"something went wrong: error: %s\"%err\n",
    "print \"other statements in program\"\n",
    "print \"program ended\""
   ]
  },
  {
   "cell_type": "code",
   "execution_count": 3,
   "metadata": {},
   "outputs": [
    {
     "name": "stdout",
     "output_type": "stream",
     "text": [
      "program started\n",
      "Enter a value:12\n",
      "enter b value:0\n",
      "befor conversion: a=12, b=0\n",
      "after conversion: a=12.0, b=0.0\n",
      "should not enter zero for b\n",
      "float division by zero\n",
      "other statements in program\n",
      "program ended\n"
     ]
    }
   ],
   "source": [
    "print \"program started\"\n",
    "a=raw_input(\"Enter a value:\")\n",
    "b=raw_input(\"enter b value:\")\n",
    "print \"befor conversion: a=%s, b=%s\"%(a,b)\n",
    "try:\n",
    "    a=float(a)\n",
    "    b=float(b)\n",
    "    print \"after conversion: a=%s, b=%s\"%(a,b)\n",
    "    res=a/b\n",
    "    print \"result=\",res\n",
    "except ZeroDivisionError as err:\n",
    "    print \"should not enter zero for b\"\n",
    "    print err\n",
    "except ValueError as err:\n",
    "    print \"expecting digits only for a,b values\"\n",
    "except Exception as err:\n",
    "    print \"something went wrong: error: %s\"%err\n",
    "print \"other statements in program\"\n",
    "print \"program ended\""
   ]
  },
  {
   "cell_type": "code",
   "execution_count": 4,
   "metadata": {},
   "outputs": [
    {
     "name": "stdout",
     "output_type": "stream",
     "text": [
      "program started\n",
      "Enter a value:12\n",
      "enter b value:wer\n",
      "befor conversion: a=12, b=wer\n",
      "expecting digits only for a,b values\n",
      "other statements in program\n",
      "program ended\n"
     ]
    }
   ],
   "source": [
    "print \"program started\"\n",
    "a=raw_input(\"Enter a value:\")\n",
    "b=raw_input(\"enter b value:\")\n",
    "print \"befor conversion: a=%s, b=%s\"%(a,b)\n",
    "try:\n",
    "    a=float(a)\n",
    "    b=float(b)\n",
    "    print \"after conversion: a=%s, b=%s\"%(a,b)\n",
    "    res=a/b\n",
    "    print \"result=\",res\n",
    "except ZeroDivisionError as err:\n",
    "    print \"should not enter zero for b\"\n",
    "    print err\n",
    "except ValueError as err:\n",
    "    print \"expecting digits only for a,b values\"\n",
    "except Exception as err:\n",
    "    print \"something went wrong: error: %s\"%err\n",
    "print \"other statements in program\"\n",
    "print \"program ended\""
   ]
  },
  {
   "cell_type": "code",
   "execution_count": 5,
   "metadata": {},
   "outputs": [
    {
     "name": "stdout",
     "output_type": "stream",
     "text": [
      "program started\n",
      "try\n",
      "main block statements\n"
     ]
    }
   ],
   "source": [
    "print \"program started\"\n",
    "try:\n",
    "    print \"try\"\n",
    "except:\n",
    "    print \"except\"\n",
    "print \"main block statements\""
   ]
  },
  {
   "cell_type": "code",
   "execution_count": 6,
   "metadata": {},
   "outputs": [
    {
     "name": "stdout",
     "output_type": "stream",
     "text": [
      "program started\n",
      "try\n",
      "except\n",
      "main block statements\n"
     ]
    }
   ],
   "source": [
    "print \"program started\"\n",
    "try:\n",
    "    print \"try\"\n",
    "    print 1/0\n",
    "except:\n",
    "    print \"except\"\n",
    "print \"main block statements\""
   ]
  },
  {
   "cell_type": "code",
   "execution_count": 7,
   "metadata": {},
   "outputs": [
    {
     "name": "stdout",
     "output_type": "stream",
     "text": [
      "program started\n",
      "except\n",
      "main block statements\n"
     ]
    }
   ],
   "source": [
    "print \"program started\"\n",
    "try:\n",
    "    print 1/0\n",
    "    print \"try\"\n",
    "except:\n",
    "    print \"except\"\n",
    "print \"main block statements\""
   ]
  },
  {
   "cell_type": "code",
   "execution_count": 8,
   "metadata": {},
   "outputs": [
    {
     "name": "stdout",
     "output_type": "stream",
     "text": [
      "program started\n",
      "except\n"
     ]
    },
    {
     "ename": "ZeroDivisionError",
     "evalue": "integer division or modulo by zero",
     "output_type": "error",
     "traceback": [
      "\u001b[0;31m---------------------------------------------------------------------------\u001b[0m",
      "\u001b[0;31mZeroDivisionError\u001b[0m                         Traceback (most recent call last)",
      "\u001b[0;32m<ipython-input-8-200ae980bfab>\u001b[0m in \u001b[0;36m<module>\u001b[0;34m()\u001b[0m\n\u001b[1;32m      5\u001b[0m \u001b[0;32mexcept\u001b[0m\u001b[0;34m:\u001b[0m\u001b[0;34m\u001b[0m\u001b[0m\n\u001b[1;32m      6\u001b[0m     \u001b[0;32mprint\u001b[0m \u001b[0;34m\"except\"\u001b[0m\u001b[0;34m\u001b[0m\u001b[0m\n\u001b[0;32m----> 7\u001b[0;31m     \u001b[0;32mprint\u001b[0m \u001b[0;36m1\u001b[0m\u001b[0;34m/\u001b[0m\u001b[0;36m0\u001b[0m\u001b[0;34m\u001b[0m\u001b[0m\n\u001b[0m\u001b[1;32m      8\u001b[0m \u001b[0;32mprint\u001b[0m \u001b[0;34m\"main block statements\"\u001b[0m\u001b[0;34m\u001b[0m\u001b[0m\n",
      "\u001b[0;31mZeroDivisionError\u001b[0m: integer division or modulo by zero"
     ]
    }
   ],
   "source": [
    "print \"program started\"\n",
    "try:\n",
    "    print 1/0\n",
    "    print \"try\"\n",
    "except:\n",
    "    print \"except\"\n",
    "    print 1/0\n",
    "print \"main block statements\""
   ]
  },
  {
   "cell_type": "code",
   "execution_count": 9,
   "metadata": {},
   "outputs": [
    {
     "name": "stdout",
     "output_type": "stream",
     "text": [
      "program started\n",
      "except\n",
      "integer division or modulo by zero\n",
      "main block statements\n"
     ]
    }
   ],
   "source": [
    "print \"program started\"\n",
    "try:\n",
    "    print 1/0\n",
    "    print \"try\"\n",
    "except:\n",
    "    print \"except\"\n",
    "    try:\n",
    "        print 1/0\n",
    "    except Exception as err:\n",
    "        print err\n",
    "        \n",
    "print \"main block statements\""
   ]
  },
  {
   "cell_type": "code",
   "execution_count": 10,
   "metadata": {},
   "outputs": [
    {
     "name": "stdout",
     "output_type": "stream",
     "text": [
      "main\n",
      "try\n",
      "finally\n",
      "main\n"
     ]
    }
   ],
   "source": [
    "print \"main\"\n",
    "try:\n",
    "    print \"try\"\n",
    "except:\n",
    "    print \"except\"\n",
    "finally:\n",
    "    print \"finally\"\n",
    "print \"main\""
   ]
  },
  {
   "cell_type": "code",
   "execution_count": 11,
   "metadata": {},
   "outputs": [
    {
     "name": "stdout",
     "output_type": "stream",
     "text": [
      "main\n",
      "try\n",
      "except\n",
      "finally\n",
      "main\n"
     ]
    }
   ],
   "source": [
    "print \"main\"\n",
    "try:\n",
    "    print \"try\"\n",
    "    print 1/0\n",
    "except:\n",
    "    print \"except\"\n",
    "finally:\n",
    "    print \"finally\"\n",
    "print \"main\""
   ]
  },
  {
   "cell_type": "code",
   "execution_count": 12,
   "metadata": {},
   "outputs": [
    {
     "name": "stdout",
     "output_type": "stream",
     "text": [
      "main\n",
      "try\n",
      "finally\n",
      "main\n"
     ]
    }
   ],
   "source": [
    "print \"main\"\n",
    "try:\n",
    "    print \"try\"\n",
    "except:\n",
    "    print \"except\"\n",
    "print \"finally\"\n",
    "print \"main\""
   ]
  },
  {
   "cell_type": "code",
   "execution_count": 13,
   "metadata": {},
   "outputs": [
    {
     "name": "stdout",
     "output_type": "stream",
     "text": [
      "main\n",
      "try\n",
      "except\n",
      "finally\n",
      "main\n"
     ]
    }
   ],
   "source": [
    "print \"main\"\n",
    "try:\n",
    "    print \"try\"\n",
    "    print 1/0\n",
    "except:\n",
    "    print \"except\"\n",
    "print \"finally\"\n",
    "print \"main\""
   ]
  },
  {
   "cell_type": "code",
   "execution_count": 14,
   "metadata": {},
   "outputs": [
    {
     "name": "stdout",
     "output_type": "stream",
     "text": [
      "try\n",
      "finally\n",
      "main\n"
     ]
    }
   ],
   "source": [
    "try:\n",
    "    print \"try\"\n",
    "finally:\n",
    "    print \"finally\"\n",
    "print \"main\""
   ]
  },
  {
   "cell_type": "code",
   "execution_count": 15,
   "metadata": {},
   "outputs": [
    {
     "name": "stdout",
     "output_type": "stream",
     "text": [
      "try\n",
      "finally\n"
     ]
    },
    {
     "ename": "ZeroDivisionError",
     "evalue": "integer division or modulo by zero",
     "output_type": "error",
     "traceback": [
      "\u001b[0;31m---------------------------------------------------------------------------\u001b[0m",
      "\u001b[0;31mZeroDivisionError\u001b[0m                         Traceback (most recent call last)",
      "\u001b[0;32m<ipython-input-15-1049f3f4c2c7>\u001b[0m in \u001b[0;36m<module>\u001b[0;34m()\u001b[0m\n\u001b[1;32m      1\u001b[0m \u001b[0;32mtry\u001b[0m\u001b[0;34m:\u001b[0m\u001b[0;34m\u001b[0m\u001b[0m\n\u001b[1;32m      2\u001b[0m     \u001b[0;32mprint\u001b[0m \u001b[0;34m\"try\"\u001b[0m\u001b[0;34m\u001b[0m\u001b[0m\n\u001b[0;32m----> 3\u001b[0;31m     \u001b[0;32mprint\u001b[0m \u001b[0;36m1\u001b[0m\u001b[0;34m/\u001b[0m\u001b[0;36m0\u001b[0m\u001b[0;34m\u001b[0m\u001b[0m\n\u001b[0m\u001b[1;32m      4\u001b[0m \u001b[0;32mfinally\u001b[0m\u001b[0;34m:\u001b[0m\u001b[0;34m\u001b[0m\u001b[0m\n\u001b[1;32m      5\u001b[0m     \u001b[0;32mprint\u001b[0m \u001b[0;34m\"finally\"\u001b[0m\u001b[0;34m\u001b[0m\u001b[0m\n",
      "\u001b[0;31mZeroDivisionError\u001b[0m: integer division or modulo by zero"
     ]
    }
   ],
   "source": [
    "try:\n",
    "    print \"try\"\n",
    "    print 1/0\n",
    "finally:\n",
    "    print \"finally\"\n",
    "print \"main\""
   ]
  },
  {
   "cell_type": "code",
   "execution_count": 16,
   "metadata": {},
   "outputs": [
    {
     "name": "stdout",
     "output_type": "stream",
     "text": [
      "try\n",
      "finally\n",
      "res= 10\n"
     ]
    }
   ],
   "source": [
    "def fun():\n",
    "    try:\n",
    "        print \"try\"\n",
    "        return 10\n",
    "    except:\n",
    "        print \"except\"\n",
    "        return 20\n",
    "    finally:\n",
    "        print \"finally\"\n",
    "    print \"function block\"\n",
    "res=fun()\n",
    "print \"res=\",res"
   ]
  },
  {
   "cell_type": "code",
   "execution_count": 17,
   "metadata": {},
   "outputs": [
    {
     "name": "stdout",
     "output_type": "stream",
     "text": [
      "try\n",
      "finally\n",
      "res= 10\n"
     ]
    }
   ],
   "source": [
    "def fun():\n",
    "    try:\n",
    "        print \"try\"\n",
    "        return 10\n",
    "        print \"after return\"\n",
    "    except:\n",
    "        print \"except\"\n",
    "        return 20\n",
    "    finally:\n",
    "        print \"finally\"\n",
    "    print \"function block\"\n",
    "res=fun()\n",
    "print \"res=\",res"
   ]
  },
  {
   "cell_type": "code",
   "execution_count": 18,
   "metadata": {},
   "outputs": [
    {
     "name": "stdout",
     "output_type": "stream",
     "text": [
      "try\n",
      "except\n",
      "finally\n",
      "res= 20\n"
     ]
    }
   ],
   "source": [
    "def fun():\n",
    "    try:\n",
    "        print \"try\"\n",
    "        print 1/0\n",
    "        return 10\n",
    "        print \"after return\"\n",
    "    except:\n",
    "        print \"except\"\n",
    "        return 20\n",
    "    finally:\n",
    "        print \"finally\"\n",
    "    print \"function block\"\n",
    "res=fun()\n",
    "print \"res=\",res"
   ]
  },
  {
   "cell_type": "code",
   "execution_count": 19,
   "metadata": {},
   "outputs": [
    {
     "name": "stdout",
     "output_type": "stream",
     "text": [
      "try\n",
      "except\n",
      "finally\n",
      "res= 30\n"
     ]
    }
   ],
   "source": [
    "def fun():\n",
    "    try:\n",
    "        print \"try\"\n",
    "        print 1/0\n",
    "        return 10\n",
    "        print \"after return\"\n",
    "    except:\n",
    "        print \"except\"\n",
    "        return 20\n",
    "    finally:\n",
    "        print \"finally\"\n",
    "        return 30\n",
    "    print \"function block\"\n",
    "res=fun()\n",
    "print \"res=\",res"
   ]
  },
  {
   "cell_type": "code",
   "execution_count": 20,
   "metadata": {},
   "outputs": [
    {
     "name": "stdout",
     "output_type": "stream",
     "text": [
      "try\n",
      "except\n",
      "finally\n",
      "res= 20\n"
     ]
    }
   ],
   "source": [
    "def fun():\n",
    "    try:\n",
    "        print \"try\"\n",
    "        print 1/0\n",
    "        res=10\n",
    "        print \"after return\"\n",
    "    except:\n",
    "        print \"except\"\n",
    "        res=20\n",
    "    finally:\n",
    "        print \"finally\"\n",
    "    return res\n",
    "    print \"function block\"\n",
    "res=fun()\n",
    "print \"res=\",res"
   ]
  },
  {
   "cell_type": "code",
   "execution_count": 21,
   "metadata": {},
   "outputs": [
    {
     "name": "stdout",
     "output_type": "stream",
     "text": [
      "try\n",
      "except\n",
      "finally\n",
      "res= 30\n"
     ]
    }
   ],
   "source": [
    "def fun():\n",
    "    try:\n",
    "        print \"try\"\n",
    "        print 1/0\n",
    "        res=10\n",
    "        print \"after return\"\n",
    "    except:\n",
    "        print \"except\"\n",
    "        res=20\n",
    "    finally:\n",
    "        print \"finally\"\n",
    "        res=30\n",
    "    return res\n",
    "    print \"function block\"\n",
    "res=fun()\n",
    "print \"res=\",res"
   ]
  },
  {
   "cell_type": "code",
   "execution_count": 22,
   "metadata": {},
   "outputs": [
    {
     "name": "stdout",
     "output_type": "stream",
     "text": [
      "try\n",
      "after return\n",
      "finally\n",
      "res= 30\n"
     ]
    }
   ],
   "source": [
    "def fun():\n",
    "    try:\n",
    "        print \"try\"\n",
    "        res=10\n",
    "        print \"after return\"\n",
    "    except:\n",
    "        print \"except\"\n",
    "        res=20\n",
    "    finally:\n",
    "        print \"finally\"\n",
    "        res=30\n",
    "    return res\n",
    "    print \"function block\"\n",
    "res=fun()\n",
    "print \"res=\",res"
   ]
  },
  {
   "cell_type": "code",
   "execution_count": 24,
   "metadata": {},
   "outputs": [
    {
     "ename": "SyntaxError",
     "evalue": "invalid syntax (<ipython-input-24-992669283af7>, line 3)",
     "output_type": "error",
     "traceback": [
      "\u001b[0;36m  File \u001b[0;32m\"<ipython-input-24-992669283af7>\"\u001b[0;36m, line \u001b[0;32m3\u001b[0m\n\u001b[0;31m    print \"try\"\u001b[0m\n\u001b[0m               ^\u001b[0m\n\u001b[0;31mSyntaxError\u001b[0m\u001b[0;31m:\u001b[0m invalid syntax\n"
     ]
    }
   ],
   "source": [
    "print \"main\"\n",
    "try:\n",
    "    print \"try\""
   ]
  },
  {
   "cell_type": "code",
   "execution_count": 25,
   "metadata": {},
   "outputs": [
    {
     "name": "stdout",
     "output_type": "stream",
     "text": [
      "main\n",
      "try\n"
     ]
    }
   ],
   "source": [
    "print \"main\"\n",
    "try:\n",
    "    print \"try\"\n",
    "except:\n",
    "    pass"
   ]
  },
  {
   "cell_type": "code",
   "execution_count": 1,
   "metadata": {},
   "outputs": [
    {
     "name": "stdout",
     "output_type": "stream",
     "text": [
      "main\n",
      "try\n",
      "else\n",
      "finally\n",
      "main\n"
     ]
    }
   ],
   "source": [
    "print \"main\"\n",
    "try:\n",
    "    print \"try\"\n",
    "except:\n",
    "    print \"except\"\n",
    "else:\n",
    "    print \"else\"\n",
    "finally:\n",
    "    print \"finally\"\n",
    "print \"main\""
   ]
  },
  {
   "cell_type": "code",
   "execution_count": 2,
   "metadata": {},
   "outputs": [
    {
     "name": "stdout",
     "output_type": "stream",
     "text": [
      "main\n",
      "try\n",
      "except\n",
      "finally\n",
      "main\n"
     ]
    }
   ],
   "source": [
    "print \"main\"\n",
    "try:\n",
    "    print \"try\"\n",
    "    print 1/0\n",
    "except:\n",
    "    print \"except\"\n",
    "else:\n",
    "    print \"else\"\n",
    "finally:\n",
    "    print \"finally\"\n",
    "print \"main\""
   ]
  },
  {
   "cell_type": "code",
   "execution_count": null,
   "metadata": {
    "collapsed": true
   },
   "outputs": [],
   "source": []
  }
 ],
 "metadata": {
  "kernelspec": {
   "display_name": "Python 2",
   "language": "python",
   "name": "python2"
  },
  "language_info": {
   "codemirror_mode": {
    "name": "ipython",
    "version": 2
   },
   "file_extension": ".py",
   "mimetype": "text/x-python",
   "name": "python",
   "nbconvert_exporter": "python",
   "pygments_lexer": "ipython2",
   "version": "2.7.14"
  }
 },
 "nbformat": 4,
 "nbformat_minor": 2
}
