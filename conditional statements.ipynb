{
 "cells": [
  {
   "cell_type": "code",
   "execution_count": 1,
   "metadata": {},
   "outputs": [
    {
     "name": "stdout",
     "output_type": "stream",
     "text": [
      "enter a value:10\n",
      "enter b value:20\n",
      "a is big\n",
      "b is big\n",
      "thank you. use me again\n"
     ]
    }
   ],
   "source": [
    "a=raw_input(\"enter a value:\")\n",
    "b=raw_input(\"enter b value:\")\n",
    "print \"a is big\"\n",
    "print \"b is big\"\n",
    "print \"thank you. use me again\""
   ]
  },
  {
   "cell_type": "code",
   "execution_count": 3,
   "metadata": {},
   "outputs": [
    {
     "name": "stdout",
     "output_type": "stream",
     "text": [
      "enter a value:10\n",
      "enter b value:20\n",
      "a>b False\n",
      "b>a True\n",
      "b is big\n",
      "thank you. use me again\n"
     ]
    }
   ],
   "source": [
    "a=raw_input(\"enter a value:\")\n",
    "b=raw_input(\"enter b value:\")\n",
    "print \"a>b\",a>b\n",
    "print \"b>a\",b>a\n",
    "if a>b:\n",
    "    print \"a is big\"\n",
    "if b>a:\n",
    "    print \"b is big\"\n",
    "print \"thank you. use me again\""
   ]
  },
  {
   "cell_type": "code",
   "execution_count": 4,
   "metadata": {},
   "outputs": [
    {
     "name": "stdout",
     "output_type": "stream",
     "text": [
      "Enter an age:10\n",
      "True\n",
      "eligible for vote\n",
      "thank you\n"
     ]
    }
   ],
   "source": [
    "age=raw_input(\"Enter an age:\")\n",
    "print age>=18\n",
    "if age>=18:\n",
    "    print \"eligible for vote\"\n",
    "else:\n",
    "    print \"not eligible for vote\"\n",
    "print \"thank you\""
   ]
  },
  {
   "cell_type": "code",
   "execution_count": 5,
   "metadata": {},
   "outputs": [
    {
     "data": {
      "text/plain": [
       "False"
      ]
     },
     "execution_count": 5,
     "metadata": {},
     "output_type": "execute_result"
    }
   ],
   "source": [
    "10>=18"
   ]
  },
  {
   "cell_type": "code",
   "execution_count": 6,
   "metadata": {},
   "outputs": [
    {
     "data": {
      "text/plain": [
       "True"
      ]
     },
     "execution_count": 6,
     "metadata": {},
     "output_type": "execute_result"
    }
   ],
   "source": [
    "\"10\">=18"
   ]
  },
  {
   "cell_type": "code",
   "execution_count": 7,
   "metadata": {},
   "outputs": [
    {
     "data": {
      "text/plain": [
       "True"
      ]
     },
     "execution_count": 7,
     "metadata": {},
     "output_type": "execute_result"
    }
   ],
   "source": [
    "\"10\">=18000000000234567"
   ]
  },
  {
   "cell_type": "code",
   "execution_count": 8,
   "metadata": {},
   "outputs": [
    {
     "name": "stdout",
     "output_type": "stream",
     "text": [
      "Enter an age:20\n",
      "True\n",
      "eligible for vote\n",
      "thank you\n"
     ]
    }
   ],
   "source": [
    "age=raw_input(\"Enter an age:\")\n",
    "age=int(age)\n",
    "print age>=18\n",
    "if age>=18:\n",
    "    print \"eligible for vote\"\n",
    "else:\n",
    "    print \"not eligible for vote\"\n",
    "print \"thank you\""
   ]
  },
  {
   "cell_type": "code",
   "execution_count": 9,
   "metadata": {},
   "outputs": [
    {
     "name": "stdout",
     "output_type": "stream",
     "text": [
      "Enter an age:13\n",
      "False\n",
      "not eligible for vote\n",
      "thank you\n"
     ]
    }
   ],
   "source": [
    "age=raw_input(\"Enter an age:\")\n",
    "age=int(age)\n",
    "print age>=18\n",
    "if age>=18:\n",
    "    print \"eligible for vote\"\n",
    "else:\n",
    "    print \"not eligible for vote\"\n",
    "print \"thank you\""
   ]
  },
  {
   "cell_type": "code",
   "execution_count": 10,
   "metadata": {},
   "outputs": [
    {
     "data": {
      "text/plain": [
       "False"
      ]
     },
     "execution_count": 10,
     "metadata": {},
     "output_type": "execute_result"
    }
   ],
   "source": [
    "a=10\n",
    "b=20\n",
    "a>b"
   ]
  },
  {
   "cell_type": "code",
   "execution_count": 11,
   "metadata": {},
   "outputs": [
    {
     "name": "stdout",
     "output_type": "stream",
     "text": [
      "enter a value:12\n",
      "Enter b value:34\n",
      "Enter c avlue:56\n",
      "c is big\n",
      "thank you.\n"
     ]
    }
   ],
   "source": [
    "a=raw_input(\"enter a value:\")\n",
    "b=raw_input(\"Enter b value:\")\n",
    "c=raw_input(\"Enter c avlue:\")\n",
    "a=int(a)\n",
    "b=int(b)\n",
    "c=int(c)\n",
    "if a>b and a>c:\n",
    "    print \"a is big\"\n",
    "if b>a and b>c:\n",
    "    print \"b is big\"\n",
    "if c>a and c>b:\n",
    "    print \"c is big\"\n",
    "print \"thank you.\""
   ]
  },
  {
   "cell_type": "code",
   "execution_count": 13,
   "metadata": {},
   "outputs": [
    {
     "name": "stdout",
     "output_type": "stream",
     "text": [
      "enter a value:13\n",
      "Enter b value:24\n",
      "Enter c avlue:31\n",
      "c is big\n",
      "thank you.\n"
     ]
    }
   ],
   "source": [
    "a=raw_input(\"enter a value:\")\n",
    "b=raw_input(\"Enter b value:\")\n",
    "c=raw_input(\"Enter c avlue:\")\n",
    "a=int(a)\n",
    "b=int(b)\n",
    "c=int(c)\n",
    "if a>b:\n",
    "    if a>c:\n",
    "        print \"a is big\"\n",
    "if b>a:\n",
    "    if b>c:\n",
    "        print \"b is big\"\n",
    "if c>a:\n",
    "    if c>b:\n",
    "        print \"c is big\"\n",
    "print \"thank you.\""
   ]
  },
  {
   "cell_type": "code",
   "execution_count": 14,
   "metadata": {},
   "outputs": [
    {
     "name": "stdout",
     "output_type": "stream",
     "text": [
      "operating systems:\n",
      "\t1.windows\n",
      "\t2.android\n",
      "\t3.mac\n",
      "\n",
      "Enter an option:1\n"
     ]
    }
   ],
   "source": [
    "print \"operating systems:\\n\\t1.windows\\n\\t2.android\\n\\t3.mac\\n\"\n",
    "option = raw_input(\"Enter an option:\")"
   ]
  },
  {
   "cell_type": "code",
   "execution_count": 15,
   "metadata": {},
   "outputs": [
    {
     "name": "stdout",
     "output_type": "stream",
     "text": [
      "operating systems:\n",
      "\t1.windows\n",
      "\t2.android\n",
      "\t3.mac\n",
      "\n",
      "Enter an option:1\n",
      "Goto first floor and buy windows laptop or mobile\n"
     ]
    }
   ],
   "source": [
    "print \"operating systems:\\n\\t1.windows\\n\\t2.android\\n\\t3.mac\\n\"\n",
    "option = raw_input(\"Enter an option:\")\n",
    "if option==\"1\":\n",
    "    print \"Goto first floor and buy windows laptop or mobile\"\n",
    "if option==\"2\":\n",
    "    print \"Goto second floor and buy adroid mobiles\"\n",
    "if option==\"3\":\n",
    "    print \"Goto third floor and buy mac laptop or iphones\""
   ]
  },
  {
   "cell_type": "code",
   "execution_count": 16,
   "metadata": {},
   "outputs": [
    {
     "name": "stdout",
     "output_type": "stream",
     "text": [
      "operating systems:\n",
      "\t1.windows\n",
      "\t2.android\n",
      "\t3.mac\n",
      "\n",
      "Enter an option:2\n",
      "Goto second floor and buy adroid mobiles\n"
     ]
    }
   ],
   "source": [
    "print \"operating systems:\\n\\t1.windows\\n\\t2.android\\n\\t3.mac\\n\"\n",
    "option = raw_input(\"Enter an option:\")\n",
    "if option==\"1\":\n",
    "    print \"Goto first floor and buy windows laptop or mobile\"\n",
    "if option==\"2\":\n",
    "    print \"Goto second floor and buy adroid mobiles\"\n",
    "if option==\"3\":\n",
    "    print \"Goto third floor and buy mac laptop or iphones\""
   ]
  },
  {
   "cell_type": "code",
   "execution_count": 17,
   "metadata": {},
   "outputs": [
    {
     "name": "stdout",
     "output_type": "stream",
     "text": [
      "operating systems:\n",
      "\t1.windows\n",
      "\t2.android\n",
      "\t3.mac\n",
      "\n",
      "Enter an option:3\n",
      "Goto third floor and buy mac laptop or iphones\n"
     ]
    }
   ],
   "source": [
    "print \"operating systems:\\n\\t1.windows\\n\\t2.android\\n\\t3.mac\\n\"\n",
    "option = raw_input(\"Enter an option:\")\n",
    "if option==\"1\":\n",
    "    print \"Goto first floor and buy windows laptop or mobile\"\n",
    "if option==\"2\":\n",
    "    print \"Goto second floor and buy adroid mobiles\"\n",
    "if option==\"3\":\n",
    "    print \"Goto third floor and buy mac laptop or iphones\""
   ]
  },
  {
   "cell_type": "code",
   "execution_count": 18,
   "metadata": {},
   "outputs": [
    {
     "name": "stdout",
     "output_type": "stream",
     "text": [
      "operating systems:\n",
      "\t1.windows\n",
      "\t2.android\n",
      "\t3.mac\n",
      "\n",
      "Enter an option:6\n"
     ]
    }
   ],
   "source": [
    "print \"operating systems:\\n\\t1.windows\\n\\t2.android\\n\\t3.mac\\n\"\n",
    "option = raw_input(\"Enter an option:\")\n",
    "if option==\"1\":\n",
    "    print \"Goto first floor and buy windows laptop or mobile\"\n",
    "if option==\"2\":\n",
    "    print \"Goto second floor and buy adroid mobiles\"\n",
    "if option==\"3\":\n",
    "    print \"Goto third floor and buy mac laptop or iphones\""
   ]
  },
  {
   "cell_type": "code",
   "execution_count": 19,
   "metadata": {},
   "outputs": [
    {
     "data": {
      "text/plain": [
       "True"
      ]
     },
     "execution_count": 19,
     "metadata": {},
     "output_type": "execute_result"
    }
   ],
   "source": [
    "1==1"
   ]
  },
  {
   "cell_type": "code",
   "execution_count": 20,
   "metadata": {},
   "outputs": [
    {
     "data": {
      "text/plain": [
       "False"
      ]
     },
     "execution_count": 20,
     "metadata": {},
     "output_type": "execute_result"
    }
   ],
   "source": [
    "\"1\"==1"
   ]
  },
  {
   "cell_type": "code",
   "execution_count": 1,
   "metadata": {},
   "outputs": [
    {
     "name": "stdout",
     "output_type": "stream",
     "text": [
      "aaaaaaa\n"
     ]
    }
   ],
   "source": [
    "print \"a\"*7"
   ]
  },
  {
   "cell_type": "code",
   "execution_count": 2,
   "metadata": {},
   "outputs": [
    {
     "name": "stdout",
     "output_type": "stream",
     "text": [
      "14\n"
     ]
    }
   ],
   "source": [
    "print 2*7"
   ]
  },
  {
   "cell_type": "code",
   "execution_count": 3,
   "metadata": {},
   "outputs": [
    {
     "name": "stdout",
     "output_type": "stream",
     "text": [
      "14\n"
     ]
    }
   ],
   "source": [
    "print 2+2+2+2+2+2+2"
   ]
  },
  {
   "cell_type": "code",
   "execution_count": 4,
   "metadata": {},
   "outputs": [
    {
     "name": "stdout",
     "output_type": "stream",
     "text": [
      "aaaaaaa\n"
     ]
    }
   ],
   "source": [
    "print \"a\"+\"a\"+\"a\"+\"a\"+\"a\"+\"a\"+\"a\""
   ]
  },
  {
   "cell_type": "code",
   "execution_count": 5,
   "metadata": {},
   "outputs": [
    {
     "ename": "TypeError",
     "evalue": "can't multiply sequence by non-int of type 'float'",
     "output_type": "error",
     "traceback": [
      "\u001b[0;31m---------------------------------------------------------------------------\u001b[0m",
      "\u001b[0;31mTypeError\u001b[0m                                 Traceback (most recent call last)",
      "\u001b[0;32m<ipython-input-5-030571b7d6f7>\u001b[0m in \u001b[0;36m<module>\u001b[0;34m()\u001b[0m\n\u001b[0;32m----> 1\u001b[0;31m \u001b[0;32mprint\u001b[0m \u001b[0;34m\"a\"\u001b[0m\u001b[0;34m*\u001b[0m\u001b[0;36m2.7\u001b[0m\u001b[0;34m\u001b[0m\u001b[0m\n\u001b[0m",
      "\u001b[0;31mTypeError\u001b[0m: can't multiply sequence by non-int of type 'float'"
     ]
    }
   ],
   "source": [
    "print \"a\"*2.7"
   ]
  },
  {
   "cell_type": "code",
   "execution_count": 6,
   "metadata": {},
   "outputs": [
    {
     "name": "stdout",
     "output_type": "stream",
     "text": [
      "operating systems:\n",
      "\t1.windows\n",
      "\t2.android\n",
      "\t3.mac\n",
      "\n",
      "Enter an option:1\n",
      "Goto first floor and buy windows laptop or mobile\n"
     ]
    }
   ],
   "source": [
    "print \"operating systems:\\n\\t1.windows\\n\\t2.android\\n\\t3.mac\\n\"\n",
    "option = raw_input(\"Enter an option:\")\n",
    "if option==\"1\":\n",
    "    print \"Goto first floor and buy windows laptop or mobile\"\n",
    "if option==\"2\":\n",
    "    print \"Goto second floor and buy adroid mobiles\"\n",
    "if option==\"3\":\n",
    "    print \"Goto third floor and buy mac laptop or iphones\""
   ]
  },
  {
   "cell_type": "code",
   "execution_count": 7,
   "metadata": {},
   "outputs": [
    {
     "name": "stdout",
     "output_type": "stream",
     "text": [
      "operating systems:\n",
      "\t1.windows\n",
      "\t2.android\n",
      "\t3.mac\n",
      "\n",
      "Enter an option:2\n",
      "Goto second floor and buy adroid mobiles\n"
     ]
    }
   ],
   "source": [
    "print \"operating systems:\\n\\t1.windows\\n\\t2.android\\n\\t3.mac\\n\"\n",
    "option = raw_input(\"Enter an option:\")\n",
    "if option==\"1\":\n",
    "    print \"Goto first floor and buy windows laptop or mobile\"\n",
    "if option==\"2\":\n",
    "    print \"Goto second floor and buy adroid mobiles\"\n",
    "if option==\"3\":\n",
    "    print \"Goto third floor and buy mac laptop or iphones\""
   ]
  },
  {
   "cell_type": "code",
   "execution_count": 8,
   "metadata": {},
   "outputs": [
    {
     "name": "stdout",
     "output_type": "stream",
     "text": [
      "operating systems:\n",
      "\t1.windows\n",
      "\t2.android\n",
      "\t3.mac\n",
      "\n",
      "Enter an option:6\n",
      "There is only three floors, please select 1 or 2 or 3\n"
     ]
    }
   ],
   "source": [
    "print \"operating systems:\\n\\t1.windows\\n\\t2.android\\n\\t3.mac\\n\"\n",
    "option = raw_input(\"Enter an option:\")\n",
    "if option!=1 and option!=2 and option!=3:\n",
    "    print \"There is only three floors, please select 1 or 2 or 3\"\n",
    "if option==\"1\":\n",
    "    print \"Goto first floor and buy windows laptop or mobile\"\n",
    "if option==\"2\":\n",
    "    print \"Goto second floor and buy adroid mobiles\"\n",
    "if option==\"3\":\n",
    "    print \"Goto third floor and buy mac laptop or iphones\"\n"
   ]
  },
  {
   "cell_type": "code",
   "execution_count": 9,
   "metadata": {},
   "outputs": [
    {
     "name": "stdout",
     "output_type": "stream",
     "text": [
      "operating systems:\n",
      "\t1.windows\n",
      "\t2.android\n",
      "\t3.mac\n",
      "\n",
      "Enter an option:4\n",
      "There is only three floors, please select 1 or 2 or 3\n"
     ]
    }
   ],
   "source": [
    "print \"operating systems:\\n\\t1.windows\\n\\t2.android\\n\\t3.mac\\n\"\n",
    "option = raw_input(\"Enter an option:\")\n",
    "if option>3:\n",
    "    print \"There is only three floors, please select 1 or 2 or 3\"\n",
    "if option==\"1\":\n",
    "    print \"Goto first floor and buy windows laptop or mobile\"\n",
    "if option==\"2\":\n",
    "    print \"Goto second floor and buy adroid mobiles\"\n",
    "if option==\"3\":\n",
    "    print \"Goto third floor and buy mac laptop or iphones\"\n"
   ]
  },
  {
   "cell_type": "code",
   "execution_count": 10,
   "metadata": {},
   "outputs": [
    {
     "name": "stdout",
     "output_type": "stream",
     "text": [
      "operating systems:\n",
      "\t1.windows\n",
      "\t2.android\n",
      "\t3.mac\n",
      "\n",
      "Enter an option:1\n",
      "There is only three floors, please select 1 or 2 or 3\n",
      "Goto first floor and buy windows laptop or mobile\n"
     ]
    }
   ],
   "source": [
    "print \"operating systems:\\n\\t1.windows\\n\\t2.android\\n\\t3.mac\\n\"\n",
    "option = raw_input(\"Enter an option:\")\n",
    "if option>3:\n",
    "    print \"There is only three floors, please select 1 or 2 or 3\"\n",
    "if option==\"1\":\n",
    "    print \"Goto first floor and buy windows laptop or mobile\"\n",
    "if option==\"2\":\n",
    "    print \"Goto second floor and buy adroid mobiles\"\n",
    "if option==\"3\":\n",
    "    print \"Goto third floor and buy mac laptop or iphones\"\n"
   ]
  },
  {
   "cell_type": "code",
   "execution_count": 11,
   "metadata": {},
   "outputs": [
    {
     "data": {
      "text/plain": [
       "True"
      ]
     },
     "execution_count": 11,
     "metadata": {},
     "output_type": "execute_result"
    }
   ],
   "source": [
    "\"1\">3"
   ]
  },
  {
   "cell_type": "code",
   "execution_count": 12,
   "metadata": {},
   "outputs": [
    {
     "data": {
      "text/plain": [
       "False"
      ]
     },
     "execution_count": 12,
     "metadata": {},
     "output_type": "execute_result"
    }
   ],
   "source": [
    "1>3"
   ]
  },
  {
   "cell_type": "code",
   "execution_count": 13,
   "metadata": {},
   "outputs": [
    {
     "name": "stdout",
     "output_type": "stream",
     "text": [
      "operating systems:\n",
      "\t1.windows\n",
      "\t2.android\n",
      "\t3.mac\n",
      "\n",
      "Enter an option:1\n",
      "Goto first floor and buy windows laptop or mobile\n"
     ]
    }
   ],
   "source": [
    "print \"operating systems:\\n\\t1.windows\\n\\t2.android\\n\\t3.mac\\n\"\n",
    "option = raw_input(\"Enter an option:\")\n",
    "if option>\"3\":\n",
    "    print \"There is only three floors, please select 1 or 2 or 3\"\n",
    "if option==\"1\":\n",
    "    print \"Goto first floor and buy windows laptop or mobile\"\n",
    "if option==\"2\":\n",
    "    print \"Goto second floor and buy adroid mobiles\"\n",
    "if option==\"3\":\n",
    "    print \"Goto third floor and buy mac laptop or iphones\"\n"
   ]
  },
  {
   "cell_type": "code",
   "execution_count": 14,
   "metadata": {},
   "outputs": [
    {
     "name": "stdout",
     "output_type": "stream",
     "text": [
      "operating systems:\n",
      "\t1.windows\n",
      "\t2.android\n",
      "\t3.mac\n",
      "\n",
      "Enter an option:10\n"
     ]
    }
   ],
   "source": [
    "print \"operating systems:\\n\\t1.windows\\n\\t2.android\\n\\t3.mac\\n\"\n",
    "option = raw_input(\"Enter an option:\")\n",
    "if option>\"3\":\n",
    "    print \"There is only three floors, please select 1 or 2 or 3\"\n",
    "if option==\"1\":\n",
    "    print \"Goto first floor and buy windows laptop or mobile\"\n",
    "if option==\"2\":\n",
    "    print \"Goto second floor and buy adroid mobiles\"\n",
    "if option==\"3\":\n",
    "    print \"Goto third floor and buy mac laptop or iphones\"\n"
   ]
  },
  {
   "cell_type": "code",
   "execution_count": 15,
   "metadata": {},
   "outputs": [
    {
     "data": {
      "text/plain": [
       "False"
      ]
     },
     "execution_count": 15,
     "metadata": {},
     "output_type": "execute_result"
    }
   ],
   "source": [
    "\"10\">\"3\""
   ]
  },
  {
   "cell_type": "code",
   "execution_count": 16,
   "metadata": {},
   "outputs": [
    {
     "data": {
      "text/plain": [
       "True"
      ]
     },
     "execution_count": 16,
     "metadata": {},
     "output_type": "execute_result"
    }
   ],
   "source": [
    "10>3"
   ]
  },
  {
   "cell_type": "code",
   "execution_count": 17,
   "metadata": {},
   "outputs": [
    {
     "name": "stdout",
     "output_type": "stream",
     "text": [
      "operating systems:\n",
      "\t1.windows\n",
      "\t2.android\n",
      "\t3.mac\n",
      "\n",
      "Enter an option:1\n",
      "Goto first floor and buy windows laptop or mobile\n"
     ]
    }
   ],
   "source": [
    "print \"operating systems:\\n\\t1.windows\\n\\t2.android\\n\\t3.mac\\n\"\n",
    "option = raw_input(\"Enter an option:\")\n",
    "if option>\"3\" and option<\"1\":\n",
    "    print \"There is only three floors, please select 1 or 2 or 3\"\n",
    "if option==\"1\":\n",
    "    print \"Goto first floor and buy windows laptop or mobile\"\n",
    "if option==\"2\":\n",
    "    print \"Goto second floor and buy adroid mobiles\"\n",
    "if option==\"3\":\n",
    "    print \"Goto third floor and buy mac laptop or iphones\"\n"
   ]
  },
  {
   "cell_type": "code",
   "execution_count": 18,
   "metadata": {},
   "outputs": [
    {
     "name": "stdout",
     "output_type": "stream",
     "text": [
      "operating systems:\n",
      "\t1.windows\n",
      "\t2.android\n",
      "\t3.mac\n",
      "\n",
      "Enter an option:2\n",
      "Goto second floor and buy adroid mobiles\n"
     ]
    }
   ],
   "source": [
    "print \"operating systems:\\n\\t1.windows\\n\\t2.android\\n\\t3.mac\\n\"\n",
    "option = raw_input(\"Enter an option:\")\n",
    "if option>\"3\" and option<\"1\":\n",
    "    print \"There is only three floors, please select 1 or 2 or 3\"\n",
    "if option==\"1\":\n",
    "    print \"Goto first floor and buy windows laptop or mobile\"\n",
    "if option==\"2\":\n",
    "    print \"Goto second floor and buy adroid mobiles\"\n",
    "if option==\"3\":\n",
    "    print \"Goto third floor and buy mac laptop or iphones\"\n"
   ]
  },
  {
   "cell_type": "code",
   "execution_count": 19,
   "metadata": {},
   "outputs": [
    {
     "name": "stdout",
     "output_type": "stream",
     "text": [
      "operating systems:\n",
      "\t1.windows\n",
      "\t2.android\n",
      "\t3.mac\n",
      "\n",
      "Enter an option:3\n",
      "Goto third floor and buy mac laptop or iphones\n"
     ]
    }
   ],
   "source": [
    "print \"operating systems:\\n\\t1.windows\\n\\t2.android\\n\\t3.mac\\n\"\n",
    "option = raw_input(\"Enter an option:\")\n",
    "if option>\"3\" and option<\"1\":\n",
    "    print \"There is only three floors, please select 1 or 2 or 3\"\n",
    "if option==\"1\":\n",
    "    print \"Goto first floor and buy windows laptop or mobile\"\n",
    "if option==\"2\":\n",
    "    print \"Goto second floor and buy adroid mobiles\"\n",
    "if option==\"3\":\n",
    "    print \"Goto third floor and buy mac laptop or iphones\"\n"
   ]
  },
  {
   "cell_type": "code",
   "execution_count": 20,
   "metadata": {},
   "outputs": [
    {
     "name": "stdout",
     "output_type": "stream",
     "text": [
      "operating systems:\n",
      "\t1.windows\n",
      "\t2.android\n",
      "\t3.mac\n",
      "\n",
      "Enter an option:10\n"
     ]
    }
   ],
   "source": [
    "print \"operating systems:\\n\\t1.windows\\n\\t2.android\\n\\t3.mac\\n\"\n",
    "option = raw_input(\"Enter an option:\")\n",
    "if option>\"3\" and option<\"1\":\n",
    "    print \"There is only three floors, please select 1 or 2 or 3\"\n",
    "if option==\"1\":\n",
    "    print \"Goto first floor and buy windows laptop or mobile\"\n",
    "if option==\"2\":\n",
    "    print \"Goto second floor and buy adroid mobiles\"\n",
    "if option==\"3\":\n",
    "    print \"Goto third floor and buy mac laptop or iphones\"\n"
   ]
  },
  {
   "cell_type": "code",
   "execution_count": 21,
   "metadata": {},
   "outputs": [
    {
     "name": "stdout",
     "output_type": "stream",
     "text": [
      "operating systems:\n",
      "\t1.windows\n",
      "\t2.android\n",
      "\t3.mac\n",
      "\n",
      "Enter an option:10\n"
     ]
    }
   ],
   "source": [
    "print \"operating systems:\\n\\t1.windows\\n\\t2.android\\n\\t3.mac\\n\"\n",
    "option = int(raw_input(\"Enter an option:\"))\n",
    "if option>3 and option<1:\n",
    "    print \"There is only three floors, please select 1 or 2 or 3\"\n",
    "if option==1:\n",
    "    print \"Goto first floor and buy windows laptop or mobile\"\n",
    "if option==2:\n",
    "    print \"Goto second floor and buy adroid mobiles\"\n",
    "if option==3:\n",
    "    print \"Goto third floor and buy mac laptop or iphones\"\n"
   ]
  },
  {
   "cell_type": "code",
   "execution_count": 22,
   "metadata": {},
   "outputs": [
    {
     "name": "stdout",
     "output_type": "stream",
     "text": [
      "operating systems:\n",
      "\t1.windows\n",
      "\t2.android\n",
      "\t3.mac\n",
      "\n",
      "Enter an option:10\n",
      "There is only three floors, please select 1 or 2 or 3\n"
     ]
    }
   ],
   "source": [
    "print \"operating systems:\\n\\t1.windows\\n\\t2.android\\n\\t3.mac\\n\"\n",
    "option = int(raw_input(\"Enter an option:\"))\n",
    "if option>3 or option<1:\n",
    "    print \"There is only three floors, please select 1 or 2 or 3\"\n",
    "if option==1:\n",
    "    print \"Goto first floor and buy windows laptop or mobile\"\n",
    "if option==2:\n",
    "    print \"Goto second floor and buy adroid mobiles\"\n",
    "if option==3:\n",
    "    print \"Goto third floor and buy mac laptop or iphones\"\n"
   ]
  },
  {
   "cell_type": "code",
   "execution_count": 23,
   "metadata": {},
   "outputs": [
    {
     "name": "stdout",
     "output_type": "stream",
     "text": [
      "operating systems:\n",
      "\t1.windows\n",
      "\t2.android\n",
      "\t3.mac\n",
      "\n",
      "Enter an option:24\n",
      "There is only three floors, please select 1 or 2 or 3\n"
     ]
    }
   ],
   "source": [
    "print \"operating systems:\\n\\t1.windows\\n\\t2.android\\n\\t3.mac\\n\"\n",
    "option = int(raw_input(\"Enter an option:\"))\n",
    "if option>3 or option<1:\n",
    "    print \"There is only three floors, please select 1 or 2 or 3\"\n",
    "if option==1:\n",
    "    print \"Goto first floor and buy windows laptop or mobile\"\n",
    "if option==2:\n",
    "    print \"Goto second floor and buy adroid mobiles\"\n",
    "if option==3:\n",
    "    print \"Goto third floor and buy mac laptop or iphones\"\n"
   ]
  },
  {
   "cell_type": "code",
   "execution_count": 25,
   "metadata": {},
   "outputs": [
    {
     "name": "stdout",
     "output_type": "stream",
     "text": [
      "operating systems:\n",
      "\t1.windows\n",
      "\t2.android\n",
      "\t3.mac\n",
      "\n",
      "Enter an option:1\n",
      "Goto first floor and buy windows laptop or mobile\n"
     ]
    }
   ],
   "source": [
    "print \"operating systems:\\n\\t1.windows\\n\\t2.android\\n\\t3.mac\\n\"\n",
    "option = int(raw_input(\"Enter an option:\"))\n",
    "if option>3 or option<1:\n",
    "    print \"There is only three floors, please select 1 or 2 or 3\"\n",
    "if option==1:\n",
    "    print \"Goto first floor and buy windows laptop or mobile\"\n",
    "if option==2:\n",
    "    print \"Goto second floor and buy adroid mobiles\"\n",
    "if option==3:\n",
    "    print \"Goto third floor and buy mac laptop or iphones\"\n"
   ]
  },
  {
   "cell_type": "code",
   "execution_count": 26,
   "metadata": {},
   "outputs": [
    {
     "name": "stdout",
     "output_type": "stream",
     "text": [
      "operating systems:\n",
      "\t1.windows\n",
      "\t2.android\n",
      "\t3.mac\n",
      "\n",
      "Enter an option:2\n",
      "Goto second floor and buy adroid mobiles\n"
     ]
    }
   ],
   "source": [
    "print \"operating systems:\\n\\t1.windows\\n\\t2.android\\n\\t3.mac\\n\"\n",
    "option = int(raw_input(\"Enter an option:\"))\n",
    "if option>3 or option<1:\n",
    "    print \"There is only three floors, please select 1 or 2 or 3\"\n",
    "if option==1:\n",
    "    print \"Goto first floor and buy windows laptop or mobile\"\n",
    "if option==2:\n",
    "    print \"Goto second floor and buy adroid mobiles\"\n",
    "if option==3:\n",
    "    print \"Goto third floor and buy mac laptop or iphones\"\n"
   ]
  },
  {
   "cell_type": "code",
   "execution_count": 27,
   "metadata": {},
   "outputs": [
    {
     "name": "stdout",
     "output_type": "stream",
     "text": [
      "operating systems:\n",
      "\t1.windows\n",
      "\t2.android\n",
      "\t3.mac\n",
      "\n",
      "Enter an option:3\n",
      "Goto third floor and buy mac laptop or iphones\n"
     ]
    }
   ],
   "source": [
    "print \"operating systems:\\n\\t1.windows\\n\\t2.android\\n\\t3.mac\\n\"\n",
    "option = int(raw_input(\"Enter an option:\"))\n",
    "if option>3 or option<1:\n",
    "    print \"There is only three floors, please select 1 or 2 or 3\"\n",
    "if option==1:\n",
    "    print \"Goto first floor and buy windows laptop or mobile\"\n",
    "if option==2:\n",
    "    print \"Goto second floor and buy adroid mobiles\"\n",
    "if option==3:\n",
    "    print \"Goto third floor and buy mac laptop or iphones\"\n"
   ]
  },
  {
   "cell_type": "code",
   "execution_count": 28,
   "metadata": {},
   "outputs": [
    {
     "name": "stdout",
     "output_type": "stream",
     "text": [
      "operating systems:\n",
      "\t1.windows\n",
      "\t2.android\n",
      "\t3.mac\n",
      "\n",
      "Enter an option:1\n",
      "Goto first floor and buy windows laptop or mobile\n",
      "thank you.\n"
     ]
    }
   ],
   "source": [
    "print \"operating systems:\\n\\t1.windows\\n\\t2.android\\n\\t3.mac\\n\"\n",
    "option = int(raw_input(\"Enter an option:\"))\n",
    "if option>3 or option<1:\n",
    "    print \"There is only three floors, please select 1 or 2 or 3\"\n",
    "if option==1:\n",
    "    print \"Goto first floor and buy windows laptop or mobile\"\n",
    "if option==2:\n",
    "    print \"Goto second floor and buy adroid mobiles\"\n",
    "if option==3:\n",
    "    print \"Goto third floor and buy mac laptop or iphones\"\n",
    "print \"thank you.\"\n"
   ]
  },
  {
   "cell_type": "code",
   "execution_count": 29,
   "metadata": {},
   "outputs": [
    {
     "name": "stdout",
     "output_type": "stream",
     "text": [
      "operating systems:\n",
      "\t1.windows\n",
      "\t2.android\n",
      "\t3.mac\n",
      "\n",
      "Enter an option:1\n",
      "Goto first floor and buy windows laptop or mobile\n",
      "thank you.\n"
     ]
    }
   ],
   "source": [
    "print \"operating systems:\\n\\t1.windows\\n\\t2.android\\n\\t3.mac\\n\"\n",
    "option = int(raw_input(\"Enter an option:\"))\n",
    "if option>3 or option<1:\n",
    "    print \"There is only three floors, please select 1 or 2 or 3\"\n",
    "elif option==1:\n",
    "    print \"Goto first floor and buy windows laptop or mobile\"\n",
    "elif option==2:\n",
    "    print \"Goto second floor and buy adroid mobiles\"\n",
    "elif option==3:\n",
    "    print \"Goto third floor and buy mac laptop or iphones\"\n",
    "print \"thank you.\"\n"
   ]
  },
  {
   "cell_type": "code",
   "execution_count": 30,
   "metadata": {},
   "outputs": [
    {
     "name": "stdout",
     "output_type": "stream",
     "text": [
      "operating systems:\n",
      "\t1.windows\n",
      "\t2.android\n",
      "\t3.mac\n",
      "\n",
      "Enter an option:1\n",
      "Goto first floor and buy windows laptop or mobile\n",
      "thank you.\n"
     ]
    }
   ],
   "source": [
    "print \"operating systems:\\n\\t1.windows\\n\\t2.android\\n\\t3.mac\\n\"\n",
    "option = int(raw_input(\"Enter an option:\"))\n",
    "if option==1:\n",
    "    print \"Goto first floor and buy windows laptop or mobile\"\n",
    "elif option==2:\n",
    "    print \"Goto second floor and buy adroid mobiles\"\n",
    "elif option==3:\n",
    "    print \"Goto third floor and buy mac laptop or iphones\"\n",
    "else:\n",
    "    print \"There is only three floors, please select 1 or 2 or 3\"\n",
    "print \"thank you.\"\n"
   ]
  },
  {
   "cell_type": "code",
   "execution_count": 32,
   "metadata": {},
   "outputs": [
    {
     "name": "stdout",
     "output_type": "stream",
     "text": [
      "operating systems:\n",
      "\t1.windows\n",
      "\t2.android\n",
      "\t3.mac\n",
      "\n",
      "Enter an option:2\n",
      "Goto second floor and buy adroid mobiles\n",
      "thank you.\n"
     ]
    }
   ],
   "source": [
    "print \"operating systems:\\n\\t1.windows\\n\\t2.android\\n\\t3.mac\\n\"\n",
    "option = int(raw_input(\"Enter an option:\"))\n",
    "if option==1:\n",
    "    print \"Goto first floor and buy windows laptop or mobile\"\n",
    "elif option==2:\n",
    "    print \"Goto second floor and buy adroid mobiles\"\n",
    "elif option==3:\n",
    "    print \"Goto third floor and buy mac laptop or iphones\"\n",
    "else:\n",
    "    print \"There is only three floors, please select 1 or 2 or 3\"\n",
    "print \"thank you.\"\n"
   ]
  },
  {
   "cell_type": "code",
   "execution_count": 33,
   "metadata": {},
   "outputs": [
    {
     "name": "stdout",
     "output_type": "stream",
     "text": [
      "operating systems:\n",
      "\t1.windows\n",
      "\t2.android\n",
      "\t3.mac\n",
      "\n",
      "Enter an option:3\n",
      "Goto third floor and buy mac laptop or iphones\n",
      "thank you.\n"
     ]
    }
   ],
   "source": [
    "print \"operating systems:\\n\\t1.windows\\n\\t2.android\\n\\t3.mac\\n\"\n",
    "option = int(raw_input(\"Enter an option:\"))\n",
    "if option==1:\n",
    "    print \"Goto first floor and buy windows laptop or mobile\"\n",
    "elif option==2:\n",
    "    print \"Goto second floor and buy adroid mobiles\"\n",
    "elif option==3:\n",
    "    print \"Goto third floor and buy mac laptop or iphones\"\n",
    "else:\n",
    "    print \"There is only three floors, please select 1 or 2 or 3\"\n",
    "print \"thank you.\"\n"
   ]
  },
  {
   "cell_type": "code",
   "execution_count": 34,
   "metadata": {},
   "outputs": [
    {
     "name": "stdout",
     "output_type": "stream",
     "text": [
      "operating systems:\n",
      "\t1.windows\n",
      "\t2.android\n",
      "\t3.mac\n",
      "\n",
      "Enter an option:4\n",
      "There is only three floors, please select 1 or 2 or 3\n",
      "thank you.\n"
     ]
    }
   ],
   "source": [
    "print \"operating systems:\\n\\t1.windows\\n\\t2.android\\n\\t3.mac\\n\"\n",
    "option = int(raw_input(\"Enter an option:\"))\n",
    "if option==1:\n",
    "    print \"Goto first floor and buy windows laptop or mobile\"\n",
    "elif option==2:\n",
    "    print \"Goto second floor and buy adroid mobiles\"\n",
    "elif option==3:\n",
    "    print \"Goto third floor and buy mac laptop or iphones\"\n",
    "else:\n",
    "    print \"There is only three floors, please select 1 or 2 or 3\"\n",
    "print \"thank you.\"\n"
   ]
  },
  {
   "cell_type": "code",
   "execution_count": 35,
   "metadata": {},
   "outputs": [
    {
     "name": "stdout",
     "output_type": "stream",
     "text": [
      "operating systems:\n",
      "\t1.windows\n",
      "\t2.android\n",
      "\t3.mac\n",
      "\n",
      "Enter an option:30\n",
      "There is only three floors, please select 1 or 2 or 3\n",
      "thank you.\n"
     ]
    }
   ],
   "source": [
    "print \"operating systems:\\n\\t1.windows\\n\\t2.android\\n\\t3.mac\\n\"\n",
    "option = int(raw_input(\"Enter an option:\"))\n",
    "if option==1:\n",
    "    print \"Goto first floor and buy windows laptop or mobile\"\n",
    "elif option==2:\n",
    "    print \"Goto second floor and buy adroid mobiles\"\n",
    "elif option==3:\n",
    "    print \"Goto third floor and buy mac laptop or iphones\"\n",
    "else:\n",
    "    print \"There is only three floors, please select 1 or 2 or 3\"\n",
    "print \"thank you.\"\n"
   ]
  },
  {
   "cell_type": "code",
   "execution_count": 36,
   "metadata": {},
   "outputs": [
    {
     "name": "stdout",
     "output_type": "stream",
     "text": [
      "operating systems:\n",
      "\t1.windows\n",
      "\t2.android\n",
      "\t3.mac\n",
      "\n",
      "Enter an option:\n"
     ]
    },
    {
     "ename": "ValueError",
     "evalue": "invalid literal for int() with base 10: ''",
     "output_type": "error",
     "traceback": [
      "\u001b[0;31m---------------------------------------------------------------------------\u001b[0m",
      "\u001b[0;31mValueError\u001b[0m                                Traceback (most recent call last)",
      "\u001b[0;32m<ipython-input-36-e1a37b8fa839>\u001b[0m in \u001b[0;36m<module>\u001b[0;34m()\u001b[0m\n\u001b[1;32m      1\u001b[0m \u001b[0;32mprint\u001b[0m \u001b[0;34m\"operating systems:\\n\\t1.windows\\n\\t2.android\\n\\t3.mac\\n\"\u001b[0m\u001b[0;34m\u001b[0m\u001b[0m\n\u001b[0;32m----> 2\u001b[0;31m \u001b[0moption\u001b[0m \u001b[0;34m=\u001b[0m \u001b[0mint\u001b[0m\u001b[0;34m(\u001b[0m\u001b[0mraw_input\u001b[0m\u001b[0;34m(\u001b[0m\u001b[0;34m\"Enter an option:\"\u001b[0m\u001b[0;34m)\u001b[0m\u001b[0;34m)\u001b[0m\u001b[0;34m\u001b[0m\u001b[0m\n\u001b[0m\u001b[1;32m      3\u001b[0m \u001b[0;32mif\u001b[0m \u001b[0moption\u001b[0m\u001b[0;34m==\u001b[0m\u001b[0;36m1\u001b[0m\u001b[0;34m:\u001b[0m\u001b[0;34m\u001b[0m\u001b[0m\n\u001b[1;32m      4\u001b[0m     \u001b[0;32mprint\u001b[0m \u001b[0;34m\"Goto first floor and buy windows laptop or mobile\"\u001b[0m\u001b[0;34m\u001b[0m\u001b[0m\n\u001b[1;32m      5\u001b[0m \u001b[0;32melif\u001b[0m \u001b[0moption\u001b[0m\u001b[0;34m==\u001b[0m\u001b[0;36m2\u001b[0m\u001b[0;34m:\u001b[0m\u001b[0;34m\u001b[0m\u001b[0m\n",
      "\u001b[0;31mValueError\u001b[0m: invalid literal for int() with base 10: ''"
     ]
    }
   ],
   "source": [
    "print \"operating systems:\\n\\t1.windows\\n\\t2.android\\n\\t3.mac\\n\"\n",
    "option = int(raw_input(\"Enter an option:\"))\n",
    "if option==1:\n",
    "    print \"Goto first floor and buy windows laptop or mobile\"\n",
    "elif option==2:\n",
    "    print \"Goto second floor and buy adroid mobiles\"\n",
    "elif option==3:\n",
    "    print \"Goto third floor and buy mac laptop or iphones\"\n",
    "else:\n",
    "    print \"There is only three floors, please select 1 or 2 or 3\"\n",
    "print \"thank you.\"\n"
   ]
  },
  {
   "cell_type": "code",
   "execution_count": 37,
   "metadata": {},
   "outputs": [
    {
     "name": "stdout",
     "output_type": "stream",
     "text": [
      "operating systems:\n",
      "\t1.windows\n",
      "\t2.android\n",
      "\t3.mac\n",
      "\n",
      "Enter an option:\n",
      "There is only three floors, please select 1 or 2 or 3\n",
      "thank you.\n"
     ]
    }
   ],
   "source": [
    "print \"operating systems:\\n\\t1.windows\\n\\t2.android\\n\\t3.mac\\n\"\n",
    "option = raw_input(\"Enter an option:\")\n",
    "if option==\"1\":\n",
    "    print \"Goto first floor and buy windows laptop or mobile\"\n",
    "elif option==\"2\":\n",
    "    print \"Goto second floor and buy adroid mobiles\"\n",
    "elif option==\"3\":\n",
    "    print \"Goto third floor and buy mac laptop or iphones\"\n",
    "else:\n",
    "    print \"There is only three floors, please select 1 or 2 or 3\"\n",
    "print \"thank you.\"\n"
   ]
  },
  {
   "cell_type": "code",
   "execution_count": 39,
   "metadata": {},
   "outputs": [
    {
     "name": "stdout",
     "output_type": "stream",
     "text": [
      "Eligibility:\n",
      "\t1.theatre\n",
      "\t2.voting\n",
      "\t3.marriage\n",
      "\t4.givt jobs\n",
      "\t5.driving license\n"
     ]
    }
   ],
   "source": [
    "print \"Eligibility:\\n\\t1.theatre\\n\\t2.voting\\n\\t3.marriage\\n\\t4.givt jobs\\n\\t5.driving license\""
   ]
  },
  {
   "cell_type": "code",
   "execution_count": 40,
   "metadata": {},
   "outputs": [
    {
     "name": "stdout",
     "output_type": "stream",
     "text": [
      "Eligibility:\n",
      "\t1.theatre\n",
      "\t2.voting\n",
      "\t3.marriage\n",
      "\t4.givt jobs\n",
      "\t5.driving license\n",
      "Enter an option:1\n",
      "1\n"
     ]
    }
   ],
   "source": [
    "print \"Eligibility:\\n\\t1.theatre\\n\\t2.voting\\n\\t3.marriage\\n\\t4.givt jobs\\n\\t5.driving license\"\n",
    "option_eligibility = raw_input(\"Enter an option:\")\n",
    "print option_eligibility"
   ]
  },
  {
   "cell_type": "code",
   "execution_count": 41,
   "metadata": {},
   "outputs": [
    {
     "name": "stdout",
     "output_type": "stream",
     "text": [
      "Eligibility:\n",
      "\t1.theatre\n",
      "\t2.voting\n",
      "\t3.marriage\n",
      "\t4.givt jobs\n",
      "\t5.driving license\n",
      "Enter an option:2\n",
      "2\n"
     ]
    }
   ],
   "source": [
    "print \"Eligibility:\\n\\t1.theatre\\n\\t2.voting\\n\\t3.marriage\\n\\t4.givt jobs\\n\\t5.driving license\"\n",
    "option_eligibility = raw_input(\"Enter an option:\")\n",
    "print option_eligibility"
   ]
  },
  {
   "cell_type": "code",
   "execution_count": 42,
   "metadata": {},
   "outputs": [
    {
     "name": "stdout",
     "output_type": "stream",
     "text": [
      "Eligibility:\n",
      "\t1.theatre\n",
      "\t2.voting\n",
      "\t3.marriage\n",
      "\t4.givt jobs\n",
      "\t5.driving license\n",
      "Enter an option:1\n",
      "Gender:\n",
      "\t 1.MEN\n",
      "\t2.WOMEN\n",
      "Enter an option:2\n",
      "1 2\n"
     ]
    }
   ],
   "source": [
    "print \"Eligibility:\\n\\t1.theatre\\n\\t2.voting\\n\\t3.marriage\\n\\t4.givt jobs\\n\\t5.driving license\"\n",
    "option_eligibility = raw_input(\"Enter an option:\")\n",
    "print \"Gender:\\n\\t 1.MEN\\n\\t2.WOMEN\"\n",
    "option_gender = raw_input(\"Enter an option:\")\n",
    "print option_eligibility, option_gender"
   ]
  },
  {
   "cell_type": "code",
   "execution_count": 43,
   "metadata": {},
   "outputs": [
    {
     "name": "stdout",
     "output_type": "stream",
     "text": [
      "Eligibility:\n",
      "\t1.theatre\n",
      "\t2.voting\n",
      "\t3.marriage\n",
      "\t4.givt jobs\n",
      "\t5.driving license\n",
      "Enter an option:1\n",
      "Gender:\n",
      "\t 1.MEN\n",
      "\t2.WOMEN\n",
      "Enter an option:2\n",
      "Enter an age:23\n",
      "1 2 23\n"
     ]
    }
   ],
   "source": [
    "print \"Eligibility:\\n\\t1.theatre\\n\\t2.voting\\n\\t3.marriage\\n\\t4.givt jobs\\n\\t5.driving license\"\n",
    "option_eligibility = raw_input(\"Enter an option:\")\n",
    "print \"Gender:\\n\\t 1.MEN\\n\\t2.WOMEN\"\n",
    "option_gender = raw_input(\"Enter an option:\")\n",
    "age=raw_input(\"Enter an age:\")\n",
    "print option_eligibility, option_gender,age"
   ]
  },
  {
   "cell_type": "code",
   "execution_count": 46,
   "metadata": {},
   "outputs": [
    {
     "name": "stdout",
     "output_type": "stream",
     "text": [
      "Eligibility:\n",
      "\t1.theatre\n",
      "\t2.voting\n",
      "\t3.marriage\n",
      "\t4.givt jobs\n",
      "\t5.driving license\n",
      "Enter an option:1\n",
      "Gender:\n",
      "\t 1.MEN\n",
      "\t2.WOMEN\n",
      "Enter an option:2\n",
      "Enter an age:24\n",
      "Evaluating for theatre\n",
      "Evaluatiing for women\n",
      "Eligible for entry in theatre\n"
     ]
    }
   ],
   "source": [
    "print \"Eligibility:\\n\\t1.theatre\\n\\t2.voting\\n\\t3.marriage\\n\\t4.givt jobs\\n\\t5.driving license\"\n",
    "option_eligibility = raw_input(\"Enter an option:\")\n",
    "print \"Gender:\\n\\t 1.MEN\\n\\t2.WOMEN\"\n",
    "option_gender = raw_input(\"Enter an option:\")\n",
    "age=int(raw_input(\"Enter an age:\"))\n",
    "if option_eligibility==\"1\":\n",
    "    print \"Evaluating for theatre\"\n",
    "    if option_gender==\"1\":\n",
    "        print \"Evaluatiing for MEN\"\n",
    "        if age>5:\n",
    "            print \"Eligible for entry in theatre\"\n",
    "        else:\n",
    "            print \"Not eligible for entry in theatre\"\n",
    "    else:\n",
    "        print \"Evaluatiing for women\"\n",
    "        if age>7:\n",
    "                print \"Eligible for entry in theatre\"\n",
    "        else:\n",
    "                print \"Not eligible for entry in theatre\"\n",
    "                \n",
    "        \n",
    "    "
   ]
  },
  {
   "cell_type": "code",
   "execution_count": null,
   "metadata": {
    "collapsed": true
   },
   "outputs": [],
   "source": []
  }
 ],
 "metadata": {
  "kernelspec": {
   "display_name": "Python 2",
   "language": "python",
   "name": "python2"
  },
  "language_info": {
   "codemirror_mode": {
    "name": "ipython",
    "version": 2
   },
   "file_extension": ".py",
   "mimetype": "text/x-python",
   "name": "python",
   "nbconvert_exporter": "python",
   "pygments_lexer": "ipython2",
   "version": "2.7.14"
  }
 },
 "nbformat": 4,
 "nbformat_minor": 2
}
