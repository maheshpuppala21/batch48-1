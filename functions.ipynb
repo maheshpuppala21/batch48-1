{
 "cells": [
  {
   "cell_type": "code",
   "execution_count": 1,
   "metadata": {},
   "outputs": [
    {
     "name": "stdout",
     "output_type": "stream",
     "text": [
      "str 0\n",
      "str 1\n",
      "str 2\n",
      "str 3\n",
      "str 4\n",
      "str 5\n",
      "str 6\n",
      "str 7\n",
      "str 8\n",
      "str 9\n"
     ]
    }
   ],
   "source": [
    "for i in range(10):\n",
    "    print \"str\",i"
   ]
  },
  {
   "cell_type": "code",
   "execution_count": 2,
   "metadata": {},
   "outputs": [
    {
     "name": "stdout",
     "output_type": "stream",
     "text": [
      "program started\n",
      "statements after function\n",
      "other statements in program\n",
      "program ended\n"
     ]
    }
   ],
   "source": [
    "print \"program started\"\n",
    "def fun():\n",
    "    print \"this is st1 in fun\"\n",
    "    print \"this is st2 in fun\"\n",
    "    print \"this is st3 in fun\"\n",
    "    print \"this is st4 in fun\"\n",
    "print \"statements after function\"\n",
    "print \"other statements in program\"\n",
    "print \"program ended\""
   ]
  },
  {
   "cell_type": "code",
   "execution_count": 3,
   "metadata": {},
   "outputs": [
    {
     "name": "stdout",
     "output_type": "stream",
     "text": [
      "program started\n",
      "statements after function\n",
      "this is st1 in fun\n",
      "this is st2 in fun\n",
      "this is st3 in fun\n",
      "this is st4 in fun\n",
      "other statements in program\n",
      "program ended\n"
     ]
    }
   ],
   "source": [
    "print \"program started\"\n",
    "def fun():\n",
    "    print \"this is st1 in fun\"\n",
    "    print \"this is st2 in fun\"\n",
    "    print \"this is st3 in fun\"\n",
    "    print \"this is st4 in fun\"\n",
    "print \"statements after function\"\n",
    "fun()\n",
    "print \"other statements in program\"\n",
    "print \"program ended\""
   ]
  },
  {
   "cell_type": "code",
   "execution_count": 5,
   "metadata": {},
   "outputs": [
    {
     "ename": "SyntaxError",
     "evalue": "EOL while scanning string literal (<ipython-input-5-812d7c0ce8c2>, line 3)",
     "output_type": "error",
     "traceback": [
      "\u001b[0;36m  File \u001b[0;32m\"<ipython-input-5-812d7c0ce8c2>\"\u001b[0;36m, line \u001b[0;32m3\u001b[0m\n\u001b[0;31m    print \"this is st1 in fun\u001b[0m\n\u001b[0m                            ^\u001b[0m\n\u001b[0;31mSyntaxError\u001b[0m\u001b[0;31m:\u001b[0m EOL while scanning string literal\n"
     ]
    }
   ],
   "source": [
    "print \"program started\"\n",
    "def fun():\n",
    "    print \"this is st1 in fun\n",
    "    print \"this is st2 in fun\"\n",
    "    print \"this is st3 in fun\"\n",
    "    print \"this is st4 in fun\"\n",
    "print \"statements after function\"\n",
    "print \"other statements in program\"\n",
    "print \"program ended\""
   ]
  },
  {
   "cell_type": "code",
   "execution_count": 6,
   "metadata": {},
   "outputs": [
    {
     "name": "stdout",
     "output_type": "stream",
     "text": [
      "program started\n",
      "statements after function\n",
      "other statements in program\n",
      "program ended\n"
     ]
    }
   ],
   "source": [
    "print \"program started\"\n",
    "def fun():\n",
    "    print 1/0\n",
    "    print \"this is st1 in fun\"\n",
    "    print \"this is st2 in fun\"\n",
    "    print \"this is st3 in fun\"\n",
    "    print \"this is st4 in fun\"\n",
    "print \"statements after function\"\n",
    "\n",
    "print \"other statements in program\"\n",
    "print \"program ended\""
   ]
  },
  {
   "cell_type": "code",
   "execution_count": 7,
   "metadata": {},
   "outputs": [
    {
     "name": "stdout",
     "output_type": "stream",
     "text": [
      "program started\n",
      "statements after function\n",
      "this is fun\n",
      "other statements in program\n",
      "program ended\n",
      "this is fun\n"
     ]
    }
   ],
   "source": [
    "print \"program started\"\n",
    "def fun():\n",
    "    print \"this is fun\"\n",
    "print \"statements after function\"\n",
    "fun()\n",
    "print \"other statements in program\"\n",
    "print \"program ended\"\n",
    "fun()"
   ]
  },
  {
   "cell_type": "code",
   "execution_count": 8,
   "metadata": {},
   "outputs": [
    {
     "name": "stdout",
     "output_type": "stream",
     "text": [
      "this is loop\n",
      "this is loop\n",
      "program started\n",
      "statements after function\n",
      "this is fun\n",
      "other statements in program\n",
      "program ended\n",
      "this is fun\n"
     ]
    }
   ],
   "source": [
    "for i in range(2):\n",
    "    print \"this is loop\"\n",
    "print \"program started\"\n",
    "def fun():\n",
    "    print \"this is fun\"\n",
    "print \"statements after function\"\n",
    "fun()\n",
    "print \"other statements in program\"\n",
    "print \"program ended\"\n",
    "fun()"
   ]
  },
  {
   "cell_type": "code",
   "execution_count": 9,
   "metadata": {},
   "outputs": [
    {
     "name": "stdout",
     "output_type": "stream",
     "text": [
      "program started\n",
      "statements after function def\n",
      "this is fun\n",
      "program ended\n"
     ]
    }
   ],
   "source": [
    "print \"program started\"\n",
    "def fun():\n",
    "    print \"this is fun\"\n",
    "print \"statements after function def\"\n",
    "fun()\n",
    "print \"program ended\""
   ]
  },
  {
   "cell_type": "code",
   "execution_count": 10,
   "metadata": {},
   "outputs": [
    {
     "name": "stdout",
     "output_type": "stream",
     "text": [
      "program started\n",
      "statements after function def\n"
     ]
    },
    {
     "ename": "TypeError",
     "evalue": "fun() takes exactly 2 arguments (0 given)",
     "output_type": "error",
     "traceback": [
      "\u001b[0;31m---------------------------------------------------------------------------\u001b[0m",
      "\u001b[0;31mTypeError\u001b[0m                                 Traceback (most recent call last)",
      "\u001b[0;32m<ipython-input-10-be9536521c40>\u001b[0m in \u001b[0;36m<module>\u001b[0;34m()\u001b[0m\n\u001b[1;32m      3\u001b[0m     \u001b[0;32mprint\u001b[0m \u001b[0;34m\"this is fun\"\u001b[0m\u001b[0;34m\u001b[0m\u001b[0m\n\u001b[1;32m      4\u001b[0m \u001b[0;32mprint\u001b[0m \u001b[0;34m\"statements after function def\"\u001b[0m\u001b[0;34m\u001b[0m\u001b[0m\n\u001b[0;32m----> 5\u001b[0;31m \u001b[0mfun\u001b[0m\u001b[0;34m(\u001b[0m\u001b[0;34m)\u001b[0m\u001b[0;34m\u001b[0m\u001b[0m\n\u001b[0m\u001b[1;32m      6\u001b[0m \u001b[0;32mprint\u001b[0m \u001b[0;34m\"program ended\"\u001b[0m\u001b[0;34m\u001b[0m\u001b[0m\n",
      "\u001b[0;31mTypeError\u001b[0m: fun() takes exactly 2 arguments (0 given)"
     ]
    }
   ],
   "source": [
    "print \"program started\"\n",
    "def fun(a,b):\n",
    "    print \"this is fun\"\n",
    "print \"statements after function def\"\n",
    "fun()\n",
    "print \"program ended\""
   ]
  },
  {
   "cell_type": "code",
   "execution_count": 11,
   "metadata": {},
   "outputs": [
    {
     "name": "stdout",
     "output_type": "stream",
     "text": [
      "program started\n",
      "statements after function def\n"
     ]
    },
    {
     "ename": "TypeError",
     "evalue": "fun() takes exactly 2 arguments (1 given)",
     "output_type": "error",
     "traceback": [
      "\u001b[0;31m---------------------------------------------------------------------------\u001b[0m",
      "\u001b[0;31mTypeError\u001b[0m                                 Traceback (most recent call last)",
      "\u001b[0;32m<ipython-input-11-f44b992202d1>\u001b[0m in \u001b[0;36m<module>\u001b[0;34m()\u001b[0m\n\u001b[1;32m      3\u001b[0m     \u001b[0;32mprint\u001b[0m \u001b[0;34m\"this is fun\"\u001b[0m\u001b[0;34m\u001b[0m\u001b[0m\n\u001b[1;32m      4\u001b[0m \u001b[0;32mprint\u001b[0m \u001b[0;34m\"statements after function def\"\u001b[0m\u001b[0;34m\u001b[0m\u001b[0m\n\u001b[0;32m----> 5\u001b[0;31m \u001b[0mfun\u001b[0m\u001b[0;34m(\u001b[0m\u001b[0;36m10\u001b[0m\u001b[0;34m)\u001b[0m\u001b[0;34m\u001b[0m\u001b[0m\n\u001b[0m\u001b[1;32m      6\u001b[0m \u001b[0;32mprint\u001b[0m \u001b[0;34m\"program ended\"\u001b[0m\u001b[0;34m\u001b[0m\u001b[0m\n",
      "\u001b[0;31mTypeError\u001b[0m: fun() takes exactly 2 arguments (1 given)"
     ]
    }
   ],
   "source": [
    "print \"program started\"\n",
    "def fun(a,b):\n",
    "    print \"this is fun\"\n",
    "print \"statements after function def\"\n",
    "fun(10)\n",
    "print \"program ended\""
   ]
  },
  {
   "cell_type": "code",
   "execution_count": 12,
   "metadata": {},
   "outputs": [
    {
     "name": "stdout",
     "output_type": "stream",
     "text": [
      "program started\n",
      "statements after function def\n",
      "this is fun\n",
      "program ended\n"
     ]
    }
   ],
   "source": [
    "print \"program started\"\n",
    "def fun(a,b):\n",
    "    print \"this is fun\"\n",
    "print \"statements after function def\"\n",
    "fun(10,20)\n",
    "print \"program ended\""
   ]
  },
  {
   "cell_type": "code",
   "execution_count": 14,
   "metadata": {},
   "outputs": [
    {
     "name": "stdout",
     "output_type": "stream",
     "text": [
      "program started\n",
      "statements after function def\n",
      "a= 10 b= 20\n",
      "30\n",
      "-10\n",
      "200\n",
      "0\n",
      "10\n",
      "program ended\n"
     ]
    }
   ],
   "source": [
    "print \"program started\"\n",
    "def fun(a,b):\n",
    "    print \"a=\",a,\"b=\",b\n",
    "    print a+b\n",
    "    print a-b\n",
    "    print a*b\n",
    "    print a/b\n",
    "    print a%b\n",
    "print \"statements after function def\"\n",
    "fun(10,20)\n",
    "print \"program ended\""
   ]
  },
  {
   "cell_type": "code",
   "execution_count": 16,
   "metadata": {},
   "outputs": [
    {
     "name": "stdout",
     "output_type": "stream",
     "text": [
      "program started\n",
      "statements after function def\n",
      "********************\n",
      "a= 10 b= 20\n",
      "30\n",
      "-10\n",
      "200\n",
      "0\n",
      "10\n",
      "program ended\n",
      "********************\n",
      "a= 100 b= 200\n",
      "300\n",
      "-100\n",
      "20000\n",
      "0\n",
      "100\n",
      "********************\n",
      "a= 1000 b= 2000\n",
      "3000\n",
      "-1000\n",
      "2000000\n",
      "0\n",
      "1000\n",
      "********************\n",
      "a= 23.45 b= 567\n",
      "590.45\n",
      "-543.55\n",
      "13296.15\n",
      "0.0413580246914\n",
      "23.45\n",
      "********************\n",
      "a= 23.45 b= 67.89\n",
      "91.34\n",
      "-44.44\n",
      "1592.0205\n",
      "0.34541169539\n",
      "23.45\n"
     ]
    }
   ],
   "source": [
    "print \"program started\"\n",
    "def fun(a,b):\n",
    "    print \"*\"*20\n",
    "    print \"a=\",a,\"b=\",b\n",
    "    print a+b\n",
    "    print a-b\n",
    "    print a*b\n",
    "    print a/b\n",
    "    print a%b\n",
    "print \"statements after function def\"\n",
    "fun(10,20)\n",
    "print \"program ended\"\n",
    "fun(100,200)\n",
    "fun(1000,2000)\n",
    "fun(23.45,567)\n",
    "fun(23.45,67.89)"
   ]
  },
  {
   "cell_type": "code",
   "execution_count": 17,
   "metadata": {},
   "outputs": [
    {
     "name": "stdout",
     "output_type": "stream",
     "text": [
      "Enter a value:10\n",
      "Enter b value:20\n",
      "********************\n",
      "a= 10 b= 20\n",
      "30\n",
      "-10\n",
      "200\n",
      "0\n",
      "10\n"
     ]
    }
   ],
   "source": [
    "def fun(a,b):\n",
    "    print \"*\"*20\n",
    "    print \"a=\",a,\"b=\",b\n",
    "    print a+b\n",
    "    print a-b\n",
    "    print a*b\n",
    "    print a/b\n",
    "    print a%b\n",
    "c=int(raw_input(\"Enter a value:\"))\n",
    "d=int(raw_input(\"Enter b value:\"))\n",
    "fun(c,d)"
   ]
  },
  {
   "cell_type": "code",
   "execution_count": 18,
   "metadata": {},
   "outputs": [
    {
     "name": "stdout",
     "output_type": "stream",
     "text": [
      "********************\n",
      "a= 10 b= 20\n",
      "30\n"
     ]
    }
   ],
   "source": [
    "def fun(a,b):\n",
    "    print \"*\"*20\n",
    "    print \"a=\",a,\"b=\",b\n",
    "    print a+b\n",
    "\n",
    "fun(10,20)"
   ]
  },
  {
   "cell_type": "code",
   "execution_count": 19,
   "metadata": {},
   "outputs": [
    {
     "name": "stdout",
     "output_type": "stream",
     "text": [
      "********************\n",
      "a= 10 b= 20\n",
      "30\n"
     ]
    },
    {
     "ename": "TypeError",
     "evalue": "fun() takes exactly 2 arguments (3 given)",
     "output_type": "error",
     "traceback": [
      "\u001b[0;31m---------------------------------------------------------------------------\u001b[0m",
      "\u001b[0;31mTypeError\u001b[0m                                 Traceback (most recent call last)",
      "\u001b[0;32m<ipython-input-19-b4f2867c3812>\u001b[0m in \u001b[0;36m<module>\u001b[0;34m()\u001b[0m\n\u001b[1;32m      6\u001b[0m \u001b[0;34m\u001b[0m\u001b[0m\n\u001b[1;32m      7\u001b[0m \u001b[0mfun\u001b[0m\u001b[0;34m(\u001b[0m\u001b[0;36m10\u001b[0m\u001b[0;34m,\u001b[0m\u001b[0;36m20\u001b[0m\u001b[0;34m)\u001b[0m\u001b[0;34m\u001b[0m\u001b[0m\n\u001b[0;32m----> 8\u001b[0;31m \u001b[0mfun\u001b[0m\u001b[0;34m(\u001b[0m\u001b[0;36m10\u001b[0m\u001b[0;34m,\u001b[0m\u001b[0;36m20\u001b[0m\u001b[0;34m,\u001b[0m\u001b[0;36m30\u001b[0m\u001b[0;34m)\u001b[0m\u001b[0;34m\u001b[0m\u001b[0m\n\u001b[0m\u001b[1;32m      9\u001b[0m \u001b[0mfun\u001b[0m\u001b[0;34m(\u001b[0m\u001b[0;36m10\u001b[0m\u001b[0;34m,\u001b[0m\u001b[0;36m20\u001b[0m\u001b[0;34m,\u001b[0m\u001b[0;36m30\u001b[0m\u001b[0;34m,\u001b[0m\u001b[0;36m40\u001b[0m\u001b[0;34m)\u001b[0m\u001b[0;34m\u001b[0m\u001b[0m\n\u001b[1;32m     10\u001b[0m \u001b[0mfun\u001b[0m\u001b[0;34m(\u001b[0m\u001b[0;36m10\u001b[0m\u001b[0;34m,\u001b[0m\u001b[0;36m20\u001b[0m\u001b[0;34m,\u001b[0m\u001b[0;36m30\u001b[0m\u001b[0;34m,\u001b[0m\u001b[0;36m40\u001b[0m\u001b[0;34m,\u001b[0m\u001b[0;36m50\u001b[0m\u001b[0;34m)\u001b[0m\u001b[0;34m\u001b[0m\u001b[0m\n",
      "\u001b[0;31mTypeError\u001b[0m: fun() takes exactly 2 arguments (3 given)"
     ]
    }
   ],
   "source": [
    "# 2,5\n",
    "def fun(a,b):\n",
    "    print \"*\"*20\n",
    "    print \"a=\",a,\"b=\",b\n",
    "    print a+b\n",
    "\n",
    "fun(10,20)\n",
    "fun(10,20,30)\n",
    "fun(10,20,30,40)\n",
    "fun(10,20,30,40,50)"
   ]
  },
  {
   "cell_type": "code",
   "execution_count": 20,
   "metadata": {},
   "outputs": [
    {
     "ename": "TypeError",
     "evalue": "fun() takes exactly 5 arguments (2 given)",
     "output_type": "error",
     "traceback": [
      "\u001b[0;31m---------------------------------------------------------------------------\u001b[0m",
      "\u001b[0;31mTypeError\u001b[0m                                 Traceback (most recent call last)",
      "\u001b[0;32m<ipython-input-20-6a7d0fa175bc>\u001b[0m in \u001b[0;36m<module>\u001b[0;34m()\u001b[0m\n\u001b[1;32m      5\u001b[0m     \u001b[0;32mprint\u001b[0m \u001b[0ma\u001b[0m\u001b[0;34m+\u001b[0m\u001b[0mb\u001b[0m\u001b[0;34m\u001b[0m\u001b[0m\n\u001b[1;32m      6\u001b[0m \u001b[0;34m\u001b[0m\u001b[0m\n\u001b[0;32m----> 7\u001b[0;31m \u001b[0mfun\u001b[0m\u001b[0;34m(\u001b[0m\u001b[0;36m10\u001b[0m\u001b[0;34m,\u001b[0m\u001b[0;36m20\u001b[0m\u001b[0;34m)\u001b[0m\u001b[0;34m\u001b[0m\u001b[0m\n\u001b[0m\u001b[1;32m      8\u001b[0m \u001b[0mfun\u001b[0m\u001b[0;34m(\u001b[0m\u001b[0;36m10\u001b[0m\u001b[0;34m,\u001b[0m\u001b[0;36m20\u001b[0m\u001b[0;34m,\u001b[0m\u001b[0;36m30\u001b[0m\u001b[0;34m)\u001b[0m\u001b[0;34m\u001b[0m\u001b[0m\n\u001b[1;32m      9\u001b[0m \u001b[0mfun\u001b[0m\u001b[0;34m(\u001b[0m\u001b[0;36m10\u001b[0m\u001b[0;34m,\u001b[0m\u001b[0;36m20\u001b[0m\u001b[0;34m,\u001b[0m\u001b[0;36m30\u001b[0m\u001b[0;34m,\u001b[0m\u001b[0;36m40\u001b[0m\u001b[0;34m)\u001b[0m\u001b[0;34m\u001b[0m\u001b[0m\n",
      "\u001b[0;31mTypeError\u001b[0m: fun() takes exactly 5 arguments (2 given)"
     ]
    }
   ],
   "source": [
    "# 2,5\n",
    "def fun(a,b,c,d,e):\n",
    "    print \"*\"*20\n",
    "    print \"a=\",a,\"b=\",b\n",
    "    print a+b\n",
    "\n",
    "fun(10,20)\n",
    "fun(10,20,30)\n",
    "fun(10,20,30,40)\n",
    "fun(10,20,30,40,50)"
   ]
  },
  {
   "cell_type": "code",
   "execution_count": 21,
   "metadata": {},
   "outputs": [
    {
     "name": "stdout",
     "output_type": "stream",
     "text": [
      "********************\n",
      "a= 10 b= 20 c= 0 d= 0 e= 0\n",
      "30\n",
      "********************\n",
      "a= 10 b= 20 c= 30 d= 0 e= 0\n",
      "60\n",
      "********************\n",
      "a= 10 b= 20 c= 30 d= 40 e= 0\n",
      "100\n",
      "********************\n",
      "a= 10 b= 20 c= 30 d= 40 e= 50\n",
      "150\n"
     ]
    }
   ],
   "source": [
    "# 2,5\n",
    "# default argument/parameters\n",
    "def fun(a,b,c=0,d=0,e=0):\n",
    "    #doc string\n",
    "    \"\"\"\n",
    "    a,b are mandatory params\n",
    "    c,d,e are optional params\n",
    "    a,b,c,d,e: type: int\n",
    "    return: \n",
    "    desc: take 2 to 5 numbers and adds the numbers\n",
    "    \"\"\"\n",
    "    print \"*\"*20\n",
    "    print \"a=\",a,\"b=\",b,\"c=\",c,\"d=\",d,\"e=\",e\n",
    "    print a+b+c+d+e\n",
    "\n",
    "fun(10,20)\n",
    "fun(10,20,30)\n",
    "fun(10,20,30,40)\n",
    "fun(10,20,30,40,50)"
   ]
  },
  {
   "cell_type": "code",
   "execution_count": 22,
   "metadata": {},
   "outputs": [
    {
     "ename": "TypeError",
     "evalue": "fun() takes at least 2 arguments (1 given)",
     "output_type": "error",
     "traceback": [
      "\u001b[0;31m---------------------------------------------------------------------------\u001b[0m",
      "\u001b[0;31mTypeError\u001b[0m                                 Traceback (most recent call last)",
      "\u001b[0;32m<ipython-input-22-3e10a8a937ce>\u001b[0m in \u001b[0;36m<module>\u001b[0;34m()\u001b[0m\n\u001b[1;32m     14\u001b[0m     \u001b[0;32mprint\u001b[0m \u001b[0ma\u001b[0m\u001b[0;34m+\u001b[0m\u001b[0mb\u001b[0m\u001b[0;34m+\u001b[0m\u001b[0mc\u001b[0m\u001b[0;34m+\u001b[0m\u001b[0md\u001b[0m\u001b[0;34m+\u001b[0m\u001b[0me\u001b[0m\u001b[0;34m\u001b[0m\u001b[0m\n\u001b[1;32m     15\u001b[0m \u001b[0;34m\u001b[0m\u001b[0m\n\u001b[0;32m---> 16\u001b[0;31m \u001b[0mfun\u001b[0m\u001b[0;34m(\u001b[0m\u001b[0;36m10\u001b[0m\u001b[0;34m)\u001b[0m\u001b[0;34m\u001b[0m\u001b[0m\n\u001b[0m",
      "\u001b[0;31mTypeError\u001b[0m: fun() takes at least 2 arguments (1 given)"
     ]
    }
   ],
   "source": [
    "# 2,5\n",
    "# default argument/parameters\n",
    "def fun(a,b,c=0,d=0,e=0):\n",
    "    #doc string\n",
    "    \"\"\"\n",
    "    a,b are mandatory params\n",
    "    c,d,e are optional params\n",
    "    a,b,c,d,e: type: int\n",
    "    return: \n",
    "    desc: take 2 to 5 numbers and adds the numbers\n",
    "    \"\"\"\n",
    "    print \"*\"*20\n",
    "    print \"a=\",a,\"b=\",b,\"c=\",c,\"d=\",d,\"e=\",e\n",
    "    print a+b+c+d+e\n",
    "\n",
    "fun(10)\n"
   ]
  },
  {
   "cell_type": "code",
   "execution_count": 23,
   "metadata": {},
   "outputs": [
    {
     "ename": "TypeError",
     "evalue": "fun() takes at most 5 arguments (6 given)",
     "output_type": "error",
     "traceback": [
      "\u001b[0;31m---------------------------------------------------------------------------\u001b[0m",
      "\u001b[0;31mTypeError\u001b[0m                                 Traceback (most recent call last)",
      "\u001b[0;32m<ipython-input-23-87684e889ed2>\u001b[0m in \u001b[0;36m<module>\u001b[0;34m()\u001b[0m\n\u001b[1;32m     14\u001b[0m     \u001b[0;32mprint\u001b[0m \u001b[0ma\u001b[0m\u001b[0;34m+\u001b[0m\u001b[0mb\u001b[0m\u001b[0;34m+\u001b[0m\u001b[0mc\u001b[0m\u001b[0;34m+\u001b[0m\u001b[0md\u001b[0m\u001b[0;34m+\u001b[0m\u001b[0me\u001b[0m\u001b[0;34m\u001b[0m\u001b[0m\n\u001b[1;32m     15\u001b[0m \u001b[0;34m\u001b[0m\u001b[0m\n\u001b[0;32m---> 16\u001b[0;31m \u001b[0mfun\u001b[0m\u001b[0;34m(\u001b[0m\u001b[0;36m10\u001b[0m\u001b[0;34m,\u001b[0m\u001b[0;36m20\u001b[0m\u001b[0;34m,\u001b[0m\u001b[0;36m30\u001b[0m\u001b[0;34m,\u001b[0m\u001b[0;36m40\u001b[0m\u001b[0;34m,\u001b[0m\u001b[0;36m50\u001b[0m\u001b[0;34m,\u001b[0m\u001b[0;36m60\u001b[0m\u001b[0;34m)\u001b[0m\u001b[0;34m\u001b[0m\u001b[0m\n\u001b[0m",
      "\u001b[0;31mTypeError\u001b[0m: fun() takes at most 5 arguments (6 given)"
     ]
    }
   ],
   "source": [
    "# 2,5\n",
    "# default argument/parameters\n",
    "def fun(a,b,c=0,d=0,e=0):\n",
    "    #doc string\n",
    "    \"\"\"\n",
    "    a,b are mandatory params\n",
    "    c,d,e are optional params\n",
    "    a,b,c,d,e: type: int\n",
    "    return: \n",
    "    desc: take 2 to 5 numbers and adds the numbers\n",
    "    \"\"\"\n",
    "    print \"*\"*20\n",
    "    print \"a=\",a,\"b=\",b,\"c=\",c,\"d=\",d,\"e=\",e\n",
    "    print a+b+c+d+e\n",
    "\n",
    "fun(10,20,30,40,50,60)\n"
   ]
  },
  {
   "cell_type": "code",
   "execution_count": 24,
   "metadata": {},
   "outputs": [
    {
     "name": "stdout",
     "output_type": "stream",
     "text": [
      "********************\n",
      "a= 0 b= 0 c= 0 d= 0 e= 0\n",
      "0\n"
     ]
    }
   ],
   "source": [
    "# default argument/parameters\n",
    "def fun(a=0,b=0,c=0,d=0,e=0):\n",
    "    #doc string\n",
    "    \"\"\"\n",
    "    a,b,c,d,e: type: int\n",
    "    return: \n",
    "    desc: take 2 to 5 numbers and adds the numbers\n",
    "    \"\"\"\n",
    "    print \"*\"*20\n",
    "    print \"a=\",a,\"b=\",b,\"c=\",c,\"d=\",d,\"e=\",e\n",
    "    print a+b+c+d+e\n",
    "\n",
    "fun()\n"
   ]
  },
  {
   "cell_type": "code",
   "execution_count": 25,
   "metadata": {},
   "outputs": [
    {
     "name": "stdout",
     "output_type": "stream",
     "text": [
      "30\n"
     ]
    }
   ],
   "source": [
    "def fun(a,b=[]):\n",
    "    print a+b\n",
    "fun(10,20)"
   ]
  },
  {
   "cell_type": "code",
   "execution_count": 26,
   "metadata": {},
   "outputs": [
    {
     "ename": "TypeError",
     "evalue": "unsupported operand type(s) for +: 'int' and 'list'",
     "output_type": "error",
     "traceback": [
      "\u001b[0;31m---------------------------------------------------------------------------\u001b[0m",
      "\u001b[0;31mTypeError\u001b[0m                                 Traceback (most recent call last)",
      "\u001b[0;32m<ipython-input-26-39e191888340>\u001b[0m in \u001b[0;36m<module>\u001b[0;34m()\u001b[0m\n\u001b[1;32m      1\u001b[0m \u001b[0;32mdef\u001b[0m \u001b[0mfun\u001b[0m\u001b[0;34m(\u001b[0m\u001b[0ma\u001b[0m\u001b[0;34m,\u001b[0m\u001b[0mb\u001b[0m\u001b[0;34m=\u001b[0m\u001b[0;34m[\u001b[0m\u001b[0;34m]\u001b[0m\u001b[0;34m)\u001b[0m\u001b[0;34m:\u001b[0m\u001b[0;34m\u001b[0m\u001b[0m\n\u001b[1;32m      2\u001b[0m     \u001b[0;32mprint\u001b[0m \u001b[0ma\u001b[0m\u001b[0;34m+\u001b[0m\u001b[0mb\u001b[0m\u001b[0;34m\u001b[0m\u001b[0m\n\u001b[0;32m----> 3\u001b[0;31m \u001b[0mfun\u001b[0m\u001b[0;34m(\u001b[0m\u001b[0;36m10\u001b[0m\u001b[0;34m)\u001b[0m\u001b[0;34m\u001b[0m\u001b[0m\n\u001b[0m",
      "\u001b[0;32m<ipython-input-26-39e191888340>\u001b[0m in \u001b[0;36mfun\u001b[0;34m(a, b)\u001b[0m\n\u001b[1;32m      1\u001b[0m \u001b[0;32mdef\u001b[0m \u001b[0mfun\u001b[0m\u001b[0;34m(\u001b[0m\u001b[0ma\u001b[0m\u001b[0;34m,\u001b[0m\u001b[0mb\u001b[0m\u001b[0;34m=\u001b[0m\u001b[0;34m[\u001b[0m\u001b[0;34m]\u001b[0m\u001b[0;34m)\u001b[0m\u001b[0;34m:\u001b[0m\u001b[0;34m\u001b[0m\u001b[0m\n\u001b[0;32m----> 2\u001b[0;31m     \u001b[0;32mprint\u001b[0m \u001b[0ma\u001b[0m\u001b[0;34m+\u001b[0m\u001b[0mb\u001b[0m\u001b[0;34m\u001b[0m\u001b[0m\n\u001b[0m\u001b[1;32m      3\u001b[0m \u001b[0mfun\u001b[0m\u001b[0;34m(\u001b[0m\u001b[0;36m10\u001b[0m\u001b[0;34m)\u001b[0m\u001b[0;34m\u001b[0m\u001b[0m\n",
      "\u001b[0;31mTypeError\u001b[0m: unsupported operand type(s) for +: 'int' and 'list'"
     ]
    }
   ],
   "source": [
    "def fun(a,b=[]):\n",
    "    print a+b\n",
    "fun(10)"
   ]
  },
  {
   "cell_type": "code",
   "execution_count": 27,
   "metadata": {
    "collapsed": true
   },
   "outputs": [],
   "source": [
    "import pandas as pd"
   ]
  },
  {
   "cell_type": "code",
   "execution_count": 28,
   "metadata": {
    "collapsed": true
   },
   "outputs": [],
   "source": [
    "pd.read_csv?"
   ]
  },
  {
   "cell_type": "code",
   "execution_count": 29,
   "metadata": {},
   "outputs": [
    {
     "name": "stdout",
     "output_type": "stream",
     "text": [
      "30\n"
     ]
    }
   ],
   "source": [
    "def fun(a,b=[]):\n",
    "    print a+b\n",
    "fun(10,20)"
   ]
  },
  {
   "cell_type": "code",
   "execution_count": 30,
   "metadata": {},
   "outputs": [
    {
     "name": "stdout",
     "output_type": "stream",
     "text": [
      "a= 0 b= 0 c= 0 d= 0 e= 0\n",
      "0\n"
     ]
    }
   ],
   "source": [
    "def fun(a=0,b=0,c=0,d=0,e=0):\n",
    "    print \"a=\",a,\"b=\",b,\"c=\",c,\"d=\",d,\"e=\",e\n",
    "    print a+b+c+d+e\n",
    "\n",
    "fun()\n"
   ]
  },
  {
   "cell_type": "code",
   "execution_count": 31,
   "metadata": {},
   "outputs": [
    {
     "ename": "SyntaxError",
     "evalue": "non-default argument follows default argument (<ipython-input-31-c31b0b0179e5>, line 1)",
     "output_type": "error",
     "traceback": [
      "\u001b[0;36m  File \u001b[0;32m\"<ipython-input-31-c31b0b0179e5>\"\u001b[0;36m, line \u001b[0;32m1\u001b[0m\n\u001b[0;31m    def fun(a,b=0,c=0,d=0,e=0,f):\u001b[0m\n\u001b[0;31mSyntaxError\u001b[0m\u001b[0;31m:\u001b[0m non-default argument follows default argument\n"
     ]
    }
   ],
   "source": [
    "def fun(a,b=0,c=0,d=0,e=0,f):\n",
    "    print \"a=\",a,\"b=\",b,\"c=\",c,\"d=\",d,\"e=\",e\n",
    "    print a+b+c+d+e\n",
    "\n",
    "fun(a=10,f=20)\n"
   ]
  },
  {
   "cell_type": "code",
   "execution_count": 32,
   "metadata": {},
   "outputs": [
    {
     "ename": "SyntaxError",
     "evalue": "non-default argument follows default argument (<ipython-input-32-0c597d7a1db4>, line 1)",
     "output_type": "error",
     "traceback": [
      "\u001b[0;36m  File \u001b[0;32m\"<ipython-input-32-0c597d7a1db4>\"\u001b[0;36m, line \u001b[0;32m1\u001b[0m\n\u001b[0;31m    def fun(a,b=0,c=0,d=0,e=0,f):\u001b[0m\n\u001b[0;31mSyntaxError\u001b[0m\u001b[0;31m:\u001b[0m non-default argument follows default argument\n"
     ]
    }
   ],
   "source": [
    "def fun(a,b=0,c=0,d=0,e=0,f):\n",
    "    print \"a=\",a,\"b=\",b,\"c=\",c,\"d=\",d,\"e=\",e\n",
    "    print a+b+c+d+e\n",
    "\n",
    "fun(10,20)\n"
   ]
  },
  {
   "cell_type": "code",
   "execution_count": 35,
   "metadata": {},
   "outputs": [
    {
     "ename": "SyntaxError",
     "evalue": "invalid syntax (<ipython-input-35-cf57e69c7040>, line 5)",
     "output_type": "error",
     "traceback": [
      "\u001b[0;36m  File \u001b[0;32m\"<ipython-input-35-cf57e69c7040>\"\u001b[0;36m, line \u001b[0;32m5\u001b[0m\n\u001b[0;31m    fun(10,20,,,,30)\u001b[0m\n\u001b[0m              ^\u001b[0m\n\u001b[0;31mSyntaxError\u001b[0m\u001b[0;31m:\u001b[0m invalid syntax\n"
     ]
    }
   ],
   "source": [
    "def fun(a,b=0,c=0,d=0,e=0,f):\n",
    "    print \"a=\",a,\"b=\",b,\"c=\",c,\"d=\",d,\"e=\",e\n",
    "    print a+b+c+d+e\n",
    "\n",
    "fun(10,20,,,,30)\n"
   ]
  },
  {
   "cell_type": "code",
   "execution_count": 36,
   "metadata": {},
   "outputs": [
    {
     "ename": "SyntaxError",
     "evalue": "non-default argument follows default argument (<ipython-input-36-e62635a25418>, line 1)",
     "output_type": "error",
     "traceback": [
      "\u001b[0;36m  File \u001b[0;32m\"<ipython-input-36-e62635a25418>\"\u001b[0;36m, line \u001b[0;32m1\u001b[0m\n\u001b[0;31m    def fun(a,b=0,c=0,d=0,e=0,f):\u001b[0m\n\u001b[0;31mSyntaxError\u001b[0m\u001b[0;31m:\u001b[0m non-default argument follows default argument\n"
     ]
    }
   ],
   "source": [
    "def fun(a,b=0,c=0,d=0,e=0,f):\n",
    "    print \"a=\",a,\"b=\",b,\"c=\",c,\"d=\",d,\"e=\",e\n",
    "    print a+b+c+d+e\n",
    "\n",
    "fun(10,20,\"\",\"\",\"\",30)\n"
   ]
  },
  {
   "cell_type": "code",
   "execution_count": 37,
   "metadata": {},
   "outputs": [
    {
     "name": "stdout",
     "output_type": "stream",
     "text": [
      "a= 10 b=  c=  d=  e= 30\n"
     ]
    },
    {
     "ename": "TypeError",
     "evalue": "unsupported operand type(s) for +: 'int' and 'str'",
     "output_type": "error",
     "traceback": [
      "\u001b[0;31m---------------------------------------------------------------------------\u001b[0m",
      "\u001b[0;31mTypeError\u001b[0m                                 Traceback (most recent call last)",
      "\u001b[0;32m<ipython-input-37-b9e1f4b55218>\u001b[0m in \u001b[0;36m<module>\u001b[0;34m()\u001b[0m\n\u001b[1;32m      3\u001b[0m     \u001b[0;32mprint\u001b[0m \u001b[0ma\u001b[0m\u001b[0;34m+\u001b[0m\u001b[0mb\u001b[0m\u001b[0;34m+\u001b[0m\u001b[0mc\u001b[0m\u001b[0;34m+\u001b[0m\u001b[0md\u001b[0m\u001b[0;34m+\u001b[0m\u001b[0me\u001b[0m\u001b[0;34m\u001b[0m\u001b[0m\n\u001b[1;32m      4\u001b[0m \u001b[0;34m\u001b[0m\u001b[0m\n\u001b[0;32m----> 5\u001b[0;31m \u001b[0mfun\u001b[0m\u001b[0;34m(\u001b[0m\u001b[0;36m10\u001b[0m\u001b[0;34m,\u001b[0m\u001b[0;36m20\u001b[0m\u001b[0;34m,\u001b[0m\u001b[0;34m\"\"\u001b[0m\u001b[0;34m,\u001b[0m\u001b[0;34m\"\"\u001b[0m\u001b[0;34m,\u001b[0m\u001b[0;34m\"\"\u001b[0m\u001b[0;34m,\u001b[0m\u001b[0;36m30\u001b[0m\u001b[0;34m)\u001b[0m\u001b[0;34m\u001b[0m\u001b[0m\n\u001b[0m",
      "\u001b[0;32m<ipython-input-37-b9e1f4b55218>\u001b[0m in \u001b[0;36mfun\u001b[0;34m(a, f, b, c, d, e)\u001b[0m\n\u001b[1;32m      1\u001b[0m \u001b[0;32mdef\u001b[0m \u001b[0mfun\u001b[0m\u001b[0;34m(\u001b[0m\u001b[0ma\u001b[0m\u001b[0;34m,\u001b[0m\u001b[0mf\u001b[0m\u001b[0;34m,\u001b[0m\u001b[0mb\u001b[0m\u001b[0;34m=\u001b[0m\u001b[0;36m0\u001b[0m\u001b[0;34m,\u001b[0m\u001b[0mc\u001b[0m\u001b[0;34m=\u001b[0m\u001b[0;36m0\u001b[0m\u001b[0;34m,\u001b[0m\u001b[0md\u001b[0m\u001b[0;34m=\u001b[0m\u001b[0;36m0\u001b[0m\u001b[0;34m,\u001b[0m\u001b[0me\u001b[0m\u001b[0;34m=\u001b[0m\u001b[0;36m0\u001b[0m\u001b[0;34m)\u001b[0m\u001b[0;34m:\u001b[0m\u001b[0;34m\u001b[0m\u001b[0m\n\u001b[1;32m      2\u001b[0m     \u001b[0;32mprint\u001b[0m \u001b[0;34m\"a=\"\u001b[0m\u001b[0;34m,\u001b[0m\u001b[0ma\u001b[0m\u001b[0;34m,\u001b[0m\u001b[0;34m\"b=\"\u001b[0m\u001b[0;34m,\u001b[0m\u001b[0mb\u001b[0m\u001b[0;34m,\u001b[0m\u001b[0;34m\"c=\"\u001b[0m\u001b[0;34m,\u001b[0m\u001b[0mc\u001b[0m\u001b[0;34m,\u001b[0m\u001b[0;34m\"d=\"\u001b[0m\u001b[0;34m,\u001b[0m\u001b[0md\u001b[0m\u001b[0;34m,\u001b[0m\u001b[0;34m\"e=\"\u001b[0m\u001b[0;34m,\u001b[0m\u001b[0me\u001b[0m\u001b[0;34m\u001b[0m\u001b[0m\n\u001b[0;32m----> 3\u001b[0;31m     \u001b[0;32mprint\u001b[0m \u001b[0ma\u001b[0m\u001b[0;34m+\u001b[0m\u001b[0mb\u001b[0m\u001b[0;34m+\u001b[0m\u001b[0mc\u001b[0m\u001b[0;34m+\u001b[0m\u001b[0md\u001b[0m\u001b[0;34m+\u001b[0m\u001b[0me\u001b[0m\u001b[0;34m\u001b[0m\u001b[0m\n\u001b[0m\u001b[1;32m      4\u001b[0m \u001b[0;34m\u001b[0m\u001b[0m\n\u001b[1;32m      5\u001b[0m \u001b[0mfun\u001b[0m\u001b[0;34m(\u001b[0m\u001b[0;36m10\u001b[0m\u001b[0;34m,\u001b[0m\u001b[0;36m20\u001b[0m\u001b[0;34m,\u001b[0m\u001b[0;34m\"\"\u001b[0m\u001b[0;34m,\u001b[0m\u001b[0;34m\"\"\u001b[0m\u001b[0;34m,\u001b[0m\u001b[0;34m\"\"\u001b[0m\u001b[0;34m,\u001b[0m\u001b[0;36m30\u001b[0m\u001b[0;34m)\u001b[0m\u001b[0;34m\u001b[0m\u001b[0m\n",
      "\u001b[0;31mTypeError\u001b[0m: unsupported operand type(s) for +: 'int' and 'str'"
     ]
    }
   ],
   "source": [
    "def fun(a,f,b=0,c=0,d=0,e=0):\n",
    "    print \"a=\",a,\"b=\",b,\"c=\",c,\"d=\",d,\"e=\",e\n",
    "    print a+b+c+d+e\n",
    "\n",
    "fun(10,20,\"\",\"\",\"\",30)\n"
   ]
  },
  {
   "cell_type": "code",
   "execution_count": 38,
   "metadata": {},
   "outputs": [
    {
     "name": "stdout",
     "output_type": "stream",
     "text": [
      "a= 10 b= 20 c= 0 d= 0 e= 0\n",
      "30\n"
     ]
    }
   ],
   "source": [
    "def fun(a,b,c=0,d=0,e=0):\n",
    "    print \"a=\",a,\"b=\",b,\"c=\",c,\"d=\",d,\"e=\",e\n",
    "    print a+b+c+d+e\n",
    "\n",
    "fun(10,20)\n"
   ]
  },
  {
   "cell_type": "code",
   "execution_count": 39,
   "metadata": {},
   "outputs": [
    {
     "name": "stdout",
     "output_type": "stream",
     "text": [
      "a= 10 b= 20 c= 100 d= 0 e= 0\n",
      "130\n"
     ]
    }
   ],
   "source": [
    "def fun(a,b,c=0,d=0,e=0):\n",
    "    print \"a=\",a,\"b=\",b,\"c=\",c,\"d=\",d,\"e=\",e\n",
    "    print a+b+c+d+e\n",
    "#100\n",
    "fun(10,20,100)\n"
   ]
  },
  {
   "cell_type": "code",
   "execution_count": 40,
   "metadata": {},
   "outputs": [
    {
     "name": "stdout",
     "output_type": "stream",
     "text": [
      "a= 10 b= 20 c= 0 d= 0 e= 100\n",
      "130\n"
     ]
    }
   ],
   "source": [
    "def fun(a,b,c=0,d=0,e=0):\n",
    "    print \"a=\",a,\"b=\",b,\"c=\",c,\"d=\",d,\"e=\",e\n",
    "    print a+b+c+d+e\n",
    "#100\n",
    "fun(10,20,0,0,100)\n"
   ]
  },
  {
   "cell_type": "code",
   "execution_count": 41,
   "metadata": {},
   "outputs": [
    {
     "name": "stdout",
     "output_type": "stream",
     "text": [
      "a= 10 b= 20 c= 10 d= 0 e= 100\n",
      "140\n"
     ]
    }
   ],
   "source": [
    "def fun(a,b,c=10,d=0,e=0):\n",
    "    print \"a=\",a,\"b=\",b,\"c=\",c,\"d=\",d,\"e=\",e\n",
    "    print a+b+c+d+e\n",
    "#100\n",
    "fun(10,20,10,0,100)\n"
   ]
  },
  {
   "cell_type": "code",
   "execution_count": 42,
   "metadata": {
    "collapsed": true
   },
   "outputs": [],
   "source": [
    "pd.read_csv?"
   ]
  },
  {
   "cell_type": "code",
   "execution_count": 43,
   "metadata": {},
   "outputs": [
    {
     "name": "stdout",
     "output_type": "stream",
     "text": [
      "a= 10 b= 20 c= 10 d= 0 e= 100\n",
      "140\n"
     ]
    }
   ],
   "source": [
    "def fun(a,b,c=10,d=0,e=0):\n",
    "    print \"a=\",a,\"b=\",b,\"c=\",c,\"d=\",d,\"e=\",e\n",
    "    print a+b+c+d+e\n",
    "# keyword argument\n",
    "fun(10,20,e=100)\n"
   ]
  },
  {
   "cell_type": "code",
   "execution_count": 44,
   "metadata": {},
   "outputs": [
    {
     "name": "stdout",
     "output_type": "stream",
     "text": [
      "a= 10 b= 20 c= 10 d= 0 e= 100\n",
      "140\n"
     ]
    }
   ],
   "source": [
    "def fun(a,b,c=10,d=0,e=0):\n",
    "    print \"a=\",a,\"b=\",b,\"c=\",c,\"d=\",d,\"e=\",e\n",
    "    print a+b+c+d+e\n",
    "# keyword argument\n",
    "fun(a=10,b=20,e=100)\n"
   ]
  },
  {
   "cell_type": "code",
   "execution_count": 45,
   "metadata": {},
   "outputs": [
    {
     "name": "stdout",
     "output_type": "stream",
     "text": [
      "a= 20 b= 10 c= 10 d= 0 e= 100\n",
      "140\n"
     ]
    }
   ],
   "source": [
    "def fun(a,b,c=10,d=0,e=0):\n",
    "    print \"a=\",a,\"b=\",b,\"c=\",c,\"d=\",d,\"e=\",e\n",
    "    print a+b+c+d+e\n",
    "# keyword argument\n",
    "fun(b=10,a=20,e=100)\n"
   ]
  },
  {
   "cell_type": "code",
   "execution_count": 46,
   "metadata": {},
   "outputs": [
    {
     "ename": "TypeError",
     "evalue": "fun() takes at least 2 arguments (3 given)",
     "output_type": "error",
     "traceback": [
      "\u001b[0;31m---------------------------------------------------------------------------\u001b[0m",
      "\u001b[0;31mTypeError\u001b[0m                                 Traceback (most recent call last)",
      "\u001b[0;32m<ipython-input-46-dae92ee0a9d9>\u001b[0m in \u001b[0;36m<module>\u001b[0;34m()\u001b[0m\n\u001b[1;32m      3\u001b[0m     \u001b[0;32mprint\u001b[0m \u001b[0ma\u001b[0m\u001b[0;34m+\u001b[0m\u001b[0mb\u001b[0m\u001b[0;34m+\u001b[0m\u001b[0mc\u001b[0m\u001b[0;34m+\u001b[0m\u001b[0md\u001b[0m\u001b[0;34m+\u001b[0m\u001b[0me\u001b[0m\u001b[0;34m\u001b[0m\u001b[0m\n\u001b[1;32m      4\u001b[0m \u001b[0;31m# keyword argument\u001b[0m\u001b[0;34m\u001b[0m\u001b[0;34m\u001b[0m\u001b[0m\n\u001b[0;32m----> 5\u001b[0;31m \u001b[0mfun\u001b[0m\u001b[0;34m(\u001b[0m\u001b[0mb\u001b[0m\u001b[0;34m=\u001b[0m\u001b[0;36m10\u001b[0m\u001b[0;34m,\u001b[0m\u001b[0mc\u001b[0m\u001b[0;34m=\u001b[0m\u001b[0;36m20\u001b[0m\u001b[0;34m,\u001b[0m\u001b[0me\u001b[0m\u001b[0;34m=\u001b[0m\u001b[0;36m100\u001b[0m\u001b[0;34m)\u001b[0m\u001b[0;34m\u001b[0m\u001b[0m\n\u001b[0m",
      "\u001b[0;31mTypeError\u001b[0m: fun() takes at least 2 arguments (3 given)"
     ]
    }
   ],
   "source": [
    "def fun(a,b,c=10,d=0,e=0):\n",
    "    print \"a=\",a,\"b=\",b,\"c=\",c,\"d=\",d,\"e=\",e\n",
    "    print a+b+c+d+e\n",
    "# keyword argument\n",
    "fun(b=10,c=20,e=100)\n"
   ]
  },
  {
   "cell_type": "code",
   "execution_count": 47,
   "metadata": {},
   "outputs": [
    {
     "name": "stdout",
     "output_type": "stream",
     "text": [
      "a= 400 b= 10 c= 20 d= 0 e= 100\n",
      "530\n"
     ]
    }
   ],
   "source": [
    "def fun(a,b,c=10,d=0,e=0):\n",
    "    print \"a=\",a,\"b=\",b,\"c=\",c,\"d=\",d,\"e=\",e\n",
    "    print a+b+c+d+e\n",
    "# keyword argument\n",
    "fun(b=10,c=20,e=100,a=400)\n"
   ]
  },
  {
   "cell_type": "code",
   "execution_count": 48,
   "metadata": {},
   "outputs": [
    {
     "name": "stdout",
     "output_type": "stream",
     "text": [
      "a= 400 b= 10 c= 20 d= 0 e= 100\n",
      "530\n",
      "out side fun e="
     ]
    },
    {
     "ename": "NameError",
     "evalue": "name 'e' is not defined",
     "output_type": "error",
     "traceback": [
      "\u001b[0;31m---------------------------------------------------------------------------\u001b[0m",
      "\u001b[0;31mNameError\u001b[0m                                 Traceback (most recent call last)",
      "\u001b[0;32m<ipython-input-48-05524f01a2a0>\u001b[0m in \u001b[0;36m<module>\u001b[0;34m()\u001b[0m\n\u001b[1;32m      4\u001b[0m \u001b[0;31m# keyword argument\u001b[0m\u001b[0;34m\u001b[0m\u001b[0;34m\u001b[0m\u001b[0m\n\u001b[1;32m      5\u001b[0m \u001b[0mfun\u001b[0m\u001b[0;34m(\u001b[0m\u001b[0mb\u001b[0m\u001b[0;34m=\u001b[0m\u001b[0;36m10\u001b[0m\u001b[0;34m,\u001b[0m\u001b[0mc\u001b[0m\u001b[0;34m=\u001b[0m\u001b[0;36m20\u001b[0m\u001b[0;34m,\u001b[0m\u001b[0me\u001b[0m\u001b[0;34m=\u001b[0m\u001b[0;36m100\u001b[0m\u001b[0;34m,\u001b[0m\u001b[0ma\u001b[0m\u001b[0;34m=\u001b[0m\u001b[0;36m400\u001b[0m\u001b[0;34m)\u001b[0m\u001b[0;34m\u001b[0m\u001b[0m\n\u001b[0;32m----> 6\u001b[0;31m \u001b[0;32mprint\u001b[0m \u001b[0;34m\"out side fun e=\"\u001b[0m\u001b[0;34m,\u001b[0m\u001b[0me\u001b[0m\u001b[0;34m\u001b[0m\u001b[0m\n\u001b[0m",
      "\u001b[0;31mNameError\u001b[0m: name 'e' is not defined"
     ]
    }
   ],
   "source": [
    "def fun(a,b,c=10,d=0,e=0):\n",
    "    print \"a=\",a,\"b=\",b,\"c=\",c,\"d=\",d,\"e=\",e\n",
    "    print a+b+c+d+e\n",
    "# keyword argument\n",
    "fun(b=10,c=20,e=100,a=400)\n",
    "print \"out side fun e=\",e\n"
   ]
  },
  {
   "cell_type": "code",
   "execution_count": 49,
   "metadata": {},
   "outputs": [
    {
     "name": "stdout",
     "output_type": "stream",
     "text": [
      " 100\n"
     ]
    }
   ],
   "source": [
    "if True:\n",
    "    a=100\n",
    "print a"
   ]
  },
  {
   "cell_type": "code",
   "execution_count": 50,
   "metadata": {},
   "outputs": [
    {
     "ename": "NameError",
     "evalue": "name 'x' is not defined",
     "output_type": "error",
     "traceback": [
      "\u001b[0;31m---------------------------------------------------------------------------\u001b[0m",
      "\u001b[0;31mNameError\u001b[0m                                 Traceback (most recent call last)",
      "\u001b[0;32m<ipython-input-50-f488cc2a99d6>\u001b[0m in \u001b[0;36m<module>\u001b[0;34m()\u001b[0m\n\u001b[1;32m      2\u001b[0m     \u001b[0mx\u001b[0m\u001b[0;34m=\u001b[0m\u001b[0;36m1000\u001b[0m\u001b[0;34m\u001b[0m\u001b[0m\n\u001b[1;32m      3\u001b[0m \u001b[0mfun\u001b[0m\u001b[0;34m(\u001b[0m\u001b[0;34m)\u001b[0m\u001b[0;34m\u001b[0m\u001b[0m\n\u001b[0;32m----> 4\u001b[0;31m \u001b[0;32mprint\u001b[0m \u001b[0mx\u001b[0m\u001b[0;34m\u001b[0m\u001b[0m\n\u001b[0m",
      "\u001b[0;31mNameError\u001b[0m: name 'x' is not defined"
     ]
    }
   ],
   "source": [
    "def fun():\n",
    "    x=1000\n",
    "fun()\n",
    "print x"
   ]
  },
  {
   "cell_type": "code",
   "execution_count": 1,
   "metadata": {},
   "outputs": [
    {
     "name": "stdout",
     "output_type": "stream",
     "text": [
      "a inside fun: 110\n",
      "a outside fun: 1000\n"
     ]
    }
   ],
   "source": [
    "a=1000\n",
    "def fun(x):\n",
    "    a=x+10\n",
    "    print \"a inside fun:\",a\n",
    "fun(100)\n",
    "print \"a outside fun:\",a"
   ]
  },
  {
   "cell_type": "code",
   "execution_count": 2,
   "metadata": {},
   "outputs": [
    {
     "name": "stdout",
     "output_type": "stream",
     "text": [
      "10 20\n"
     ]
    }
   ],
   "source": [
    "def fun(a,b):\n",
    "    print a,b\n",
    "fun(10,20)"
   ]
  },
  {
   "cell_type": "code",
   "execution_count": 3,
   "metadata": {},
   "outputs": [
    {
     "ename": "TypeError",
     "evalue": "fun() takes exactly 2 arguments (3 given)",
     "output_type": "error",
     "traceback": [
      "\u001b[0;31m---------------------------------------------------------------------------\u001b[0m",
      "\u001b[0;31mTypeError\u001b[0m                                 Traceback (most recent call last)",
      "\u001b[0;32m<ipython-input-3-47dab1721f29>\u001b[0m in \u001b[0;36m<module>\u001b[0;34m()\u001b[0m\n\u001b[1;32m      1\u001b[0m \u001b[0;32mdef\u001b[0m \u001b[0mfun\u001b[0m\u001b[0;34m(\u001b[0m\u001b[0ma\u001b[0m\u001b[0;34m,\u001b[0m\u001b[0mb\u001b[0m\u001b[0;34m)\u001b[0m\u001b[0;34m:\u001b[0m\u001b[0;34m\u001b[0m\u001b[0m\n\u001b[1;32m      2\u001b[0m     \u001b[0;32mprint\u001b[0m \u001b[0ma\u001b[0m\u001b[0;34m,\u001b[0m\u001b[0mb\u001b[0m\u001b[0;34m\u001b[0m\u001b[0m\n\u001b[0;32m----> 3\u001b[0;31m \u001b[0mfun\u001b[0m\u001b[0;34m(\u001b[0m\u001b[0;36m10\u001b[0m\u001b[0;34m,\u001b[0m\u001b[0;36m20\u001b[0m\u001b[0;34m,\u001b[0m\u001b[0;36m30\u001b[0m\u001b[0;34m)\u001b[0m\u001b[0;34m\u001b[0m\u001b[0m\n\u001b[0m",
      "\u001b[0;31mTypeError\u001b[0m: fun() takes exactly 2 arguments (3 given)"
     ]
    }
   ],
   "source": [
    "def fun(a,b):\n",
    "    print a,b\n",
    "fun(10,20,30)"
   ]
  },
  {
   "cell_type": "code",
   "execution_count": 4,
   "metadata": {},
   "outputs": [
    {
     "name": "stdout",
     "output_type": "stream",
     "text": [
      "40 30\n"
     ]
    }
   ],
   "source": [
    "def fun(a,b):\n",
    "    print a,b\n",
    "fun(b=30,a=40)"
   ]
  },
  {
   "cell_type": "code",
   "execution_count": 5,
   "metadata": {},
   "outputs": [
    {
     "ename": "TypeError",
     "evalue": "fun() got an unexpected keyword argument 'c'",
     "output_type": "error",
     "traceback": [
      "\u001b[0;31m---------------------------------------------------------------------------\u001b[0m",
      "\u001b[0;31mTypeError\u001b[0m                                 Traceback (most recent call last)",
      "\u001b[0;32m<ipython-input-5-2390c168a981>\u001b[0m in \u001b[0;36m<module>\u001b[0;34m()\u001b[0m\n\u001b[1;32m      1\u001b[0m \u001b[0;32mdef\u001b[0m \u001b[0mfun\u001b[0m\u001b[0;34m(\u001b[0m\u001b[0ma\u001b[0m\u001b[0;34m,\u001b[0m\u001b[0mb\u001b[0m\u001b[0;34m)\u001b[0m\u001b[0;34m:\u001b[0m\u001b[0;34m\u001b[0m\u001b[0m\n\u001b[1;32m      2\u001b[0m     \u001b[0;32mprint\u001b[0m \u001b[0ma\u001b[0m\u001b[0;34m,\u001b[0m\u001b[0mb\u001b[0m\u001b[0;34m\u001b[0m\u001b[0m\n\u001b[0;32m----> 3\u001b[0;31m \u001b[0mfun\u001b[0m\u001b[0;34m(\u001b[0m\u001b[0mc\u001b[0m\u001b[0;34m=\u001b[0m\u001b[0;36m30\u001b[0m\u001b[0;34m,\u001b[0m\u001b[0ma\u001b[0m\u001b[0;34m=\u001b[0m\u001b[0;36m40\u001b[0m\u001b[0;34m)\u001b[0m\u001b[0;34m\u001b[0m\u001b[0m\n\u001b[0m",
      "\u001b[0;31mTypeError\u001b[0m: fun() got an unexpected keyword argument 'c'"
     ]
    }
   ],
   "source": [
    "def fun(a,b):\n",
    "    print a,b\n",
    "fun(c=30,a=40)"
   ]
  },
  {
   "cell_type": "code",
   "execution_count": 6,
   "metadata": {},
   "outputs": [
    {
     "name": "stdout",
     "output_type": "stream",
     "text": [
      "<function fun at 0x7f06c80ef7d0>\n"
     ]
    }
   ],
   "source": [
    "def fun(a,b):\n",
    "    print a,b\n",
    "print fun"
   ]
  },
  {
   "cell_type": "code",
   "execution_count": 7,
   "metadata": {},
   "outputs": [
    {
     "name": "stdout",
     "output_type": "stream",
     "text": [
      "<function fun at 0x7f06c80ef6e0>\n",
      "139667102955232\n",
      "<type 'function'>\n"
     ]
    }
   ],
   "source": [
    "def fun(a,b):\n",
    "    print a,b\n",
    "print fun\n",
    "print id(fun)\n",
    "print type(fun)"
   ]
  },
  {
   "cell_type": "code",
   "execution_count": 9,
   "metadata": {},
   "outputs": [
    {
     "name": "stdout",
     "output_type": "stream",
     "text": [
      "10 20 30\n",
      "10 20 30 40\n"
     ]
    }
   ],
   "source": [
    "def fun(a,b):\n",
    "    print a,b\n",
    "def fun1(a,b,c):\n",
    "    print a,b,c\n",
    "def fun(a,b,c,d):\n",
    "    print a,b,c,d\n",
    "fun1(10,20,30)\n",
    "fun(10,20,30,40)"
   ]
  },
  {
   "cell_type": "code",
   "execution_count": 8,
   "metadata": {},
   "outputs": [
    {
     "name": "stdout",
     "output_type": "stream",
     "text": [
      "200\n"
     ]
    }
   ],
   "source": [
    "a=100\n",
    "a=200\n",
    "print a"
   ]
  },
  {
   "cell_type": "code",
   "execution_count": 10,
   "metadata": {},
   "outputs": [
    {
     "name": "stdout",
     "output_type": "stream",
     "text": [
      "10 20 30\n",
      "10 20 30 40\n"
     ]
    },
    {
     "ename": "TypeError",
     "evalue": "fun() takes exactly 4 arguments (2 given)",
     "output_type": "error",
     "traceback": [
      "\u001b[0;31m---------------------------------------------------------------------------\u001b[0m",
      "\u001b[0;31mTypeError\u001b[0m                                 Traceback (most recent call last)",
      "\u001b[0;32m<ipython-input-10-941e5d7ed27f>\u001b[0m in \u001b[0;36m<module>\u001b[0;34m()\u001b[0m\n\u001b[1;32m      7\u001b[0m \u001b[0mfun1\u001b[0m\u001b[0;34m(\u001b[0m\u001b[0;36m10\u001b[0m\u001b[0;34m,\u001b[0m\u001b[0;36m20\u001b[0m\u001b[0;34m,\u001b[0m\u001b[0;36m30\u001b[0m\u001b[0;34m)\u001b[0m\u001b[0;34m\u001b[0m\u001b[0m\n\u001b[1;32m      8\u001b[0m \u001b[0mfun\u001b[0m\u001b[0;34m(\u001b[0m\u001b[0;36m10\u001b[0m\u001b[0;34m,\u001b[0m\u001b[0;36m20\u001b[0m\u001b[0;34m,\u001b[0m\u001b[0;36m30\u001b[0m\u001b[0;34m,\u001b[0m\u001b[0;36m40\u001b[0m\u001b[0;34m)\u001b[0m\u001b[0;34m\u001b[0m\u001b[0m\n\u001b[0;32m----> 9\u001b[0;31m \u001b[0mfun\u001b[0m\u001b[0;34m(\u001b[0m\u001b[0;36m10\u001b[0m\u001b[0;34m,\u001b[0m\u001b[0;36m20\u001b[0m\u001b[0;34m)\u001b[0m\u001b[0;34m\u001b[0m\u001b[0m\n\u001b[0m",
      "\u001b[0;31mTypeError\u001b[0m: fun() takes exactly 4 arguments (2 given)"
     ]
    }
   ],
   "source": [
    "def fun(a,b):\n",
    "    print a,b\n",
    "def fun1(a,b,c):\n",
    "    print a,b,c\n",
    "def fun(a,b,c,d):\n",
    "    print a,b,c,d\n",
    "fun1(10,20,30)\n",
    "fun(10,20,30,40)\n",
    "fun(10,20)"
   ]
  },
  {
   "cell_type": "code",
   "execution_count": 11,
   "metadata": {},
   "outputs": [
    {
     "name": "stdout",
     "output_type": "stream",
     "text": [
      "a inside fun: 110\n",
      "a outside fun: 1000\n"
     ]
    }
   ],
   "source": [
    "a=1000\n",
    "def fun(x):\n",
    "    a=x+10\n",
    "    print \"a inside fun:\",a\n",
    "fun(100)\n",
    "print \"a outside fun:\",a"
   ]
  },
  {
   "cell_type": "code",
   "execution_count": 12,
   "metadata": {},
   "outputs": [
    {
     "name": "stdout",
     "output_type": "stream",
     "text": [
      "before defining: a= 1000 b= 2000\n",
      "after defining: a= 1000 b= 2000\n",
      "inside fun: a= 1020 b= 2030\n",
      "after calling: a= 1000 b= 2000\n"
     ]
    }
   ],
   "source": [
    "a=1000\n",
    "b=2000\n",
    "print \"before defining: a=\",a,\"b=\",b\n",
    "def fun(x,y):\n",
    "    a=x+20\n",
    "    b=y+30\n",
    "    print \"inside fun: a=\",a,\"b=\",b\n",
    "print \"after defining: a=\",a,\"b=\",b\n",
    "fun(1000,2000)\n",
    "print \"after calling: a=\",a,\"b=\",b"
   ]
  },
  {
   "cell_type": "code",
   "execution_count": 13,
   "metadata": {},
   "outputs": [
    {
     "name": "stdout",
     "output_type": "stream",
     "text": [
      "a before define: 1000\n",
      "a before calling: 1000\n",
      "a inside fun: 1010\n",
      "a after calling: 1010\n",
      "b value outside fun: 2000\n"
     ]
    }
   ],
   "source": [
    "a=1000\n",
    "print \"a before define:\",a\n",
    "def fun(x):\n",
    "    global a\n",
    "    global b\n",
    "    a=x+10\n",
    "    b=2000\n",
    "    print \"a inside fun:\",a\n",
    "print \"a before calling:\",a\n",
    "fun(1000)\n",
    "print \"a after calling:\",a\n",
    "print \"b value outside fun:\",b\n"
   ]
  },
  {
   "cell_type": "code",
   "execution_count": 14,
   "metadata": {},
   "outputs": [
    {
     "name": "stdout",
     "output_type": "stream",
     "text": [
      "a before define: 1000\n",
      "a before calling: 1000\n",
      "a inside fun: 1010\n",
      "a after calling: 1010\n",
      "x123 value outside fun: 3000\n"
     ]
    }
   ],
   "source": [
    "a=1000\n",
    "print \"a before define:\",a\n",
    "def fun(x):\n",
    "    global a\n",
    "    global x123\n",
    "    a=x+10\n",
    "    x123=3000\n",
    "    print \"a inside fun:\",a\n",
    "print \"a before calling:\",a\n",
    "fun(1000)\n",
    "print \"a after calling:\",a\n",
    "print \"x123 value outside fun:\",x123\n"
   ]
  },
  {
   "cell_type": "code",
   "execution_count": 15,
   "metadata": {},
   "outputs": [
    {
     "name": "stdout",
     "output_type": "stream",
     "text": [
      "a before define: 1000\n",
      "a before calling: 1000\n",
      "a inside fun: 1010\n",
      "a after calling: 1010\n",
      "x123 value outside fun:"
     ]
    },
    {
     "ename": "NameError",
     "evalue": "name 'x1234' is not defined",
     "output_type": "error",
     "traceback": [
      "\u001b[0;31m---------------------------------------------------------------------------\u001b[0m",
      "\u001b[0;31mNameError\u001b[0m                                 Traceback (most recent call last)",
      "\u001b[0;32m<ipython-input-15-911e09fca65a>\u001b[0m in \u001b[0;36m<module>\u001b[0;34m()\u001b[0m\n\u001b[1;32m      9\u001b[0m \u001b[0mfun\u001b[0m\u001b[0;34m(\u001b[0m\u001b[0;36m1000\u001b[0m\u001b[0;34m)\u001b[0m\u001b[0;34m\u001b[0m\u001b[0m\n\u001b[1;32m     10\u001b[0m \u001b[0;32mprint\u001b[0m \u001b[0;34m\"a after calling:\"\u001b[0m\u001b[0;34m,\u001b[0m\u001b[0ma\u001b[0m\u001b[0;34m\u001b[0m\u001b[0m\n\u001b[0;32m---> 11\u001b[0;31m \u001b[0;32mprint\u001b[0m \u001b[0;34m\"x123 value outside fun:\"\u001b[0m\u001b[0;34m,\u001b[0m\u001b[0mx1234\u001b[0m\u001b[0;34m\u001b[0m\u001b[0m\n\u001b[0m",
      "\u001b[0;31mNameError\u001b[0m: name 'x1234' is not defined"
     ]
    }
   ],
   "source": [
    "a=1000\n",
    "print \"a before define:\",a\n",
    "def fun(x):\n",
    "    global a\n",
    "    global x1234\n",
    "    a=x+10\n",
    "    print \"a inside fun:\",a\n",
    "print \"a before calling:\",a\n",
    "fun(1000)\n",
    "print \"a after calling:\",a\n",
    "print \"x123 value outside fun:\",x1234\n"
   ]
  },
  {
   "cell_type": "code",
   "execution_count": 16,
   "metadata": {},
   "outputs": [
    {
     "name": "stdout",
     "output_type": "stream",
     "text": [
      " a before define: 1000\n",
      "a before calling: 1000\n",
      "a inside fun: 1010\n",
      "a after calling: 1010\n",
      "x123 value outside fun:"
     ]
    },
    {
     "ename": "NameError",
     "evalue": "name 'x1234' is not defined",
     "output_type": "error",
     "traceback": [
      "\u001b[0;31m---------------------------------------------------------------------------\u001b[0m",
      "\u001b[0;31mNameError\u001b[0m                                 Traceback (most recent call last)",
      "\u001b[0;32m<ipython-input-16-7ed94f017a3a>\u001b[0m in \u001b[0;36m<module>\u001b[0;34m()\u001b[0m\n\u001b[1;32m      9\u001b[0m \u001b[0mfun\u001b[0m\u001b[0;34m(\u001b[0m\u001b[0;36m1000\u001b[0m\u001b[0;34m)\u001b[0m\u001b[0;34m\u001b[0m\u001b[0m\n\u001b[1;32m     10\u001b[0m \u001b[0;32mprint\u001b[0m \u001b[0;34m\"a after calling:\"\u001b[0m\u001b[0;34m,\u001b[0m\u001b[0ma\u001b[0m\u001b[0;34m\u001b[0m\u001b[0m\n\u001b[0;32m---> 11\u001b[0;31m \u001b[0;32mprint\u001b[0m \u001b[0;34m\"x123 value outside fun:\"\u001b[0m\u001b[0;34m,\u001b[0m\u001b[0mx1234\u001b[0m\u001b[0;34m\u001b[0m\u001b[0m\n\u001b[0m",
      "\u001b[0;31mNameError\u001b[0m: name 'x1234' is not defined"
     ]
    }
   ],
   "source": [
    "a=1000\n",
    "print \"a before define:\",a\n",
    "def fun(x):\n",
    "    global a\n",
    "    x1234=2000\n",
    "    a=x+10\n",
    "    print \"a inside fun:\",a\n",
    "print \"a before calling:\",a\n",
    "fun(1000)\n",
    "print \"a after calling:\",a\n",
    "print \"x123 value outside fun:\",x1234\n"
   ]
  },
  {
   "cell_type": "code",
   "execution_count": 17,
   "metadata": {},
   "outputs": [
    {
     "name": "stdout",
     "output_type": "stream",
     "text": [
      " a before define: 1000\n",
      "a before calling: 1000\n",
      "a inside fun: 1010\n",
      "a after calling: 1010\n",
      "x123 value outside fun: 2000\n"
     ]
    }
   ],
   "source": [
    "a=1000\n",
    "print \"a before define:\",a\n",
    "def fun(x):\n",
    "    global a\n",
    "    global x1234\n",
    "    x1234=2000\n",
    "    a=x+10\n",
    "    print \"a inside fun:\",a\n",
    "print \"a before calling:\",a\n",
    "fun(1000)\n",
    "print \"a after calling:\",a\n",
    "print \"x123 value outside fun:\",x1234\n"
   ]
  },
  {
   "cell_type": "code",
   "execution_count": 18,
   "metadata": {
    "collapsed": true
   },
   "outputs": [],
   "source": [
    "a=1000\n",
    "b=a\n",
    "def fun(a,b):\n",
    "    print a,b\n",
    "f1=fun\n",
    "\n"
   ]
  },
  {
   "cell_type": "code",
   "execution_count": 19,
   "metadata": {},
   "outputs": [
    {
     "name": "stdout",
     "output_type": "stream",
     "text": [
      "fun= <function fun at 0x7f06c80efde8>\n",
      "f1= <function fun at 0x7f06c80efde8>\n",
      "10 20\n",
      "f2= None\n"
     ]
    }
   ],
   "source": [
    "a=1000\n",
    "b=a\n",
    "def fun(a,b):\n",
    "    print a,b\n",
    "f1=fun\n",
    "print \"fun=\",fun\n",
    "print \"f1=\",f1\n",
    "f2=fun(10,20)\n",
    "print \"f2=\",f2"
   ]
  },
  {
   "cell_type": "code",
   "execution_count": 20,
   "metadata": {},
   "outputs": [
    {
     "name": "stdout",
     "output_type": "stream",
     "text": [
      "fun= <function fun at 0x7f06c80ef6e0>\n",
      "f1= <function fun at 0x7f06c80ef6e0>\n",
      "f2= None\n"
     ]
    }
   ],
   "source": [
    "a=1000\n",
    "b=a\n",
    "def fun(a,b):\n",
    "    c=a+b\n",
    "f1=fun\n",
    "print \"fun=\",fun\n",
    "print \"f1=\",f1\n",
    "f2=fun(10,20)\n",
    "print \"f2=\",f2"
   ]
  },
  {
   "cell_type": "code",
   "execution_count": 21,
   "metadata": {},
   "outputs": [
    {
     "name": "stdout",
     "output_type": "stream",
     "text": [
      "fun= <function fun at 0x7f06c80efc80>\n",
      "f1= <function fun at 0x7f06c80efc80>\n",
      "f2= 30\n"
     ]
    }
   ],
   "source": [
    "a=1000\n",
    "b=a\n",
    "def fun(a,b):\n",
    "    c=a+b\n",
    "    d=a-b\n",
    "    e=a*b\n",
    "    return c\n",
    "f1=fun\n",
    "print \"fun=\",fun\n",
    "print \"f1=\",f1\n",
    "f2=fun(10,20)\n",
    "print \"f2=\",f2"
   ]
  },
  {
   "cell_type": "code",
   "execution_count": 22,
   "metadata": {},
   "outputs": [
    {
     "name": "stdout",
     "output_type": "stream",
     "text": [
      "None\n"
     ]
    }
   ],
   "source": [
    "def fun(a,b):\n",
    "    c=a+b\n",
    "    d=a-b\n",
    "    e=a*b\n",
    "res=fun(10,20)\n",
    "print res"
   ]
  },
  {
   "cell_type": "code",
   "execution_count": 23,
   "metadata": {},
   "outputs": [
    {
     "name": "stdout",
     "output_type": "stream",
     "text": [
      "30\n"
     ]
    }
   ],
   "source": [
    "def fun(a,b):\n",
    "    c=a+b\n",
    "    d=a-b\n",
    "    e=a*b\n",
    "    return c\n",
    "res=fun(10,20)\n",
    "print res"
   ]
  },
  {
   "cell_type": "code",
   "execution_count": 24,
   "metadata": {},
   "outputs": [
    {
     "name": "stdout",
     "output_type": "stream",
     "text": [
      "(30, -10)\n"
     ]
    }
   ],
   "source": [
    "def fun(a,b):\n",
    "    c=a+b\n",
    "    d=a-b\n",
    "    e=a*b\n",
    "    return c,d\n",
    "res=fun(10,20)\n",
    "print res"
   ]
  },
  {
   "cell_type": "code",
   "execution_count": 25,
   "metadata": {},
   "outputs": [
    {
     "name": "stdout",
     "output_type": "stream",
     "text": [
      "30\n"
     ]
    }
   ],
   "source": [
    "def fun(a,b):\n",
    "    c=a+b\n",
    "    d=a-b\n",
    "    e=a*b\n",
    "    return c\n",
    "    return d\n",
    "res=fun(10,20)\n",
    "print res"
   ]
  },
  {
   "cell_type": "code",
   "execution_count": 26,
   "metadata": {},
   "outputs": [
    {
     "name": "stdout",
     "output_type": "stream",
     "text": [
      "program started\n",
      "st1\n",
      "res= 10\n",
      "program ended\n"
     ]
    }
   ],
   "source": [
    "print \"program started\"\n",
    "def fun():\n",
    "    print \"st1\"\n",
    "    return 10\n",
    "    print \"st2\"\n",
    "    return 30\n",
    "res=fun()\n",
    "print \"res=\",res\n",
    "print \"program ended\""
   ]
  },
  {
   "cell_type": "code",
   "execution_count": 27,
   "metadata": {},
   "outputs": [
    {
     "name": "stdout",
     "output_type": "stream",
     "text": [
      "program started\n",
      "st1\n",
      "res= (10, 20, 30, 40, 50)\n",
      "program ended\n"
     ]
    }
   ],
   "source": [
    "print \"program started\"\n",
    "def fun():\n",
    "    print \"st1\"\n",
    "    return 10,20,30,40,50\n",
    "    print \"st2\"\n",
    "    return 30\n",
    "res=fun()\n",
    "print \"res=\",res\n",
    "print \"program ended\""
   ]
  },
  {
   "cell_type": "code",
   "execution_count": 28,
   "metadata": {},
   "outputs": [
    {
     "name": "stdout",
     "output_type": "stream",
     "text": [
      "this is fun\n"
     ]
    }
   ],
   "source": [
    "def fun():\n",
    "    print \"this is fun\"\n",
    "f1=fun\n",
    "f1()"
   ]
  },
  {
   "cell_type": "code",
   "execution_count": 29,
   "metadata": {},
   "outputs": [
    {
     "name": "stdout",
     "output_type": "stream",
     "text": [
      "this is fun\n",
      "this is fun\n"
     ]
    }
   ],
   "source": [
    "def fun():\n",
    "    print \"this is fun\"\n",
    "f1=fun\n",
    "f1()\n",
    "fun()"
   ]
  },
  {
   "cell_type": "code",
   "execution_count": 30,
   "metadata": {},
   "outputs": [
    {
     "name": "stdout",
     "output_type": "stream",
     "text": [
      "Enter a value:10\n",
      "Enter b value:20\n",
      "10 20\n"
     ]
    }
   ],
   "source": [
    "a=raw_input(\"Enter a value:\")\n",
    "b=raw_input(\"Enter b value:\")\n",
    "def fun(x,y):\n",
    "    print x,y\n",
    "fun(a,b)"
   ]
  },
  {
   "cell_type": "code",
   "execution_count": 31,
   "metadata": {},
   "outputs": [
    {
     "data": {
      "text/plain": [
       "'\\ncall by value:\\nfunction fun(x,y){\\nprint x,y\\n}\\na=1000\\nb=2000\\nfun(a,b)\\nx=a\\ny=b\\n\\nor\\nx=1000\\ny=2000\\n'"
      ]
     },
     "execution_count": 31,
     "metadata": {},
     "output_type": "execute_result"
    }
   ],
   "source": [
    "\"\"\"\n",
    "call by value:\n",
    "function fun(x,y){\n",
    "print x,y\n",
    "}\n",
    "a=1000\n",
    "b=2000\n",
    "fun(a,b)\n",
    "call by reference\n",
    "x=a\n",
    "y=b\n",
    "\n",
    "or\n",
    "call by value\n",
    "x=1000\n",
    "y=2000\n",
    "\"\"\""
   ]
  },
  {
   "cell_type": "code",
   "execution_count": 33,
   "metadata": {},
   "outputs": [
    {
     "name": "stdout",
     "output_type": "stream",
     "text": [
      "id-a 94664922870744 id-b 94664922870720\n",
      "1000 2000\n",
      "id-x 94664922870744 id-y 94664922870720\n"
     ]
    }
   ],
   "source": [
    "a=1000\n",
    "b=2000\n",
    "print \"id-a\",id(a),\"id-b\",id(b)\n",
    "def fun(x,y):\n",
    "    print x,y\n",
    "    print \"id-x\",id(x),\"id-y\",id(y)\n",
    "fun(a,b)"
   ]
  },
  {
   "cell_type": "code",
   "execution_count": 34,
   "metadata": {},
   "outputs": [
    {
     "name": "stdout",
     "output_type": "stream",
     "text": [
      "1000 2000\n"
     ]
    }
   ],
   "source": [
    "def fun(x,y):\n",
    "    print x,y\n",
    "fun(1000,2000)"
   ]
  },
  {
   "cell_type": "code",
   "execution_count": 35,
   "metadata": {},
   "outputs": [
    {
     "name": "stdout",
     "output_type": "stream",
     "text": [
      "Enter a value:1000\n",
      "Enter b value:2000\n",
      "id-a 139667102400256 id-b 139667102398144\n",
      "id-x 139667102400256 id-y 139667102398144\n",
      "1000 2000\n"
     ]
    }
   ],
   "source": [
    "a=raw_input(\"Enter a value:\")\n",
    "b=raw_input(\"Enter b value:\")\n",
    "print \"id-a\",id(a),\"id-b\",id(b)\n",
    "def fun(x,y):\n",
    "    print \"id-x\",id(x),\"id-y\",id(y)\n",
    "    print x,y\n",
    "fun(a,b)"
   ]
  },
  {
   "cell_type": "code",
   "execution_count": 36,
   "metadata": {},
   "outputs": [
    {
     "name": "stdout",
     "output_type": "stream",
     "text": [
      "Enter a value:20\n",
      "Enter b value:30\n",
      "id-a 94664913526720 id-b 94664913526480\n",
      "id-x 94664913526720 id-y 94664913526480\n",
      "20 30\n",
      "40\n"
     ]
    }
   ],
   "source": [
    "a=int(raw_input(\"Enter a value:\"))\n",
    "b=int(raw_input(\"Enter b value:\"))\n",
    "print \"id-a\",id(a),\"id-b\",id(b)\n",
    "def fun(x,y):\n",
    "    print \"id-x\",id(x),\"id-y\",id(y)\n",
    "    print x,y\n",
    "fun(a,b)\n",
    "print a+20"
   ]
  },
  {
   "cell_type": "code",
   "execution_count": 38,
   "metadata": {},
   "outputs": [
    {
     "name": "stdout",
     "output_type": "stream",
     "text": [
      "Enter a value:20\n",
      "Enter b value:30\n",
      "id-a 94664913526720 id-b 94664913526480\n",
      "id-x 94664913526720 id-y 94664913526480\n",
      "20 30\n",
      "40\n"
     ]
    }
   ],
   "source": [
    "a=int(raw_input(\"Enter a value:\"))\n",
    "b=int(raw_input(\"Enter b value:\"))\n",
    "print \"id-a\",id(a),\"id-b\",id(b)\n",
    "def fun(x,y):\n",
    "    print \"id-x\",id(x),\"id-y\",id(y)\n",
    "    print x,y\n",
    "    a=2000\n",
    "fun(a,b)\n",
    "print a+20\n"
   ]
  },
  {
   "cell_type": "code",
   "execution_count": 39,
   "metadata": {},
   "outputs": [
    {
     "name": "stdout",
     "output_type": "stream",
     "text": [
      "Enter a value:30\n",
      "Enter b value:40\n",
      "id-a 94664913526480 id-b 94664913528232\n",
      "id-x 94664913526480 id-y 94664913528232\n",
      "30 40\n",
      "50\n"
     ]
    }
   ],
   "source": [
    "a=int(raw_input(\"Enter a value:\"))\n",
    "b=int(raw_input(\"Enter b value:\"))\n",
    "print \"id-a\",id(a),\"id-b\",id(b)\n",
    "def fun(x,y):\n",
    "    print \"id-x\",id(x),\"id-y\",id(y)\n",
    "    print x,y\n",
    "    a=2000\n",
    "fun(a,b)\n",
    "a=a+20\n",
    "print a"
   ]
  },
  {
   "cell_type": "code",
   "execution_count": 40,
   "metadata": {},
   "outputs": [
    {
     "name": "stdout",
     "output_type": "stream",
     "text": [
      "20\n"
     ]
    }
   ],
   "source": [
    "a=20\n",
    "def fun(x):\n",
    "    x=x+10\n",
    "fun(a)\n",
    "print a\n",
    "    "
   ]
  },
  {
   "cell_type": "code",
   "execution_count": 41,
   "metadata": {},
   "outputs": [
    {
     "name": "stdout",
     "output_type": "stream",
     "text": [
      "[1, 2, 3, 4, 30]\n"
     ]
    }
   ],
   "source": [
    "a=[1,2,3,4]\n",
    "def fun(x):\n",
    "    x=x.append(30)\n",
    "fun(a)\n",
    "print a\n",
    "    "
   ]
  },
  {
   "cell_type": "code",
   "execution_count": null,
   "metadata": {
    "collapsed": true
   },
   "outputs": [],
   "source": []
  }
 ],
 "metadata": {
  "kernelspec": {
   "display_name": "Python 2",
   "language": "python",
   "name": "python2"
  },
  "language_info": {
   "codemirror_mode": {
    "name": "ipython",
    "version": 2
   },
   "file_extension": ".py",
   "mimetype": "text/x-python",
   "name": "python",
   "nbconvert_exporter": "python",
   "pygments_lexer": "ipython2",
   "version": "2.7.14"
  }
 },
 "nbformat": 4,
 "nbformat_minor": 2
}
