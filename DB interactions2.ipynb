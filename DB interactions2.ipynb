{
 "cells": [
  {
   "cell_type": "code",
   "execution_count": 1,
   "metadata": {},
   "outputs": [
    {
     "data": {
      "text/plain": [
       "<sqlite3.Cursor at 0x7ff79c1cf500>"
      ]
     },
     "execution_count": 1,
     "metadata": {},
     "output_type": "execute_result"
    }
   ],
   "source": [
    "import sqlite3\n",
    "con = sqlite3.connect(\"batch48_db.db\")\n",
    "cur=con.cursor()\n",
    "q=\"alter table customer add status int\"\n",
    "cur.execute(q)"
   ]
  },
  {
   "cell_type": "code",
   "execution_count": 2,
   "metadata": {
    "collapsed": true
   },
   "outputs": [],
   "source": [
    "q=\"insert into customer (id,name, address, status) values(10000,'jay','ad1',1)\"\n",
    "cur.execute(q)\n",
    "con.commit()"
   ]
  },
  {
   "cell_type": "code",
   "execution_count": 3,
   "metadata": {
    "collapsed": true
   },
   "outputs": [],
   "source": [
    "q=\"update customer set status=1\"\n",
    "cur.execute(q)\n",
    "con.commit()"
   ]
  },
  {
   "cell_type": "code",
   "execution_count": 4,
   "metadata": {
    "collapsed": true
   },
   "outputs": [],
   "source": [
    "q=\"update customer set status=0 where id=70\"\n",
    "cur.execute(q)\n",
    "con.commit()"
   ]
  },
  {
   "cell_type": "code",
   "execution_count": 5,
   "metadata": {},
   "outputs": [
    {
     "data": {
      "text/plain": [
       "<sqlite3.Cursor at 0x7ff79c1cf500>"
      ]
     },
     "execution_count": 5,
     "metadata": {},
     "output_type": "execute_result"
    }
   ],
   "source": [
    "q=\"select * from customer where status=1 and name='pavan'\"\n",
    "cur.execute(q)\n"
   ]
  },
  {
   "cell_type": "code",
   "execution_count": 6,
   "metadata": {},
   "outputs": [
    {
     "name": "stdout",
     "output_type": "stream",
     "text": [
      "[(9, u'pavan', u'Sanathnagar', 1), (27, u'pavan', u'hitech city', 1), (31, u'pavan', u'ESI', 1), (34, u'pavan', u'ESI', 1), (44, u'pavan', u'hitech city', 1), (48, u'pavan', u'Bharath nagar', 1), (55, u'pavan', u'ESI', 1), (67, u'pavan', u'KPHB', 1), (88, u'pavan', u'ESI', 1), (94, u'pavan', u'ESI', 1), (100, u'pavan', u'ESI', 1), (101, u'pavan', u'KPHB', 1)]\n"
     ]
    }
   ],
   "source": [
    "data = cur.fetchall()\n",
    "print data"
   ]
  },
  {
   "cell_type": "code",
   "execution_count": 8,
   "metadata": {},
   "outputs": [
    {
     "name": "stdout",
     "output_type": "stream",
     "text": [
      "[(9, u'pavan', u'Sanathnagar', 1), (27, u'pavan', u'hitech city', 1), (31, u'pavan', u'ESI', 1), (34, u'pavan', u'ESI', 1), (44, u'pavan', u'hitech city', 1), (48, u'pavan', u'Bharath nagar', 1), (55, u'pavan', u'ESI', 1), (67, u'pavan', u'KPHB', 1), (70, u'pavan', u'Bharath nagar', 0), (88, u'pavan', u'ESI', 1), (94, u'pavan', u'ESI', 1), (100, u'pavan', u'ESI', 1), (101, u'pavan', u'KPHB', 1)]\n"
     ]
    }
   ],
   "source": [
    "q=\"select * from customer where name='pavan'\"\n",
    "cur.execute(q)\n",
    "data = cur.fetchall()\n",
    "print data"
   ]
  },
  {
   "cell_type": "code",
   "execution_count": 10,
   "metadata": {},
   "outputs": [
    {
     "name": "stdout",
     "output_type": "stream",
     "text": [
      "[(9, u'pavan', u'Sanathnagar', 1), (27, u'pavan', u'hitech city', 1), (31, u'pavan', u'ESI', 1), (34, u'pavan', u'ESI', 1), (44, u'pavan', u'hitech city', 1), (48, u'pavan', u'Bharath nagar', 1), (55, u'pavan', u'ESI', 1), (67, u'pavan', u'KPHB', 1), (88, u'pavan', u'ESI', 1), (94, u'pavan', u'ESI', 1), (100, u'pavan', u'ESI', 1), (101, u'pavan', u'KPHB', 1)]\n"
     ]
    }
   ],
   "source": [
    "q=\"select * from customer where name='pavan' and status=1\"\n",
    "cur.execute(q)\n",
    "data = cur.fetchall()\n",
    "print data"
   ]
  },
  {
   "cell_type": "code",
   "execution_count": 11,
   "metadata": {},
   "outputs": [
    {
     "name": "stdout",
     "output_type": "stream",
     "text": [
      "[(9, u'Sanathnagar', 1, u'pavan'), (27, u'hitech city', 1, u'pavan'), (31, u'ESI', 1, u'pavan'), (34, u'ESI', 1, u'pavan'), (44, u'hitech city', 1, u'pavan'), (48, u'Bharath nagar', 1, u'pavan'), (55, u'ESI', 1, u'pavan'), (67, u'KPHB', 1, u'pavan'), (88, u'ESI', 1, u'pavan'), (94, u'ESI', 1, u'pavan'), (100, u'ESI', 1, u'pavan'), (101, u'KPHB', 1, u'pavan')]\n"
     ]
    }
   ],
   "source": [
    "q=\"select id,address,status,name from customer where name='pavan' and status=1\"\n",
    "cur.execute(q)\n",
    "data = cur.fetchall()\n",
    "print data"
   ]
  },
  {
   "cell_type": "code",
   "execution_count": 14,
   "metadata": {},
   "outputs": [
    {
     "name": "stdout",
     "output_type": "stream",
     "text": [
      "\n"
     ]
    }
   ],
   "source": [
    "\"\"\"\n",
    "DB operations:\n",
    "    1.insert\n",
    "    2.update\n",
    "    3.delete\n",
    "    4.select\n",
    "Enter an option:\n",
    "if user enters 1:\n",
    "    Take the below info\n",
    "        Enter id\n",
    "        Enter name\n",
    "        Enter address\n",
    "    and insert the record in to DB with status=1\n",
    "if user enters 2:\n",
    "    Enter an id to update:\n",
    "    \n",
    "    once you get an id from the user need to get the record from DB and show it to the user.\n",
    "        NOTE: Dont show status field to the user in any ouput\n",
    "    Ask: Do you want to edit the record(y/n): Based on the input proceed to update. \n",
    "    i.e if the user selects \"n\" \n",
    "            then need to show the main menu\n",
    "        if the user select \"y\": \n",
    "            Enter name:\n",
    "            Enter address:\n",
    "            \n",
    "            After this need to update the record using id and where condition.\n",
    "if user enters 3:\n",
    "    Enter an id to delete:\n",
    "    \n",
    "    once you get an id from the user need to get the record from DB and show it to the user.\n",
    "        NOTE: Dont show status field to the user in any ouput\n",
    "    Ask: Do you want to delete the record(y/n): Based on the input proceed to update. \n",
    "    i.e if the user selects \"n\" \n",
    "            then need to show the main menu\n",
    "        if the user select \"y\": \n",
    "         need to update the status=0 of record using id and where condition.\n",
    "\n",
    "        \n",
    "\"\"\"\n",
    "print \"\""
   ]
  },
  {
   "cell_type": "code",
   "execution_count": 15,
   "metadata": {},
   "outputs": [
    {
     "ename": "OperationalError",
     "evalue": "no such column: False",
     "output_type": "error",
     "traceback": [
      "\u001b[0;31m---------------------------------------------------------------------------\u001b[0m",
      "\u001b[0;31mOperationalError\u001b[0m                          Traceback (most recent call last)",
      "\u001b[0;32m<ipython-input-15-3ddd270a6776>\u001b[0m in \u001b[0;36m<module>\u001b[0;34m()\u001b[0m\n\u001b[1;32m      1\u001b[0m \u001b[0mq\u001b[0m\u001b[0;34m=\u001b[0m\u001b[0;34m\"insert into customer (id,name, address, status) values(10000,'jay','ad1',False)\"\u001b[0m\u001b[0;34m\u001b[0m\u001b[0m\n\u001b[0;32m----> 2\u001b[0;31m \u001b[0mcur\u001b[0m\u001b[0;34m.\u001b[0m\u001b[0mexecute\u001b[0m\u001b[0;34m(\u001b[0m\u001b[0mq\u001b[0m\u001b[0;34m)\u001b[0m\u001b[0;34m\u001b[0m\u001b[0m\n\u001b[0m\u001b[1;32m      3\u001b[0m \u001b[0mcon\u001b[0m\u001b[0;34m.\u001b[0m\u001b[0mcommit\u001b[0m\u001b[0;34m(\u001b[0m\u001b[0;34m)\u001b[0m\u001b[0;34m\u001b[0m\u001b[0m\n",
      "\u001b[0;31mOperationalError\u001b[0m: no such column: False"
     ]
    }
   ],
   "source": [
    "q=\"insert into customer (id,name, address, status) values(10000,'jay','ad1',False)\"\n",
    "cur.execute(q)\n",
    "con.commit()"
   ]
  },
  {
   "cell_type": "code",
   "execution_count": 16,
   "metadata": {
    "collapsed": true
   },
   "outputs": [],
   "source": [
    "q=\"insert into customer (id,name, address, status) values(10000,'jay','ad1','false')\"\n",
    "cur.execute(q)\n",
    "con.commit()"
   ]
  },
  {
   "cell_type": "code",
   "execution_count": 17,
   "metadata": {},
   "outputs": [
    {
     "data": {
      "text/plain": [
       "['DataError',\n",
       " 'DatabaseError',\n",
       " 'Error',\n",
       " 'IntegrityError',\n",
       " 'InterfaceError',\n",
       " 'InternalError',\n",
       " 'NotSupportedError',\n",
       " 'OperationalError',\n",
       " 'ProgrammingError',\n",
       " 'Warning',\n",
       " '__call__',\n",
       " '__class__',\n",
       " '__delattr__',\n",
       " '__doc__',\n",
       " '__enter__',\n",
       " '__exit__',\n",
       " '__format__',\n",
       " '__getattribute__',\n",
       " '__hash__',\n",
       " '__init__',\n",
       " '__new__',\n",
       " '__reduce__',\n",
       " '__reduce_ex__',\n",
       " '__repr__',\n",
       " '__setattr__',\n",
       " '__sizeof__',\n",
       " '__str__',\n",
       " '__subclasshook__',\n",
       " 'close',\n",
       " 'commit',\n",
       " 'create_aggregate',\n",
       " 'create_collation',\n",
       " 'create_function',\n",
       " 'cursor',\n",
       " 'execute',\n",
       " 'executemany',\n",
       " 'executescript',\n",
       " 'interrupt',\n",
       " 'isolation_level',\n",
       " 'iterdump',\n",
       " 'rollback',\n",
       " 'row_factory',\n",
       " 'set_authorizer',\n",
       " 'set_progress_handler',\n",
       " 'text_factory',\n",
       " 'total_changes']"
      ]
     },
     "execution_count": 17,
     "metadata": {},
     "output_type": "execute_result"
    }
   ],
   "source": [
    "dir(con)"
   ]
  },
  {
   "cell_type": "code",
   "execution_count": null,
   "metadata": {
    "collapsed": true
   },
   "outputs": [],
   "source": []
  }
 ],
 "metadata": {
  "kernelspec": {
   "display_name": "Python 2",
   "language": "python",
   "name": "python2"
  },
  "language_info": {
   "codemirror_mode": {
    "name": "ipython",
    "version": 2
   },
   "file_extension": ".py",
   "mimetype": "text/x-python",
   "name": "python",
   "nbconvert_exporter": "python",
   "pygments_lexer": "ipython2",
   "version": "2.7.14"
  }
 },
 "nbformat": 4,
 "nbformat_minor": 2
}
